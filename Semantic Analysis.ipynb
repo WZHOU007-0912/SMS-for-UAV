{
 "cells": [
  {
   "cell_type": "code",
   "execution_count": 1,
   "metadata": {},
   "outputs": [],
   "source": [
    "import re\n",
    "import string\n",
    "import numpy as np \n",
    "import random\n",
    "import pandas as pd \n",
    "import matplotlib.pyplot as plt\n",
    "import seaborn as sns\n",
    "%matplotlib inline\n",
    "from plotly import graph_objs as go\n",
    "import plotly.express as px\n",
    "import plotly.figure_factory as ff\n",
    "from collections import Counter\n",
    "\n",
    "import PIL\n",
    "from wordcloud import WordCloud, STOPWORDS, ImageColorGenerator\n",
    "\n",
    "import nltk\n",
    "from nltk.corpus import stopwords\n",
    "\n",
    "from tqdm import tqdm\n",
    "import os\n",
    "import nltk\n",
    "import spacy\n",
    "import random\n",
    "from spacy.util import compounding\n",
    "from spacy.util import minibatch\n",
    "\n",
    "import warnings\n",
    "warnings.filterwarnings(\"ignore\")\n",
    "\n",
    "from PIL import Image\n",
    "from datetime import datetime\n",
    "import matplotlib.pyplot as plt\n",
    "from palettable.colorbrewer.qualitative import Pastel1_7\n",
    "from palettable.colorbrewer.sequential import PuRd_8"
   ]
  },
  {
   "cell_type": "code",
   "execution_count": 3,
   "metadata": {},
   "outputs": [],
   "source": [
    "train = pd.read_csv('ASRS_DBOnline.csv')\n",
    "test = pd.read_csv('ASN database.csv')"
   ]
  },
  {
   "cell_type": "code",
   "execution_count": 9,
   "metadata": {},
   "outputs": [
    {
     "output_type": "stream",
     "name": "stdout",
     "text": "(170, 96)\n(612, 19)\n"
    }
   ],
   "source": [
    "print(train.shape)\n",
    "print(test.shape)"
   ]
  },
  {
   "cell_type": "code",
   "execution_count": 5,
   "metadata": {},
   "outputs": [
    {
     "output_type": "stream",
     "name": "stdout",
     "text": "<class 'pandas.core.frame.DataFrame'>\nRangeIndex: 170 entries, 0 to 169\nData columns (total 96 columns):\n #   Column                                                Non-Null Count  Dtype  \n---  ------                                                --------------  -----  \n 0   ACN                                                   170 non-null    int64  \n 1   Date                                                  170 non-null    int64  \n 2   Local Time Of Day                                     163 non-null    object \n 3   Locale Reference                                      151 non-null    object \n 4   State Reference                                       151 non-null    object \n 5   Relative Position.Angle.Radial                        24 non-null     float64\n 6   Relative Position.Distance.Nautical Miles             33 non-null     float64\n 7   Altitude.AGL.Single Value                             101 non-null    float64\n 8   Altitude.MSL.Single Value                             59 non-null     float64\n 9   Flight Conditions                                     111 non-null    object \n 10  Weather Elements / Visibility                         76 non-null     object \n 11  Work Environment Factor                               0 non-null      float64\n 12  Light                                                 143 non-null    object \n 13  Ceiling                                               51 non-null     object \n 14  RVR.Single Value                                      2 non-null      float64\n 15  ATC / Advisory                                        78 non-null     object \n 16  Aircraft Operator                                     147 non-null    object \n 17  Make Model Name                                       170 non-null    object \n 18  Aircraft Zone                                         0 non-null      float64\n 19  Crew Size                                             61 non-null     float64\n 20  Operating Under FAR Part                              144 non-null    object \n 21  Flight Plan                                           128 non-null    object \n 22  Mission                                               131 non-null    object \n 23  Nav In Use                                            1 non-null      object \n 24  Flight Phase                                          147 non-null    object \n 25  Route In Use                                          79 non-null     object \n 26  Airspace                                              147 non-null    object \n 27  Maintenance Status.Maintenance Deferred               2 non-null      object \n 28  Maintenance Status.Records Complete                   0 non-null      float64\n 29  Maintenance Status.Released For Service               1 non-null      object \n 30  Maintenance Status.Required / Correct Doc On Board    0 non-null      float64\n 31  Maintenance Status.Maintenance Type                   0 non-null      float64\n 32  Maintenance Status.Maintenance Items Involved         1 non-null      object \n 33  Cabin Lighting                                        0 non-null      float64\n 34  Number Of Seats.Number                                0 non-null      float64\n 35  Passengers On Board.Number                            0 non-null      float64\n 36  Crew Size Flight Attendant.Number Of Crew             0 non-null      float64\n 37  Aircraft Component                                    18 non-null     object \n 38  Manufacturer                                          0 non-null      float64\n 39  Aircraft Reference                                    18 non-null     object \n 40  Problem                                               17 non-null     object \n 41  ATC / Advisory.1                                      18 non-null     object \n 42  Aircraft Operator.1                                   14 non-null     object \n 43  Make Model Name.1                                     25 non-null     object \n 44  Aircraft Zone.1                                       0 non-null      float64\n 45  Crew Size.1                                           18 non-null     float64\n 46  Operating Under FAR Part.1                            19 non-null     object \n 47  Flight Plan.1                                         12 non-null     object \n 48  Mission.1                                             10 non-null     object \n 49  Nav In Use.1                                          1 non-null      object \n 50  Flight Phase.1                                        24 non-null     object \n 51  Route In Use.1                                        9 non-null      object \n 52  Airspace.1                                            20 non-null     object \n 53  Maintenance Status.Maintenance Deferred.1             0 non-null      float64\n 54  Maintenance Status.Records Complete.1                 0 non-null      float64\n 55  Maintenance Status.Released For Service.1             0 non-null      float64\n 56  Maintenance Status.Required / Correct Doc On Board.1  0 non-null      float64\n 57  Maintenance Status.Maintenance Type.1                 0 non-null      float64\n 58  Maintenance Status.Maintenance Items Involved.1       0 non-null      float64\n 59  Cabin Lighting.1                                      0 non-null      float64\n 60  Number Of Seats.Number.1                              0 non-null      float64\n 61  Passengers On Board.Number.1                          0 non-null      float64\n 62  Crew Size Flight Attendant.Number Of Crew.1           0 non-null      float64\n 63  Location Of Person                                    156 non-null    object \n 64  Location In Aircraft                                  19 non-null     object \n 65  Reporter Organization                                 162 non-null    object \n 66  Function                                              162 non-null    object \n 67  Qualification                                         133 non-null    object \n 68  Experience                                            124 non-null    object \n 69  Cabin Activity                                        0 non-null      float64\n 70  Human Factors                                         147 non-null    object \n 71  Communication Breakdown                               49 non-null     object \n 72  ASRS Report Number.Accession Number                   170 non-null    int64  \n 73  Location Of Person.1                                  6 non-null      object \n 74  Location In Aircraft.1                                2 non-null      object \n 75  Reporter Organization.1                               4 non-null      object \n 76  Function.1                                            6 non-null      object \n 77  Qualification.1                                       4 non-null      object \n 78  Experience.1                                          3 non-null      object \n 79  Cabin Activity.1                                      0 non-null      float64\n 80  Human Factors.1                                       3 non-null      object \n 81  Communication Breakdown.1                             2 non-null      object \n 82  ASRS Report Number.Accession Number.1                 6 non-null      float64\n 83  Anomaly                                               169 non-null    object \n 84  Miss Distance                                         18 non-null     object \n 85  Were Passengers Involved In Event                     20 non-null     object \n 86  Detector                                              164 non-null    object \n 87  When Detected                                         156 non-null    object \n 88  Result                                                159 non-null    object \n 89  Contributing Factors / Situations                     169 non-null    object \n 90  Primary Problem                                       169 non-null    object \n 91  Narrative                                             170 non-null    object \n 92  Callback                                              7 non-null      object \n 93  Narrative.1                                           6 non-null      object \n 94  Callback.1                                            1 non-null      object \n 95  Synopsis                                              170 non-null    object \ndtypes: float64(31), int64(3), object(62)\nmemory usage: 127.6+ KB\n"
    }
   ],
   "source": [
    "train.info()"
   ]
  },
  {
   "cell_type": "markdown",
   "metadata": {},
   "source": [
    "- We'll use all cells whose ACN is non-null"
   ]
  },
  {
   "cell_type": "code",
   "execution_count": 7,
   "metadata": {},
   "outputs": [],
   "source": [
    "train['ACN'].dropna(inplace=True)"
   ]
  },
  {
   "cell_type": "markdown",
   "metadata": {},
   "source": [
    "- Clean the text"
   ]
  },
  {
   "cell_type": "code",
   "execution_count": 11,
   "metadata": {},
   "outputs": [],
   "source": [
    "def clean_text(text):\n",
    "    '''Make text lowercase, remove text in square brackets,remove links,remove punctuation\n",
    "    and remove words containing numbers.'''\n",
    "    text = str(text).lower()\n",
    "    text = re.sub('\\[.*?\\]', '', text)\n",
    "    text = re.sub('https?://\\S+|www\\.\\S+', '', text)\n",
    "    text = re.sub('<.*?>+', '', text)\n",
    "    text = re.sub('[%s]' % re.escape(string.punctuation), '', text)\n",
    "    text = re.sub('\\n', '', text)\n",
    "    text = re.sub('\\w*\\d\\w*', '', text)\n",
    "    return text"
   ]
  },
  {
   "cell_type": "code",
   "execution_count": 80,
   "metadata": {},
   "outputs": [],
   "source": [
    "train['Synopsis'] = train['Synopsis'].apply(lambda x:clean_text(x))\n",
    "\n",
    "train['Narrative'] = train['Narrative'].apply(lambda x:clean_text(x))\n",
    "\n",
    "train['Anomaly'] = train['Anomaly'].apply(lambda x:clean_text(x))\n",
    "\n",
    "train['Contributing Factors / Situations'] = train['Contributing Factors / Situations'].apply(lambda x:clean_text(x))\n",
    "\n",
    "train['Human Factors'] = train['Human Factors'].apply(lambda x:clean_text(x))\n",
    "\n",
    "train['Primary Problem'] = train['Primary Problem'].apply(lambda x:clean_text(x))"
   ]
  },
  {
   "cell_type": "markdown",
   "metadata": {},
   "source": [
    "- Remove unnecessary words"
   ]
  },
  {
   "cell_type": "code",
   "execution_count": 14,
   "metadata": {},
   "outputs": [],
   "source": [
    "def remove_stopword(x):\n",
    "    return [y for y in x if y not in stopwords.words('english')]"
   ]
  },
  {
   "cell_type": "code",
   "execution_count": 22,
   "metadata": {},
   "outputs": [
    {
     "output_type": "display_data",
     "data": {
      "application/vnd.plotly.v1+json": {
       "config": {
        "plotlyServerURL": "https://plot.ly"
       },
       "data": [
        {
         "branchvalues": "total",
         "customdata": [
          [
           1
          ],
          [
           2
          ],
          [
           3
          ],
          [
           3
          ],
          [
           3
          ],
          [
           3
          ],
          [
           6
          ],
          [
           6
          ],
          [
           9
          ],
          [
           9
          ],
          [
           9
          ],
          [
           11
          ],
          [
           11
          ],
          [
           11
          ],
          [
           12
          ],
          [
           12
          ],
          [
           18
          ],
          [
           21
          ],
          [
           21
          ],
          [
           42
          ],
          [
           72
          ],
          [
           113
          ],
          [
           113
          ],
          [
           42
          ],
          [
           6
          ],
          [
           21
          ],
          [
           3
          ],
          [
           3
          ],
          [
           9
          ],
          [
           12
          ],
          [
           11
          ],
          [
           9
          ],
          [
           3
          ],
          [
           113
          ],
          [
           113
          ],
          [
           2
          ],
          [
           1
          ],
          [
           3
          ],
          [
           11
          ],
          [
           12
          ],
          [
           72
          ],
          [
           9
          ],
          [
           11
          ],
          [
           21
          ],
          [
           6
          ],
          [
           18
          ]
         ],
         "domain": {
          "x": [
           0,
           1
          ],
          "y": [
           0,
           1
          ]
         },
         "hovertemplate": "labels=%{label}<br>count=%{color}<br>parent=%{parent}<br>id=%{id}<extra></extra>",
         "ids": [
          "nan/1",
          "manuals/2",
          "atc/3",
          "buildings/3",
          "facility/3",
          "nav/3",
          "airport/6",
          "tooling/6",
          "chart/9",
          "equipment/9",
          "publication/9",
          "environment/11",
          "non/11",
          "related/11",
          "company/12",
          "policy/12",
          "weather/18",
          "airspace/21",
          "structure/21",
          "aircraft/42",
          "procedure/72",
          "factors/113",
          "human/113",
          "aircraft",
          "airport",
          "airspace",
          "atc",
          "buildings",
          "chart",
          "company",
          "environment",
          "equipment",
          "facility",
          "factors",
          "human",
          "manuals",
          "nan",
          "nav",
          "non",
          "policy",
          "procedure",
          "publication",
          "related",
          "structure",
          "tooling",
          "weather"
         ],
         "labels": [
          "1",
          "2",
          "3",
          "3",
          "3",
          "3",
          "6",
          "6",
          "9",
          "9",
          "9",
          "11",
          "11",
          "11",
          "12",
          "12",
          "18",
          "21",
          "21",
          "42",
          "72",
          "113",
          "113",
          "aircraft",
          "airport",
          "airspace",
          "atc",
          "buildings",
          "chart",
          "company",
          "environment",
          "equipment",
          "facility",
          "factors",
          "human",
          "manuals",
          "nan",
          "nav",
          "non",
          "policy",
          "procedure",
          "publication",
          "related",
          "structure",
          "tooling",
          "weather"
         ],
         "marker": {
          "coloraxis": "coloraxis",
          "colors": [
           1,
           2,
           3,
           3,
           3,
           3,
           6,
           6,
           9,
           9,
           9,
           11,
           11,
           11,
           12,
           12,
           18,
           21,
           21,
           42,
           72,
           113,
           113,
           42,
           6,
           21,
           3,
           3,
           9,
           12,
           11,
           9,
           3,
           113,
           113,
           2,
           1,
           3,
           11,
           12,
           72,
           9,
           11,
           21,
           6,
           18
          ]
         },
         "name": "",
         "parents": [
          "nan",
          "manuals",
          "atc",
          "buildings",
          "facility",
          "nav",
          "airport",
          "tooling",
          "chart",
          "equipment",
          "publication",
          "environment",
          "non",
          "related",
          "company",
          "policy",
          "weather",
          "airspace",
          "structure",
          "aircraft",
          "procedure",
          "factors",
          "human",
          "",
          "",
          "",
          "",
          "",
          "",
          "",
          "",
          "",
          "",
          "",
          "",
          "",
          "",
          "",
          "",
          "",
          "",
          "",
          "",
          "",
          "",
          ""
         ],
         "type": "treemap",
         "values": [
          1,
          2,
          3,
          3,
          3,
          3,
          6,
          6,
          9,
          9,
          9,
          11,
          11,
          11,
          12,
          12,
          18,
          21,
          21,
          42,
          72,
          113,
          113,
          42,
          6,
          21,
          3,
          3,
          9,
          12,
          11,
          9,
          3,
          113,
          113,
          2,
          1,
          3,
          11,
          12,
          72,
          9,
          11,
          21,
          6,
          18
         ]
        }
       ],
       "layout": {
        "coloraxis": {
         "colorbar": {
          "title": {
           "text": "count"
          }
         },
         "colorscale": [
          [
           0,
           "rgb(12,51,131)"
          ],
          [
           0.25,
           "rgb(10,136,186)"
          ],
          [
           0.5,
           "rgb(242,211,56)"
          ],
          [
           0.75,
           "rgb(242,143,56)"
          ],
          [
           1,
           "rgb(217,30,30)"
          ]
         ]
        },
        "height": 1000,
        "legend": {
         "tracegroupgap": 0
        },
        "template": {
         "data": {
          "bar": [
           {
            "error_x": {
             "color": "#2a3f5f"
            },
            "error_y": {
             "color": "#2a3f5f"
            },
            "marker": {
             "line": {
              "color": "#E5ECF6",
              "width": 0.5
             }
            },
            "type": "bar"
           }
          ],
          "barpolar": [
           {
            "marker": {
             "line": {
              "color": "#E5ECF6",
              "width": 0.5
             }
            },
            "type": "barpolar"
           }
          ],
          "carpet": [
           {
            "aaxis": {
             "endlinecolor": "#2a3f5f",
             "gridcolor": "white",
             "linecolor": "white",
             "minorgridcolor": "white",
             "startlinecolor": "#2a3f5f"
            },
            "baxis": {
             "endlinecolor": "#2a3f5f",
             "gridcolor": "white",
             "linecolor": "white",
             "minorgridcolor": "white",
             "startlinecolor": "#2a3f5f"
            },
            "type": "carpet"
           }
          ],
          "choropleth": [
           {
            "colorbar": {
             "outlinewidth": 0,
             "ticks": ""
            },
            "type": "choropleth"
           }
          ],
          "contour": [
           {
            "colorbar": {
             "outlinewidth": 0,
             "ticks": ""
            },
            "colorscale": [
             [
              0,
              "#0d0887"
             ],
             [
              0.1111111111111111,
              "#46039f"
             ],
             [
              0.2222222222222222,
              "#7201a8"
             ],
             [
              0.3333333333333333,
              "#9c179e"
             ],
             [
              0.4444444444444444,
              "#bd3786"
             ],
             [
              0.5555555555555556,
              "#d8576b"
             ],
             [
              0.6666666666666666,
              "#ed7953"
             ],
             [
              0.7777777777777778,
              "#fb9f3a"
             ],
             [
              0.8888888888888888,
              "#fdca26"
             ],
             [
              1,
              "#f0f921"
             ]
            ],
            "type": "contour"
           }
          ],
          "contourcarpet": [
           {
            "colorbar": {
             "outlinewidth": 0,
             "ticks": ""
            },
            "type": "contourcarpet"
           }
          ],
          "heatmap": [
           {
            "colorbar": {
             "outlinewidth": 0,
             "ticks": ""
            },
            "colorscale": [
             [
              0,
              "#0d0887"
             ],
             [
              0.1111111111111111,
              "#46039f"
             ],
             [
              0.2222222222222222,
              "#7201a8"
             ],
             [
              0.3333333333333333,
              "#9c179e"
             ],
             [
              0.4444444444444444,
              "#bd3786"
             ],
             [
              0.5555555555555556,
              "#d8576b"
             ],
             [
              0.6666666666666666,
              "#ed7953"
             ],
             [
              0.7777777777777778,
              "#fb9f3a"
             ],
             [
              0.8888888888888888,
              "#fdca26"
             ],
             [
              1,
              "#f0f921"
             ]
            ],
            "type": "heatmap"
           }
          ],
          "heatmapgl": [
           {
            "colorbar": {
             "outlinewidth": 0,
             "ticks": ""
            },
            "colorscale": [
             [
              0,
              "#0d0887"
             ],
             [
              0.1111111111111111,
              "#46039f"
             ],
             [
              0.2222222222222222,
              "#7201a8"
             ],
             [
              0.3333333333333333,
              "#9c179e"
             ],
             [
              0.4444444444444444,
              "#bd3786"
             ],
             [
              0.5555555555555556,
              "#d8576b"
             ],
             [
              0.6666666666666666,
              "#ed7953"
             ],
             [
              0.7777777777777778,
              "#fb9f3a"
             ],
             [
              0.8888888888888888,
              "#fdca26"
             ],
             [
              1,
              "#f0f921"
             ]
            ],
            "type": "heatmapgl"
           }
          ],
          "histogram": [
           {
            "marker": {
             "colorbar": {
              "outlinewidth": 0,
              "ticks": ""
             }
            },
            "type": "histogram"
           }
          ],
          "histogram2d": [
           {
            "colorbar": {
             "outlinewidth": 0,
             "ticks": ""
            },
            "colorscale": [
             [
              0,
              "#0d0887"
             ],
             [
              0.1111111111111111,
              "#46039f"
             ],
             [
              0.2222222222222222,
              "#7201a8"
             ],
             [
              0.3333333333333333,
              "#9c179e"
             ],
             [
              0.4444444444444444,
              "#bd3786"
             ],
             [
              0.5555555555555556,
              "#d8576b"
             ],
             [
              0.6666666666666666,
              "#ed7953"
             ],
             [
              0.7777777777777778,
              "#fb9f3a"
             ],
             [
              0.8888888888888888,
              "#fdca26"
             ],
             [
              1,
              "#f0f921"
             ]
            ],
            "type": "histogram2d"
           }
          ],
          "histogram2dcontour": [
           {
            "colorbar": {
             "outlinewidth": 0,
             "ticks": ""
            },
            "colorscale": [
             [
              0,
              "#0d0887"
             ],
             [
              0.1111111111111111,
              "#46039f"
             ],
             [
              0.2222222222222222,
              "#7201a8"
             ],
             [
              0.3333333333333333,
              "#9c179e"
             ],
             [
              0.4444444444444444,
              "#bd3786"
             ],
             [
              0.5555555555555556,
              "#d8576b"
             ],
             [
              0.6666666666666666,
              "#ed7953"
             ],
             [
              0.7777777777777778,
              "#fb9f3a"
             ],
             [
              0.8888888888888888,
              "#fdca26"
             ],
             [
              1,
              "#f0f921"
             ]
            ],
            "type": "histogram2dcontour"
           }
          ],
          "mesh3d": [
           {
            "colorbar": {
             "outlinewidth": 0,
             "ticks": ""
            },
            "type": "mesh3d"
           }
          ],
          "parcoords": [
           {
            "line": {
             "colorbar": {
              "outlinewidth": 0,
              "ticks": ""
             }
            },
            "type": "parcoords"
           }
          ],
          "pie": [
           {
            "automargin": true,
            "type": "pie"
           }
          ],
          "scatter": [
           {
            "marker": {
             "colorbar": {
              "outlinewidth": 0,
              "ticks": ""
             }
            },
            "type": "scatter"
           }
          ],
          "scatter3d": [
           {
            "line": {
             "colorbar": {
              "outlinewidth": 0,
              "ticks": ""
             }
            },
            "marker": {
             "colorbar": {
              "outlinewidth": 0,
              "ticks": ""
             }
            },
            "type": "scatter3d"
           }
          ],
          "scattercarpet": [
           {
            "marker": {
             "colorbar": {
              "outlinewidth": 0,
              "ticks": ""
             }
            },
            "type": "scattercarpet"
           }
          ],
          "scattergeo": [
           {
            "marker": {
             "colorbar": {
              "outlinewidth": 0,
              "ticks": ""
             }
            },
            "type": "scattergeo"
           }
          ],
          "scattergl": [
           {
            "marker": {
             "colorbar": {
              "outlinewidth": 0,
              "ticks": ""
             }
            },
            "type": "scattergl"
           }
          ],
          "scattermapbox": [
           {
            "marker": {
             "colorbar": {
              "outlinewidth": 0,
              "ticks": ""
             }
            },
            "type": "scattermapbox"
           }
          ],
          "scatterpolar": [
           {
            "marker": {
             "colorbar": {
              "outlinewidth": 0,
              "ticks": ""
             }
            },
            "type": "scatterpolar"
           }
          ],
          "scatterpolargl": [
           {
            "marker": {
             "colorbar": {
              "outlinewidth": 0,
              "ticks": ""
             }
            },
            "type": "scatterpolargl"
           }
          ],
          "scatterternary": [
           {
            "marker": {
             "colorbar": {
              "outlinewidth": 0,
              "ticks": ""
             }
            },
            "type": "scatterternary"
           }
          ],
          "surface": [
           {
            "colorbar": {
             "outlinewidth": 0,
             "ticks": ""
            },
            "colorscale": [
             [
              0,
              "#0d0887"
             ],
             [
              0.1111111111111111,
              "#46039f"
             ],
             [
              0.2222222222222222,
              "#7201a8"
             ],
             [
              0.3333333333333333,
              "#9c179e"
             ],
             [
              0.4444444444444444,
              "#bd3786"
             ],
             [
              0.5555555555555556,
              "#d8576b"
             ],
             [
              0.6666666666666666,
              "#ed7953"
             ],
             [
              0.7777777777777778,
              "#fb9f3a"
             ],
             [
              0.8888888888888888,
              "#fdca26"
             ],
             [
              1,
              "#f0f921"
             ]
            ],
            "type": "surface"
           }
          ],
          "table": [
           {
            "cells": {
             "fill": {
              "color": "#EBF0F8"
             },
             "line": {
              "color": "white"
             }
            },
            "header": {
             "fill": {
              "color": "#C8D4E3"
             },
             "line": {
              "color": "white"
             }
            },
            "type": "table"
           }
          ]
         },
         "layout": {
          "annotationdefaults": {
           "arrowcolor": "#2a3f5f",
           "arrowhead": 0,
           "arrowwidth": 1
          },
          "coloraxis": {
           "colorbar": {
            "outlinewidth": 0,
            "ticks": ""
           }
          },
          "colorscale": {
           "diverging": [
            [
             0,
             "#8e0152"
            ],
            [
             0.1,
             "#c51b7d"
            ],
            [
             0.2,
             "#de77ae"
            ],
            [
             0.3,
             "#f1b6da"
            ],
            [
             0.4,
             "#fde0ef"
            ],
            [
             0.5,
             "#f7f7f7"
            ],
            [
             0.6,
             "#e6f5d0"
            ],
            [
             0.7,
             "#b8e186"
            ],
            [
             0.8,
             "#7fbc41"
            ],
            [
             0.9,
             "#4d9221"
            ],
            [
             1,
             "#276419"
            ]
           ],
           "sequential": [
            [
             0,
             "#0d0887"
            ],
            [
             0.1111111111111111,
             "#46039f"
            ],
            [
             0.2222222222222222,
             "#7201a8"
            ],
            [
             0.3333333333333333,
             "#9c179e"
            ],
            [
             0.4444444444444444,
             "#bd3786"
            ],
            [
             0.5555555555555556,
             "#d8576b"
            ],
            [
             0.6666666666666666,
             "#ed7953"
            ],
            [
             0.7777777777777778,
             "#fb9f3a"
            ],
            [
             0.8888888888888888,
             "#fdca26"
            ],
            [
             1,
             "#f0f921"
            ]
           ],
           "sequentialminus": [
            [
             0,
             "#0d0887"
            ],
            [
             0.1111111111111111,
             "#46039f"
            ],
            [
             0.2222222222222222,
             "#7201a8"
            ],
            [
             0.3333333333333333,
             "#9c179e"
            ],
            [
             0.4444444444444444,
             "#bd3786"
            ],
            [
             0.5555555555555556,
             "#d8576b"
            ],
            [
             0.6666666666666666,
             "#ed7953"
            ],
            [
             0.7777777777777778,
             "#fb9f3a"
            ],
            [
             0.8888888888888888,
             "#fdca26"
            ],
            [
             1,
             "#f0f921"
            ]
           ]
          },
          "colorway": [
           "#636efa",
           "#EF553B",
           "#00cc96",
           "#ab63fa",
           "#FFA15A",
           "#19d3f3",
           "#FF6692",
           "#B6E880",
           "#FF97FF",
           "#FECB52"
          ],
          "font": {
           "color": "#2a3f5f"
          },
          "geo": {
           "bgcolor": "white",
           "lakecolor": "white",
           "landcolor": "#E5ECF6",
           "showlakes": true,
           "showland": true,
           "subunitcolor": "white"
          },
          "hoverlabel": {
           "align": "left"
          },
          "hovermode": "closest",
          "mapbox": {
           "style": "light"
          },
          "paper_bgcolor": "white",
          "plot_bgcolor": "#E5ECF6",
          "polar": {
           "angularaxis": {
            "gridcolor": "white",
            "linecolor": "white",
            "ticks": ""
           },
           "bgcolor": "#E5ECF6",
           "radialaxis": {
            "gridcolor": "white",
            "linecolor": "white",
            "ticks": ""
           }
          },
          "scene": {
           "xaxis": {
            "backgroundcolor": "#E5ECF6",
            "gridcolor": "white",
            "gridwidth": 2,
            "linecolor": "white",
            "showbackground": true,
            "ticks": "",
            "zerolinecolor": "white"
           },
           "yaxis": {
            "backgroundcolor": "#E5ECF6",
            "gridcolor": "white",
            "gridwidth": 2,
            "linecolor": "white",
            "showbackground": true,
            "ticks": "",
            "zerolinecolor": "white"
           },
           "zaxis": {
            "backgroundcolor": "#E5ECF6",
            "gridcolor": "white",
            "gridwidth": 2,
            "linecolor": "white",
            "showbackground": true,
            "ticks": "",
            "zerolinecolor": "white"
           }
          },
          "shapedefaults": {
           "line": {
            "color": "#2a3f5f"
           }
          },
          "ternary": {
           "aaxis": {
            "gridcolor": "white",
            "linecolor": "white",
            "ticks": ""
           },
           "baxis": {
            "gridcolor": "white",
            "linecolor": "white",
            "ticks": ""
           },
           "bgcolor": "#E5ECF6",
           "caxis": {
            "gridcolor": "white",
            "linecolor": "white",
            "ticks": ""
           }
          },
          "title": {
           "x": 0.05
          },
          "xaxis": {
           "automargin": true,
           "gridcolor": "white",
           "linecolor": "white",
           "ticks": "",
           "title": {
            "standoff": 15
           },
           "zerolinecolor": "white",
           "zerolinewidth": 2
          },
          "yaxis": {
           "automargin": true,
           "gridcolor": "white",
           "linecolor": "white",
           "ticks": "",
           "title": {
            "standoff": 15
           },
           "zerolinecolor": "white",
           "zerolinewidth": 2
          }
         }
        },
        "title": {
         "text": "Tree of Most Common Cause"
        },
        "width": 1200
       }
      }
     },
     "metadata": {}
    }
   ],
   "source": [
    "train['cau_list'] = train['Contributing Factors / Situations'].apply(lambda x:str(x).split())\n",
    "train['cau_list'] = train['cau_list'].apply(lambda x:remove_stopword(x))\n",
    "cautop = Counter([item for sublist in train['cau_list'] for item in sublist])\n",
    "cau = pd.DataFrame(cautop.most_common(100))\n",
    "cau.columns = ['Common_words','count']\n",
    "\n",
    "fig = px.treemap(cau, \n",
    "                path=['Common_words','count'], \n",
    "                values='count',\n",
    "                title='Tree of Most Common Cause',\n",
    "                color='count',\n",
    "                color_continuous_scale=px.colors.diverging.Portland,\n",
    "                width=1200, height=1000)\n",
    "fig.show()"
   ]
  },
  {
   "cell_type": "code",
   "execution_count": 81,
   "metadata": {},
   "outputs": [
    {
     "output_type": "display_data",
     "data": {
      "application/vnd.plotly.v1+json": {
       "config": {
        "plotlyServerURL": "https://plot.ly"
       },
       "data": [
        {
         "branchvalues": "total",
         "customdata": [
          [
           1
          ],
          [
           1
          ],
          [
           1
          ],
          [
           1
          ],
          [
           1
          ],
          [
           1
          ],
          [
           2
          ],
          [
           2
          ],
          [
           2
          ],
          [
           2
          ],
          [
           2
          ],
          [
           3
          ],
          [
           3
          ],
          [
           4
          ],
          [
           17
          ],
          [
           20
          ],
          [
           34
          ],
          [
           85
          ],
          [
           85
          ],
          [
           20
          ],
          [
           2
          ],
          [
           17
          ],
          [
           1
          ],
          [
           1
          ],
          [
           2
          ],
          [
           3
          ],
          [
           2
          ],
          [
           1
          ],
          [
           85
          ],
          [
           85
          ],
          [
           1
          ],
          [
           1
          ],
          [
           3
          ],
          [
           34
          ],
          [
           2
          ],
          [
           2
          ],
          [
           1
          ],
          [
           4
          ]
         ],
         "domain": {
          "x": [
           0,
           1
          ],
          "y": [
           0,
           1
          ]
         },
         "hovertemplate": "labels=%{label}<br>count=%{color}<br>parent=%{parent}<br>id=%{id}<extra></extra>",
         "ids": [
          "atc/1",
          "buildings/1",
          "facility/1",
          "nan/1",
          "nav/1",
          "tooling/1",
          "airspace/2",
          "chart/2",
          "equipment/2",
          "publication/2",
          "structure/2",
          "company/3",
          "policy/3",
          "weather/4",
          "ambiguous/17",
          "aircraft/20",
          "procedure/34",
          "factors/85",
          "human/85",
          "aircraft",
          "airspace",
          "ambiguous",
          "atc",
          "buildings",
          "chart",
          "company",
          "equipment",
          "facility",
          "factors",
          "human",
          "nan",
          "nav",
          "policy",
          "procedure",
          "publication",
          "structure",
          "tooling",
          "weather"
         ],
         "labels": [
          "1",
          "1",
          "1",
          "1",
          "1",
          "1",
          "2",
          "2",
          "2",
          "2",
          "2",
          "3",
          "3",
          "4",
          "17",
          "20",
          "34",
          "85",
          "85",
          "aircraft",
          "airspace",
          "ambiguous",
          "atc",
          "buildings",
          "chart",
          "company",
          "equipment",
          "facility",
          "factors",
          "human",
          "nan",
          "nav",
          "policy",
          "procedure",
          "publication",
          "structure",
          "tooling",
          "weather"
         ],
         "marker": {
          "coloraxis": "coloraxis",
          "colors": [
           1,
           1,
           1,
           1,
           1,
           1,
           2,
           2,
           2,
           2,
           2,
           3,
           3,
           4,
           17,
           20,
           34,
           85,
           85,
           20,
           2,
           17,
           1,
           1,
           2,
           3,
           2,
           1,
           85,
           85,
           1,
           1,
           3,
           34,
           2,
           2,
           1,
           4
          ]
         },
         "name": "",
         "parents": [
          "atc",
          "buildings",
          "facility",
          "nan",
          "nav",
          "tooling",
          "airspace",
          "chart",
          "equipment",
          "publication",
          "structure",
          "company",
          "policy",
          "weather",
          "ambiguous",
          "aircraft",
          "procedure",
          "factors",
          "human",
          "",
          "",
          "",
          "",
          "",
          "",
          "",
          "",
          "",
          "",
          "",
          "",
          "",
          "",
          "",
          "",
          "",
          "",
          ""
         ],
         "type": "treemap",
         "values": [
          1,
          1,
          1,
          1,
          1,
          1,
          2,
          2,
          2,
          2,
          2,
          3,
          3,
          4,
          17,
          20,
          34,
          85,
          85,
          20,
          2,
          17,
          1,
          1,
          2,
          3,
          2,
          1,
          85,
          85,
          1,
          1,
          3,
          34,
          2,
          2,
          1,
          4
         ]
        }
       ],
       "layout": {
        "coloraxis": {
         "colorbar": {
          "title": {
           "text": "count"
          }
         },
         "colorscale": [
          [
           0,
           "rgb(243, 231, 155)"
          ],
          [
           0.16666666666666666,
           "rgb(250, 196, 132)"
          ],
          [
           0.3333333333333333,
           "rgb(248, 160, 126)"
          ],
          [
           0.5,
           "rgb(235, 127, 134)"
          ],
          [
           0.6666666666666666,
           "rgb(206, 102, 147)"
          ],
          [
           0.8333333333333334,
           "rgb(160, 89, 160)"
          ],
          [
           1,
           "rgb(92, 83, 165)"
          ]
         ]
        },
        "height": 1000,
        "legend": {
         "tracegroupgap": 0
        },
        "template": {
         "data": {
          "bar": [
           {
            "error_x": {
             "color": "#2a3f5f"
            },
            "error_y": {
             "color": "#2a3f5f"
            },
            "marker": {
             "line": {
              "color": "#E5ECF6",
              "width": 0.5
             }
            },
            "type": "bar"
           }
          ],
          "barpolar": [
           {
            "marker": {
             "line": {
              "color": "#E5ECF6",
              "width": 0.5
             }
            },
            "type": "barpolar"
           }
          ],
          "carpet": [
           {
            "aaxis": {
             "endlinecolor": "#2a3f5f",
             "gridcolor": "white",
             "linecolor": "white",
             "minorgridcolor": "white",
             "startlinecolor": "#2a3f5f"
            },
            "baxis": {
             "endlinecolor": "#2a3f5f",
             "gridcolor": "white",
             "linecolor": "white",
             "minorgridcolor": "white",
             "startlinecolor": "#2a3f5f"
            },
            "type": "carpet"
           }
          ],
          "choropleth": [
           {
            "colorbar": {
             "outlinewidth": 0,
             "ticks": ""
            },
            "type": "choropleth"
           }
          ],
          "contour": [
           {
            "colorbar": {
             "outlinewidth": 0,
             "ticks": ""
            },
            "colorscale": [
             [
              0,
              "#0d0887"
             ],
             [
              0.1111111111111111,
              "#46039f"
             ],
             [
              0.2222222222222222,
              "#7201a8"
             ],
             [
              0.3333333333333333,
              "#9c179e"
             ],
             [
              0.4444444444444444,
              "#bd3786"
             ],
             [
              0.5555555555555556,
              "#d8576b"
             ],
             [
              0.6666666666666666,
              "#ed7953"
             ],
             [
              0.7777777777777778,
              "#fb9f3a"
             ],
             [
              0.8888888888888888,
              "#fdca26"
             ],
             [
              1,
              "#f0f921"
             ]
            ],
            "type": "contour"
           }
          ],
          "contourcarpet": [
           {
            "colorbar": {
             "outlinewidth": 0,
             "ticks": ""
            },
            "type": "contourcarpet"
           }
          ],
          "heatmap": [
           {
            "colorbar": {
             "outlinewidth": 0,
             "ticks": ""
            },
            "colorscale": [
             [
              0,
              "#0d0887"
             ],
             [
              0.1111111111111111,
              "#46039f"
             ],
             [
              0.2222222222222222,
              "#7201a8"
             ],
             [
              0.3333333333333333,
              "#9c179e"
             ],
             [
              0.4444444444444444,
              "#bd3786"
             ],
             [
              0.5555555555555556,
              "#d8576b"
             ],
             [
              0.6666666666666666,
              "#ed7953"
             ],
             [
              0.7777777777777778,
              "#fb9f3a"
             ],
             [
              0.8888888888888888,
              "#fdca26"
             ],
             [
              1,
              "#f0f921"
             ]
            ],
            "type": "heatmap"
           }
          ],
          "heatmapgl": [
           {
            "colorbar": {
             "outlinewidth": 0,
             "ticks": ""
            },
            "colorscale": [
             [
              0,
              "#0d0887"
             ],
             [
              0.1111111111111111,
              "#46039f"
             ],
             [
              0.2222222222222222,
              "#7201a8"
             ],
             [
              0.3333333333333333,
              "#9c179e"
             ],
             [
              0.4444444444444444,
              "#bd3786"
             ],
             [
              0.5555555555555556,
              "#d8576b"
             ],
             [
              0.6666666666666666,
              "#ed7953"
             ],
             [
              0.7777777777777778,
              "#fb9f3a"
             ],
             [
              0.8888888888888888,
              "#fdca26"
             ],
             [
              1,
              "#f0f921"
             ]
            ],
            "type": "heatmapgl"
           }
          ],
          "histogram": [
           {
            "marker": {
             "colorbar": {
              "outlinewidth": 0,
              "ticks": ""
             }
            },
            "type": "histogram"
           }
          ],
          "histogram2d": [
           {
            "colorbar": {
             "outlinewidth": 0,
             "ticks": ""
            },
            "colorscale": [
             [
              0,
              "#0d0887"
             ],
             [
              0.1111111111111111,
              "#46039f"
             ],
             [
              0.2222222222222222,
              "#7201a8"
             ],
             [
              0.3333333333333333,
              "#9c179e"
             ],
             [
              0.4444444444444444,
              "#bd3786"
             ],
             [
              0.5555555555555556,
              "#d8576b"
             ],
             [
              0.6666666666666666,
              "#ed7953"
             ],
             [
              0.7777777777777778,
              "#fb9f3a"
             ],
             [
              0.8888888888888888,
              "#fdca26"
             ],
             [
              1,
              "#f0f921"
             ]
            ],
            "type": "histogram2d"
           }
          ],
          "histogram2dcontour": [
           {
            "colorbar": {
             "outlinewidth": 0,
             "ticks": ""
            },
            "colorscale": [
             [
              0,
              "#0d0887"
             ],
             [
              0.1111111111111111,
              "#46039f"
             ],
             [
              0.2222222222222222,
              "#7201a8"
             ],
             [
              0.3333333333333333,
              "#9c179e"
             ],
             [
              0.4444444444444444,
              "#bd3786"
             ],
             [
              0.5555555555555556,
              "#d8576b"
             ],
             [
              0.6666666666666666,
              "#ed7953"
             ],
             [
              0.7777777777777778,
              "#fb9f3a"
             ],
             [
              0.8888888888888888,
              "#fdca26"
             ],
             [
              1,
              "#f0f921"
             ]
            ],
            "type": "histogram2dcontour"
           }
          ],
          "mesh3d": [
           {
            "colorbar": {
             "outlinewidth": 0,
             "ticks": ""
            },
            "type": "mesh3d"
           }
          ],
          "parcoords": [
           {
            "line": {
             "colorbar": {
              "outlinewidth": 0,
              "ticks": ""
             }
            },
            "type": "parcoords"
           }
          ],
          "pie": [
           {
            "automargin": true,
            "type": "pie"
           }
          ],
          "scatter": [
           {
            "marker": {
             "colorbar": {
              "outlinewidth": 0,
              "ticks": ""
             }
            },
            "type": "scatter"
           }
          ],
          "scatter3d": [
           {
            "line": {
             "colorbar": {
              "outlinewidth": 0,
              "ticks": ""
             }
            },
            "marker": {
             "colorbar": {
              "outlinewidth": 0,
              "ticks": ""
             }
            },
            "type": "scatter3d"
           }
          ],
          "scattercarpet": [
           {
            "marker": {
             "colorbar": {
              "outlinewidth": 0,
              "ticks": ""
             }
            },
            "type": "scattercarpet"
           }
          ],
          "scattergeo": [
           {
            "marker": {
             "colorbar": {
              "outlinewidth": 0,
              "ticks": ""
             }
            },
            "type": "scattergeo"
           }
          ],
          "scattergl": [
           {
            "marker": {
             "colorbar": {
              "outlinewidth": 0,
              "ticks": ""
             }
            },
            "type": "scattergl"
           }
          ],
          "scattermapbox": [
           {
            "marker": {
             "colorbar": {
              "outlinewidth": 0,
              "ticks": ""
             }
            },
            "type": "scattermapbox"
           }
          ],
          "scatterpolar": [
           {
            "marker": {
             "colorbar": {
              "outlinewidth": 0,
              "ticks": ""
             }
            },
            "type": "scatterpolar"
           }
          ],
          "scatterpolargl": [
           {
            "marker": {
             "colorbar": {
              "outlinewidth": 0,
              "ticks": ""
             }
            },
            "type": "scatterpolargl"
           }
          ],
          "scatterternary": [
           {
            "marker": {
             "colorbar": {
              "outlinewidth": 0,
              "ticks": ""
             }
            },
            "type": "scatterternary"
           }
          ],
          "surface": [
           {
            "colorbar": {
             "outlinewidth": 0,
             "ticks": ""
            },
            "colorscale": [
             [
              0,
              "#0d0887"
             ],
             [
              0.1111111111111111,
              "#46039f"
             ],
             [
              0.2222222222222222,
              "#7201a8"
             ],
             [
              0.3333333333333333,
              "#9c179e"
             ],
             [
              0.4444444444444444,
              "#bd3786"
             ],
             [
              0.5555555555555556,
              "#d8576b"
             ],
             [
              0.6666666666666666,
              "#ed7953"
             ],
             [
              0.7777777777777778,
              "#fb9f3a"
             ],
             [
              0.8888888888888888,
              "#fdca26"
             ],
             [
              1,
              "#f0f921"
             ]
            ],
            "type": "surface"
           }
          ],
          "table": [
           {
            "cells": {
             "fill": {
              "color": "#EBF0F8"
             },
             "line": {
              "color": "white"
             }
            },
            "header": {
             "fill": {
              "color": "#C8D4E3"
             },
             "line": {
              "color": "white"
             }
            },
            "type": "table"
           }
          ]
         },
         "layout": {
          "annotationdefaults": {
           "arrowcolor": "#2a3f5f",
           "arrowhead": 0,
           "arrowwidth": 1
          },
          "coloraxis": {
           "colorbar": {
            "outlinewidth": 0,
            "ticks": ""
           }
          },
          "colorscale": {
           "diverging": [
            [
             0,
             "#8e0152"
            ],
            [
             0.1,
             "#c51b7d"
            ],
            [
             0.2,
             "#de77ae"
            ],
            [
             0.3,
             "#f1b6da"
            ],
            [
             0.4,
             "#fde0ef"
            ],
            [
             0.5,
             "#f7f7f7"
            ],
            [
             0.6,
             "#e6f5d0"
            ],
            [
             0.7,
             "#b8e186"
            ],
            [
             0.8,
             "#7fbc41"
            ],
            [
             0.9,
             "#4d9221"
            ],
            [
             1,
             "#276419"
            ]
           ],
           "sequential": [
            [
             0,
             "#0d0887"
            ],
            [
             0.1111111111111111,
             "#46039f"
            ],
            [
             0.2222222222222222,
             "#7201a8"
            ],
            [
             0.3333333333333333,
             "#9c179e"
            ],
            [
             0.4444444444444444,
             "#bd3786"
            ],
            [
             0.5555555555555556,
             "#d8576b"
            ],
            [
             0.6666666666666666,
             "#ed7953"
            ],
            [
             0.7777777777777778,
             "#fb9f3a"
            ],
            [
             0.8888888888888888,
             "#fdca26"
            ],
            [
             1,
             "#f0f921"
            ]
           ],
           "sequentialminus": [
            [
             0,
             "#0d0887"
            ],
            [
             0.1111111111111111,
             "#46039f"
            ],
            [
             0.2222222222222222,
             "#7201a8"
            ],
            [
             0.3333333333333333,
             "#9c179e"
            ],
            [
             0.4444444444444444,
             "#bd3786"
            ],
            [
             0.5555555555555556,
             "#d8576b"
            ],
            [
             0.6666666666666666,
             "#ed7953"
            ],
            [
             0.7777777777777778,
             "#fb9f3a"
            ],
            [
             0.8888888888888888,
             "#fdca26"
            ],
            [
             1,
             "#f0f921"
            ]
           ]
          },
          "colorway": [
           "#636efa",
           "#EF553B",
           "#00cc96",
           "#ab63fa",
           "#FFA15A",
           "#19d3f3",
           "#FF6692",
           "#B6E880",
           "#FF97FF",
           "#FECB52"
          ],
          "font": {
           "color": "#2a3f5f"
          },
          "geo": {
           "bgcolor": "white",
           "lakecolor": "white",
           "landcolor": "#E5ECF6",
           "showlakes": true,
           "showland": true,
           "subunitcolor": "white"
          },
          "hoverlabel": {
           "align": "left"
          },
          "hovermode": "closest",
          "mapbox": {
           "style": "light"
          },
          "paper_bgcolor": "white",
          "plot_bgcolor": "#E5ECF6",
          "polar": {
           "angularaxis": {
            "gridcolor": "white",
            "linecolor": "white",
            "ticks": ""
           },
           "bgcolor": "#E5ECF6",
           "radialaxis": {
            "gridcolor": "white",
            "linecolor": "white",
            "ticks": ""
           }
          },
          "scene": {
           "xaxis": {
            "backgroundcolor": "#E5ECF6",
            "gridcolor": "white",
            "gridwidth": 2,
            "linecolor": "white",
            "showbackground": true,
            "ticks": "",
            "zerolinecolor": "white"
           },
           "yaxis": {
            "backgroundcolor": "#E5ECF6",
            "gridcolor": "white",
            "gridwidth": 2,
            "linecolor": "white",
            "showbackground": true,
            "ticks": "",
            "zerolinecolor": "white"
           },
           "zaxis": {
            "backgroundcolor": "#E5ECF6",
            "gridcolor": "white",
            "gridwidth": 2,
            "linecolor": "white",
            "showbackground": true,
            "ticks": "",
            "zerolinecolor": "white"
           }
          },
          "shapedefaults": {
           "line": {
            "color": "#2a3f5f"
           }
          },
          "ternary": {
           "aaxis": {
            "gridcolor": "white",
            "linecolor": "white",
            "ticks": ""
           },
           "baxis": {
            "gridcolor": "white",
            "linecolor": "white",
            "ticks": ""
           },
           "bgcolor": "#E5ECF6",
           "caxis": {
            "gridcolor": "white",
            "linecolor": "white",
            "ticks": ""
           }
          },
          "title": {
           "x": 0.05
          },
          "xaxis": {
           "automargin": true,
           "gridcolor": "white",
           "linecolor": "white",
           "ticks": "",
           "title": {
            "standoff": 15
           },
           "zerolinecolor": "white",
           "zerolinewidth": 2
          },
          "yaxis": {
           "automargin": true,
           "gridcolor": "white",
           "linecolor": "white",
           "ticks": "",
           "title": {
            "standoff": 15
           },
           "zerolinecolor": "white",
           "zerolinewidth": 2
          }
         }
        },
        "title": {
         "text": "Tree of Most Common Words in Primary Problem"
        },
        "width": 1200
       }
      }
     },
     "metadata": {}
    }
   ],
   "source": [
    "train['prim_list'] = train['Primary Problem'].apply(lambda x:str(x).split())\n",
    "train['prim_list'] = train['prim_list'].apply(lambda x:remove_stopword(x))\n",
    "primtop = Counter([item for sublist in train['prim_list'] for item in sublist])\n",
    "prim = pd.DataFrame(primtop.most_common(200))\n",
    "prim.columns = ['Common_words','count']\n",
    "\n",
    "\n",
    "fig = px.treemap(prim, \n",
    "                path=['Common_words','count'], \n",
    "                values='count',\n",
    "                title='Tree of Most Common Words in Primary Problem',\n",
    "                color='count',\n",
    "                color_continuous_scale=px.colors.sequential.Sunset,\n",
    "                width=1200, height=1000)\n",
    "\n",
    "fig.show()"
   ]
  },
  {
   "cell_type": "code",
   "execution_count": 119,
   "metadata": {},
   "outputs": [
    {
     "output_type": "display_data",
     "data": {
      "application/vnd.plotly.v1+json": {
       "config": {
        "plotlyServerURL": "https://plot.ly"
       },
       "data": [
        {
         "branchvalues": "total",
         "customdata": [
          [
           1
          ],
          [
           4
          ],
          [
           6
          ],
          [
           11
          ],
          [
           13
          ],
          [
           13
          ],
          [
           15
          ],
          [
           15
          ],
          [
           19
          ],
          [
           23
          ],
          [
           26
          ],
          [
           26
          ],
          [
           50
          ],
          [
           50
          ],
          [
           52
          ],
          [
           102
          ],
          [
           102
          ],
          [
           102
          ],
          [
           50
          ],
          [
           50
          ],
          [
           52
          ],
          [
           19
          ],
          [
           1
          ],
          [
           15
          ],
          [
           15
          ],
          [
           23
          ],
          [
           13
          ],
          [
           26
          ],
          [
           102
          ],
          [
           13
          ],
          [
           26
          ],
          [
           6
          ],
          [
           4
          ],
          [
           11
          ]
         ],
         "domain": {
          "x": [
           0,
           1
          ],
          "y": [
           0,
           1
          ]
         },
         "hovertemplate": "labels=%{label}<br>count=%{color}<br>parent=%{parent}<br>id=%{id}<extra></extra>",
         "ids": [
          "fatigue/1",
          "unknown/4",
          "troubleshooting/6",
          "workload/11",
          "pressure/13",
          "time/13",
          "humanmachine/15",
          "interface/15",
          "distraction/19",
          "nan/23",
          "qualification/26",
          "training/26",
          "breakdown/50",
          "communication/50",
          "confusion/52",
          "awareness/102",
          "situational/102",
          "awareness",
          "breakdown",
          "communication",
          "confusion",
          "distraction",
          "fatigue",
          "humanmachine",
          "interface",
          "nan",
          "pressure",
          "qualification",
          "situational",
          "time",
          "training",
          "troubleshooting",
          "unknown",
          "workload"
         ],
         "labels": [
          "1",
          "4",
          "6",
          "11",
          "13",
          "13",
          "15",
          "15",
          "19",
          "23",
          "26",
          "26",
          "50",
          "50",
          "52",
          "102",
          "102",
          "awareness",
          "breakdown",
          "communication",
          "confusion",
          "distraction",
          "fatigue",
          "humanmachine",
          "interface",
          "nan",
          "pressure",
          "qualification",
          "situational",
          "time",
          "training",
          "troubleshooting",
          "unknown",
          "workload"
         ],
         "marker": {
          "coloraxis": "coloraxis",
          "colors": [
           1,
           4,
           6,
           11,
           13,
           13,
           15,
           15,
           19,
           23,
           26,
           26,
           50,
           50,
           52,
           102,
           102,
           102,
           50,
           50,
           52,
           19,
           1,
           15,
           15,
           23,
           13,
           26,
           102,
           13,
           26,
           6,
           4,
           11
          ]
         },
         "name": "",
         "parents": [
          "fatigue",
          "unknown",
          "troubleshooting",
          "workload",
          "pressure",
          "time",
          "humanmachine",
          "interface",
          "distraction",
          "nan",
          "qualification",
          "training",
          "breakdown",
          "communication",
          "confusion",
          "awareness",
          "situational",
          "",
          "",
          "",
          "",
          "",
          "",
          "",
          "",
          "",
          "",
          "",
          "",
          "",
          "",
          "",
          "",
          ""
         ],
         "type": "treemap",
         "values": [
          1,
          4,
          6,
          11,
          13,
          13,
          15,
          15,
          19,
          23,
          26,
          26,
          50,
          50,
          52,
          102,
          102,
          102,
          50,
          50,
          52,
          19,
          1,
          15,
          15,
          23,
          13,
          26,
          102,
          13,
          26,
          6,
          4,
          11
         ]
        }
       ],
       "layout": {
        "coloraxis": {
         "colorbar": {
          "title": {
           "text": "count"
          }
         },
         "colorscale": [
          [
           0,
           "rgb(141,211,199)"
          ],
          [
           0.09090909090909091,
           "rgb(255,255,179)"
          ],
          [
           0.18181818181818182,
           "rgb(190,186,218)"
          ],
          [
           0.2727272727272727,
           "rgb(251,128,114)"
          ],
          [
           0.36363636363636365,
           "rgb(128,177,211)"
          ],
          [
           0.45454545454545453,
           "rgb(253,180,98)"
          ],
          [
           0.5454545454545454,
           "rgb(179,222,105)"
          ],
          [
           0.6363636363636364,
           "rgb(252,205,229)"
          ],
          [
           0.7272727272727273,
           "rgb(217,217,217)"
          ],
          [
           0.8181818181818182,
           "rgb(188,128,189)"
          ],
          [
           0.9090909090909091,
           "rgb(204,235,197)"
          ],
          [
           1,
           "rgb(255,237,111)"
          ]
         ]
        },
        "height": 1000,
        "legend": {
         "tracegroupgap": 0
        },
        "template": {
         "data": {
          "bar": [
           {
            "error_x": {
             "color": "#2a3f5f"
            },
            "error_y": {
             "color": "#2a3f5f"
            },
            "marker": {
             "line": {
              "color": "#E5ECF6",
              "width": 0.5
             }
            },
            "type": "bar"
           }
          ],
          "barpolar": [
           {
            "marker": {
             "line": {
              "color": "#E5ECF6",
              "width": 0.5
             }
            },
            "type": "barpolar"
           }
          ],
          "carpet": [
           {
            "aaxis": {
             "endlinecolor": "#2a3f5f",
             "gridcolor": "white",
             "linecolor": "white",
             "minorgridcolor": "white",
             "startlinecolor": "#2a3f5f"
            },
            "baxis": {
             "endlinecolor": "#2a3f5f",
             "gridcolor": "white",
             "linecolor": "white",
             "minorgridcolor": "white",
             "startlinecolor": "#2a3f5f"
            },
            "type": "carpet"
           }
          ],
          "choropleth": [
           {
            "colorbar": {
             "outlinewidth": 0,
             "ticks": ""
            },
            "type": "choropleth"
           }
          ],
          "contour": [
           {
            "colorbar": {
             "outlinewidth": 0,
             "ticks": ""
            },
            "colorscale": [
             [
              0,
              "#0d0887"
             ],
             [
              0.1111111111111111,
              "#46039f"
             ],
             [
              0.2222222222222222,
              "#7201a8"
             ],
             [
              0.3333333333333333,
              "#9c179e"
             ],
             [
              0.4444444444444444,
              "#bd3786"
             ],
             [
              0.5555555555555556,
              "#d8576b"
             ],
             [
              0.6666666666666666,
              "#ed7953"
             ],
             [
              0.7777777777777778,
              "#fb9f3a"
             ],
             [
              0.8888888888888888,
              "#fdca26"
             ],
             [
              1,
              "#f0f921"
             ]
            ],
            "type": "contour"
           }
          ],
          "contourcarpet": [
           {
            "colorbar": {
             "outlinewidth": 0,
             "ticks": ""
            },
            "type": "contourcarpet"
           }
          ],
          "heatmap": [
           {
            "colorbar": {
             "outlinewidth": 0,
             "ticks": ""
            },
            "colorscale": [
             [
              0,
              "#0d0887"
             ],
             [
              0.1111111111111111,
              "#46039f"
             ],
             [
              0.2222222222222222,
              "#7201a8"
             ],
             [
              0.3333333333333333,
              "#9c179e"
             ],
             [
              0.4444444444444444,
              "#bd3786"
             ],
             [
              0.5555555555555556,
              "#d8576b"
             ],
             [
              0.6666666666666666,
              "#ed7953"
             ],
             [
              0.7777777777777778,
              "#fb9f3a"
             ],
             [
              0.8888888888888888,
              "#fdca26"
             ],
             [
              1,
              "#f0f921"
             ]
            ],
            "type": "heatmap"
           }
          ],
          "heatmapgl": [
           {
            "colorbar": {
             "outlinewidth": 0,
             "ticks": ""
            },
            "colorscale": [
             [
              0,
              "#0d0887"
             ],
             [
              0.1111111111111111,
              "#46039f"
             ],
             [
              0.2222222222222222,
              "#7201a8"
             ],
             [
              0.3333333333333333,
              "#9c179e"
             ],
             [
              0.4444444444444444,
              "#bd3786"
             ],
             [
              0.5555555555555556,
              "#d8576b"
             ],
             [
              0.6666666666666666,
              "#ed7953"
             ],
             [
              0.7777777777777778,
              "#fb9f3a"
             ],
             [
              0.8888888888888888,
              "#fdca26"
             ],
             [
              1,
              "#f0f921"
             ]
            ],
            "type": "heatmapgl"
           }
          ],
          "histogram": [
           {
            "marker": {
             "colorbar": {
              "outlinewidth": 0,
              "ticks": ""
             }
            },
            "type": "histogram"
           }
          ],
          "histogram2d": [
           {
            "colorbar": {
             "outlinewidth": 0,
             "ticks": ""
            },
            "colorscale": [
             [
              0,
              "#0d0887"
             ],
             [
              0.1111111111111111,
              "#46039f"
             ],
             [
              0.2222222222222222,
              "#7201a8"
             ],
             [
              0.3333333333333333,
              "#9c179e"
             ],
             [
              0.4444444444444444,
              "#bd3786"
             ],
             [
              0.5555555555555556,
              "#d8576b"
             ],
             [
              0.6666666666666666,
              "#ed7953"
             ],
             [
              0.7777777777777778,
              "#fb9f3a"
             ],
             [
              0.8888888888888888,
              "#fdca26"
             ],
             [
              1,
              "#f0f921"
             ]
            ],
            "type": "histogram2d"
           }
          ],
          "histogram2dcontour": [
           {
            "colorbar": {
             "outlinewidth": 0,
             "ticks": ""
            },
            "colorscale": [
             [
              0,
              "#0d0887"
             ],
             [
              0.1111111111111111,
              "#46039f"
             ],
             [
              0.2222222222222222,
              "#7201a8"
             ],
             [
              0.3333333333333333,
              "#9c179e"
             ],
             [
              0.4444444444444444,
              "#bd3786"
             ],
             [
              0.5555555555555556,
              "#d8576b"
             ],
             [
              0.6666666666666666,
              "#ed7953"
             ],
             [
              0.7777777777777778,
              "#fb9f3a"
             ],
             [
              0.8888888888888888,
              "#fdca26"
             ],
             [
              1,
              "#f0f921"
             ]
            ],
            "type": "histogram2dcontour"
           }
          ],
          "mesh3d": [
           {
            "colorbar": {
             "outlinewidth": 0,
             "ticks": ""
            },
            "type": "mesh3d"
           }
          ],
          "parcoords": [
           {
            "line": {
             "colorbar": {
              "outlinewidth": 0,
              "ticks": ""
             }
            },
            "type": "parcoords"
           }
          ],
          "pie": [
           {
            "automargin": true,
            "type": "pie"
           }
          ],
          "scatter": [
           {
            "marker": {
             "colorbar": {
              "outlinewidth": 0,
              "ticks": ""
             }
            },
            "type": "scatter"
           }
          ],
          "scatter3d": [
           {
            "line": {
             "colorbar": {
              "outlinewidth": 0,
              "ticks": ""
             }
            },
            "marker": {
             "colorbar": {
              "outlinewidth": 0,
              "ticks": ""
             }
            },
            "type": "scatter3d"
           }
          ],
          "scattercarpet": [
           {
            "marker": {
             "colorbar": {
              "outlinewidth": 0,
              "ticks": ""
             }
            },
            "type": "scattercarpet"
           }
          ],
          "scattergeo": [
           {
            "marker": {
             "colorbar": {
              "outlinewidth": 0,
              "ticks": ""
             }
            },
            "type": "scattergeo"
           }
          ],
          "scattergl": [
           {
            "marker": {
             "colorbar": {
              "outlinewidth": 0,
              "ticks": ""
             }
            },
            "type": "scattergl"
           }
          ],
          "scattermapbox": [
           {
            "marker": {
             "colorbar": {
              "outlinewidth": 0,
              "ticks": ""
             }
            },
            "type": "scattermapbox"
           }
          ],
          "scatterpolar": [
           {
            "marker": {
             "colorbar": {
              "outlinewidth": 0,
              "ticks": ""
             }
            },
            "type": "scatterpolar"
           }
          ],
          "scatterpolargl": [
           {
            "marker": {
             "colorbar": {
              "outlinewidth": 0,
              "ticks": ""
             }
            },
            "type": "scatterpolargl"
           }
          ],
          "scatterternary": [
           {
            "marker": {
             "colorbar": {
              "outlinewidth": 0,
              "ticks": ""
             }
            },
            "type": "scatterternary"
           }
          ],
          "surface": [
           {
            "colorbar": {
             "outlinewidth": 0,
             "ticks": ""
            },
            "colorscale": [
             [
              0,
              "#0d0887"
             ],
             [
              0.1111111111111111,
              "#46039f"
             ],
             [
              0.2222222222222222,
              "#7201a8"
             ],
             [
              0.3333333333333333,
              "#9c179e"
             ],
             [
              0.4444444444444444,
              "#bd3786"
             ],
             [
              0.5555555555555556,
              "#d8576b"
             ],
             [
              0.6666666666666666,
              "#ed7953"
             ],
             [
              0.7777777777777778,
              "#fb9f3a"
             ],
             [
              0.8888888888888888,
              "#fdca26"
             ],
             [
              1,
              "#f0f921"
             ]
            ],
            "type": "surface"
           }
          ],
          "table": [
           {
            "cells": {
             "fill": {
              "color": "#EBF0F8"
             },
             "line": {
              "color": "white"
             }
            },
            "header": {
             "fill": {
              "color": "#C8D4E3"
             },
             "line": {
              "color": "white"
             }
            },
            "type": "table"
           }
          ]
         },
         "layout": {
          "annotationdefaults": {
           "arrowcolor": "#2a3f5f",
           "arrowhead": 0,
           "arrowwidth": 1
          },
          "coloraxis": {
           "colorbar": {
            "outlinewidth": 0,
            "ticks": ""
           }
          },
          "colorscale": {
           "diverging": [
            [
             0,
             "#8e0152"
            ],
            [
             0.1,
             "#c51b7d"
            ],
            [
             0.2,
             "#de77ae"
            ],
            [
             0.3,
             "#f1b6da"
            ],
            [
             0.4,
             "#fde0ef"
            ],
            [
             0.5,
             "#f7f7f7"
            ],
            [
             0.6,
             "#e6f5d0"
            ],
            [
             0.7,
             "#b8e186"
            ],
            [
             0.8,
             "#7fbc41"
            ],
            [
             0.9,
             "#4d9221"
            ],
            [
             1,
             "#276419"
            ]
           ],
           "sequential": [
            [
             0,
             "#0d0887"
            ],
            [
             0.1111111111111111,
             "#46039f"
            ],
            [
             0.2222222222222222,
             "#7201a8"
            ],
            [
             0.3333333333333333,
             "#9c179e"
            ],
            [
             0.4444444444444444,
             "#bd3786"
            ],
            [
             0.5555555555555556,
             "#d8576b"
            ],
            [
             0.6666666666666666,
             "#ed7953"
            ],
            [
             0.7777777777777778,
             "#fb9f3a"
            ],
            [
             0.8888888888888888,
             "#fdca26"
            ],
            [
             1,
             "#f0f921"
            ]
           ],
           "sequentialminus": [
            [
             0,
             "#0d0887"
            ],
            [
             0.1111111111111111,
             "#46039f"
            ],
            [
             0.2222222222222222,
             "#7201a8"
            ],
            [
             0.3333333333333333,
             "#9c179e"
            ],
            [
             0.4444444444444444,
             "#bd3786"
            ],
            [
             0.5555555555555556,
             "#d8576b"
            ],
            [
             0.6666666666666666,
             "#ed7953"
            ],
            [
             0.7777777777777778,
             "#fb9f3a"
            ],
            [
             0.8888888888888888,
             "#fdca26"
            ],
            [
             1,
             "#f0f921"
            ]
           ]
          },
          "colorway": [
           "#636efa",
           "#EF553B",
           "#00cc96",
           "#ab63fa",
           "#FFA15A",
           "#19d3f3",
           "#FF6692",
           "#B6E880",
           "#FF97FF",
           "#FECB52"
          ],
          "font": {
           "color": "#2a3f5f"
          },
          "geo": {
           "bgcolor": "white",
           "lakecolor": "white",
           "landcolor": "#E5ECF6",
           "showlakes": true,
           "showland": true,
           "subunitcolor": "white"
          },
          "hoverlabel": {
           "align": "left"
          },
          "hovermode": "closest",
          "mapbox": {
           "style": "light"
          },
          "paper_bgcolor": "white",
          "plot_bgcolor": "#E5ECF6",
          "polar": {
           "angularaxis": {
            "gridcolor": "white",
            "linecolor": "white",
            "ticks": ""
           },
           "bgcolor": "#E5ECF6",
           "radialaxis": {
            "gridcolor": "white",
            "linecolor": "white",
            "ticks": ""
           }
          },
          "scene": {
           "xaxis": {
            "backgroundcolor": "#E5ECF6",
            "gridcolor": "white",
            "gridwidth": 2,
            "linecolor": "white",
            "showbackground": true,
            "ticks": "",
            "zerolinecolor": "white"
           },
           "yaxis": {
            "backgroundcolor": "#E5ECF6",
            "gridcolor": "white",
            "gridwidth": 2,
            "linecolor": "white",
            "showbackground": true,
            "ticks": "",
            "zerolinecolor": "white"
           },
           "zaxis": {
            "backgroundcolor": "#E5ECF6",
            "gridcolor": "white",
            "gridwidth": 2,
            "linecolor": "white",
            "showbackground": true,
            "ticks": "",
            "zerolinecolor": "white"
           }
          },
          "shapedefaults": {
           "line": {
            "color": "#2a3f5f"
           }
          },
          "ternary": {
           "aaxis": {
            "gridcolor": "white",
            "linecolor": "white",
            "ticks": ""
           },
           "baxis": {
            "gridcolor": "white",
            "linecolor": "white",
            "ticks": ""
           },
           "bgcolor": "#E5ECF6",
           "caxis": {
            "gridcolor": "white",
            "linecolor": "white",
            "ticks": ""
           }
          },
          "title": {
           "x": 0.05
          },
          "xaxis": {
           "automargin": true,
           "gridcolor": "white",
           "linecolor": "white",
           "ticks": "",
           "title": {
            "standoff": 15
           },
           "zerolinecolor": "white",
           "zerolinewidth": 2
          },
          "yaxis": {
           "automargin": true,
           "gridcolor": "white",
           "linecolor": "white",
           "ticks": "",
           "title": {
            "standoff": 15
           },
           "zerolinecolor": "white",
           "zerolinewidth": 2
          }
         }
        },
        "title": {
         "text": "Tree of Most Common Words in Human Factors"
        },
        "width": 1200
       }
      }
     },
     "metadata": {}
    }
   ],
   "source": [
    "train['hum_list'] = train['Human Factors'].apply(lambda x:str(x).split())\n",
    "train['hum_list'] = train['hum_list'].apply(lambda x:remove_stopword(x))\n",
    "humtop = Counter([item for sublist in train['hum_list'] for item in sublist])\n",
    "hum = pd.DataFrame(humtop.most_common(200))\n",
    "hum.columns = ['Common_words','count']\n",
    "\n",
    "\n",
    "fig = px.treemap(hum, \n",
    "                path=['Common_words','count'], \n",
    "                values='count',\n",
    "                title='Tree of Most Common Words in Human Factors',\n",
    "                color='count',\n",
    "                color_continuous_scale=px.colors.qualitative.Set3,\n",
    "                width=1200, height=1000)\n",
    "fig.show()"
   ]
  },
  {
   "cell_type": "code",
   "execution_count": 24,
   "metadata": {},
   "outputs": [
    {
     "output_type": "display_data",
     "data": {
      "application/vnd.plotly.v1+json": {
       "config": {
        "plotlyServerURL": "https://plot.ly"
       },
       "data": [
        {
         "branchvalues": "total",
         "customdata": [
          [
           29
          ],
          [
           29
          ],
          [
           29
          ],
          [
           29
          ],
          [
           30
          ],
          [
           30
          ],
          [
           30
          ],
          [
           30
          ],
          [
           30
          ],
          [
           30
          ],
          [
           30
          ],
          [
           30
          ],
          [
           30
          ],
          [
           30
          ],
          [
           30
          ],
          [
           31
          ],
          [
           31
          ],
          [
           31
          ],
          [
           31
          ],
          [
           31
          ],
          [
           31
          ],
          [
           32
          ],
          [
           32
          ],
          [
           32
          ],
          [
           32
          ],
          [
           32
          ],
          [
           32
          ],
          [
           33
          ],
          [
           33
          ],
          [
           33
          ],
          [
           33
          ],
          [
           34
          ],
          [
           35
          ],
          [
           35
          ],
          [
           35
          ],
          [
           35
          ],
          [
           36
          ],
          [
           36
          ],
          [
           37
          ],
          [
           37
          ],
          [
           38
          ],
          [
           38
          ],
          [
           39
          ],
          [
           39
          ],
          [
           39
          ],
          [
           41
          ],
          [
           41
          ],
          [
           41
          ],
          [
           41
          ],
          [
           42
          ],
          [
           42
          ],
          [
           42
          ],
          [
           42
          ],
          [
           43
          ],
          [
           43
          ],
          [
           44
          ],
          [
           45
          ],
          [
           46
          ],
          [
           47
          ],
          [
           47
          ],
          [
           49
          ],
          [
           49
          ],
          [
           50
          ],
          [
           50
          ],
          [
           50
          ],
          [
           50
          ],
          [
           51
          ],
          [
           51
          ],
          [
           51
          ],
          [
           53
          ],
          [
           53
          ],
          [
           54
          ],
          [
           54
          ],
          [
           55
          ],
          [
           55
          ],
          [
           57
          ],
          [
           57
          ],
          [
           57
          ],
          [
           58
          ],
          [
           59
          ],
          [
           60
          ],
          [
           61
          ],
          [
           67
          ],
          [
           70
          ],
          [
           72
          ],
          [
           83
          ],
          [
           88
          ],
          [
           95
          ],
          [
           97
          ],
          [
           101
          ],
          [
           105
          ],
          [
           108
          ],
          [
           111
          ],
          [
           118
          ],
          [
           154
          ],
          [
           163
          ],
          [
           164
          ],
          [
           192
          ],
          [
           292
          ],
          [
           483
          ],
          [
           51
          ],
          [
           483
          ],
          [
           83
          ],
          [
           192
          ],
          [
           60
          ],
          [
           101
          ],
          [
           30
          ],
          [
           57
          ],
          [
           111
          ],
          [
           36
          ],
          [
           30
          ],
          [
           51
          ],
          [
           53
          ],
          [
           30
          ],
          [
           50
          ],
          [
           47
          ],
          [
           29
          ],
          [
           39
          ],
          [
           72
          ],
          [
           50
          ],
          [
           29
          ],
          [
           41
          ],
          [
           31
          ],
          [
           33
          ],
          [
           67
          ],
          [
           41
          ],
          [
           61
          ],
          [
           35
          ],
          [
           29
          ],
          [
           35
          ],
          [
           163
          ],
          [
           47
          ],
          [
           59
          ],
          [
           105
          ],
          [
           30
          ],
          [
           38
          ],
          [
           292
          ],
          [
           54
          ],
          [
           70
          ],
          [
           118
          ],
          [
           33
          ],
          [
           33
          ],
          [
           53
          ],
          [
           35
          ],
          [
           43
          ],
          [
           37
          ],
          [
           49
          ],
          [
           30
          ],
          [
           35
          ],
          [
           36
          ],
          [
           30
          ],
          [
           30
          ],
          [
           30
          ],
          [
           34
          ],
          [
           50
          ],
          [
           41
          ],
          [
           51
          ],
          [
           49
          ],
          [
           31
          ],
          [
           55
          ],
          [
           42
          ],
          [
           44
          ],
          [
           57
          ],
          [
           57
          ],
          [
           50
          ],
          [
           45
          ],
          [
           42
          ],
          [
           33
          ],
          [
           154
          ],
          [
           30
          ],
          [
           37
          ],
          [
           42
          ],
          [
           31
          ],
          [
           39
          ],
          [
           31
          ],
          [
           32
          ],
          [
           30
          ],
          [
           39
          ],
          [
           54
          ],
          [
           30
          ],
          [
           31
          ],
          [
           32
          ],
          [
           32
          ],
          [
           31
          ],
          [
           95
          ],
          [
           38
          ],
          [
           42
          ],
          [
           55
          ],
          [
           32
          ],
          [
           29
          ],
          [
           164
          ],
          [
           108
          ],
          [
           41
          ],
          [
           43
          ],
          [
           32
          ],
          [
           32
          ],
          [
           58
          ],
          [
           46
          ],
          [
           97
          ],
          [
           88
          ]
         ],
         "domain": {
          "x": [
           0,
           1
          ],
          "y": [
           0,
           1
          ]
         },
         "hovertemplate": "labels=%{label}<br>count=%{color}<br>parent=%{parent}<br>id=%{id}<extra></extra>",
         "ids": [
          "called/29",
          "cleared/29",
          "day/29",
          "two/29",
          "approach/30",
          "asked/30",
          "away/30",
          "filed/30",
          "know/30",
          "left/30",
          "line/30",
          "link/30",
          "pilots/30",
          "requested/30",
          "safety/30",
          "close/31",
          "minutes/31",
          "position/31",
          "procedures/31",
          "see/31",
          "take/31",
          "radio/32",
          "south/32",
          "system/32",
          "turn/32",
          "visual/32",
          "waiver/32",
          "contact/33",
          "ft/33",
          "get/33",
          "pattern/33",
          "local/34",
          "crew/35",
          "descent/35",
          "however/35",
          "land/35",
          "around/36",
          "landing/36",
          "incident/37",
          "plan/37",
          "flew/38",
          "told/38",
          "center/39",
          "prior/39",
          "right/39",
          "climb/41",
          "controller/41",
          "lost/41",
          "unmanned/41",
          "need/42",
          "part/42",
          "point/42",
          "tower/42",
          "immediately/43",
          "us/43",
          "one/44",
          "operator/45",
          "without/46",
          "call/47",
          "due/47",
          "information/49",
          "miles/49",
          "back/50",
          "clearance/50",
          "location/50",
          "operations/50",
          "agl/51",
          "atc/51",
          "made/51",
          "authorization/53",
          "ground/53",
          "flights/54",
          "runway/54",
          "mission/55",
          "traffic/55",
          "approximately/57",
          "operating/57",
          "operation/57",
          "within/58",
          "faa/59",
          "also/60",
          "could/61",
          "control/67",
          "fly/70",
          "class/72",
          "airport/83",
          "x/88",
          "time/95",
          "would/97",
          "altitude/101",
          "feet/105",
          "uav/108",
          "area/111",
          "flying/118",
          "pilot/154",
          "drone/163",
          "uas/164",
          "airspace/192",
          "flight/292",
          "aircraft/483",
          "agl",
          "aircraft",
          "airport",
          "airspace",
          "also",
          "altitude",
          "approach",
          "approximately",
          "area",
          "around",
          "asked",
          "atc",
          "authorization",
          "away",
          "back",
          "call",
          "called",
          "center",
          "class",
          "clearance",
          "cleared",
          "climb",
          "close",
          "contact",
          "control",
          "controller",
          "could",
          "crew",
          "day",
          "descent",
          "drone",
          "due",
          "faa",
          "feet",
          "filed",
          "flew",
          "flight",
          "flights",
          "fly",
          "flying",
          "ft",
          "get",
          "ground",
          "however",
          "immediately",
          "incident",
          "information",
          "know",
          "land",
          "landing",
          "left",
          "line",
          "link",
          "local",
          "location",
          "lost",
          "made",
          "miles",
          "minutes",
          "mission",
          "need",
          "one",
          "operating",
          "operation",
          "operations",
          "operator",
          "part",
          "pattern",
          "pilot",
          "pilots",
          "plan",
          "point",
          "position",
          "prior",
          "procedures",
          "radio",
          "requested",
          "right",
          "runway",
          "safety",
          "see",
          "south",
          "system",
          "take",
          "time",
          "told",
          "tower",
          "traffic",
          "turn",
          "two",
          "uas",
          "uav",
          "unmanned",
          "us",
          "visual",
          "waiver",
          "within",
          "without",
          "would",
          "x"
         ],
         "labels": [
          "29",
          "29",
          "29",
          "29",
          "30",
          "30",
          "30",
          "30",
          "30",
          "30",
          "30",
          "30",
          "30",
          "30",
          "30",
          "31",
          "31",
          "31",
          "31",
          "31",
          "31",
          "32",
          "32",
          "32",
          "32",
          "32",
          "32",
          "33",
          "33",
          "33",
          "33",
          "34",
          "35",
          "35",
          "35",
          "35",
          "36",
          "36",
          "37",
          "37",
          "38",
          "38",
          "39",
          "39",
          "39",
          "41",
          "41",
          "41",
          "41",
          "42",
          "42",
          "42",
          "42",
          "43",
          "43",
          "44",
          "45",
          "46",
          "47",
          "47",
          "49",
          "49",
          "50",
          "50",
          "50",
          "50",
          "51",
          "51",
          "51",
          "53",
          "53",
          "54",
          "54",
          "55",
          "55",
          "57",
          "57",
          "57",
          "58",
          "59",
          "60",
          "61",
          "67",
          "70",
          "72",
          "83",
          "88",
          "95",
          "97",
          "101",
          "105",
          "108",
          "111",
          "118",
          "154",
          "163",
          "164",
          "192",
          "292",
          "483",
          "agl",
          "aircraft",
          "airport",
          "airspace",
          "also",
          "altitude",
          "approach",
          "approximately",
          "area",
          "around",
          "asked",
          "atc",
          "authorization",
          "away",
          "back",
          "call",
          "called",
          "center",
          "class",
          "clearance",
          "cleared",
          "climb",
          "close",
          "contact",
          "control",
          "controller",
          "could",
          "crew",
          "day",
          "descent",
          "drone",
          "due",
          "faa",
          "feet",
          "filed",
          "flew",
          "flight",
          "flights",
          "fly",
          "flying",
          "ft",
          "get",
          "ground",
          "however",
          "immediately",
          "incident",
          "information",
          "know",
          "land",
          "landing",
          "left",
          "line",
          "link",
          "local",
          "location",
          "lost",
          "made",
          "miles",
          "minutes",
          "mission",
          "need",
          "one",
          "operating",
          "operation",
          "operations",
          "operator",
          "part",
          "pattern",
          "pilot",
          "pilots",
          "plan",
          "point",
          "position",
          "prior",
          "procedures",
          "radio",
          "requested",
          "right",
          "runway",
          "safety",
          "see",
          "south",
          "system",
          "take",
          "time",
          "told",
          "tower",
          "traffic",
          "turn",
          "two",
          "uas",
          "uav",
          "unmanned",
          "us",
          "visual",
          "waiver",
          "within",
          "without",
          "would",
          "x"
         ],
         "marker": {
          "coloraxis": "coloraxis",
          "colors": [
           29,
           29,
           29,
           29,
           30,
           30,
           30,
           30,
           30,
           30,
           30,
           30,
           30,
           30,
           30,
           31,
           31,
           31,
           31,
           31,
           31,
           32,
           32,
           32,
           32,
           32,
           32,
           33,
           33,
           33,
           33,
           34,
           35,
           35,
           35,
           35,
           36,
           36,
           37,
           37,
           38,
           38,
           39,
           39,
           39,
           41,
           41,
           41,
           41,
           42,
           42,
           42,
           42,
           43,
           43,
           44,
           45,
           46,
           47,
           47,
           49,
           49,
           50,
           50,
           50,
           50,
           51,
           51,
           51,
           53,
           53,
           54,
           54,
           55,
           55,
           57,
           57,
           57,
           58,
           59,
           60,
           61,
           67,
           70,
           72,
           83,
           88,
           95,
           97,
           101,
           105,
           108,
           111,
           118,
           154,
           163,
           164,
           192,
           292,
           483,
           51,
           483,
           83,
           192,
           60,
           101,
           30,
           57,
           111,
           36,
           30,
           51,
           53,
           30,
           50,
           47,
           29,
           39,
           72,
           50,
           29,
           41,
           31,
           33,
           67,
           41,
           61,
           35,
           29,
           35,
           163,
           47,
           59,
           105,
           30,
           38,
           292,
           54,
           70,
           118,
           33,
           33,
           53,
           35,
           43,
           37,
           49,
           30,
           35,
           36,
           30,
           30,
           30,
           34,
           50,
           41,
           51,
           49,
           31,
           55,
           42,
           44,
           57,
           57,
           50,
           45,
           42,
           33,
           154,
           30,
           37,
           42,
           31,
           39,
           31,
           32,
           30,
           39,
           54,
           30,
           31,
           32,
           32,
           31,
           95,
           38,
           42,
           55,
           32,
           29,
           164,
           108,
           41,
           43,
           32,
           32,
           58,
           46,
           97,
           88
          ]
         },
         "name": "",
         "parents": [
          "called",
          "cleared",
          "day",
          "two",
          "approach",
          "asked",
          "away",
          "filed",
          "know",
          "left",
          "line",
          "link",
          "pilots",
          "requested",
          "safety",
          "close",
          "minutes",
          "position",
          "procedures",
          "see",
          "take",
          "radio",
          "south",
          "system",
          "turn",
          "visual",
          "waiver",
          "contact",
          "ft",
          "get",
          "pattern",
          "local",
          "crew",
          "descent",
          "however",
          "land",
          "around",
          "landing",
          "incident",
          "plan",
          "flew",
          "told",
          "center",
          "prior",
          "right",
          "climb",
          "controller",
          "lost",
          "unmanned",
          "need",
          "part",
          "point",
          "tower",
          "immediately",
          "us",
          "one",
          "operator",
          "without",
          "call",
          "due",
          "information",
          "miles",
          "back",
          "clearance",
          "location",
          "operations",
          "agl",
          "atc",
          "made",
          "authorization",
          "ground",
          "flights",
          "runway",
          "mission",
          "traffic",
          "approximately",
          "operating",
          "operation",
          "within",
          "faa",
          "also",
          "could",
          "control",
          "fly",
          "class",
          "airport",
          "x",
          "time",
          "would",
          "altitude",
          "feet",
          "uav",
          "area",
          "flying",
          "pilot",
          "drone",
          "uas",
          "airspace",
          "flight",
          "aircraft",
          "",
          "",
          "",
          "",
          "",
          "",
          "",
          "",
          "",
          "",
          "",
          "",
          "",
          "",
          "",
          "",
          "",
          "",
          "",
          "",
          "",
          "",
          "",
          "",
          "",
          "",
          "",
          "",
          "",
          "",
          "",
          "",
          "",
          "",
          "",
          "",
          "",
          "",
          "",
          "",
          "",
          "",
          "",
          "",
          "",
          "",
          "",
          "",
          "",
          "",
          "",
          "",
          "",
          "",
          "",
          "",
          "",
          "",
          "",
          "",
          "",
          "",
          "",
          "",
          "",
          "",
          "",
          "",
          "",
          "",
          "",
          "",
          "",
          "",
          "",
          "",
          "",
          "",
          "",
          "",
          "",
          "",
          "",
          "",
          "",
          "",
          "",
          "",
          "",
          "",
          "",
          "",
          "",
          "",
          "",
          "",
          "",
          "",
          "",
          ""
         ],
         "type": "treemap",
         "values": [
          29,
          29,
          29,
          29,
          30,
          30,
          30,
          30,
          30,
          30,
          30,
          30,
          30,
          30,
          30,
          31,
          31,
          31,
          31,
          31,
          31,
          32,
          32,
          32,
          32,
          32,
          32,
          33,
          33,
          33,
          33,
          34,
          35,
          35,
          35,
          35,
          36,
          36,
          37,
          37,
          38,
          38,
          39,
          39,
          39,
          41,
          41,
          41,
          41,
          42,
          42,
          42,
          42,
          43,
          43,
          44,
          45,
          46,
          47,
          47,
          49,
          49,
          50,
          50,
          50,
          50,
          51,
          51,
          51,
          53,
          53,
          54,
          54,
          55,
          55,
          57,
          57,
          57,
          58,
          59,
          60,
          61,
          67,
          70,
          72,
          83,
          88,
          95,
          97,
          101,
          105,
          108,
          111,
          118,
          154,
          163,
          164,
          192,
          292,
          483,
          51,
          483,
          83,
          192,
          60,
          101,
          30,
          57,
          111,
          36,
          30,
          51,
          53,
          30,
          50,
          47,
          29,
          39,
          72,
          50,
          29,
          41,
          31,
          33,
          67,
          41,
          61,
          35,
          29,
          35,
          163,
          47,
          59,
          105,
          30,
          38,
          292,
          54,
          70,
          118,
          33,
          33,
          53,
          35,
          43,
          37,
          49,
          30,
          35,
          36,
          30,
          30,
          30,
          34,
          50,
          41,
          51,
          49,
          31,
          55,
          42,
          44,
          57,
          57,
          50,
          45,
          42,
          33,
          154,
          30,
          37,
          42,
          31,
          39,
          31,
          32,
          30,
          39,
          54,
          30,
          31,
          32,
          32,
          31,
          95,
          38,
          42,
          55,
          32,
          29,
          164,
          108,
          41,
          43,
          32,
          32,
          58,
          46,
          97,
          88
         ]
        }
       ],
       "layout": {
        "coloraxis": {
         "colorbar": {
          "title": {
           "text": "count"
          }
         },
         "colorscale": [
          [
           0,
           "rgb(230, 240, 240)"
          ],
          [
           0.09090909090909091,
           "rgb(191, 221, 229)"
          ],
          [
           0.18181818181818182,
           "rgb(156, 201, 226)"
          ],
          [
           0.2727272727272727,
           "rgb(129, 180, 227)"
          ],
          [
           0.36363636363636365,
           "rgb(115, 154, 228)"
          ],
          [
           0.45454545454545453,
           "rgb(117, 127, 221)"
          ],
          [
           0.5454545454545454,
           "rgb(120, 100, 202)"
          ],
          [
           0.6363636363636364,
           "rgb(119, 74, 175)"
          ],
          [
           0.7272727272727273,
           "rgb(113, 50, 141)"
          ],
          [
           0.8181818181818182,
           "rgb(100, 31, 104)"
          ],
          [
           0.9090909090909091,
           "rgb(80, 20, 66)"
          ],
          [
           1,
           "rgb(54, 14, 36)"
          ]
         ]
        },
        "height": 1000,
        "legend": {
         "tracegroupgap": 0
        },
        "template": {
         "data": {
          "bar": [
           {
            "error_x": {
             "color": "#2a3f5f"
            },
            "error_y": {
             "color": "#2a3f5f"
            },
            "marker": {
             "line": {
              "color": "#E5ECF6",
              "width": 0.5
             }
            },
            "type": "bar"
           }
          ],
          "barpolar": [
           {
            "marker": {
             "line": {
              "color": "#E5ECF6",
              "width": 0.5
             }
            },
            "type": "barpolar"
           }
          ],
          "carpet": [
           {
            "aaxis": {
             "endlinecolor": "#2a3f5f",
             "gridcolor": "white",
             "linecolor": "white",
             "minorgridcolor": "white",
             "startlinecolor": "#2a3f5f"
            },
            "baxis": {
             "endlinecolor": "#2a3f5f",
             "gridcolor": "white",
             "linecolor": "white",
             "minorgridcolor": "white",
             "startlinecolor": "#2a3f5f"
            },
            "type": "carpet"
           }
          ],
          "choropleth": [
           {
            "colorbar": {
             "outlinewidth": 0,
             "ticks": ""
            },
            "type": "choropleth"
           }
          ],
          "contour": [
           {
            "colorbar": {
             "outlinewidth": 0,
             "ticks": ""
            },
            "colorscale": [
             [
              0,
              "#0d0887"
             ],
             [
              0.1111111111111111,
              "#46039f"
             ],
             [
              0.2222222222222222,
              "#7201a8"
             ],
             [
              0.3333333333333333,
              "#9c179e"
             ],
             [
              0.4444444444444444,
              "#bd3786"
             ],
             [
              0.5555555555555556,
              "#d8576b"
             ],
             [
              0.6666666666666666,
              "#ed7953"
             ],
             [
              0.7777777777777778,
              "#fb9f3a"
             ],
             [
              0.8888888888888888,
              "#fdca26"
             ],
             [
              1,
              "#f0f921"
             ]
            ],
            "type": "contour"
           }
          ],
          "contourcarpet": [
           {
            "colorbar": {
             "outlinewidth": 0,
             "ticks": ""
            },
            "type": "contourcarpet"
           }
          ],
          "heatmap": [
           {
            "colorbar": {
             "outlinewidth": 0,
             "ticks": ""
            },
            "colorscale": [
             [
              0,
              "#0d0887"
             ],
             [
              0.1111111111111111,
              "#46039f"
             ],
             [
              0.2222222222222222,
              "#7201a8"
             ],
             [
              0.3333333333333333,
              "#9c179e"
             ],
             [
              0.4444444444444444,
              "#bd3786"
             ],
             [
              0.5555555555555556,
              "#d8576b"
             ],
             [
              0.6666666666666666,
              "#ed7953"
             ],
             [
              0.7777777777777778,
              "#fb9f3a"
             ],
             [
              0.8888888888888888,
              "#fdca26"
             ],
             [
              1,
              "#f0f921"
             ]
            ],
            "type": "heatmap"
           }
          ],
          "heatmapgl": [
           {
            "colorbar": {
             "outlinewidth": 0,
             "ticks": ""
            },
            "colorscale": [
             [
              0,
              "#0d0887"
             ],
             [
              0.1111111111111111,
              "#46039f"
             ],
             [
              0.2222222222222222,
              "#7201a8"
             ],
             [
              0.3333333333333333,
              "#9c179e"
             ],
             [
              0.4444444444444444,
              "#bd3786"
             ],
             [
              0.5555555555555556,
              "#d8576b"
             ],
             [
              0.6666666666666666,
              "#ed7953"
             ],
             [
              0.7777777777777778,
              "#fb9f3a"
             ],
             [
              0.8888888888888888,
              "#fdca26"
             ],
             [
              1,
              "#f0f921"
             ]
            ],
            "type": "heatmapgl"
           }
          ],
          "histogram": [
           {
            "marker": {
             "colorbar": {
              "outlinewidth": 0,
              "ticks": ""
             }
            },
            "type": "histogram"
           }
          ],
          "histogram2d": [
           {
            "colorbar": {
             "outlinewidth": 0,
             "ticks": ""
            },
            "colorscale": [
             [
              0,
              "#0d0887"
             ],
             [
              0.1111111111111111,
              "#46039f"
             ],
             [
              0.2222222222222222,
              "#7201a8"
             ],
             [
              0.3333333333333333,
              "#9c179e"
             ],
             [
              0.4444444444444444,
              "#bd3786"
             ],
             [
              0.5555555555555556,
              "#d8576b"
             ],
             [
              0.6666666666666666,
              "#ed7953"
             ],
             [
              0.7777777777777778,
              "#fb9f3a"
             ],
             [
              0.8888888888888888,
              "#fdca26"
             ],
             [
              1,
              "#f0f921"
             ]
            ],
            "type": "histogram2d"
           }
          ],
          "histogram2dcontour": [
           {
            "colorbar": {
             "outlinewidth": 0,
             "ticks": ""
            },
            "colorscale": [
             [
              0,
              "#0d0887"
             ],
             [
              0.1111111111111111,
              "#46039f"
             ],
             [
              0.2222222222222222,
              "#7201a8"
             ],
             [
              0.3333333333333333,
              "#9c179e"
             ],
             [
              0.4444444444444444,
              "#bd3786"
             ],
             [
              0.5555555555555556,
              "#d8576b"
             ],
             [
              0.6666666666666666,
              "#ed7953"
             ],
             [
              0.7777777777777778,
              "#fb9f3a"
             ],
             [
              0.8888888888888888,
              "#fdca26"
             ],
             [
              1,
              "#f0f921"
             ]
            ],
            "type": "histogram2dcontour"
           }
          ],
          "mesh3d": [
           {
            "colorbar": {
             "outlinewidth": 0,
             "ticks": ""
            },
            "type": "mesh3d"
           }
          ],
          "parcoords": [
           {
            "line": {
             "colorbar": {
              "outlinewidth": 0,
              "ticks": ""
             }
            },
            "type": "parcoords"
           }
          ],
          "pie": [
           {
            "automargin": true,
            "type": "pie"
           }
          ],
          "scatter": [
           {
            "marker": {
             "colorbar": {
              "outlinewidth": 0,
              "ticks": ""
             }
            },
            "type": "scatter"
           }
          ],
          "scatter3d": [
           {
            "line": {
             "colorbar": {
              "outlinewidth": 0,
              "ticks": ""
             }
            },
            "marker": {
             "colorbar": {
              "outlinewidth": 0,
              "ticks": ""
             }
            },
            "type": "scatter3d"
           }
          ],
          "scattercarpet": [
           {
            "marker": {
             "colorbar": {
              "outlinewidth": 0,
              "ticks": ""
             }
            },
            "type": "scattercarpet"
           }
          ],
          "scattergeo": [
           {
            "marker": {
             "colorbar": {
              "outlinewidth": 0,
              "ticks": ""
             }
            },
            "type": "scattergeo"
           }
          ],
          "scattergl": [
           {
            "marker": {
             "colorbar": {
              "outlinewidth": 0,
              "ticks": ""
             }
            },
            "type": "scattergl"
           }
          ],
          "scattermapbox": [
           {
            "marker": {
             "colorbar": {
              "outlinewidth": 0,
              "ticks": ""
             }
            },
            "type": "scattermapbox"
           }
          ],
          "scatterpolar": [
           {
            "marker": {
             "colorbar": {
              "outlinewidth": 0,
              "ticks": ""
             }
            },
            "type": "scatterpolar"
           }
          ],
          "scatterpolargl": [
           {
            "marker": {
             "colorbar": {
              "outlinewidth": 0,
              "ticks": ""
             }
            },
            "type": "scatterpolargl"
           }
          ],
          "scatterternary": [
           {
            "marker": {
             "colorbar": {
              "outlinewidth": 0,
              "ticks": ""
             }
            },
            "type": "scatterternary"
           }
          ],
          "surface": [
           {
            "colorbar": {
             "outlinewidth": 0,
             "ticks": ""
            },
            "colorscale": [
             [
              0,
              "#0d0887"
             ],
             [
              0.1111111111111111,
              "#46039f"
             ],
             [
              0.2222222222222222,
              "#7201a8"
             ],
             [
              0.3333333333333333,
              "#9c179e"
             ],
             [
              0.4444444444444444,
              "#bd3786"
             ],
             [
              0.5555555555555556,
              "#d8576b"
             ],
             [
              0.6666666666666666,
              "#ed7953"
             ],
             [
              0.7777777777777778,
              "#fb9f3a"
             ],
             [
              0.8888888888888888,
              "#fdca26"
             ],
             [
              1,
              "#f0f921"
             ]
            ],
            "type": "surface"
           }
          ],
          "table": [
           {
            "cells": {
             "fill": {
              "color": "#EBF0F8"
             },
             "line": {
              "color": "white"
             }
            },
            "header": {
             "fill": {
              "color": "#C8D4E3"
             },
             "line": {
              "color": "white"
             }
            },
            "type": "table"
           }
          ]
         },
         "layout": {
          "annotationdefaults": {
           "arrowcolor": "#2a3f5f",
           "arrowhead": 0,
           "arrowwidth": 1
          },
          "coloraxis": {
           "colorbar": {
            "outlinewidth": 0,
            "ticks": ""
           }
          },
          "colorscale": {
           "diverging": [
            [
             0,
             "#8e0152"
            ],
            [
             0.1,
             "#c51b7d"
            ],
            [
             0.2,
             "#de77ae"
            ],
            [
             0.3,
             "#f1b6da"
            ],
            [
             0.4,
             "#fde0ef"
            ],
            [
             0.5,
             "#f7f7f7"
            ],
            [
             0.6,
             "#e6f5d0"
            ],
            [
             0.7,
             "#b8e186"
            ],
            [
             0.8,
             "#7fbc41"
            ],
            [
             0.9,
             "#4d9221"
            ],
            [
             1,
             "#276419"
            ]
           ],
           "sequential": [
            [
             0,
             "#0d0887"
            ],
            [
             0.1111111111111111,
             "#46039f"
            ],
            [
             0.2222222222222222,
             "#7201a8"
            ],
            [
             0.3333333333333333,
             "#9c179e"
            ],
            [
             0.4444444444444444,
             "#bd3786"
            ],
            [
             0.5555555555555556,
             "#d8576b"
            ],
            [
             0.6666666666666666,
             "#ed7953"
            ],
            [
             0.7777777777777778,
             "#fb9f3a"
            ],
            [
             0.8888888888888888,
             "#fdca26"
            ],
            [
             1,
             "#f0f921"
            ]
           ],
           "sequentialminus": [
            [
             0,
             "#0d0887"
            ],
            [
             0.1111111111111111,
             "#46039f"
            ],
            [
             0.2222222222222222,
             "#7201a8"
            ],
            [
             0.3333333333333333,
             "#9c179e"
            ],
            [
             0.4444444444444444,
             "#bd3786"
            ],
            [
             0.5555555555555556,
             "#d8576b"
            ],
            [
             0.6666666666666666,
             "#ed7953"
            ],
            [
             0.7777777777777778,
             "#fb9f3a"
            ],
            [
             0.8888888888888888,
             "#fdca26"
            ],
            [
             1,
             "#f0f921"
            ]
           ]
          },
          "colorway": [
           "#636efa",
           "#EF553B",
           "#00cc96",
           "#ab63fa",
           "#FFA15A",
           "#19d3f3",
           "#FF6692",
           "#B6E880",
           "#FF97FF",
           "#FECB52"
          ],
          "font": {
           "color": "#2a3f5f"
          },
          "geo": {
           "bgcolor": "white",
           "lakecolor": "white",
           "landcolor": "#E5ECF6",
           "showlakes": true,
           "showland": true,
           "subunitcolor": "white"
          },
          "hoverlabel": {
           "align": "left"
          },
          "hovermode": "closest",
          "mapbox": {
           "style": "light"
          },
          "paper_bgcolor": "white",
          "plot_bgcolor": "#E5ECF6",
          "polar": {
           "angularaxis": {
            "gridcolor": "white",
            "linecolor": "white",
            "ticks": ""
           },
           "bgcolor": "#E5ECF6",
           "radialaxis": {
            "gridcolor": "white",
            "linecolor": "white",
            "ticks": ""
           }
          },
          "scene": {
           "xaxis": {
            "backgroundcolor": "#E5ECF6",
            "gridcolor": "white",
            "gridwidth": 2,
            "linecolor": "white",
            "showbackground": true,
            "ticks": "",
            "zerolinecolor": "white"
           },
           "yaxis": {
            "backgroundcolor": "#E5ECF6",
            "gridcolor": "white",
            "gridwidth": 2,
            "linecolor": "white",
            "showbackground": true,
            "ticks": "",
            "zerolinecolor": "white"
           },
           "zaxis": {
            "backgroundcolor": "#E5ECF6",
            "gridcolor": "white",
            "gridwidth": 2,
            "linecolor": "white",
            "showbackground": true,
            "ticks": "",
            "zerolinecolor": "white"
           }
          },
          "shapedefaults": {
           "line": {
            "color": "#2a3f5f"
           }
          },
          "ternary": {
           "aaxis": {
            "gridcolor": "white",
            "linecolor": "white",
            "ticks": ""
           },
           "baxis": {
            "gridcolor": "white",
            "linecolor": "white",
            "ticks": ""
           },
           "bgcolor": "#E5ECF6",
           "caxis": {
            "gridcolor": "white",
            "linecolor": "white",
            "ticks": ""
           }
          },
          "title": {
           "x": 0.05
          },
          "xaxis": {
           "automargin": true,
           "gridcolor": "white",
           "linecolor": "white",
           "ticks": "",
           "title": {
            "standoff": 15
           },
           "zerolinecolor": "white",
           "zerolinewidth": 2
          },
          "yaxis": {
           "automargin": true,
           "gridcolor": "white",
           "linecolor": "white",
           "ticks": "",
           "title": {
            "standoff": 15
           },
           "zerolinecolor": "white",
           "zerolinewidth": 2
          }
         }
        },
        "title": {
         "text": "Tree of Most Common Words in Narrative"
        },
        "width": 1200
       }
      }
     },
     "metadata": {}
    }
   ],
   "source": [
    "train['nar_list'] = train['Narrative'].apply(lambda x:str(x).split())\n",
    "train['nar_list'] = train['nar_list'].apply(lambda x:remove_stopword(x))\n",
    "nartop = Counter([item for sublist in train['nar_list'] for item in sublist])\n",
    "nar = pd.DataFrame(nartop.most_common(100))\n",
    "nar.columns = ['Common_words','count']\n",
    "\n",
    "fig = px.treemap(nar, \n",
    "                path = ['Common_words','count'], \n",
    "                values='count',\n",
    "                title='Tree of Most Common Words in Narrative',\n",
    "                color='count',\n",
    "                color_continuous_scale=\"dense\",\n",
    "                width=1200, height=1000)\n",
    "fig.show()"
   ]
  },
  {
   "cell_type": "code",
   "execution_count": 25,
   "metadata": {},
   "outputs": [
    {
     "output_type": "display_data",
     "data": {
      "application/vnd.plotly.v1+json": {
       "config": {
        "plotlyServerURL": "https://plot.ly"
       },
       "data": [
        {
         "branchvalues": "total",
         "customdata": [
          [
           2
          ],
          [
           2
          ],
          [
           2
          ],
          [
           2
          ],
          [
           2
          ],
          [
           3
          ],
          [
           3
          ],
          [
           3
          ],
          [
           3
          ],
          [
           3
          ],
          [
           3
          ],
          [
           3
          ],
          [
           3
          ],
          [
           3
          ],
          [
           3
          ],
          [
           3
          ],
          [
           3
          ],
          [
           3
          ],
          [
           3
          ],
          [
           3
          ],
          [
           3
          ],
          [
           3
          ],
          [
           3
          ],
          [
           3
          ],
          [
           3
          ],
          [
           3
          ],
          [
           3
          ],
          [
           3
          ],
          [
           3
          ],
          [
           3
          ],
          [
           3
          ],
          [
           3
          ],
          [
           3
          ],
          [
           3
          ],
          [
           3
          ],
          [
           3
          ],
          [
           3
          ],
          [
           3
          ],
          [
           3
          ],
          [
           3
          ],
          [
           3
          ],
          [
           3
          ],
          [
           3
          ],
          [
           3
          ],
          [
           3
          ],
          [
           3
          ],
          [
           3
          ],
          [
           3
          ],
          [
           3
          ],
          [
           3
          ],
          [
           3
          ],
          [
           3
          ],
          [
           3
          ],
          [
           3
          ],
          [
           3
          ],
          [
           3
          ],
          [
           3
          ],
          [
           3
          ],
          [
           3
          ],
          [
           3
          ],
          [
           3
          ],
          [
           3
          ],
          [
           3
          ],
          [
           3
          ],
          [
           3
          ],
          [
           3
          ],
          [
           3
          ],
          [
           3
          ],
          [
           3
          ],
          [
           3
          ],
          [
           3
          ],
          [
           4
          ],
          [
           4
          ],
          [
           4
          ],
          [
           4
          ],
          [
           4
          ],
          [
           4
          ],
          [
           4
          ],
          [
           4
          ],
          [
           4
          ],
          [
           4
          ],
          [
           4
          ],
          [
           4
          ],
          [
           4
          ],
          [
           4
          ],
          [
           4
          ],
          [
           4
          ],
          [
           4
          ],
          [
           4
          ],
          [
           4
          ],
          [
           4
          ],
          [
           4
          ],
          [
           4
          ],
          [
           4
          ],
          [
           4
          ],
          [
           4
          ],
          [
           4
          ],
          [
           4
          ],
          [
           4
          ],
          [
           4
          ],
          [
           4
          ],
          [
           4
          ],
          [
           5
          ],
          [
           5
          ],
          [
           5
          ],
          [
           5
          ],
          [
           5
          ],
          [
           5
          ],
          [
           5
          ],
          [
           5
          ],
          [
           5
          ],
          [
           5
          ],
          [
           5
          ],
          [
           5
          ],
          [
           5
          ],
          [
           5
          ],
          [
           5
          ],
          [
           5
          ],
          [
           5
          ],
          [
           5
          ],
          [
           5
          ],
          [
           5
          ],
          [
           5
          ],
          [
           5
          ],
          [
           5
          ],
          [
           5
          ],
          [
           5
          ],
          [
           5
          ],
          [
           5
          ],
          [
           5
          ],
          [
           6
          ],
          [
           6
          ],
          [
           6
          ],
          [
           6
          ],
          [
           6
          ],
          [
           6
          ],
          [
           6
          ],
          [
           6
          ],
          [
           6
          ],
          [
           6
          ],
          [
           6
          ],
          [
           6
          ],
          [
           6
          ],
          [
           6
          ],
          [
           6
          ],
          [
           6
          ],
          [
           6
          ],
          [
           6
          ],
          [
           6
          ],
          [
           7
          ],
          [
           7
          ],
          [
           7
          ],
          [
           7
          ],
          [
           7
          ],
          [
           7
          ],
          [
           7
          ],
          [
           8
          ],
          [
           8
          ],
          [
           8
          ],
          [
           9
          ],
          [
           9
          ],
          [
           9
          ],
          [
           9
          ],
          [
           9
          ],
          [
           9
          ],
          [
           9
          ],
          [
           9
          ],
          [
           10
          ],
          [
           10
          ],
          [
           10
          ],
          [
           11
          ],
          [
           12
          ],
          [
           12
          ],
          [
           12
          ],
          [
           12
          ],
          [
           12
          ],
          [
           12
          ],
          [
           12
          ],
          [
           12
          ],
          [
           13
          ],
          [
           14
          ],
          [
           14
          ],
          [
           17
          ],
          [
           18
          ],
          [
           21
          ],
          [
           23
          ],
          [
           24
          ],
          [
           27
          ],
          [
           27
          ],
          [
           28
          ],
          [
           31
          ],
          [
           39
          ],
          [
           45
          ],
          [
           47
          ],
          [
           48
          ],
          [
           60
          ],
          [
           62
          ],
          [
           89
          ],
          [
           112
          ],
          [
           132
          ],
          [
           5
          ],
          [
           3
          ],
          [
           6
          ],
          [
           8
          ],
          [
           8
          ],
          [
           3
          ],
          [
           3
          ],
          [
           62
          ],
          [
           27
          ],
          [
           48
          ],
          [
           3
          ],
          [
           5
          ],
          [
           27
          ],
          [
           3
          ],
          [
           3
          ],
          [
           6
          ],
          [
           3
          ],
          [
           12
          ],
          [
           3
          ],
          [
           4
          ],
          [
           14
          ],
          [
           9
          ],
          [
           9
          ],
          [
           4
          ],
          [
           3
          ],
          [
           2
          ],
          [
           3
          ],
          [
           5
          ],
          [
           3
          ],
          [
           5
          ],
          [
           3
          ],
          [
           4
          ],
          [
           28
          ],
          [
           3
          ],
          [
           3
          ],
          [
           11
          ],
          [
           4
          ],
          [
           5
          ],
          [
           4
          ],
          [
           4
          ],
          [
           12
          ],
          [
           6
          ],
          [
           3
          ],
          [
           3
          ],
          [
           4
          ],
          [
           5
          ],
          [
           9
          ],
          [
           5
          ],
          [
           24
          ],
          [
           5
          ],
          [
           39
          ],
          [
           8
          ],
          [
           3
          ],
          [
           4
          ],
          [
           3
          ],
          [
           4
          ],
          [
           5
          ],
          [
           4
          ],
          [
           4
          ],
          [
           3
          ],
          [
           5
          ],
          [
           7
          ],
          [
           7
          ],
          [
           45
          ],
          [
           4
          ],
          [
           6
          ],
          [
           5
          ],
          [
           3
          ],
          [
           3
          ],
          [
           4
          ],
          [
           3
          ],
          [
           12
          ],
          [
           3
          ],
          [
           4
          ],
          [
           4
          ],
          [
           12
          ],
          [
           17
          ],
          [
           6
          ],
          [
           31
          ],
          [
           4
          ],
          [
           6
          ],
          [
           5
          ],
          [
           21
          ],
          [
           10
          ],
          [
           3
          ],
          [
           3
          ],
          [
           3
          ],
          [
           12
          ],
          [
           6
          ],
          [
           3
          ],
          [
           3
          ],
          [
           6
          ],
          [
           6
          ],
          [
           4
          ],
          [
           3
          ],
          [
           7
          ],
          [
           6
          ],
          [
           5
          ],
          [
           2
          ],
          [
           5
          ],
          [
           3
          ],
          [
           5
          ],
          [
           3
          ],
          [
           9
          ],
          [
           6
          ],
          [
           12
          ],
          [
           5
          ],
          [
           3
          ],
          [
           4
          ],
          [
           4
          ],
          [
           6
          ],
          [
           7
          ],
          [
           7
          ],
          [
           9
          ],
          [
           3
          ],
          [
           3
          ],
          [
           12
          ],
          [
           3
          ],
          [
           6
          ],
          [
           4
          ],
          [
           2
          ],
          [
           3
          ],
          [
           3
          ],
          [
           4
          ],
          [
           6
          ],
          [
           3
          ],
          [
           7
          ],
          [
           23
          ],
          [
           13
          ],
          [
           4
          ],
          [
           60
          ],
          [
           5
          ],
          [
           5
          ],
          [
           4
          ],
          [
           3
          ],
          [
           2
          ],
          [
           5
          ],
          [
           3
          ],
          [
           3
          ],
          [
           89
          ],
          [
           3
          ],
          [
           4
          ],
          [
           5
          ],
          [
           12
          ],
          [
           3
          ],
          [
           6
          ],
          [
           3
          ],
          [
           4
          ],
          [
           3
          ],
          [
           3
          ],
          [
           3
          ],
          [
           6
          ],
          [
           3
          ],
          [
           5
          ],
          [
           112
          ],
          [
           3
          ],
          [
           18
          ],
          [
           3
          ],
          [
           5
          ],
          [
           6
          ],
          [
           4
          ],
          [
           3
          ],
          [
           2
          ],
          [
           3
          ],
          [
           6
          ],
          [
           3
          ],
          [
           3
          ],
          [
           3
          ],
          [
           5
          ],
          [
           3
          ],
          [
           4
          ],
          [
           3
          ],
          [
           3
          ],
          [
           3
          ],
          [
           4
          ],
          [
           3
          ],
          [
           5
          ],
          [
           5
          ],
          [
           9
          ],
          [
           3
          ],
          [
           3
          ],
          [
           7
          ],
          [
           3
          ],
          [
           47
          ],
          [
           132
          ],
          [
           3
          ],
          [
           9
          ],
          [
           3
          ],
          [
           9
          ],
          [
           4
          ],
          [
           5
          ],
          [
           4
          ],
          [
           3
          ],
          [
           10
          ],
          [
           5
          ],
          [
           5
          ],
          [
           14
          ],
          [
           10
          ],
          [
           4
          ],
          [
           6
          ]
         ],
         "domain": {
          "x": [
           0,
           1
          ],
          "y": [
           0,
           1
          ]
         },
         "hovertemplate": "labels=%{label}<br>count=%{color}<br>parent=%{parent}<br>id=%{id}<extra></extra>",
         "ids": [
          "beyond/2",
          "left/2",
          "non/2",
          "person/2",
          "results/2",
          "active/3",
          "air/3",
          "airborne/3",
          "alerted/3",
          "another/3",
          "apparently/3",
          "approximately/3",
          "around/3",
          "believing/3",
          "border/3",
          "canadian/3",
          "center/3",
          "cle/3",
          "clear/3",
          "communications/3",
          "complete/3",
          "controlling/3",
          "could/3",
          "descent/3",
          "entered/3",
          "error/3",
          "exited/3",
          "fact/3",
          "gear/3",
          "get/3",
          "government/3",
          "home/3",
          "ifr/3",
          "issued/3",
          "loa/3",
          "location/3",
          "made/3",
          "model/3",
          "moving/3",
          "night/3",
          "notam/3",
          "notified/3",
          "one/3",
          "permission/3",
          "phone/3",
          "photography/3",
          "plan/3",
          "pro/3",
          "proper/3",
          "questioned/3",
          "radar/3",
          "radio/3",
          "recovered/3",
          "reporter/3",
          "request/3",
          "resulted/3",
          "return/3",
          "separation/3",
          "shoot/3",
          "sight/3",
          "south/3",
          "specific/3",
          "state/3",
          "states/3",
          "takeoff/3",
          "track/3",
          "tracon/3",
          "turn/3",
          "uavs/3",
          "used/3",
          "violated/3",
          "assigned/4",
          "back/4",
          "certificate/4",
          "cleared/4",
          "climbed/4",
          "close/4",
          "conducted/4",
          "corrected/4",
          "crashed/4",
          "departure/4",
          "descending/4",
          "drones/4",
          "evasive/4",
          "failed/4",
          "failure/4",
          "flights/4",
          "instructions/4",
          "maintain/4",
          "manager/4",
          "nmac/4",
          "observed/4",
          "operations/4",
          "pattern/4",
          "possible/4",
          "qualified/4",
          "restricted/4",
          "special/4",
          "station/4",
          "via/4",
          "video/4",
          "zla/4",
          "action/5",
          "allowed/5",
          "c/5",
          "causing/5",
          "climb/5",
          "conducting/5",
          "contact/5",
          "controlled/5",
          "crew/5",
          "deviation/5",
          "enforcement/5",
          "fly/5",
          "law/5",
          "link/5",
          "local/5",
          "low/5",
          "outside/5",
          "part/5",
          "phantom/5",
          "prior/5",
          "remote/5",
          "requested/5",
          "small/5",
          "tfr/5",
          "time/5",
          "vicinity/5",
          "waiver/5",
          "weather/5",
          "advised/6",
          "approach/6",
          "communication/6",
          "due/6",
          "flew/6",
          "flown/6",
          "helicopter/6",
          "inadvertently/6",
          "information/6",
          "later/6",
          "loss/6",
          "may/6",
          "nm/6",
          "observer/6",
          "procedures/6",
          "realized/6",
          "required/6",
          "runway/6",
          "zmp/6",
          "discovered/7",
          "dji/7",
          "landing/7",
          "miles/7",
          "military/7",
          "operated/7",
          "traffic/7",
          "aerial/8",
          "agl/8",
          "controllers/8",
          "authorization/9",
          "b/9",
          "conflict/9",
          "losing/9",
          "mission/9",
          "tower/9",
          "unmanned/9",
          "vehicle/9",
          "ft/10",
          "violation/10",
          "without/10",
          "clearance/11",
          "area/12",
          "commercial/12",
          "faa/12",
          "far/12",
          "ground/12",
          "lost/12",
          "near/12",
          "private/12",
          "operation/13",
          "atc/14",
          "within/14",
          "feet/17",
          "reports/18",
          "flying/21",
          "operating/23",
          "control/24",
          "airport/27",
          "altitude/27",
          "class/28",
          "flight/31",
          "controller/39",
          "drone/45",
          "uas/47",
          "airspace/48",
          "operator/60",
          "aircraft/62",
          "pilot/89",
          "reported/112",
          "uav/132",
          "action",
          "active",
          "advised",
          "aerial",
          "agl",
          "air",
          "airborne",
          "aircraft",
          "airport",
          "airspace",
          "alerted",
          "allowed",
          "altitude",
          "another",
          "apparently",
          "approach",
          "approximately",
          "area",
          "around",
          "assigned",
          "atc",
          "authorization",
          "b",
          "back",
          "believing",
          "beyond",
          "border",
          "c",
          "canadian",
          "causing",
          "center",
          "certificate",
          "class",
          "cle",
          "clear",
          "clearance",
          "cleared",
          "climb",
          "climbed",
          "close",
          "commercial",
          "communication",
          "communications",
          "complete",
          "conducted",
          "conducting",
          "conflict",
          "contact",
          "control",
          "controlled",
          "controller",
          "controllers",
          "controlling",
          "corrected",
          "could",
          "crashed",
          "crew",
          "departure",
          "descending",
          "descent",
          "deviation",
          "discovered",
          "dji",
          "drone",
          "drones",
          "due",
          "enforcement",
          "entered",
          "error",
          "evasive",
          "exited",
          "faa",
          "fact",
          "failed",
          "failure",
          "far",
          "feet",
          "flew",
          "flight",
          "flights",
          "flown",
          "fly",
          "flying",
          "ft",
          "gear",
          "get",
          "government",
          "ground",
          "helicopter",
          "home",
          "ifr",
          "inadvertently",
          "information",
          "instructions",
          "issued",
          "landing",
          "later",
          "law",
          "left",
          "link",
          "loa",
          "local",
          "location",
          "losing",
          "loss",
          "lost",
          "low",
          "made",
          "maintain",
          "manager",
          "may",
          "miles",
          "military",
          "mission",
          "model",
          "moving",
          "near",
          "night",
          "nm",
          "nmac",
          "non",
          "notam",
          "notified",
          "observed",
          "observer",
          "one",
          "operated",
          "operating",
          "operation",
          "operations",
          "operator",
          "outside",
          "part",
          "pattern",
          "permission",
          "person",
          "phantom",
          "phone",
          "photography",
          "pilot",
          "plan",
          "possible",
          "prior",
          "private",
          "pro",
          "procedures",
          "proper",
          "qualified",
          "questioned",
          "radar",
          "radio",
          "realized",
          "recovered",
          "remote",
          "reported",
          "reporter",
          "reports",
          "request",
          "requested",
          "required",
          "restricted",
          "resulted",
          "results",
          "return",
          "runway",
          "separation",
          "shoot",
          "sight",
          "small",
          "south",
          "special",
          "specific",
          "state",
          "states",
          "station",
          "takeoff",
          "tfr",
          "time",
          "tower",
          "track",
          "tracon",
          "traffic",
          "turn",
          "uas",
          "uav",
          "uavs",
          "unmanned",
          "used",
          "vehicle",
          "via",
          "vicinity",
          "video",
          "violated",
          "violation",
          "waiver",
          "weather",
          "within",
          "without",
          "zla",
          "zmp"
         ],
         "labels": [
          "2",
          "2",
          "2",
          "2",
          "2",
          "3",
          "3",
          "3",
          "3",
          "3",
          "3",
          "3",
          "3",
          "3",
          "3",
          "3",
          "3",
          "3",
          "3",
          "3",
          "3",
          "3",
          "3",
          "3",
          "3",
          "3",
          "3",
          "3",
          "3",
          "3",
          "3",
          "3",
          "3",
          "3",
          "3",
          "3",
          "3",
          "3",
          "3",
          "3",
          "3",
          "3",
          "3",
          "3",
          "3",
          "3",
          "3",
          "3",
          "3",
          "3",
          "3",
          "3",
          "3",
          "3",
          "3",
          "3",
          "3",
          "3",
          "3",
          "3",
          "3",
          "3",
          "3",
          "3",
          "3",
          "3",
          "3",
          "3",
          "3",
          "3",
          "3",
          "4",
          "4",
          "4",
          "4",
          "4",
          "4",
          "4",
          "4",
          "4",
          "4",
          "4",
          "4",
          "4",
          "4",
          "4",
          "4",
          "4",
          "4",
          "4",
          "4",
          "4",
          "4",
          "4",
          "4",
          "4",
          "4",
          "4",
          "4",
          "4",
          "4",
          "4",
          "5",
          "5",
          "5",
          "5",
          "5",
          "5",
          "5",
          "5",
          "5",
          "5",
          "5",
          "5",
          "5",
          "5",
          "5",
          "5",
          "5",
          "5",
          "5",
          "5",
          "5",
          "5",
          "5",
          "5",
          "5",
          "5",
          "5",
          "5",
          "6",
          "6",
          "6",
          "6",
          "6",
          "6",
          "6",
          "6",
          "6",
          "6",
          "6",
          "6",
          "6",
          "6",
          "6",
          "6",
          "6",
          "6",
          "6",
          "7",
          "7",
          "7",
          "7",
          "7",
          "7",
          "7",
          "8",
          "8",
          "8",
          "9",
          "9",
          "9",
          "9",
          "9",
          "9",
          "9",
          "9",
          "10",
          "10",
          "10",
          "11",
          "12",
          "12",
          "12",
          "12",
          "12",
          "12",
          "12",
          "12",
          "13",
          "14",
          "14",
          "17",
          "18",
          "21",
          "23",
          "24",
          "27",
          "27",
          "28",
          "31",
          "39",
          "45",
          "47",
          "48",
          "60",
          "62",
          "89",
          "112",
          "132",
          "action",
          "active",
          "advised",
          "aerial",
          "agl",
          "air",
          "airborne",
          "aircraft",
          "airport",
          "airspace",
          "alerted",
          "allowed",
          "altitude",
          "another",
          "apparently",
          "approach",
          "approximately",
          "area",
          "around",
          "assigned",
          "atc",
          "authorization",
          "b",
          "back",
          "believing",
          "beyond",
          "border",
          "c",
          "canadian",
          "causing",
          "center",
          "certificate",
          "class",
          "cle",
          "clear",
          "clearance",
          "cleared",
          "climb",
          "climbed",
          "close",
          "commercial",
          "communication",
          "communications",
          "complete",
          "conducted",
          "conducting",
          "conflict",
          "contact",
          "control",
          "controlled",
          "controller",
          "controllers",
          "controlling",
          "corrected",
          "could",
          "crashed",
          "crew",
          "departure",
          "descending",
          "descent",
          "deviation",
          "discovered",
          "dji",
          "drone",
          "drones",
          "due",
          "enforcement",
          "entered",
          "error",
          "evasive",
          "exited",
          "faa",
          "fact",
          "failed",
          "failure",
          "far",
          "feet",
          "flew",
          "flight",
          "flights",
          "flown",
          "fly",
          "flying",
          "ft",
          "gear",
          "get",
          "government",
          "ground",
          "helicopter",
          "home",
          "ifr",
          "inadvertently",
          "information",
          "instructions",
          "issued",
          "landing",
          "later",
          "law",
          "left",
          "link",
          "loa",
          "local",
          "location",
          "losing",
          "loss",
          "lost",
          "low",
          "made",
          "maintain",
          "manager",
          "may",
          "miles",
          "military",
          "mission",
          "model",
          "moving",
          "near",
          "night",
          "nm",
          "nmac",
          "non",
          "notam",
          "notified",
          "observed",
          "observer",
          "one",
          "operated",
          "operating",
          "operation",
          "operations",
          "operator",
          "outside",
          "part",
          "pattern",
          "permission",
          "person",
          "phantom",
          "phone",
          "photography",
          "pilot",
          "plan",
          "possible",
          "prior",
          "private",
          "pro",
          "procedures",
          "proper",
          "qualified",
          "questioned",
          "radar",
          "radio",
          "realized",
          "recovered",
          "remote",
          "reported",
          "reporter",
          "reports",
          "request",
          "requested",
          "required",
          "restricted",
          "resulted",
          "results",
          "return",
          "runway",
          "separation",
          "shoot",
          "sight",
          "small",
          "south",
          "special",
          "specific",
          "state",
          "states",
          "station",
          "takeoff",
          "tfr",
          "time",
          "tower",
          "track",
          "tracon",
          "traffic",
          "turn",
          "uas",
          "uav",
          "uavs",
          "unmanned",
          "used",
          "vehicle",
          "via",
          "vicinity",
          "video",
          "violated",
          "violation",
          "waiver",
          "weather",
          "within",
          "without",
          "zla",
          "zmp"
         ],
         "marker": {
          "coloraxis": "coloraxis",
          "colors": [
           2,
           2,
           2,
           2,
           2,
           3,
           3,
           3,
           3,
           3,
           3,
           3,
           3,
           3,
           3,
           3,
           3,
           3,
           3,
           3,
           3,
           3,
           3,
           3,
           3,
           3,
           3,
           3,
           3,
           3,
           3,
           3,
           3,
           3,
           3,
           3,
           3,
           3,
           3,
           3,
           3,
           3,
           3,
           3,
           3,
           3,
           3,
           3,
           3,
           3,
           3,
           3,
           3,
           3,
           3,
           3,
           3,
           3,
           3,
           3,
           3,
           3,
           3,
           3,
           3,
           3,
           3,
           3,
           3,
           3,
           3,
           4,
           4,
           4,
           4,
           4,
           4,
           4,
           4,
           4,
           4,
           4,
           4,
           4,
           4,
           4,
           4,
           4,
           4,
           4,
           4,
           4,
           4,
           4,
           4,
           4,
           4,
           4,
           4,
           4,
           4,
           4,
           5,
           5,
           5,
           5,
           5,
           5,
           5,
           5,
           5,
           5,
           5,
           5,
           5,
           5,
           5,
           5,
           5,
           5,
           5,
           5,
           5,
           5,
           5,
           5,
           5,
           5,
           5,
           5,
           6,
           6,
           6,
           6,
           6,
           6,
           6,
           6,
           6,
           6,
           6,
           6,
           6,
           6,
           6,
           6,
           6,
           6,
           6,
           7,
           7,
           7,
           7,
           7,
           7,
           7,
           8,
           8,
           8,
           9,
           9,
           9,
           9,
           9,
           9,
           9,
           9,
           10,
           10,
           10,
           11,
           12,
           12,
           12,
           12,
           12,
           12,
           12,
           12,
           13,
           14,
           14,
           17,
           18,
           21,
           23,
           24,
           27,
           27,
           28,
           31,
           39,
           45,
           47,
           48,
           60,
           62,
           89,
           112,
           132,
           5,
           3,
           6,
           8,
           8,
           3,
           3,
           62,
           27,
           48,
           3,
           5,
           27,
           3,
           3,
           6,
           3,
           12,
           3,
           4,
           14,
           9,
           9,
           4,
           3,
           2,
           3,
           5,
           3,
           5,
           3,
           4,
           28,
           3,
           3,
           11,
           4,
           5,
           4,
           4,
           12,
           6,
           3,
           3,
           4,
           5,
           9,
           5,
           24,
           5,
           39,
           8,
           3,
           4,
           3,
           4,
           5,
           4,
           4,
           3,
           5,
           7,
           7,
           45,
           4,
           6,
           5,
           3,
           3,
           4,
           3,
           12,
           3,
           4,
           4,
           12,
           17,
           6,
           31,
           4,
           6,
           5,
           21,
           10,
           3,
           3,
           3,
           12,
           6,
           3,
           3,
           6,
           6,
           4,
           3,
           7,
           6,
           5,
           2,
           5,
           3,
           5,
           3,
           9,
           6,
           12,
           5,
           3,
           4,
           4,
           6,
           7,
           7,
           9,
           3,
           3,
           12,
           3,
           6,
           4,
           2,
           3,
           3,
           4,
           6,
           3,
           7,
           23,
           13,
           4,
           60,
           5,
           5,
           4,
           3,
           2,
           5,
           3,
           3,
           89,
           3,
           4,
           5,
           12,
           3,
           6,
           3,
           4,
           3,
           3,
           3,
           6,
           3,
           5,
           112,
           3,
           18,
           3,
           5,
           6,
           4,
           3,
           2,
           3,
           6,
           3,
           3,
           3,
           5,
           3,
           4,
           3,
           3,
           3,
           4,
           3,
           5,
           5,
           9,
           3,
           3,
           7,
           3,
           47,
           132,
           3,
           9,
           3,
           9,
           4,
           5,
           4,
           3,
           10,
           5,
           5,
           14,
           10,
           4,
           6
          ]
         },
         "name": "",
         "parents": [
          "beyond",
          "left",
          "non",
          "person",
          "results",
          "active",
          "air",
          "airborne",
          "alerted",
          "another",
          "apparently",
          "approximately",
          "around",
          "believing",
          "border",
          "canadian",
          "center",
          "cle",
          "clear",
          "communications",
          "complete",
          "controlling",
          "could",
          "descent",
          "entered",
          "error",
          "exited",
          "fact",
          "gear",
          "get",
          "government",
          "home",
          "ifr",
          "issued",
          "loa",
          "location",
          "made",
          "model",
          "moving",
          "night",
          "notam",
          "notified",
          "one",
          "permission",
          "phone",
          "photography",
          "plan",
          "pro",
          "proper",
          "questioned",
          "radar",
          "radio",
          "recovered",
          "reporter",
          "request",
          "resulted",
          "return",
          "separation",
          "shoot",
          "sight",
          "south",
          "specific",
          "state",
          "states",
          "takeoff",
          "track",
          "tracon",
          "turn",
          "uavs",
          "used",
          "violated",
          "assigned",
          "back",
          "certificate",
          "cleared",
          "climbed",
          "close",
          "conducted",
          "corrected",
          "crashed",
          "departure",
          "descending",
          "drones",
          "evasive",
          "failed",
          "failure",
          "flights",
          "instructions",
          "maintain",
          "manager",
          "nmac",
          "observed",
          "operations",
          "pattern",
          "possible",
          "qualified",
          "restricted",
          "special",
          "station",
          "via",
          "video",
          "zla",
          "action",
          "allowed",
          "c",
          "causing",
          "climb",
          "conducting",
          "contact",
          "controlled",
          "crew",
          "deviation",
          "enforcement",
          "fly",
          "law",
          "link",
          "local",
          "low",
          "outside",
          "part",
          "phantom",
          "prior",
          "remote",
          "requested",
          "small",
          "tfr",
          "time",
          "vicinity",
          "waiver",
          "weather",
          "advised",
          "approach",
          "communication",
          "due",
          "flew",
          "flown",
          "helicopter",
          "inadvertently",
          "information",
          "later",
          "loss",
          "may",
          "nm",
          "observer",
          "procedures",
          "realized",
          "required",
          "runway",
          "zmp",
          "discovered",
          "dji",
          "landing",
          "miles",
          "military",
          "operated",
          "traffic",
          "aerial",
          "agl",
          "controllers",
          "authorization",
          "b",
          "conflict",
          "losing",
          "mission",
          "tower",
          "unmanned",
          "vehicle",
          "ft",
          "violation",
          "without",
          "clearance",
          "area",
          "commercial",
          "faa",
          "far",
          "ground",
          "lost",
          "near",
          "private",
          "operation",
          "atc",
          "within",
          "feet",
          "reports",
          "flying",
          "operating",
          "control",
          "airport",
          "altitude",
          "class",
          "flight",
          "controller",
          "drone",
          "uas",
          "airspace",
          "operator",
          "aircraft",
          "pilot",
          "reported",
          "uav",
          "",
          "",
          "",
          "",
          "",
          "",
          "",
          "",
          "",
          "",
          "",
          "",
          "",
          "",
          "",
          "",
          "",
          "",
          "",
          "",
          "",
          "",
          "",
          "",
          "",
          "",
          "",
          "",
          "",
          "",
          "",
          "",
          "",
          "",
          "",
          "",
          "",
          "",
          "",
          "",
          "",
          "",
          "",
          "",
          "",
          "",
          "",
          "",
          "",
          "",
          "",
          "",
          "",
          "",
          "",
          "",
          "",
          "",
          "",
          "",
          "",
          "",
          "",
          "",
          "",
          "",
          "",
          "",
          "",
          "",
          "",
          "",
          "",
          "",
          "",
          "",
          "",
          "",
          "",
          "",
          "",
          "",
          "",
          "",
          "",
          "",
          "",
          "",
          "",
          "",
          "",
          "",
          "",
          "",
          "",
          "",
          "",
          "",
          "",
          "",
          "",
          "",
          "",
          "",
          "",
          "",
          "",
          "",
          "",
          "",
          "",
          "",
          "",
          "",
          "",
          "",
          "",
          "",
          "",
          "",
          "",
          "",
          "",
          "",
          "",
          "",
          "",
          "",
          "",
          "",
          "",
          "",
          "",
          "",
          "",
          "",
          "",
          "",
          "",
          "",
          "",
          "",
          "",
          "",
          "",
          "",
          "",
          "",
          "",
          "",
          "",
          "",
          "",
          "",
          "",
          "",
          "",
          "",
          "",
          "",
          "",
          "",
          "",
          "",
          "",
          "",
          "",
          "",
          "",
          "",
          "",
          "",
          "",
          "",
          "",
          "",
          "",
          "",
          "",
          "",
          "",
          "",
          "",
          "",
          "",
          "",
          "",
          "",
          "",
          "",
          "",
          "",
          "",
          "",
          "",
          "",
          "",
          "",
          "",
          ""
         ],
         "type": "treemap",
         "values": [
          2,
          2,
          2,
          2,
          2,
          3,
          3,
          3,
          3,
          3,
          3,
          3,
          3,
          3,
          3,
          3,
          3,
          3,
          3,
          3,
          3,
          3,
          3,
          3,
          3,
          3,
          3,
          3,
          3,
          3,
          3,
          3,
          3,
          3,
          3,
          3,
          3,
          3,
          3,
          3,
          3,
          3,
          3,
          3,
          3,
          3,
          3,
          3,
          3,
          3,
          3,
          3,
          3,
          3,
          3,
          3,
          3,
          3,
          3,
          3,
          3,
          3,
          3,
          3,
          3,
          3,
          3,
          3,
          3,
          3,
          3,
          4,
          4,
          4,
          4,
          4,
          4,
          4,
          4,
          4,
          4,
          4,
          4,
          4,
          4,
          4,
          4,
          4,
          4,
          4,
          4,
          4,
          4,
          4,
          4,
          4,
          4,
          4,
          4,
          4,
          4,
          4,
          5,
          5,
          5,
          5,
          5,
          5,
          5,
          5,
          5,
          5,
          5,
          5,
          5,
          5,
          5,
          5,
          5,
          5,
          5,
          5,
          5,
          5,
          5,
          5,
          5,
          5,
          5,
          5,
          6,
          6,
          6,
          6,
          6,
          6,
          6,
          6,
          6,
          6,
          6,
          6,
          6,
          6,
          6,
          6,
          6,
          6,
          6,
          7,
          7,
          7,
          7,
          7,
          7,
          7,
          8,
          8,
          8,
          9,
          9,
          9,
          9,
          9,
          9,
          9,
          9,
          10,
          10,
          10,
          11,
          12,
          12,
          12,
          12,
          12,
          12,
          12,
          12,
          13,
          14,
          14,
          17,
          18,
          21,
          23,
          24,
          27,
          27,
          28,
          31,
          39,
          45,
          47,
          48,
          60,
          62,
          89,
          112,
          132,
          5,
          3,
          6,
          8,
          8,
          3,
          3,
          62,
          27,
          48,
          3,
          5,
          27,
          3,
          3,
          6,
          3,
          12,
          3,
          4,
          14,
          9,
          9,
          4,
          3,
          2,
          3,
          5,
          3,
          5,
          3,
          4,
          28,
          3,
          3,
          11,
          4,
          5,
          4,
          4,
          12,
          6,
          3,
          3,
          4,
          5,
          9,
          5,
          24,
          5,
          39,
          8,
          3,
          4,
          3,
          4,
          5,
          4,
          4,
          3,
          5,
          7,
          7,
          45,
          4,
          6,
          5,
          3,
          3,
          4,
          3,
          12,
          3,
          4,
          4,
          12,
          17,
          6,
          31,
          4,
          6,
          5,
          21,
          10,
          3,
          3,
          3,
          12,
          6,
          3,
          3,
          6,
          6,
          4,
          3,
          7,
          6,
          5,
          2,
          5,
          3,
          5,
          3,
          9,
          6,
          12,
          5,
          3,
          4,
          4,
          6,
          7,
          7,
          9,
          3,
          3,
          12,
          3,
          6,
          4,
          2,
          3,
          3,
          4,
          6,
          3,
          7,
          23,
          13,
          4,
          60,
          5,
          5,
          4,
          3,
          2,
          5,
          3,
          3,
          89,
          3,
          4,
          5,
          12,
          3,
          6,
          3,
          4,
          3,
          3,
          3,
          6,
          3,
          5,
          112,
          3,
          18,
          3,
          5,
          6,
          4,
          3,
          2,
          3,
          6,
          3,
          3,
          3,
          5,
          3,
          4,
          3,
          3,
          3,
          4,
          3,
          5,
          5,
          9,
          3,
          3,
          7,
          3,
          47,
          132,
          3,
          9,
          3,
          9,
          4,
          5,
          4,
          3,
          10,
          5,
          5,
          14,
          10,
          4,
          6
         ]
        }
       ],
       "layout": {
        "coloraxis": {
         "colorbar": {
          "title": {
           "text": "count"
          }
         },
         "colorscale": [
          [
           0,
           "rgb(3, 35, 51)"
          ],
          [
           0.09090909090909091,
           "rgb(13, 48, 100)"
          ],
          [
           0.18181818181818182,
           "rgb(53, 50, 155)"
          ],
          [
           0.2727272727272727,
           "rgb(93, 62, 153)"
          ],
          [
           0.36363636363636365,
           "rgb(126, 77, 143)"
          ],
          [
           0.45454545454545453,
           "rgb(158, 89, 135)"
          ],
          [
           0.5454545454545454,
           "rgb(193, 100, 121)"
          ],
          [
           0.6363636363636364,
           "rgb(225, 113, 97)"
          ],
          [
           0.7272727272727273,
           "rgb(246, 139, 69)"
          ],
          [
           0.8181818181818182,
           "rgb(251, 173, 60)"
          ],
          [
           0.9090909090909091,
           "rgb(246, 211, 70)"
          ],
          [
           1,
           "rgb(231, 250, 90)"
          ]
         ]
        },
        "height": 1000,
        "legend": {
         "tracegroupgap": 0
        },
        "template": {
         "data": {
          "bar": [
           {
            "error_x": {
             "color": "#2a3f5f"
            },
            "error_y": {
             "color": "#2a3f5f"
            },
            "marker": {
             "line": {
              "color": "#E5ECF6",
              "width": 0.5
             }
            },
            "type": "bar"
           }
          ],
          "barpolar": [
           {
            "marker": {
             "line": {
              "color": "#E5ECF6",
              "width": 0.5
             }
            },
            "type": "barpolar"
           }
          ],
          "carpet": [
           {
            "aaxis": {
             "endlinecolor": "#2a3f5f",
             "gridcolor": "white",
             "linecolor": "white",
             "minorgridcolor": "white",
             "startlinecolor": "#2a3f5f"
            },
            "baxis": {
             "endlinecolor": "#2a3f5f",
             "gridcolor": "white",
             "linecolor": "white",
             "minorgridcolor": "white",
             "startlinecolor": "#2a3f5f"
            },
            "type": "carpet"
           }
          ],
          "choropleth": [
           {
            "colorbar": {
             "outlinewidth": 0,
             "ticks": ""
            },
            "type": "choropleth"
           }
          ],
          "contour": [
           {
            "colorbar": {
             "outlinewidth": 0,
             "ticks": ""
            },
            "colorscale": [
             [
              0,
              "#0d0887"
             ],
             [
              0.1111111111111111,
              "#46039f"
             ],
             [
              0.2222222222222222,
              "#7201a8"
             ],
             [
              0.3333333333333333,
              "#9c179e"
             ],
             [
              0.4444444444444444,
              "#bd3786"
             ],
             [
              0.5555555555555556,
              "#d8576b"
             ],
             [
              0.6666666666666666,
              "#ed7953"
             ],
             [
              0.7777777777777778,
              "#fb9f3a"
             ],
             [
              0.8888888888888888,
              "#fdca26"
             ],
             [
              1,
              "#f0f921"
             ]
            ],
            "type": "contour"
           }
          ],
          "contourcarpet": [
           {
            "colorbar": {
             "outlinewidth": 0,
             "ticks": ""
            },
            "type": "contourcarpet"
           }
          ],
          "heatmap": [
           {
            "colorbar": {
             "outlinewidth": 0,
             "ticks": ""
            },
            "colorscale": [
             [
              0,
              "#0d0887"
             ],
             [
              0.1111111111111111,
              "#46039f"
             ],
             [
              0.2222222222222222,
              "#7201a8"
             ],
             [
              0.3333333333333333,
              "#9c179e"
             ],
             [
              0.4444444444444444,
              "#bd3786"
             ],
             [
              0.5555555555555556,
              "#d8576b"
             ],
             [
              0.6666666666666666,
              "#ed7953"
             ],
             [
              0.7777777777777778,
              "#fb9f3a"
             ],
             [
              0.8888888888888888,
              "#fdca26"
             ],
             [
              1,
              "#f0f921"
             ]
            ],
            "type": "heatmap"
           }
          ],
          "heatmapgl": [
           {
            "colorbar": {
             "outlinewidth": 0,
             "ticks": ""
            },
            "colorscale": [
             [
              0,
              "#0d0887"
             ],
             [
              0.1111111111111111,
              "#46039f"
             ],
             [
              0.2222222222222222,
              "#7201a8"
             ],
             [
              0.3333333333333333,
              "#9c179e"
             ],
             [
              0.4444444444444444,
              "#bd3786"
             ],
             [
              0.5555555555555556,
              "#d8576b"
             ],
             [
              0.6666666666666666,
              "#ed7953"
             ],
             [
              0.7777777777777778,
              "#fb9f3a"
             ],
             [
              0.8888888888888888,
              "#fdca26"
             ],
             [
              1,
              "#f0f921"
             ]
            ],
            "type": "heatmapgl"
           }
          ],
          "histogram": [
           {
            "marker": {
             "colorbar": {
              "outlinewidth": 0,
              "ticks": ""
             }
            },
            "type": "histogram"
           }
          ],
          "histogram2d": [
           {
            "colorbar": {
             "outlinewidth": 0,
             "ticks": ""
            },
            "colorscale": [
             [
              0,
              "#0d0887"
             ],
             [
              0.1111111111111111,
              "#46039f"
             ],
             [
              0.2222222222222222,
              "#7201a8"
             ],
             [
              0.3333333333333333,
              "#9c179e"
             ],
             [
              0.4444444444444444,
              "#bd3786"
             ],
             [
              0.5555555555555556,
              "#d8576b"
             ],
             [
              0.6666666666666666,
              "#ed7953"
             ],
             [
              0.7777777777777778,
              "#fb9f3a"
             ],
             [
              0.8888888888888888,
              "#fdca26"
             ],
             [
              1,
              "#f0f921"
             ]
            ],
            "type": "histogram2d"
           }
          ],
          "histogram2dcontour": [
           {
            "colorbar": {
             "outlinewidth": 0,
             "ticks": ""
            },
            "colorscale": [
             [
              0,
              "#0d0887"
             ],
             [
              0.1111111111111111,
              "#46039f"
             ],
             [
              0.2222222222222222,
              "#7201a8"
             ],
             [
              0.3333333333333333,
              "#9c179e"
             ],
             [
              0.4444444444444444,
              "#bd3786"
             ],
             [
              0.5555555555555556,
              "#d8576b"
             ],
             [
              0.6666666666666666,
              "#ed7953"
             ],
             [
              0.7777777777777778,
              "#fb9f3a"
             ],
             [
              0.8888888888888888,
              "#fdca26"
             ],
             [
              1,
              "#f0f921"
             ]
            ],
            "type": "histogram2dcontour"
           }
          ],
          "mesh3d": [
           {
            "colorbar": {
             "outlinewidth": 0,
             "ticks": ""
            },
            "type": "mesh3d"
           }
          ],
          "parcoords": [
           {
            "line": {
             "colorbar": {
              "outlinewidth": 0,
              "ticks": ""
             }
            },
            "type": "parcoords"
           }
          ],
          "pie": [
           {
            "automargin": true,
            "type": "pie"
           }
          ],
          "scatter": [
           {
            "marker": {
             "colorbar": {
              "outlinewidth": 0,
              "ticks": ""
             }
            },
            "type": "scatter"
           }
          ],
          "scatter3d": [
           {
            "line": {
             "colorbar": {
              "outlinewidth": 0,
              "ticks": ""
             }
            },
            "marker": {
             "colorbar": {
              "outlinewidth": 0,
              "ticks": ""
             }
            },
            "type": "scatter3d"
           }
          ],
          "scattercarpet": [
           {
            "marker": {
             "colorbar": {
              "outlinewidth": 0,
              "ticks": ""
             }
            },
            "type": "scattercarpet"
           }
          ],
          "scattergeo": [
           {
            "marker": {
             "colorbar": {
              "outlinewidth": 0,
              "ticks": ""
             }
            },
            "type": "scattergeo"
           }
          ],
          "scattergl": [
           {
            "marker": {
             "colorbar": {
              "outlinewidth": 0,
              "ticks": ""
             }
            },
            "type": "scattergl"
           }
          ],
          "scattermapbox": [
           {
            "marker": {
             "colorbar": {
              "outlinewidth": 0,
              "ticks": ""
             }
            },
            "type": "scattermapbox"
           }
          ],
          "scatterpolar": [
           {
            "marker": {
             "colorbar": {
              "outlinewidth": 0,
              "ticks": ""
             }
            },
            "type": "scatterpolar"
           }
          ],
          "scatterpolargl": [
           {
            "marker": {
             "colorbar": {
              "outlinewidth": 0,
              "ticks": ""
             }
            },
            "type": "scatterpolargl"
           }
          ],
          "scatterternary": [
           {
            "marker": {
             "colorbar": {
              "outlinewidth": 0,
              "ticks": ""
             }
            },
            "type": "scatterternary"
           }
          ],
          "surface": [
           {
            "colorbar": {
             "outlinewidth": 0,
             "ticks": ""
            },
            "colorscale": [
             [
              0,
              "#0d0887"
             ],
             [
              0.1111111111111111,
              "#46039f"
             ],
             [
              0.2222222222222222,
              "#7201a8"
             ],
             [
              0.3333333333333333,
              "#9c179e"
             ],
             [
              0.4444444444444444,
              "#bd3786"
             ],
             [
              0.5555555555555556,
              "#d8576b"
             ],
             [
              0.6666666666666666,
              "#ed7953"
             ],
             [
              0.7777777777777778,
              "#fb9f3a"
             ],
             [
              0.8888888888888888,
              "#fdca26"
             ],
             [
              1,
              "#f0f921"
             ]
            ],
            "type": "surface"
           }
          ],
          "table": [
           {
            "cells": {
             "fill": {
              "color": "#EBF0F8"
             },
             "line": {
              "color": "white"
             }
            },
            "header": {
             "fill": {
              "color": "#C8D4E3"
             },
             "line": {
              "color": "white"
             }
            },
            "type": "table"
           }
          ]
         },
         "layout": {
          "annotationdefaults": {
           "arrowcolor": "#2a3f5f",
           "arrowhead": 0,
           "arrowwidth": 1
          },
          "coloraxis": {
           "colorbar": {
            "outlinewidth": 0,
            "ticks": ""
           }
          },
          "colorscale": {
           "diverging": [
            [
             0,
             "#8e0152"
            ],
            [
             0.1,
             "#c51b7d"
            ],
            [
             0.2,
             "#de77ae"
            ],
            [
             0.3,
             "#f1b6da"
            ],
            [
             0.4,
             "#fde0ef"
            ],
            [
             0.5,
             "#f7f7f7"
            ],
            [
             0.6,
             "#e6f5d0"
            ],
            [
             0.7,
             "#b8e186"
            ],
            [
             0.8,
             "#7fbc41"
            ],
            [
             0.9,
             "#4d9221"
            ],
            [
             1,
             "#276419"
            ]
           ],
           "sequential": [
            [
             0,
             "#0d0887"
            ],
            [
             0.1111111111111111,
             "#46039f"
            ],
            [
             0.2222222222222222,
             "#7201a8"
            ],
            [
             0.3333333333333333,
             "#9c179e"
            ],
            [
             0.4444444444444444,
             "#bd3786"
            ],
            [
             0.5555555555555556,
             "#d8576b"
            ],
            [
             0.6666666666666666,
             "#ed7953"
            ],
            [
             0.7777777777777778,
             "#fb9f3a"
            ],
            [
             0.8888888888888888,
             "#fdca26"
            ],
            [
             1,
             "#f0f921"
            ]
           ],
           "sequentialminus": [
            [
             0,
             "#0d0887"
            ],
            [
             0.1111111111111111,
             "#46039f"
            ],
            [
             0.2222222222222222,
             "#7201a8"
            ],
            [
             0.3333333333333333,
             "#9c179e"
            ],
            [
             0.4444444444444444,
             "#bd3786"
            ],
            [
             0.5555555555555556,
             "#d8576b"
            ],
            [
             0.6666666666666666,
             "#ed7953"
            ],
            [
             0.7777777777777778,
             "#fb9f3a"
            ],
            [
             0.8888888888888888,
             "#fdca26"
            ],
            [
             1,
             "#f0f921"
            ]
           ]
          },
          "colorway": [
           "#636efa",
           "#EF553B",
           "#00cc96",
           "#ab63fa",
           "#FFA15A",
           "#19d3f3",
           "#FF6692",
           "#B6E880",
           "#FF97FF",
           "#FECB52"
          ],
          "font": {
           "color": "#2a3f5f"
          },
          "geo": {
           "bgcolor": "white",
           "lakecolor": "white",
           "landcolor": "#E5ECF6",
           "showlakes": true,
           "showland": true,
           "subunitcolor": "white"
          },
          "hoverlabel": {
           "align": "left"
          },
          "hovermode": "closest",
          "mapbox": {
           "style": "light"
          },
          "paper_bgcolor": "white",
          "plot_bgcolor": "#E5ECF6",
          "polar": {
           "angularaxis": {
            "gridcolor": "white",
            "linecolor": "white",
            "ticks": ""
           },
           "bgcolor": "#E5ECF6",
           "radialaxis": {
            "gridcolor": "white",
            "linecolor": "white",
            "ticks": ""
           }
          },
          "scene": {
           "xaxis": {
            "backgroundcolor": "#E5ECF6",
            "gridcolor": "white",
            "gridwidth": 2,
            "linecolor": "white",
            "showbackground": true,
            "ticks": "",
            "zerolinecolor": "white"
           },
           "yaxis": {
            "backgroundcolor": "#E5ECF6",
            "gridcolor": "white",
            "gridwidth": 2,
            "linecolor": "white",
            "showbackground": true,
            "ticks": "",
            "zerolinecolor": "white"
           },
           "zaxis": {
            "backgroundcolor": "#E5ECF6",
            "gridcolor": "white",
            "gridwidth": 2,
            "linecolor": "white",
            "showbackground": true,
            "ticks": "",
            "zerolinecolor": "white"
           }
          },
          "shapedefaults": {
           "line": {
            "color": "#2a3f5f"
           }
          },
          "ternary": {
           "aaxis": {
            "gridcolor": "white",
            "linecolor": "white",
            "ticks": ""
           },
           "baxis": {
            "gridcolor": "white",
            "linecolor": "white",
            "ticks": ""
           },
           "bgcolor": "#E5ECF6",
           "caxis": {
            "gridcolor": "white",
            "linecolor": "white",
            "ticks": ""
           }
          },
          "title": {
           "x": 0.05
          },
          "xaxis": {
           "automargin": true,
           "gridcolor": "white",
           "linecolor": "white",
           "ticks": "",
           "title": {
            "standoff": 15
           },
           "zerolinecolor": "white",
           "zerolinewidth": 2
          },
          "yaxis": {
           "automargin": true,
           "gridcolor": "white",
           "linecolor": "white",
           "ticks": "",
           "title": {
            "standoff": 15
           },
           "zerolinecolor": "white",
           "zerolinewidth": 2
          }
         }
        },
        "title": {
         "text": "Tree of Most Common Words in Synopsis"
        },
        "width": 1200
       }
      }
     },
     "metadata": {}
    }
   ],
   "source": [
    "train['syn_list'] = train['Synopsis'].apply(lambda x:str(x).split())\n",
    "train['syn_list'] = train['syn_list'].apply(lambda x:remove_stopword(x))\n",
    "syntop = Counter([item for sublist in train['syn_list'] for item in sublist])\n",
    "syn = pd.DataFrame(syntop.most_common(200))\n",
    "syn.columns = ['Common_words','count']\n",
    "\n",
    "fig = px.treemap(syn, \n",
    "                path=['Common_words','count'], \n",
    "                values='count',\n",
    "                title='Tree of Most Common Words in Synopsis',\n",
    "                color='count',\n",
    "                color_continuous_scale=px.colors.sequential.thermal,\n",
    "                width=1200, height=1000)\n",
    "fig.show()"
   ]
  },
  {
   "cell_type": "markdown",
   "metadata": {},
   "source": [
    "- Compare with Anomaly"
   ]
  },
  {
   "cell_type": "code",
   "execution_count": 26,
   "metadata": {},
   "outputs": [
    {
     "output_type": "display_data",
     "data": {
      "application/vnd.plotly.v1+json": {
       "config": {
        "plotlyServerURL": "https://plot.ly"
       },
       "data": [
        {
         "branchvalues": "total",
         "customdata": [
          [
           1
          ],
          [
           1
          ],
          [
           1
          ],
          [
           1
          ],
          [
           1
          ],
          [
           1
          ],
          [
           1
          ],
          [
           2
          ],
          [
           2
          ],
          [
           2
          ],
          [
           2
          ],
          [
           2
          ],
          [
           2
          ],
          [
           3
          ],
          [
           3
          ],
          [
           3
          ],
          [
           5
          ],
          [
           5
          ],
          [
           7
          ],
          [
           7
          ],
          [
           8
          ],
          [
           9
          ],
          [
           9
          ],
          [
           9
          ],
          [
           9
          ],
          [
           11
          ],
          [
           11
          ],
          [
           13
          ],
          [
           13
          ],
          [
           15
          ],
          [
           15
          ],
          [
           17
          ],
          [
           17
          ],
          [
           17
          ],
          [
           32
          ],
          [
           32
          ],
          [
           32
          ],
          [
           33
          ],
          [
           34
          ],
          [
           35
          ],
          [
           38
          ],
          [
           38
          ],
          [
           43
          ],
          [
           70
          ],
          [
           70
          ],
          [
           79
          ],
          [
           104
          ],
          [
           104
          ],
          [
           104
          ],
          [
           112
          ],
          [
           224
          ],
          [
           250
          ],
          [
           17
          ],
          [
           32
          ],
          [
           70
          ],
          [
           34
          ],
          [
           3
          ],
          [
           15
          ],
          [
           32
          ],
          [
           2
          ],
          [
           2
          ],
          [
           35
          ],
          [
           43
          ],
          [
           13
          ],
          [
           8
          ],
          [
           250
          ],
          [
           1
          ],
          [
           38
          ],
          [
           17
          ],
          [
           38
          ],
          [
           15
          ],
          [
           79
          ],
          [
           9
          ],
          [
           7
          ],
          [
           1
          ],
          [
           33
          ],
          [
           32
          ],
          [
           11
          ],
          [
           13
          ],
          [
           104
          ],
          [
           1
          ],
          [
           5
          ],
          [
           5
          ],
          [
           3
          ],
          [
           1
          ],
          [
           2
          ],
          [
           104
          ],
          [
           17
          ],
          [
           224
          ],
          [
           104
          ],
          [
           1
          ],
          [
           11
          ],
          [
           3
          ],
          [
           2
          ],
          [
           7
          ],
          [
           9
          ],
          [
           112
          ],
          [
           1
          ],
          [
           2
          ],
          [
           9
          ],
          [
           2
          ],
          [
           1
          ],
          [
           70
          ],
          [
           9
          ]
         ],
         "domain": {
          "x": [
           0,
           1
          ],
          "y": [
           0,
           1
          ]
         },
         "hovertemplate": "labels=%{label}<br>count=%{color}<br>parent=%{parent}<br>id=%{id}<extra></extra>",
         "ids": [
          "drone/1",
          "imc/1",
          "nan/1",
          "operation/1",
          "security/1",
          "unauthorized/1",
          "vfr/1",
          "cfit/2",
          "cftt/2",
          "overshoot/2",
          "strike/2",
          "undershoot/2",
          "vehicle/2",
          "anomaly/3",
          "occurred/3",
          "specific/3",
          "nmac/5",
          "object/5",
          "heading/7",
          "track/7",
          "critical/8",
          "ground/9",
          "turbulence/9",
          "unknown/9",
          "weather/9",
          "less/11",
          "severe/11",
          "control/13",
          "loss/13",
          "assigned/15",
          "excursion/15",
          "airborne/17",
          "equipment/17",
          "problem/17",
          "aircraft/32",
          "atc/32",
          "issue/32",
          "inflight/33",
          "altitude/34",
          "clearance/35",
          "encounter/38",
          "event/38",
          "conflict/43",
          "airspace/70",
          "violation/70",
          "far/79",
          "material/104",
          "policy/104",
          "published/104",
          "types/112",
          "procedural/224",
          "deviation/250",
          "airborne",
          "aircraft",
          "airspace",
          "altitude",
          "anomaly",
          "assigned",
          "atc",
          "cfit",
          "cftt",
          "clearance",
          "conflict",
          "control",
          "critical",
          "deviation",
          "drone",
          "encounter",
          "equipment",
          "event",
          "excursion",
          "far",
          "ground",
          "heading",
          "imc",
          "inflight",
          "issue",
          "less",
          "loss",
          "material",
          "nan",
          "nmac",
          "object",
          "occurred",
          "operation",
          "overshoot",
          "policy",
          "problem",
          "procedural",
          "published",
          "security",
          "severe",
          "specific",
          "strike",
          "track",
          "turbulence",
          "types",
          "unauthorized",
          "undershoot",
          "unknown",
          "vehicle",
          "vfr",
          "violation",
          "weather"
         ],
         "labels": [
          "1",
          "1",
          "1",
          "1",
          "1",
          "1",
          "1",
          "2",
          "2",
          "2",
          "2",
          "2",
          "2",
          "3",
          "3",
          "3",
          "5",
          "5",
          "7",
          "7",
          "8",
          "9",
          "9",
          "9",
          "9",
          "11",
          "11",
          "13",
          "13",
          "15",
          "15",
          "17",
          "17",
          "17",
          "32",
          "32",
          "32",
          "33",
          "34",
          "35",
          "38",
          "38",
          "43",
          "70",
          "70",
          "79",
          "104",
          "104",
          "104",
          "112",
          "224",
          "250",
          "airborne",
          "aircraft",
          "airspace",
          "altitude",
          "anomaly",
          "assigned",
          "atc",
          "cfit",
          "cftt",
          "clearance",
          "conflict",
          "control",
          "critical",
          "deviation",
          "drone",
          "encounter",
          "equipment",
          "event",
          "excursion",
          "far",
          "ground",
          "heading",
          "imc",
          "inflight",
          "issue",
          "less",
          "loss",
          "material",
          "nan",
          "nmac",
          "object",
          "occurred",
          "operation",
          "overshoot",
          "policy",
          "problem",
          "procedural",
          "published",
          "security",
          "severe",
          "specific",
          "strike",
          "track",
          "turbulence",
          "types",
          "unauthorized",
          "undershoot",
          "unknown",
          "vehicle",
          "vfr",
          "violation",
          "weather"
         ],
         "marker": {
          "coloraxis": "coloraxis",
          "colors": [
           1,
           1,
           1,
           1,
           1,
           1,
           1,
           2,
           2,
           2,
           2,
           2,
           2,
           3,
           3,
           3,
           5,
           5,
           7,
           7,
           8,
           9,
           9,
           9,
           9,
           11,
           11,
           13,
           13,
           15,
           15,
           17,
           17,
           17,
           32,
           32,
           32,
           33,
           34,
           35,
           38,
           38,
           43,
           70,
           70,
           79,
           104,
           104,
           104,
           112,
           224,
           250,
           17,
           32,
           70,
           34,
           3,
           15,
           32,
           2,
           2,
           35,
           43,
           13,
           8,
           250,
           1,
           38,
           17,
           38,
           15,
           79,
           9,
           7,
           1,
           33,
           32,
           11,
           13,
           104,
           1,
           5,
           5,
           3,
           1,
           2,
           104,
           17,
           224,
           104,
           1,
           11,
           3,
           2,
           7,
           9,
           112,
           1,
           2,
           9,
           2,
           1,
           70,
           9
          ]
         },
         "name": "",
         "parents": [
          "drone",
          "imc",
          "nan",
          "operation",
          "security",
          "unauthorized",
          "vfr",
          "cfit",
          "cftt",
          "overshoot",
          "strike",
          "undershoot",
          "vehicle",
          "anomaly",
          "occurred",
          "specific",
          "nmac",
          "object",
          "heading",
          "track",
          "critical",
          "ground",
          "turbulence",
          "unknown",
          "weather",
          "less",
          "severe",
          "control",
          "loss",
          "assigned",
          "excursion",
          "airborne",
          "equipment",
          "problem",
          "aircraft",
          "atc",
          "issue",
          "inflight",
          "altitude",
          "clearance",
          "encounter",
          "event",
          "conflict",
          "airspace",
          "violation",
          "far",
          "material",
          "policy",
          "published",
          "types",
          "procedural",
          "deviation",
          "",
          "",
          "",
          "",
          "",
          "",
          "",
          "",
          "",
          "",
          "",
          "",
          "",
          "",
          "",
          "",
          "",
          "",
          "",
          "",
          "",
          "",
          "",
          "",
          "",
          "",
          "",
          "",
          "",
          "",
          "",
          "",
          "",
          "",
          "",
          "",
          "",
          "",
          "",
          "",
          "",
          "",
          "",
          "",
          "",
          "",
          "",
          "",
          "",
          "",
          "",
          ""
         ],
         "type": "treemap",
         "values": [
          1,
          1,
          1,
          1,
          1,
          1,
          1,
          2,
          2,
          2,
          2,
          2,
          2,
          3,
          3,
          3,
          5,
          5,
          7,
          7,
          8,
          9,
          9,
          9,
          9,
          11,
          11,
          13,
          13,
          15,
          15,
          17,
          17,
          17,
          32,
          32,
          32,
          33,
          34,
          35,
          38,
          38,
          43,
          70,
          70,
          79,
          104,
          104,
          104,
          112,
          224,
          250,
          17,
          32,
          70,
          34,
          3,
          15,
          32,
          2,
          2,
          35,
          43,
          13,
          8,
          250,
          1,
          38,
          17,
          38,
          15,
          79,
          9,
          7,
          1,
          33,
          32,
          11,
          13,
          104,
          1,
          5,
          5,
          3,
          1,
          2,
          104,
          17,
          224,
          104,
          1,
          11,
          3,
          2,
          7,
          9,
          112,
          1,
          2,
          9,
          2,
          1,
          70,
          9
         ]
        }
       ],
       "layout": {
        "coloraxis": {
         "colorbar": {
          "title": {
           "text": "count"
          }
         },
         "colorscale": [
          [
           0,
           "rgb(158,1,66)"
          ],
          [
           0.1,
           "rgb(213,62,79)"
          ],
          [
           0.2,
           "rgb(244,109,67)"
          ],
          [
           0.3,
           "rgb(253,174,97)"
          ],
          [
           0.4,
           "rgb(254,224,139)"
          ],
          [
           0.5,
           "rgb(255,255,191)"
          ],
          [
           0.6,
           "rgb(230,245,152)"
          ],
          [
           0.7,
           "rgb(171,221,164)"
          ],
          [
           0.8,
           "rgb(102,194,165)"
          ],
          [
           0.9,
           "rgb(50,136,189)"
          ],
          [
           1,
           "rgb(94,79,162)"
          ]
         ]
        },
        "height": 1000,
        "legend": {
         "tracegroupgap": 0
        },
        "template": {
         "data": {
          "bar": [
           {
            "error_x": {
             "color": "#2a3f5f"
            },
            "error_y": {
             "color": "#2a3f5f"
            },
            "marker": {
             "line": {
              "color": "#E5ECF6",
              "width": 0.5
             }
            },
            "type": "bar"
           }
          ],
          "barpolar": [
           {
            "marker": {
             "line": {
              "color": "#E5ECF6",
              "width": 0.5
             }
            },
            "type": "barpolar"
           }
          ],
          "carpet": [
           {
            "aaxis": {
             "endlinecolor": "#2a3f5f",
             "gridcolor": "white",
             "linecolor": "white",
             "minorgridcolor": "white",
             "startlinecolor": "#2a3f5f"
            },
            "baxis": {
             "endlinecolor": "#2a3f5f",
             "gridcolor": "white",
             "linecolor": "white",
             "minorgridcolor": "white",
             "startlinecolor": "#2a3f5f"
            },
            "type": "carpet"
           }
          ],
          "choropleth": [
           {
            "colorbar": {
             "outlinewidth": 0,
             "ticks": ""
            },
            "type": "choropleth"
           }
          ],
          "contour": [
           {
            "colorbar": {
             "outlinewidth": 0,
             "ticks": ""
            },
            "colorscale": [
             [
              0,
              "#0d0887"
             ],
             [
              0.1111111111111111,
              "#46039f"
             ],
             [
              0.2222222222222222,
              "#7201a8"
             ],
             [
              0.3333333333333333,
              "#9c179e"
             ],
             [
              0.4444444444444444,
              "#bd3786"
             ],
             [
              0.5555555555555556,
              "#d8576b"
             ],
             [
              0.6666666666666666,
              "#ed7953"
             ],
             [
              0.7777777777777778,
              "#fb9f3a"
             ],
             [
              0.8888888888888888,
              "#fdca26"
             ],
             [
              1,
              "#f0f921"
             ]
            ],
            "type": "contour"
           }
          ],
          "contourcarpet": [
           {
            "colorbar": {
             "outlinewidth": 0,
             "ticks": ""
            },
            "type": "contourcarpet"
           }
          ],
          "heatmap": [
           {
            "colorbar": {
             "outlinewidth": 0,
             "ticks": ""
            },
            "colorscale": [
             [
              0,
              "#0d0887"
             ],
             [
              0.1111111111111111,
              "#46039f"
             ],
             [
              0.2222222222222222,
              "#7201a8"
             ],
             [
              0.3333333333333333,
              "#9c179e"
             ],
             [
              0.4444444444444444,
              "#bd3786"
             ],
             [
              0.5555555555555556,
              "#d8576b"
             ],
             [
              0.6666666666666666,
              "#ed7953"
             ],
             [
              0.7777777777777778,
              "#fb9f3a"
             ],
             [
              0.8888888888888888,
              "#fdca26"
             ],
             [
              1,
              "#f0f921"
             ]
            ],
            "type": "heatmap"
           }
          ],
          "heatmapgl": [
           {
            "colorbar": {
             "outlinewidth": 0,
             "ticks": ""
            },
            "colorscale": [
             [
              0,
              "#0d0887"
             ],
             [
              0.1111111111111111,
              "#46039f"
             ],
             [
              0.2222222222222222,
              "#7201a8"
             ],
             [
              0.3333333333333333,
              "#9c179e"
             ],
             [
              0.4444444444444444,
              "#bd3786"
             ],
             [
              0.5555555555555556,
              "#d8576b"
             ],
             [
              0.6666666666666666,
              "#ed7953"
             ],
             [
              0.7777777777777778,
              "#fb9f3a"
             ],
             [
              0.8888888888888888,
              "#fdca26"
             ],
             [
              1,
              "#f0f921"
             ]
            ],
            "type": "heatmapgl"
           }
          ],
          "histogram": [
           {
            "marker": {
             "colorbar": {
              "outlinewidth": 0,
              "ticks": ""
             }
            },
            "type": "histogram"
           }
          ],
          "histogram2d": [
           {
            "colorbar": {
             "outlinewidth": 0,
             "ticks": ""
            },
            "colorscale": [
             [
              0,
              "#0d0887"
             ],
             [
              0.1111111111111111,
              "#46039f"
             ],
             [
              0.2222222222222222,
              "#7201a8"
             ],
             [
              0.3333333333333333,
              "#9c179e"
             ],
             [
              0.4444444444444444,
              "#bd3786"
             ],
             [
              0.5555555555555556,
              "#d8576b"
             ],
             [
              0.6666666666666666,
              "#ed7953"
             ],
             [
              0.7777777777777778,
              "#fb9f3a"
             ],
             [
              0.8888888888888888,
              "#fdca26"
             ],
             [
              1,
              "#f0f921"
             ]
            ],
            "type": "histogram2d"
           }
          ],
          "histogram2dcontour": [
           {
            "colorbar": {
             "outlinewidth": 0,
             "ticks": ""
            },
            "colorscale": [
             [
              0,
              "#0d0887"
             ],
             [
              0.1111111111111111,
              "#46039f"
             ],
             [
              0.2222222222222222,
              "#7201a8"
             ],
             [
              0.3333333333333333,
              "#9c179e"
             ],
             [
              0.4444444444444444,
              "#bd3786"
             ],
             [
              0.5555555555555556,
              "#d8576b"
             ],
             [
              0.6666666666666666,
              "#ed7953"
             ],
             [
              0.7777777777777778,
              "#fb9f3a"
             ],
             [
              0.8888888888888888,
              "#fdca26"
             ],
             [
              1,
              "#f0f921"
             ]
            ],
            "type": "histogram2dcontour"
           }
          ],
          "mesh3d": [
           {
            "colorbar": {
             "outlinewidth": 0,
             "ticks": ""
            },
            "type": "mesh3d"
           }
          ],
          "parcoords": [
           {
            "line": {
             "colorbar": {
              "outlinewidth": 0,
              "ticks": ""
             }
            },
            "type": "parcoords"
           }
          ],
          "pie": [
           {
            "automargin": true,
            "type": "pie"
           }
          ],
          "scatter": [
           {
            "marker": {
             "colorbar": {
              "outlinewidth": 0,
              "ticks": ""
             }
            },
            "type": "scatter"
           }
          ],
          "scatter3d": [
           {
            "line": {
             "colorbar": {
              "outlinewidth": 0,
              "ticks": ""
             }
            },
            "marker": {
             "colorbar": {
              "outlinewidth": 0,
              "ticks": ""
             }
            },
            "type": "scatter3d"
           }
          ],
          "scattercarpet": [
           {
            "marker": {
             "colorbar": {
              "outlinewidth": 0,
              "ticks": ""
             }
            },
            "type": "scattercarpet"
           }
          ],
          "scattergeo": [
           {
            "marker": {
             "colorbar": {
              "outlinewidth": 0,
              "ticks": ""
             }
            },
            "type": "scattergeo"
           }
          ],
          "scattergl": [
           {
            "marker": {
             "colorbar": {
              "outlinewidth": 0,
              "ticks": ""
             }
            },
            "type": "scattergl"
           }
          ],
          "scattermapbox": [
           {
            "marker": {
             "colorbar": {
              "outlinewidth": 0,
              "ticks": ""
             }
            },
            "type": "scattermapbox"
           }
          ],
          "scatterpolar": [
           {
            "marker": {
             "colorbar": {
              "outlinewidth": 0,
              "ticks": ""
             }
            },
            "type": "scatterpolar"
           }
          ],
          "scatterpolargl": [
           {
            "marker": {
             "colorbar": {
              "outlinewidth": 0,
              "ticks": ""
             }
            },
            "type": "scatterpolargl"
           }
          ],
          "scatterternary": [
           {
            "marker": {
             "colorbar": {
              "outlinewidth": 0,
              "ticks": ""
             }
            },
            "type": "scatterternary"
           }
          ],
          "surface": [
           {
            "colorbar": {
             "outlinewidth": 0,
             "ticks": ""
            },
            "colorscale": [
             [
              0,
              "#0d0887"
             ],
             [
              0.1111111111111111,
              "#46039f"
             ],
             [
              0.2222222222222222,
              "#7201a8"
             ],
             [
              0.3333333333333333,
              "#9c179e"
             ],
             [
              0.4444444444444444,
              "#bd3786"
             ],
             [
              0.5555555555555556,
              "#d8576b"
             ],
             [
              0.6666666666666666,
              "#ed7953"
             ],
             [
              0.7777777777777778,
              "#fb9f3a"
             ],
             [
              0.8888888888888888,
              "#fdca26"
             ],
             [
              1,
              "#f0f921"
             ]
            ],
            "type": "surface"
           }
          ],
          "table": [
           {
            "cells": {
             "fill": {
              "color": "#EBF0F8"
             },
             "line": {
              "color": "white"
             }
            },
            "header": {
             "fill": {
              "color": "#C8D4E3"
             },
             "line": {
              "color": "white"
             }
            },
            "type": "table"
           }
          ]
         },
         "layout": {
          "annotationdefaults": {
           "arrowcolor": "#2a3f5f",
           "arrowhead": 0,
           "arrowwidth": 1
          },
          "coloraxis": {
           "colorbar": {
            "outlinewidth": 0,
            "ticks": ""
           }
          },
          "colorscale": {
           "diverging": [
            [
             0,
             "#8e0152"
            ],
            [
             0.1,
             "#c51b7d"
            ],
            [
             0.2,
             "#de77ae"
            ],
            [
             0.3,
             "#f1b6da"
            ],
            [
             0.4,
             "#fde0ef"
            ],
            [
             0.5,
             "#f7f7f7"
            ],
            [
             0.6,
             "#e6f5d0"
            ],
            [
             0.7,
             "#b8e186"
            ],
            [
             0.8,
             "#7fbc41"
            ],
            [
             0.9,
             "#4d9221"
            ],
            [
             1,
             "#276419"
            ]
           ],
           "sequential": [
            [
             0,
             "#0d0887"
            ],
            [
             0.1111111111111111,
             "#46039f"
            ],
            [
             0.2222222222222222,
             "#7201a8"
            ],
            [
             0.3333333333333333,
             "#9c179e"
            ],
            [
             0.4444444444444444,
             "#bd3786"
            ],
            [
             0.5555555555555556,
             "#d8576b"
            ],
            [
             0.6666666666666666,
             "#ed7953"
            ],
            [
             0.7777777777777778,
             "#fb9f3a"
            ],
            [
             0.8888888888888888,
             "#fdca26"
            ],
            [
             1,
             "#f0f921"
            ]
           ],
           "sequentialminus": [
            [
             0,
             "#0d0887"
            ],
            [
             0.1111111111111111,
             "#46039f"
            ],
            [
             0.2222222222222222,
             "#7201a8"
            ],
            [
             0.3333333333333333,
             "#9c179e"
            ],
            [
             0.4444444444444444,
             "#bd3786"
            ],
            [
             0.5555555555555556,
             "#d8576b"
            ],
            [
             0.6666666666666666,
             "#ed7953"
            ],
            [
             0.7777777777777778,
             "#fb9f3a"
            ],
            [
             0.8888888888888888,
             "#fdca26"
            ],
            [
             1,
             "#f0f921"
            ]
           ]
          },
          "colorway": [
           "#636efa",
           "#EF553B",
           "#00cc96",
           "#ab63fa",
           "#FFA15A",
           "#19d3f3",
           "#FF6692",
           "#B6E880",
           "#FF97FF",
           "#FECB52"
          ],
          "font": {
           "color": "#2a3f5f"
          },
          "geo": {
           "bgcolor": "white",
           "lakecolor": "white",
           "landcolor": "#E5ECF6",
           "showlakes": true,
           "showland": true,
           "subunitcolor": "white"
          },
          "hoverlabel": {
           "align": "left"
          },
          "hovermode": "closest",
          "mapbox": {
           "style": "light"
          },
          "paper_bgcolor": "white",
          "plot_bgcolor": "#E5ECF6",
          "polar": {
           "angularaxis": {
            "gridcolor": "white",
            "linecolor": "white",
            "ticks": ""
           },
           "bgcolor": "#E5ECF6",
           "radialaxis": {
            "gridcolor": "white",
            "linecolor": "white",
            "ticks": ""
           }
          },
          "scene": {
           "xaxis": {
            "backgroundcolor": "#E5ECF6",
            "gridcolor": "white",
            "gridwidth": 2,
            "linecolor": "white",
            "showbackground": true,
            "ticks": "",
            "zerolinecolor": "white"
           },
           "yaxis": {
            "backgroundcolor": "#E5ECF6",
            "gridcolor": "white",
            "gridwidth": 2,
            "linecolor": "white",
            "showbackground": true,
            "ticks": "",
            "zerolinecolor": "white"
           },
           "zaxis": {
            "backgroundcolor": "#E5ECF6",
            "gridcolor": "white",
            "gridwidth": 2,
            "linecolor": "white",
            "showbackground": true,
            "ticks": "",
            "zerolinecolor": "white"
           }
          },
          "shapedefaults": {
           "line": {
            "color": "#2a3f5f"
           }
          },
          "ternary": {
           "aaxis": {
            "gridcolor": "white",
            "linecolor": "white",
            "ticks": ""
           },
           "baxis": {
            "gridcolor": "white",
            "linecolor": "white",
            "ticks": ""
           },
           "bgcolor": "#E5ECF6",
           "caxis": {
            "gridcolor": "white",
            "linecolor": "white",
            "ticks": ""
           }
          },
          "title": {
           "x": 0.05
          },
          "xaxis": {
           "automargin": true,
           "gridcolor": "white",
           "linecolor": "white",
           "ticks": "",
           "title": {
            "standoff": 15
           },
           "zerolinecolor": "white",
           "zerolinewidth": 2
          },
          "yaxis": {
           "automargin": true,
           "gridcolor": "white",
           "linecolor": "white",
           "ticks": "",
           "title": {
            "standoff": 15
           },
           "zerolinecolor": "white",
           "zerolinewidth": 2
          }
         }
        },
        "title": {
         "text": "Tree of Most Common Words in Anomaly"
        },
        "width": 1200
       }
      }
     },
     "metadata": {}
    }
   ],
   "source": [
    "train['ano_list'] = train['Anomaly'].apply(lambda x:str(x).split())\n",
    "train['ano_list'] = train['ano_list'].apply(lambda x:remove_stopword(x))\n",
    "anotop = Counter([item for sublist in train['ano_list'] for item in sublist])\n",
    "ano = pd.DataFrame(anotop.most_common(200))\n",
    "ano.columns = ['Common_words','count']\n",
    "\n",
    "fig = px.treemap(ano, \n",
    "                path=['Common_words','count'], \n",
    "                values='count',\n",
    "                title='Tree of Most Common Words in Anomaly',\n",
    "                color='count',\n",
    "                color_continuous_scale='Spectral',\n",
    "                width=1200, height=1000)\n",
    "fig.show()"
   ]
  },
  {
   "cell_type": "markdown",
   "metadata": {},
   "source": [
    "- Qualification & Certification"
   ]
  },
  {
   "cell_type": "code",
   "execution_count": 76,
   "metadata": {},
   "outputs": [
    {
     "output_type": "execute_result",
     "data": {
      "text/plain": "<pandas.io.formats.style.Styler at 0x1282f2e50>",
      "text/html": "<style  type=\"text/css\" >\n    #T_3f0a6022_a3fe_11ea_9198_acde48001122row0_col1 {\n            background-color:  #b3b3b3;\n            color:  #000000;\n        }    #T_3f0a6022_a3fe_11ea_9198_acde48001122row1_col1 {\n            background-color:  #ffd92f;\n            color:  #000000;\n        }    #T_3f0a6022_a3fe_11ea_9198_acde48001122row2_col1 {\n            background-color:  #e78ac3;\n            color:  #000000;\n        }    #T_3f0a6022_a3fe_11ea_9198_acde48001122row3_col1 {\n            background-color:  #fc8d62;\n            color:  #000000;\n        }    #T_3f0a6022_a3fe_11ea_9198_acde48001122row4_col1 {\n            background-color:  #66c2a5;\n            color:  #000000;\n        }    #T_3f0a6022_a3fe_11ea_9198_acde48001122row5_col1 {\n            background-color:  #66c2a5;\n            color:  #000000;\n        }    #T_3f0a6022_a3fe_11ea_9198_acde48001122row6_col1 {\n            background-color:  #66c2a5;\n            color:  #000000;\n        }    #T_3f0a6022_a3fe_11ea_9198_acde48001122row7_col1 {\n            background-color:  #66c2a5;\n            color:  #000000;\n        }    #T_3f0a6022_a3fe_11ea_9198_acde48001122row8_col1 {\n            background-color:  #66c2a5;\n            color:  #000000;\n        }    #T_3f0a6022_a3fe_11ea_9198_acde48001122row9_col1 {\n            background-color:  #66c2a5;\n            color:  #000000;\n        }    #T_3f0a6022_a3fe_11ea_9198_acde48001122row10_col1 {\n            background-color:  #66c2a5;\n            color:  #000000;\n        }    #T_3f0a6022_a3fe_11ea_9198_acde48001122row11_col1 {\n            background-color:  #66c2a5;\n            color:  #000000;\n        }    #T_3f0a6022_a3fe_11ea_9198_acde48001122row12_col1 {\n            background-color:  #66c2a5;\n            color:  #000000;\n        }    #T_3f0a6022_a3fe_11ea_9198_acde48001122row13_col1 {\n            background-color:  #66c2a5;\n            color:  #000000;\n        }    #T_3f0a6022_a3fe_11ea_9198_acde48001122row14_col1 {\n            background-color:  #66c2a5;\n            color:  #000000;\n        }    #T_3f0a6022_a3fe_11ea_9198_acde48001122row15_col1 {\n            background-color:  #66c2a5;\n            color:  #000000;\n        }    #T_3f0a6022_a3fe_11ea_9198_acde48001122row16_col1 {\n            background-color:  #66c2a5;\n            color:  #000000;\n        }    #T_3f0a6022_a3fe_11ea_9198_acde48001122row17_col1 {\n            background-color:  #66c2a5;\n            color:  #000000;\n        }    #T_3f0a6022_a3fe_11ea_9198_acde48001122row18_col1 {\n            background-color:  #66c2a5;\n            color:  #000000;\n        }    #T_3f0a6022_a3fe_11ea_9198_acde48001122row19_col1 {\n            background-color:  #66c2a5;\n            color:  #000000;\n        }    #T_3f0a6022_a3fe_11ea_9198_acde48001122row20_col1 {\n            background-color:  #66c2a5;\n            color:  #000000;\n        }    #T_3f0a6022_a3fe_11ea_9198_acde48001122row21_col1 {\n            background-color:  #66c2a5;\n            color:  #000000;\n        }    #T_3f0a6022_a3fe_11ea_9198_acde48001122row22_col1 {\n            background-color:  #66c2a5;\n            color:  #000000;\n        }    #T_3f0a6022_a3fe_11ea_9198_acde48001122row23_col1 {\n            background-color:  #66c2a5;\n            color:  #000000;\n        }    #T_3f0a6022_a3fe_11ea_9198_acde48001122row24_col1 {\n            background-color:  #66c2a5;\n            color:  #000000;\n        }    #T_3f0a6022_a3fe_11ea_9198_acde48001122row25_col1 {\n            background-color:  #66c2a5;\n            color:  #000000;\n        }    #T_3f0a6022_a3fe_11ea_9198_acde48001122row26_col1 {\n            background-color:  #66c2a5;\n            color:  #000000;\n        }    #T_3f0a6022_a3fe_11ea_9198_acde48001122row27_col1 {\n            background-color:  #66c2a5;\n            color:  #000000;\n        }    #T_3f0a6022_a3fe_11ea_9198_acde48001122row28_col1 {\n            background-color:  #66c2a5;\n            color:  #000000;\n        }    #T_3f0a6022_a3fe_11ea_9198_acde48001122row29_col1 {\n            background-color:  #66c2a5;\n            color:  #000000;\n        }    #T_3f0a6022_a3fe_11ea_9198_acde48001122row30_col1 {\n            background-color:  #66c2a5;\n            color:  #000000;\n        }    #T_3f0a6022_a3fe_11ea_9198_acde48001122row31_col1 {\n            background-color:  #66c2a5;\n            color:  #000000;\n        }    #T_3f0a6022_a3fe_11ea_9198_acde48001122row32_col1 {\n            background-color:  #66c2a5;\n            color:  #000000;\n        }    #T_3f0a6022_a3fe_11ea_9198_acde48001122row33_col1 {\n            background-color:  #66c2a5;\n            color:  #000000;\n        }    #T_3f0a6022_a3fe_11ea_9198_acde48001122row34_col1 {\n            background-color:  #66c2a5;\n            color:  #000000;\n        }    #T_3f0a6022_a3fe_11ea_9198_acde48001122row35_col1 {\n            background-color:  #66c2a5;\n            color:  #000000;\n        }    #T_3f0a6022_a3fe_11ea_9198_acde48001122row36_col1 {\n            background-color:  #66c2a5;\n            color:  #000000;\n        }    #T_3f0a6022_a3fe_11ea_9198_acde48001122row37_col1 {\n            background-color:  #66c2a5;\n            color:  #000000;\n        }    #T_3f0a6022_a3fe_11ea_9198_acde48001122row38_col1 {\n            background-color:  #66c2a5;\n            color:  #000000;\n        }    #T_3f0a6022_a3fe_11ea_9198_acde48001122row39_col1 {\n            background-color:  #66c2a5;\n            color:  #000000;\n        }    #T_3f0a6022_a3fe_11ea_9198_acde48001122row40_col1 {\n            background-color:  #66c2a5;\n            color:  #000000;\n        }    #T_3f0a6022_a3fe_11ea_9198_acde48001122row41_col1 {\n            background-color:  #66c2a5;\n            color:  #000000;\n        }    #T_3f0a6022_a3fe_11ea_9198_acde48001122row42_col1 {\n            background-color:  #66c2a5;\n            color:  #000000;\n        }    #T_3f0a6022_a3fe_11ea_9198_acde48001122row43_col1 {\n            background-color:  #66c2a5;\n            color:  #000000;\n        }    #T_3f0a6022_a3fe_11ea_9198_acde48001122row44_col1 {\n            background-color:  #66c2a5;\n            color:  #000000;\n        }</style><table id=\"T_3f0a6022_a3fe_11ea_9198_acde48001122\" ><thead>    <tr>        <th class=\"blank level0\" ></th>        <th class=\"col_heading level0 col0\" >Qualification</th>        <th class=\"col_heading level0 col1\" >ACN</th>    </tr></thead><tbody>\n                <tr>\n                        <th id=\"T_3f0a6022_a3fe_11ea_9198_acde48001122level0_row0\" class=\"row_heading level0 row0\" >0</th>\n                        <td id=\"T_3f0a6022_a3fe_11ea_9198_acde48001122row0_col0\" class=\"data row0 col0\" >Air Traffic Control Fully Certified</td>\n                        <td id=\"T_3f0a6022_a3fe_11ea_9198_acde48001122row0_col1\" class=\"data row0 col1\" >32</td>\n            </tr>\n            <tr>\n                        <th id=\"T_3f0a6022_a3fe_11ea_9198_acde48001122level0_row1\" class=\"row_heading level0 row1\" >38</th>\n                        <td id=\"T_3f0a6022_a3fe_11ea_9198_acde48001122row1_col0\" class=\"data row1 col0\" >Flight Crew Private</td>\n                        <td id=\"T_3f0a6022_a3fe_11ea_9198_acde48001122row1_col1\" class=\"data row1 col1\" >22</td>\n            </tr>\n            <tr>\n                        <th id=\"T_3f0a6022_a3fe_11ea_9198_acde48001122level0_row2\" class=\"row_heading level0 row2\" >6</th>\n                        <td id=\"T_3f0a6022_a3fe_11ea_9198_acde48001122row2_col0\" class=\"data row2 col0\" >Flight Crew Commercial</td>\n                        <td id=\"T_3f0a6022_a3fe_11ea_9198_acde48001122row2_col1\" class=\"data row2 col1\" >15</td>\n            </tr>\n            <tr>\n                        <th id=\"T_3f0a6022_a3fe_11ea_9198_acde48001122level0_row3\" class=\"row_heading level0 row3\" >10</th>\n                        <td id=\"T_3f0a6022_a3fe_11ea_9198_acde48001122row3_col0\" class=\"data row3 col0\" >Flight Crew Commercial; Flight Crew Instrument</td>\n                        <td id=\"T_3f0a6022_a3fe_11ea_9198_acde48001122row3_col1\" class=\"data row3 col1\" >5</td>\n            </tr>\n            <tr>\n                        <th id=\"T_3f0a6022_a3fe_11ea_9198_acde48001122level0_row4\" class=\"row_heading level0 row4\" >28</th>\n                        <td id=\"T_3f0a6022_a3fe_11ea_9198_acde48001122row4_col0\" class=\"data row4 col0\" >Flight Crew Instrument; Flight Crew Multiengine; Flight Crew Commercial; Flight Crew Flight Instructor</td>\n                        <td id=\"T_3f0a6022_a3fe_11ea_9198_acde48001122row4_col1\" class=\"data row4 col1\" >4</td>\n            </tr>\n            <tr>\n                        <th id=\"T_3f0a6022_a3fe_11ea_9198_acde48001122level0_row5\" class=\"row_heading level0 row5\" >26</th>\n                        <td id=\"T_3f0a6022_a3fe_11ea_9198_acde48001122row5_col0\" class=\"data row5 col0\" >Flight Crew Instrument; Flight Crew Multiengine; Flight Crew Air Transport Pilot (ATP); Flight Crew Flight Instructor</td>\n                        <td id=\"T_3f0a6022_a3fe_11ea_9198_acde48001122row5_col1\" class=\"data row5 col1\" >4</td>\n            </tr>\n            <tr>\n                        <th id=\"T_3f0a6022_a3fe_11ea_9198_acde48001122level0_row6\" class=\"row_heading level0 row6\" >34</th>\n                        <td id=\"T_3f0a6022_a3fe_11ea_9198_acde48001122row6_col0\" class=\"data row6 col0\" >Flight Crew Multiengine; Flight Crew Commercial; Flight Crew Instrument</td>\n                        <td id=\"T_3f0a6022_a3fe_11ea_9198_acde48001122row6_col1\" class=\"data row6 col1\" >3</td>\n            </tr>\n            <tr>\n                        <th id=\"T_3f0a6022_a3fe_11ea_9198_acde48001122level0_row7\" class=\"row_heading level0 row7\" >29</th>\n                        <td id=\"T_3f0a6022_a3fe_11ea_9198_acde48001122row7_col0\" class=\"data row7 col0\" >Flight Crew Instrument; Flight Crew Private</td>\n                        <td id=\"T_3f0a6022_a3fe_11ea_9198_acde48001122row7_col1\" class=\"data row7 col1\" >3</td>\n            </tr>\n            <tr>\n                        <th id=\"T_3f0a6022_a3fe_11ea_9198_acde48001122level0_row8\" class=\"row_heading level0 row8\" >19</th>\n                        <td id=\"T_3f0a6022_a3fe_11ea_9198_acde48001122row8_col0\" class=\"data row8 col0\" >Flight Crew Flight Instructor; Flight Crew Instrument; Flight Crew Multiengine; Flight Crew Commercial</td>\n                        <td id=\"T_3f0a6022_a3fe_11ea_9198_acde48001122row8_col1\" class=\"data row8 col1\" >2</td>\n            </tr>\n            <tr>\n                        <th id=\"T_3f0a6022_a3fe_11ea_9198_acde48001122level0_row9\" class=\"row_heading level0 row9\" >37</th>\n                        <td id=\"T_3f0a6022_a3fe_11ea_9198_acde48001122row9_col0\" class=\"data row9 col0\" >Flight Crew Multiengine; Flight Crew Instrument; Flight Crew Flight Instructor; Flight Crew Commercial</td>\n                        <td id=\"T_3f0a6022_a3fe_11ea_9198_acde48001122row9_col1\" class=\"data row9 col1\" >2</td>\n            </tr>\n            <tr>\n                        <th id=\"T_3f0a6022_a3fe_11ea_9198_acde48001122level0_row10\" class=\"row_heading level0 row10\" >25</th>\n                        <td id=\"T_3f0a6022_a3fe_11ea_9198_acde48001122row10_col0\" class=\"data row10 col0\" >Flight Crew Instrument; Flight Crew Multiengine; Flight Crew Air Transport Pilot (ATP)</td>\n                        <td id=\"T_3f0a6022_a3fe_11ea_9198_acde48001122row10_col1\" class=\"data row10 col1\" >2</td>\n            </tr>\n            <tr>\n                        <th id=\"T_3f0a6022_a3fe_11ea_9198_acde48001122level0_row11\" class=\"row_heading level0 row11\" >1</th>\n                        <td id=\"T_3f0a6022_a3fe_11ea_9198_acde48001122row11_col0\" class=\"data row11 col0\" >Flight Crew Air Transport Pilot (ATP)</td>\n                        <td id=\"T_3f0a6022_a3fe_11ea_9198_acde48001122row11_col1\" class=\"data row11 col1\" >2</td>\n            </tr>\n            <tr>\n                        <th id=\"T_3f0a6022_a3fe_11ea_9198_acde48001122level0_row12\" class=\"row_heading level0 row12\" >44</th>\n                        <td id=\"T_3f0a6022_a3fe_11ea_9198_acde48001122row12_col0\" class=\"data row12 col0\" >Other Remote Pilot</td>\n                        <td id=\"T_3f0a6022_a3fe_11ea_9198_acde48001122row12_col1\" class=\"data row12 col1\" >2</td>\n            </tr>\n            <tr>\n                        <th id=\"T_3f0a6022_a3fe_11ea_9198_acde48001122level0_row13\" class=\"row_heading level0 row13\" >7</th>\n                        <td id=\"T_3f0a6022_a3fe_11ea_9198_acde48001122row13_col0\" class=\"data row13 col0\" >Flight Crew Commercial; Flight Crew Flight Instructor</td>\n                        <td id=\"T_3f0a6022_a3fe_11ea_9198_acde48001122row13_col1\" class=\"data row13 col1\" >2</td>\n            </tr>\n            <tr>\n                        <th id=\"T_3f0a6022_a3fe_11ea_9198_acde48001122level0_row14\" class=\"row_heading level0 row14\" >8</th>\n                        <td id=\"T_3f0a6022_a3fe_11ea_9198_acde48001122row14_col0\" class=\"data row14 col0\" >Flight Crew Commercial; Flight Crew Flight Instructor; Flight Crew Instrument; Flight Crew Multiengine</td>\n                        <td id=\"T_3f0a6022_a3fe_11ea_9198_acde48001122row14_col1\" class=\"data row14 col1\" >2</td>\n            </tr>\n            <tr>\n                        <th id=\"T_3f0a6022_a3fe_11ea_9198_acde48001122level0_row15\" class=\"row_heading level0 row15\" >4</th>\n                        <td id=\"T_3f0a6022_a3fe_11ea_9198_acde48001122row15_col0\" class=\"data row15 col0\" >Flight Crew Air Transport Pilot (ATP); Flight Crew Flight Instructor; Flight Crew Instrument; Flight Crew Multiengine</td>\n                        <td id=\"T_3f0a6022_a3fe_11ea_9198_acde48001122row15_col1\" class=\"data row15 col1\" >2</td>\n            </tr>\n            <tr>\n                        <th id=\"T_3f0a6022_a3fe_11ea_9198_acde48001122level0_row16\" class=\"row_heading level0 row16\" >13</th>\n                        <td id=\"T_3f0a6022_a3fe_11ea_9198_acde48001122row16_col0\" class=\"data row16 col0\" >Flight Crew Commercial; Flight Crew Instrument; Flight Crew Multiengine; Flight Crew Rotorcraft</td>\n                        <td id=\"T_3f0a6022_a3fe_11ea_9198_acde48001122row16_col1\" class=\"data row16 col1\" >1</td>\n            </tr>\n            <tr>\n                        <th id=\"T_3f0a6022_a3fe_11ea_9198_acde48001122level0_row17\" class=\"row_heading level0 row17\" >36</th>\n                        <td id=\"T_3f0a6022_a3fe_11ea_9198_acde48001122row17_col0\" class=\"data row17 col0\" >Flight Crew Multiengine; Flight Crew Instrument; Flight Crew Commercial</td>\n                        <td id=\"T_3f0a6022_a3fe_11ea_9198_acde48001122row17_col1\" class=\"data row17 col1\" >1</td>\n            </tr>\n            <tr>\n                        <th id=\"T_3f0a6022_a3fe_11ea_9198_acde48001122level0_row18\" class=\"row_heading level0 row18\" >32</th>\n                        <td id=\"T_3f0a6022_a3fe_11ea_9198_acde48001122row18_col0\" class=\"data row18 col0\" >Flight Crew Multiengine; Flight Crew Air Transport Pilot (ATP); Flight Crew Instrument</td>\n                        <td id=\"T_3f0a6022_a3fe_11ea_9198_acde48001122row18_col1\" class=\"data row18 col1\" >1</td>\n            </tr>\n            <tr>\n                        <th id=\"T_3f0a6022_a3fe_11ea_9198_acde48001122level0_row19\" class=\"row_heading level0 row19\" >33</th>\n                        <td id=\"T_3f0a6022_a3fe_11ea_9198_acde48001122row19_col0\" class=\"data row19 col0\" >Flight Crew Multiengine; Flight Crew Commercial; Flight Crew Flight Instructor; Flight Crew Instrument</td>\n                        <td id=\"T_3f0a6022_a3fe_11ea_9198_acde48001122row19_col1\" class=\"data row19 col1\" >1</td>\n            </tr>\n            <tr>\n                        <th id=\"T_3f0a6022_a3fe_11ea_9198_acde48001122level0_row20\" class=\"row_heading level0 row20\" >35</th>\n                        <td id=\"T_3f0a6022_a3fe_11ea_9198_acde48001122row20_col0\" class=\"data row20 col0\" >Flight Crew Multiengine; Flight Crew Flight Instructor; Flight Crew Air Transport Pilot (ATP); Flight Crew Instrument</td>\n                        <td id=\"T_3f0a6022_a3fe_11ea_9198_acde48001122row20_col1\" class=\"data row20 col1\" >1</td>\n            </tr>\n            <tr>\n                        <th id=\"T_3f0a6022_a3fe_11ea_9198_acde48001122level0_row21\" class=\"row_heading level0 row21\" >3</th>\n                        <td id=\"T_3f0a6022_a3fe_11ea_9198_acde48001122row21_col0\" class=\"data row21 col0\" >Flight Crew Air Transport Pilot (ATP); Flight Crew Flight Engineer; Flight Crew Instrument; Flight Crew Multiengine</td>\n                        <td id=\"T_3f0a6022_a3fe_11ea_9198_acde48001122row21_col1\" class=\"data row21 col1\" >1</td>\n            </tr>\n            <tr>\n                        <th id=\"T_3f0a6022_a3fe_11ea_9198_acde48001122level0_row22\" class=\"row_heading level0 row22\" >30</th>\n                        <td id=\"T_3f0a6022_a3fe_11ea_9198_acde48001122row22_col0\" class=\"data row22 col0\" >Flight Crew Instrument; Flight Crew Rotorcraft; Flight Crew Private</td>\n                        <td id=\"T_3f0a6022_a3fe_11ea_9198_acde48001122row22_col1\" class=\"data row22 col1\" >1</td>\n            </tr>\n            <tr>\n                        <th id=\"T_3f0a6022_a3fe_11ea_9198_acde48001122level0_row23\" class=\"row_heading level0 row23\" >2</th>\n                        <td id=\"T_3f0a6022_a3fe_11ea_9198_acde48001122row23_col0\" class=\"data row23 col0\" >Flight Crew Air Transport Pilot (ATP); Flight Crew Flight Engineer; Flight Crew Flight Instructor; Flight Crew Multiengine; Flight Crew Instrument</td>\n                        <td id=\"T_3f0a6022_a3fe_11ea_9198_acde48001122row23_col1\" class=\"data row23 col1\" >1</td>\n            </tr>\n            <tr>\n                        <th id=\"T_3f0a6022_a3fe_11ea_9198_acde48001122level0_row24\" class=\"row_heading level0 row24\" >39</th>\n                        <td id=\"T_3f0a6022_a3fe_11ea_9198_acde48001122row24_col0\" class=\"data row24 col0\" >Flight Crew Private; Flight Crew Sea</td>\n                        <td id=\"T_3f0a6022_a3fe_11ea_9198_acde48001122row24_col1\" class=\"data row24 col1\" >1</td>\n            </tr>\n            <tr>\n                        <th id=\"T_3f0a6022_a3fe_11ea_9198_acde48001122level0_row25\" class=\"row_heading level0 row25\" >40</th>\n                        <td id=\"T_3f0a6022_a3fe_11ea_9198_acde48001122row25_col0\" class=\"data row25 col0\" >Flight Crew Student</td>\n                        <td id=\"T_3f0a6022_a3fe_11ea_9198_acde48001122row25_col1\" class=\"data row25 col1\" >1</td>\n            </tr>\n            <tr>\n                        <th id=\"T_3f0a6022_a3fe_11ea_9198_acde48001122level0_row26\" class=\"row_heading level0 row26\" >41</th>\n                        <td id=\"T_3f0a6022_a3fe_11ea_9198_acde48001122row26_col0\" class=\"data row26 col0\" >Maintenance Powerplant; Maintenance Airframe</td>\n                        <td id=\"T_3f0a6022_a3fe_11ea_9198_acde48001122row26_col1\" class=\"data row26 col1\" >1</td>\n            </tr>\n            <tr>\n                        <th id=\"T_3f0a6022_a3fe_11ea_9198_acde48001122level0_row27\" class=\"row_heading level0 row27\" >42</th>\n                        <td id=\"T_3f0a6022_a3fe_11ea_9198_acde48001122row27_col0\" class=\"data row27 col0\" >Other Federal Agent</td>\n                        <td id=\"T_3f0a6022_a3fe_11ea_9198_acde48001122row27_col1\" class=\"data row27 col1\" >1</td>\n            </tr>\n            <tr>\n                        <th id=\"T_3f0a6022_a3fe_11ea_9198_acde48001122level0_row28\" class=\"row_heading level0 row28\" >43</th>\n                        <td id=\"T_3f0a6022_a3fe_11ea_9198_acde48001122row28_col0\" class=\"data row28 col0\" >Other RPIC</td>\n                        <td id=\"T_3f0a6022_a3fe_11ea_9198_acde48001122row28_col1\" class=\"data row28 col1\" >1</td>\n            </tr>\n            <tr>\n                        <th id=\"T_3f0a6022_a3fe_11ea_9198_acde48001122level0_row29\" class=\"row_heading level0 row29\" >31</th>\n                        <td id=\"T_3f0a6022_a3fe_11ea_9198_acde48001122row29_col0\" class=\"data row29 col0\" >Flight Crew Multiengine; Flight Crew Air Transport Pilot (ATP); Flight Crew Flight Engineer; Flight Crew Flight Instructor; Flight Crew Instrument</td>\n                        <td id=\"T_3f0a6022_a3fe_11ea_9198_acde48001122row29_col1\" class=\"data row29 col1\" >1</td>\n            </tr>\n            <tr>\n                        <th id=\"T_3f0a6022_a3fe_11ea_9198_acde48001122level0_row30\" class=\"row_heading level0 row30\" >5</th>\n                        <td id=\"T_3f0a6022_a3fe_11ea_9198_acde48001122row30_col0\" class=\"data row30 col0\" >Flight Crew Air Transport Pilot (ATP); Flight Crew Instrument; Flight Crew Multiengine</td>\n                        <td id=\"T_3f0a6022_a3fe_11ea_9198_acde48001122row30_col1\" class=\"data row30 col1\" >1</td>\n            </tr>\n            <tr>\n                        <th id=\"T_3f0a6022_a3fe_11ea_9198_acde48001122level0_row31\" class=\"row_heading level0 row31\" >14</th>\n                        <td id=\"T_3f0a6022_a3fe_11ea_9198_acde48001122row31_col0\" class=\"data row31 col0\" >Flight Crew Commercial; Flight Crew Multiengine; Flight Crew Instrument; Flight Crew Flight Instructor</td>\n                        <td id=\"T_3f0a6022_a3fe_11ea_9198_acde48001122row31_col1\" class=\"data row31 col1\" >1</td>\n            </tr>\n            <tr>\n                        <th id=\"T_3f0a6022_a3fe_11ea_9198_acde48001122level0_row32\" class=\"row_heading level0 row32\" >27</th>\n                        <td id=\"T_3f0a6022_a3fe_11ea_9198_acde48001122row32_col0\" class=\"data row32 col0\" >Flight Crew Instrument; Flight Crew Multiengine; Flight Crew Commercial</td>\n                        <td id=\"T_3f0a6022_a3fe_11ea_9198_acde48001122row32_col1\" class=\"data row32 col1\" >1</td>\n            </tr>\n            <tr>\n                        <th id=\"T_3f0a6022_a3fe_11ea_9198_acde48001122level0_row33\" class=\"row_heading level0 row33\" >9</th>\n                        <td id=\"T_3f0a6022_a3fe_11ea_9198_acde48001122row33_col0\" class=\"data row33 col0\" >Flight Crew Commercial; Flight Crew Flight Instructor; Flight Crew Multiengine; Flight Crew Instrument</td>\n                        <td id=\"T_3f0a6022_a3fe_11ea_9198_acde48001122row33_col1\" class=\"data row33 col1\" >1</td>\n            </tr>\n            <tr>\n                        <th id=\"T_3f0a6022_a3fe_11ea_9198_acde48001122level0_row34\" class=\"row_heading level0 row34\" >24</th>\n                        <td id=\"T_3f0a6022_a3fe_11ea_9198_acde48001122row34_col0\" class=\"data row34 col0\" >Flight Crew Instrument; Flight Crew Multiengine</td>\n                        <td id=\"T_3f0a6022_a3fe_11ea_9198_acde48001122row34_col1\" class=\"data row34 col1\" >1</td>\n            </tr>\n            <tr>\n                        <th id=\"T_3f0a6022_a3fe_11ea_9198_acde48001122level0_row35\" class=\"row_heading level0 row35\" >23</th>\n                        <td id=\"T_3f0a6022_a3fe_11ea_9198_acde48001122row35_col0\" class=\"data row35 col0\" >Flight Crew Instrument; Flight Crew Flight Instructor; Flight Crew Air Transport Pilot (ATP); Flight Crew Multiengine</td>\n                        <td id=\"T_3f0a6022_a3fe_11ea_9198_acde48001122row35_col1\" class=\"data row35 col1\" >1</td>\n            </tr>\n            <tr>\n                        <th id=\"T_3f0a6022_a3fe_11ea_9198_acde48001122level0_row36\" class=\"row_heading level0 row36\" >11</th>\n                        <td id=\"T_3f0a6022_a3fe_11ea_9198_acde48001122row36_col0\" class=\"data row36 col0\" >Flight Crew Commercial; Flight Crew Instrument; Flight Crew Flight Instructor; Flight Crew Multiengine</td>\n                        <td id=\"T_3f0a6022_a3fe_11ea_9198_acde48001122row36_col1\" class=\"data row36 col1\" >1</td>\n            </tr>\n            <tr>\n                        <th id=\"T_3f0a6022_a3fe_11ea_9198_acde48001122level0_row37\" class=\"row_heading level0 row37\" >21</th>\n                        <td id=\"T_3f0a6022_a3fe_11ea_9198_acde48001122row37_col0\" class=\"data row37 col0\" >Flight Crew Instrument; Flight Crew Commercial</td>\n                        <td id=\"T_3f0a6022_a3fe_11ea_9198_acde48001122row37_col1\" class=\"data row37 col1\" >1</td>\n            </tr>\n            <tr>\n                        <th id=\"T_3f0a6022_a3fe_11ea_9198_acde48001122level0_row38\" class=\"row_heading level0 row38\" >20</th>\n                        <td id=\"T_3f0a6022_a3fe_11ea_9198_acde48001122row38_col0\" class=\"data row38 col0\" >Flight Crew Instrument; Flight Crew Air Transport Pilot (ATP); Flight Crew Multiengine</td>\n                        <td id=\"T_3f0a6022_a3fe_11ea_9198_acde48001122row38_col1\" class=\"data row38 col1\" >1</td>\n            </tr>\n            <tr>\n                        <th id=\"T_3f0a6022_a3fe_11ea_9198_acde48001122level0_row39\" class=\"row_heading level0 row39\" >12</th>\n                        <td id=\"T_3f0a6022_a3fe_11ea_9198_acde48001122row39_col0\" class=\"data row39 col0\" >Flight Crew Commercial; Flight Crew Instrument; Flight Crew Multiengine</td>\n                        <td id=\"T_3f0a6022_a3fe_11ea_9198_acde48001122row39_col1\" class=\"data row39 col1\" >1</td>\n            </tr>\n            <tr>\n                        <th id=\"T_3f0a6022_a3fe_11ea_9198_acde48001122level0_row40\" class=\"row_heading level0 row40\" >18</th>\n                        <td id=\"T_3f0a6022_a3fe_11ea_9198_acde48001122row40_col0\" class=\"data row40 col0\" >Flight Crew Flight Instructor; Flight Crew Instrument; Flight Crew Commercial; Flight Crew Multiengine</td>\n                        <td id=\"T_3f0a6022_a3fe_11ea_9198_acde48001122row40_col1\" class=\"data row40 col1\" >1</td>\n            </tr>\n            <tr>\n                        <th id=\"T_3f0a6022_a3fe_11ea_9198_acde48001122level0_row41\" class=\"row_heading level0 row41\" >17</th>\n                        <td id=\"T_3f0a6022_a3fe_11ea_9198_acde48001122row41_col0\" class=\"data row41 col0\" >Flight Crew Flight Instructor; Flight Crew Instrument; Flight Crew Air Transport Pilot (ATP); Flight Crew Multiengine</td>\n                        <td id=\"T_3f0a6022_a3fe_11ea_9198_acde48001122row41_col1\" class=\"data row41 col1\" >1</td>\n            </tr>\n            <tr>\n                        <th id=\"T_3f0a6022_a3fe_11ea_9198_acde48001122level0_row42\" class=\"row_heading level0 row42\" >16</th>\n                        <td id=\"T_3f0a6022_a3fe_11ea_9198_acde48001122row42_col0\" class=\"data row42 col0\" >Flight Crew Flight Instructor; Flight Crew Commercial</td>\n                        <td id=\"T_3f0a6022_a3fe_11ea_9198_acde48001122row42_col1\" class=\"data row42 col1\" >1</td>\n            </tr>\n            <tr>\n                        <th id=\"T_3f0a6022_a3fe_11ea_9198_acde48001122level0_row43\" class=\"row_heading level0 row43\" >15</th>\n                        <td id=\"T_3f0a6022_a3fe_11ea_9198_acde48001122row43_col0\" class=\"data row43 col0\" >Flight Crew Flight Instructor; Flight Crew Air Transport Pilot (ATP); Flight Crew Instrument; Flight Crew Multiengine</td>\n                        <td id=\"T_3f0a6022_a3fe_11ea_9198_acde48001122row43_col1\" class=\"data row43 col1\" >1</td>\n            </tr>\n            <tr>\n                        <th id=\"T_3f0a6022_a3fe_11ea_9198_acde48001122level0_row44\" class=\"row_heading level0 row44\" >22</th>\n                        <td id=\"T_3f0a6022_a3fe_11ea_9198_acde48001122row44_col0\" class=\"data row44 col0\" >Flight Crew Instrument; Flight Crew Commercial; Flight Crew Multiengine; Flight Crew Flight Instructor</td>\n                        <td id=\"T_3f0a6022_a3fe_11ea_9198_acde48001122row44_col1\" class=\"data row44 col1\" >1</td>\n            </tr>\n    </tbody></table>"
     },
     "metadata": {},
     "execution_count": 76
    }
   ],
   "source": [
    "qualification = train.groupby('Qualification').count()['ACN'].reset_index().sort_values(by='ACN',ascending=False)\n",
    "qualification.style.background_gradient(cmap='Set2')\n"
   ]
  },
  {
   "cell_type": "code",
   "execution_count": 28,
   "metadata": {},
   "outputs": [
    {
     "output_type": "display_data",
     "data": {
      "application/vnd.plotly.v1+json": {
       "config": {
        "plotlyServerURL": "https://plot.ly"
       },
       "data": [
        {
         "textinfo": "value+percent initial",
         "type": "funnel",
         "x": [
          8,
          5,
          3,
          1
         ],
         "y": [
          "Malfunctioning",
          "Failed",
          "Improperly Operated",
          "Design; Malfunctioning"
         ]
        }
       ],
       "layout": {
        "margin": {
         "l": 20,
         "r": 20
        },
        "template": {
         "data": {
          "bar": [
           {
            "error_x": {
             "color": "#2a3f5f"
            },
            "error_y": {
             "color": "#2a3f5f"
            },
            "marker": {
             "line": {
              "color": "#E5ECF6",
              "width": 0.5
             }
            },
            "type": "bar"
           }
          ],
          "barpolar": [
           {
            "marker": {
             "line": {
              "color": "#E5ECF6",
              "width": 0.5
             }
            },
            "type": "barpolar"
           }
          ],
          "carpet": [
           {
            "aaxis": {
             "endlinecolor": "#2a3f5f",
             "gridcolor": "white",
             "linecolor": "white",
             "minorgridcolor": "white",
             "startlinecolor": "#2a3f5f"
            },
            "baxis": {
             "endlinecolor": "#2a3f5f",
             "gridcolor": "white",
             "linecolor": "white",
             "minorgridcolor": "white",
             "startlinecolor": "#2a3f5f"
            },
            "type": "carpet"
           }
          ],
          "choropleth": [
           {
            "colorbar": {
             "outlinewidth": 0,
             "ticks": ""
            },
            "type": "choropleth"
           }
          ],
          "contour": [
           {
            "colorbar": {
             "outlinewidth": 0,
             "ticks": ""
            },
            "colorscale": [
             [
              0,
              "#0d0887"
             ],
             [
              0.1111111111111111,
              "#46039f"
             ],
             [
              0.2222222222222222,
              "#7201a8"
             ],
             [
              0.3333333333333333,
              "#9c179e"
             ],
             [
              0.4444444444444444,
              "#bd3786"
             ],
             [
              0.5555555555555556,
              "#d8576b"
             ],
             [
              0.6666666666666666,
              "#ed7953"
             ],
             [
              0.7777777777777778,
              "#fb9f3a"
             ],
             [
              0.8888888888888888,
              "#fdca26"
             ],
             [
              1,
              "#f0f921"
             ]
            ],
            "type": "contour"
           }
          ],
          "contourcarpet": [
           {
            "colorbar": {
             "outlinewidth": 0,
             "ticks": ""
            },
            "type": "contourcarpet"
           }
          ],
          "heatmap": [
           {
            "colorbar": {
             "outlinewidth": 0,
             "ticks": ""
            },
            "colorscale": [
             [
              0,
              "#0d0887"
             ],
             [
              0.1111111111111111,
              "#46039f"
             ],
             [
              0.2222222222222222,
              "#7201a8"
             ],
             [
              0.3333333333333333,
              "#9c179e"
             ],
             [
              0.4444444444444444,
              "#bd3786"
             ],
             [
              0.5555555555555556,
              "#d8576b"
             ],
             [
              0.6666666666666666,
              "#ed7953"
             ],
             [
              0.7777777777777778,
              "#fb9f3a"
             ],
             [
              0.8888888888888888,
              "#fdca26"
             ],
             [
              1,
              "#f0f921"
             ]
            ],
            "type": "heatmap"
           }
          ],
          "heatmapgl": [
           {
            "colorbar": {
             "outlinewidth": 0,
             "ticks": ""
            },
            "colorscale": [
             [
              0,
              "#0d0887"
             ],
             [
              0.1111111111111111,
              "#46039f"
             ],
             [
              0.2222222222222222,
              "#7201a8"
             ],
             [
              0.3333333333333333,
              "#9c179e"
             ],
             [
              0.4444444444444444,
              "#bd3786"
             ],
             [
              0.5555555555555556,
              "#d8576b"
             ],
             [
              0.6666666666666666,
              "#ed7953"
             ],
             [
              0.7777777777777778,
              "#fb9f3a"
             ],
             [
              0.8888888888888888,
              "#fdca26"
             ],
             [
              1,
              "#f0f921"
             ]
            ],
            "type": "heatmapgl"
           }
          ],
          "histogram": [
           {
            "marker": {
             "colorbar": {
              "outlinewidth": 0,
              "ticks": ""
             }
            },
            "type": "histogram"
           }
          ],
          "histogram2d": [
           {
            "colorbar": {
             "outlinewidth": 0,
             "ticks": ""
            },
            "colorscale": [
             [
              0,
              "#0d0887"
             ],
             [
              0.1111111111111111,
              "#46039f"
             ],
             [
              0.2222222222222222,
              "#7201a8"
             ],
             [
              0.3333333333333333,
              "#9c179e"
             ],
             [
              0.4444444444444444,
              "#bd3786"
             ],
             [
              0.5555555555555556,
              "#d8576b"
             ],
             [
              0.6666666666666666,
              "#ed7953"
             ],
             [
              0.7777777777777778,
              "#fb9f3a"
             ],
             [
              0.8888888888888888,
              "#fdca26"
             ],
             [
              1,
              "#f0f921"
             ]
            ],
            "type": "histogram2d"
           }
          ],
          "histogram2dcontour": [
           {
            "colorbar": {
             "outlinewidth": 0,
             "ticks": ""
            },
            "colorscale": [
             [
              0,
              "#0d0887"
             ],
             [
              0.1111111111111111,
              "#46039f"
             ],
             [
              0.2222222222222222,
              "#7201a8"
             ],
             [
              0.3333333333333333,
              "#9c179e"
             ],
             [
              0.4444444444444444,
              "#bd3786"
             ],
             [
              0.5555555555555556,
              "#d8576b"
             ],
             [
              0.6666666666666666,
              "#ed7953"
             ],
             [
              0.7777777777777778,
              "#fb9f3a"
             ],
             [
              0.8888888888888888,
              "#fdca26"
             ],
             [
              1,
              "#f0f921"
             ]
            ],
            "type": "histogram2dcontour"
           }
          ],
          "mesh3d": [
           {
            "colorbar": {
             "outlinewidth": 0,
             "ticks": ""
            },
            "type": "mesh3d"
           }
          ],
          "parcoords": [
           {
            "line": {
             "colorbar": {
              "outlinewidth": 0,
              "ticks": ""
             }
            },
            "type": "parcoords"
           }
          ],
          "pie": [
           {
            "automargin": true,
            "type": "pie"
           }
          ],
          "scatter": [
           {
            "marker": {
             "colorbar": {
              "outlinewidth": 0,
              "ticks": ""
             }
            },
            "type": "scatter"
           }
          ],
          "scatter3d": [
           {
            "line": {
             "colorbar": {
              "outlinewidth": 0,
              "ticks": ""
             }
            },
            "marker": {
             "colorbar": {
              "outlinewidth": 0,
              "ticks": ""
             }
            },
            "type": "scatter3d"
           }
          ],
          "scattercarpet": [
           {
            "marker": {
             "colorbar": {
              "outlinewidth": 0,
              "ticks": ""
             }
            },
            "type": "scattercarpet"
           }
          ],
          "scattergeo": [
           {
            "marker": {
             "colorbar": {
              "outlinewidth": 0,
              "ticks": ""
             }
            },
            "type": "scattergeo"
           }
          ],
          "scattergl": [
           {
            "marker": {
             "colorbar": {
              "outlinewidth": 0,
              "ticks": ""
             }
            },
            "type": "scattergl"
           }
          ],
          "scattermapbox": [
           {
            "marker": {
             "colorbar": {
              "outlinewidth": 0,
              "ticks": ""
             }
            },
            "type": "scattermapbox"
           }
          ],
          "scatterpolar": [
           {
            "marker": {
             "colorbar": {
              "outlinewidth": 0,
              "ticks": ""
             }
            },
            "type": "scatterpolar"
           }
          ],
          "scatterpolargl": [
           {
            "marker": {
             "colorbar": {
              "outlinewidth": 0,
              "ticks": ""
             }
            },
            "type": "scatterpolargl"
           }
          ],
          "scatterternary": [
           {
            "marker": {
             "colorbar": {
              "outlinewidth": 0,
              "ticks": ""
             }
            },
            "type": "scatterternary"
           }
          ],
          "surface": [
           {
            "colorbar": {
             "outlinewidth": 0,
             "ticks": ""
            },
            "colorscale": [
             [
              0,
              "#0d0887"
             ],
             [
              0.1111111111111111,
              "#46039f"
             ],
             [
              0.2222222222222222,
              "#7201a8"
             ],
             [
              0.3333333333333333,
              "#9c179e"
             ],
             [
              0.4444444444444444,
              "#bd3786"
             ],
             [
              0.5555555555555556,
              "#d8576b"
             ],
             [
              0.6666666666666666,
              "#ed7953"
             ],
             [
              0.7777777777777778,
              "#fb9f3a"
             ],
             [
              0.8888888888888888,
              "#fdca26"
             ],
             [
              1,
              "#f0f921"
             ]
            ],
            "type": "surface"
           }
          ],
          "table": [
           {
            "cells": {
             "fill": {
              "color": "#EBF0F8"
             },
             "line": {
              "color": "white"
             }
            },
            "header": {
             "fill": {
              "color": "#C8D4E3"
             },
             "line": {
              "color": "white"
             }
            },
            "type": "table"
           }
          ]
         },
         "layout": {
          "annotationdefaults": {
           "arrowcolor": "#2a3f5f",
           "arrowhead": 0,
           "arrowwidth": 1
          },
          "coloraxis": {
           "colorbar": {
            "outlinewidth": 0,
            "ticks": ""
           }
          },
          "colorscale": {
           "diverging": [
            [
             0,
             "#8e0152"
            ],
            [
             0.1,
             "#c51b7d"
            ],
            [
             0.2,
             "#de77ae"
            ],
            [
             0.3,
             "#f1b6da"
            ],
            [
             0.4,
             "#fde0ef"
            ],
            [
             0.5,
             "#f7f7f7"
            ],
            [
             0.6,
             "#e6f5d0"
            ],
            [
             0.7,
             "#b8e186"
            ],
            [
             0.8,
             "#7fbc41"
            ],
            [
             0.9,
             "#4d9221"
            ],
            [
             1,
             "#276419"
            ]
           ],
           "sequential": [
            [
             0,
             "#0d0887"
            ],
            [
             0.1111111111111111,
             "#46039f"
            ],
            [
             0.2222222222222222,
             "#7201a8"
            ],
            [
             0.3333333333333333,
             "#9c179e"
            ],
            [
             0.4444444444444444,
             "#bd3786"
            ],
            [
             0.5555555555555556,
             "#d8576b"
            ],
            [
             0.6666666666666666,
             "#ed7953"
            ],
            [
             0.7777777777777778,
             "#fb9f3a"
            ],
            [
             0.8888888888888888,
             "#fdca26"
            ],
            [
             1,
             "#f0f921"
            ]
           ],
           "sequentialminus": [
            [
             0,
             "#0d0887"
            ],
            [
             0.1111111111111111,
             "#46039f"
            ],
            [
             0.2222222222222222,
             "#7201a8"
            ],
            [
             0.3333333333333333,
             "#9c179e"
            ],
            [
             0.4444444444444444,
             "#bd3786"
            ],
            [
             0.5555555555555556,
             "#d8576b"
            ],
            [
             0.6666666666666666,
             "#ed7953"
            ],
            [
             0.7777777777777778,
             "#fb9f3a"
            ],
            [
             0.8888888888888888,
             "#fdca26"
            ],
            [
             1,
             "#f0f921"
            ]
           ]
          },
          "colorway": [
           "#636efa",
           "#EF553B",
           "#00cc96",
           "#ab63fa",
           "#FFA15A",
           "#19d3f3",
           "#FF6692",
           "#B6E880",
           "#FF97FF",
           "#FECB52"
          ],
          "font": {
           "color": "#2a3f5f"
          },
          "geo": {
           "bgcolor": "white",
           "lakecolor": "white",
           "landcolor": "#E5ECF6",
           "showlakes": true,
           "showland": true,
           "subunitcolor": "white"
          },
          "hoverlabel": {
           "align": "left"
          },
          "hovermode": "closest",
          "mapbox": {
           "style": "light"
          },
          "paper_bgcolor": "white",
          "plot_bgcolor": "#E5ECF6",
          "polar": {
           "angularaxis": {
            "gridcolor": "white",
            "linecolor": "white",
            "ticks": ""
           },
           "bgcolor": "#E5ECF6",
           "radialaxis": {
            "gridcolor": "white",
            "linecolor": "white",
            "ticks": ""
           }
          },
          "scene": {
           "xaxis": {
            "backgroundcolor": "#E5ECF6",
            "gridcolor": "white",
            "gridwidth": 2,
            "linecolor": "white",
            "showbackground": true,
            "ticks": "",
            "zerolinecolor": "white"
           },
           "yaxis": {
            "backgroundcolor": "#E5ECF6",
            "gridcolor": "white",
            "gridwidth": 2,
            "linecolor": "white",
            "showbackground": true,
            "ticks": "",
            "zerolinecolor": "white"
           },
           "zaxis": {
            "backgroundcolor": "#E5ECF6",
            "gridcolor": "white",
            "gridwidth": 2,
            "linecolor": "white",
            "showbackground": true,
            "ticks": "",
            "zerolinecolor": "white"
           }
          },
          "shapedefaults": {
           "line": {
            "color": "#2a3f5f"
           }
          },
          "ternary": {
           "aaxis": {
            "gridcolor": "white",
            "linecolor": "white",
            "ticks": ""
           },
           "baxis": {
            "gridcolor": "white",
            "linecolor": "white",
            "ticks": ""
           },
           "bgcolor": "#E5ECF6",
           "caxis": {
            "gridcolor": "white",
            "linecolor": "white",
            "ticks": ""
           }
          },
          "title": {
           "x": 0.05
          },
          "xaxis": {
           "automargin": true,
           "gridcolor": "white",
           "linecolor": "white",
           "ticks": "",
           "title": {
            "standoff": 15
           },
           "zerolinecolor": "white",
           "zerolinewidth": 2
          },
          "yaxis": {
           "automargin": true,
           "gridcolor": "white",
           "linecolor": "white",
           "ticks": "",
           "title": {
            "standoff": 15
           },
           "zerolinecolor": "white",
           "zerolinewidth": 2
          }
         }
        },
        "title": {
         "text": "Funnel-Chart of Problem Distribution"
        }
       }
      }
     },
     "metadata": {}
    }
   ],
   "source": [
    "problem = train.groupby('Problem').count()['ACN'].reset_index().sort_values(by='ACN',ascending=False)\n",
    "\n",
    "trace = go.Funnel(\n",
    "    y =problem['Problem'],\n",
    "    x = problem['ACN'],\n",
    "    textinfo = \"value+percent initial\")\n",
    "\n",
    "layout = go.Layout(title = \"Funnel-Chart of Problem Distribution\",\n",
    "    margin = {\"l\": 20, \"r\": 20})\n",
    "\n",
    "go.Figure([trace],layout)\n"
   ]
  },
  {
   "cell_type": "markdown",
   "metadata": {},
   "source": [
    "- Flight Condition distribution"
   ]
  },
  {
   "cell_type": "code",
   "execution_count": 29,
   "metadata": {},
   "outputs": [
    {
     "output_type": "execute_result",
     "data": {
      "text/plain": "<pandas.io.formats.style.Styler at 0x12612abe0>",
      "text/html": "<style  type=\"text/css\" >\n    #T_0f64e0c4_a3f7_11ea_9198_acde48001122row0_col1 {\n            background-color:  #fc7f00;\n            color:  #000000;\n        }    #T_0f64e0c4_a3f7_11ea_9198_acde48001122row1_col1 {\n            background-color:  #e8fb6b;\n            color:  #000000;\n        }    #T_0f64e0c4_a3f7_11ea_9198_acde48001122row2_col1 {\n            background-color:  #e6fd72;\n            color:  #000000;\n        }    #T_0f64e0c4_a3f7_11ea_9198_acde48001122row3_col1 {\n            background-color:  #e4ff7a;\n            color:  #000000;\n        }</style><table id=\"T_0f64e0c4_a3f7_11ea_9198_acde48001122\" ><thead>    <tr>        <th class=\"blank level0\" ></th>        <th class=\"col_heading level0 col0\" >Flight Conditions</th>        <th class=\"col_heading level0 col1\" >ACN</th>    </tr></thead><tbody>\n                <tr>\n                        <th id=\"T_0f64e0c4_a3f7_11ea_9198_acde48001122level0_row0\" class=\"row_heading level0 row0\" >3</th>\n                        <td id=\"T_0f64e0c4_a3f7_11ea_9198_acde48001122row0_col0\" class=\"data row0 col0\" >VMC</td>\n                        <td id=\"T_0f64e0c4_a3f7_11ea_9198_acde48001122row0_col1\" class=\"data row0 col1\" >102</td>\n            </tr>\n            <tr>\n                        <th id=\"T_0f64e0c4_a3f7_11ea_9198_acde48001122level0_row1\" class=\"row_heading level0 row1\" >0</th>\n                        <td id=\"T_0f64e0c4_a3f7_11ea_9198_acde48001122row1_col0\" class=\"data row1 col0\" >IMC</td>\n                        <td id=\"T_0f64e0c4_a3f7_11ea_9198_acde48001122row1_col1\" class=\"data row1 col1\" >5</td>\n            </tr>\n            <tr>\n                        <th id=\"T_0f64e0c4_a3f7_11ea_9198_acde48001122level0_row2\" class=\"row_heading level0 row2\" >2</th>\n                        <td id=\"T_0f64e0c4_a3f7_11ea_9198_acde48001122row2_col0\" class=\"data row2 col0\" >Mixed</td>\n                        <td id=\"T_0f64e0c4_a3f7_11ea_9198_acde48001122row2_col1\" class=\"data row2 col1\" >3</td>\n            </tr>\n            <tr>\n                        <th id=\"T_0f64e0c4_a3f7_11ea_9198_acde48001122level0_row3\" class=\"row_heading level0 row3\" >1</th>\n                        <td id=\"T_0f64e0c4_a3f7_11ea_9198_acde48001122row3_col0\" class=\"data row3 col0\" >Marginal</td>\n                        <td id=\"T_0f64e0c4_a3f7_11ea_9198_acde48001122row3_col1\" class=\"data row3 col1\" >1</td>\n            </tr>\n    </tbody></table>"
     },
     "metadata": {},
     "execution_count": 29
    }
   ],
   "source": [
    "flycondition = train.groupby('Flight Conditions').count()['ACN'].reset_index().sort_values(by='ACN',ascending=False)\n",
    "flycondition.style.background_gradient(cmap='Wistia')"
   ]
  },
  {
   "cell_type": "code",
   "execution_count": 30,
   "metadata": {},
   "outputs": [
    {
     "output_type": "display_data",
     "data": {
      "application/vnd.plotly.v1+json": {
       "config": {
        "plotlyServerURL": "https://plot.ly"
       },
       "data": [
        {
         "textinfo": "value+percent initial",
         "type": "funnel",
         "x": [
          102,
          5,
          3,
          1
         ],
         "y": [
          "VMC",
          "IMC",
          "Mixed",
          "Marginal"
         ]
        }
       ],
       "layout": {
        "margin": {
         "l": 20,
         "r": 20
        },
        "template": {
         "data": {
          "bar": [
           {
            "error_x": {
             "color": "#2a3f5f"
            },
            "error_y": {
             "color": "#2a3f5f"
            },
            "marker": {
             "line": {
              "color": "#E5ECF6",
              "width": 0.5
             }
            },
            "type": "bar"
           }
          ],
          "barpolar": [
           {
            "marker": {
             "line": {
              "color": "#E5ECF6",
              "width": 0.5
             }
            },
            "type": "barpolar"
           }
          ],
          "carpet": [
           {
            "aaxis": {
             "endlinecolor": "#2a3f5f",
             "gridcolor": "white",
             "linecolor": "white",
             "minorgridcolor": "white",
             "startlinecolor": "#2a3f5f"
            },
            "baxis": {
             "endlinecolor": "#2a3f5f",
             "gridcolor": "white",
             "linecolor": "white",
             "minorgridcolor": "white",
             "startlinecolor": "#2a3f5f"
            },
            "type": "carpet"
           }
          ],
          "choropleth": [
           {
            "colorbar": {
             "outlinewidth": 0,
             "ticks": ""
            },
            "type": "choropleth"
           }
          ],
          "contour": [
           {
            "colorbar": {
             "outlinewidth": 0,
             "ticks": ""
            },
            "colorscale": [
             [
              0,
              "#0d0887"
             ],
             [
              0.1111111111111111,
              "#46039f"
             ],
             [
              0.2222222222222222,
              "#7201a8"
             ],
             [
              0.3333333333333333,
              "#9c179e"
             ],
             [
              0.4444444444444444,
              "#bd3786"
             ],
             [
              0.5555555555555556,
              "#d8576b"
             ],
             [
              0.6666666666666666,
              "#ed7953"
             ],
             [
              0.7777777777777778,
              "#fb9f3a"
             ],
             [
              0.8888888888888888,
              "#fdca26"
             ],
             [
              1,
              "#f0f921"
             ]
            ],
            "type": "contour"
           }
          ],
          "contourcarpet": [
           {
            "colorbar": {
             "outlinewidth": 0,
             "ticks": ""
            },
            "type": "contourcarpet"
           }
          ],
          "heatmap": [
           {
            "colorbar": {
             "outlinewidth": 0,
             "ticks": ""
            },
            "colorscale": [
             [
              0,
              "#0d0887"
             ],
             [
              0.1111111111111111,
              "#46039f"
             ],
             [
              0.2222222222222222,
              "#7201a8"
             ],
             [
              0.3333333333333333,
              "#9c179e"
             ],
             [
              0.4444444444444444,
              "#bd3786"
             ],
             [
              0.5555555555555556,
              "#d8576b"
             ],
             [
              0.6666666666666666,
              "#ed7953"
             ],
             [
              0.7777777777777778,
              "#fb9f3a"
             ],
             [
              0.8888888888888888,
              "#fdca26"
             ],
             [
              1,
              "#f0f921"
             ]
            ],
            "type": "heatmap"
           }
          ],
          "heatmapgl": [
           {
            "colorbar": {
             "outlinewidth": 0,
             "ticks": ""
            },
            "colorscale": [
             [
              0,
              "#0d0887"
             ],
             [
              0.1111111111111111,
              "#46039f"
             ],
             [
              0.2222222222222222,
              "#7201a8"
             ],
             [
              0.3333333333333333,
              "#9c179e"
             ],
             [
              0.4444444444444444,
              "#bd3786"
             ],
             [
              0.5555555555555556,
              "#d8576b"
             ],
             [
              0.6666666666666666,
              "#ed7953"
             ],
             [
              0.7777777777777778,
              "#fb9f3a"
             ],
             [
              0.8888888888888888,
              "#fdca26"
             ],
             [
              1,
              "#f0f921"
             ]
            ],
            "type": "heatmapgl"
           }
          ],
          "histogram": [
           {
            "marker": {
             "colorbar": {
              "outlinewidth": 0,
              "ticks": ""
             }
            },
            "type": "histogram"
           }
          ],
          "histogram2d": [
           {
            "colorbar": {
             "outlinewidth": 0,
             "ticks": ""
            },
            "colorscale": [
             [
              0,
              "#0d0887"
             ],
             [
              0.1111111111111111,
              "#46039f"
             ],
             [
              0.2222222222222222,
              "#7201a8"
             ],
             [
              0.3333333333333333,
              "#9c179e"
             ],
             [
              0.4444444444444444,
              "#bd3786"
             ],
             [
              0.5555555555555556,
              "#d8576b"
             ],
             [
              0.6666666666666666,
              "#ed7953"
             ],
             [
              0.7777777777777778,
              "#fb9f3a"
             ],
             [
              0.8888888888888888,
              "#fdca26"
             ],
             [
              1,
              "#f0f921"
             ]
            ],
            "type": "histogram2d"
           }
          ],
          "histogram2dcontour": [
           {
            "colorbar": {
             "outlinewidth": 0,
             "ticks": ""
            },
            "colorscale": [
             [
              0,
              "#0d0887"
             ],
             [
              0.1111111111111111,
              "#46039f"
             ],
             [
              0.2222222222222222,
              "#7201a8"
             ],
             [
              0.3333333333333333,
              "#9c179e"
             ],
             [
              0.4444444444444444,
              "#bd3786"
             ],
             [
              0.5555555555555556,
              "#d8576b"
             ],
             [
              0.6666666666666666,
              "#ed7953"
             ],
             [
              0.7777777777777778,
              "#fb9f3a"
             ],
             [
              0.8888888888888888,
              "#fdca26"
             ],
             [
              1,
              "#f0f921"
             ]
            ],
            "type": "histogram2dcontour"
           }
          ],
          "mesh3d": [
           {
            "colorbar": {
             "outlinewidth": 0,
             "ticks": ""
            },
            "type": "mesh3d"
           }
          ],
          "parcoords": [
           {
            "line": {
             "colorbar": {
              "outlinewidth": 0,
              "ticks": ""
             }
            },
            "type": "parcoords"
           }
          ],
          "pie": [
           {
            "automargin": true,
            "type": "pie"
           }
          ],
          "scatter": [
           {
            "marker": {
             "colorbar": {
              "outlinewidth": 0,
              "ticks": ""
             }
            },
            "type": "scatter"
           }
          ],
          "scatter3d": [
           {
            "line": {
             "colorbar": {
              "outlinewidth": 0,
              "ticks": ""
             }
            },
            "marker": {
             "colorbar": {
              "outlinewidth": 0,
              "ticks": ""
             }
            },
            "type": "scatter3d"
           }
          ],
          "scattercarpet": [
           {
            "marker": {
             "colorbar": {
              "outlinewidth": 0,
              "ticks": ""
             }
            },
            "type": "scattercarpet"
           }
          ],
          "scattergeo": [
           {
            "marker": {
             "colorbar": {
              "outlinewidth": 0,
              "ticks": ""
             }
            },
            "type": "scattergeo"
           }
          ],
          "scattergl": [
           {
            "marker": {
             "colorbar": {
              "outlinewidth": 0,
              "ticks": ""
             }
            },
            "type": "scattergl"
           }
          ],
          "scattermapbox": [
           {
            "marker": {
             "colorbar": {
              "outlinewidth": 0,
              "ticks": ""
             }
            },
            "type": "scattermapbox"
           }
          ],
          "scatterpolar": [
           {
            "marker": {
             "colorbar": {
              "outlinewidth": 0,
              "ticks": ""
             }
            },
            "type": "scatterpolar"
           }
          ],
          "scatterpolargl": [
           {
            "marker": {
             "colorbar": {
              "outlinewidth": 0,
              "ticks": ""
             }
            },
            "type": "scatterpolargl"
           }
          ],
          "scatterternary": [
           {
            "marker": {
             "colorbar": {
              "outlinewidth": 0,
              "ticks": ""
             }
            },
            "type": "scatterternary"
           }
          ],
          "surface": [
           {
            "colorbar": {
             "outlinewidth": 0,
             "ticks": ""
            },
            "colorscale": [
             [
              0,
              "#0d0887"
             ],
             [
              0.1111111111111111,
              "#46039f"
             ],
             [
              0.2222222222222222,
              "#7201a8"
             ],
             [
              0.3333333333333333,
              "#9c179e"
             ],
             [
              0.4444444444444444,
              "#bd3786"
             ],
             [
              0.5555555555555556,
              "#d8576b"
             ],
             [
              0.6666666666666666,
              "#ed7953"
             ],
             [
              0.7777777777777778,
              "#fb9f3a"
             ],
             [
              0.8888888888888888,
              "#fdca26"
             ],
             [
              1,
              "#f0f921"
             ]
            ],
            "type": "surface"
           }
          ],
          "table": [
           {
            "cells": {
             "fill": {
              "color": "#EBF0F8"
             },
             "line": {
              "color": "white"
             }
            },
            "header": {
             "fill": {
              "color": "#C8D4E3"
             },
             "line": {
              "color": "white"
             }
            },
            "type": "table"
           }
          ]
         },
         "layout": {
          "annotationdefaults": {
           "arrowcolor": "#2a3f5f",
           "arrowhead": 0,
           "arrowwidth": 1
          },
          "coloraxis": {
           "colorbar": {
            "outlinewidth": 0,
            "ticks": ""
           }
          },
          "colorscale": {
           "diverging": [
            [
             0,
             "#8e0152"
            ],
            [
             0.1,
             "#c51b7d"
            ],
            [
             0.2,
             "#de77ae"
            ],
            [
             0.3,
             "#f1b6da"
            ],
            [
             0.4,
             "#fde0ef"
            ],
            [
             0.5,
             "#f7f7f7"
            ],
            [
             0.6,
             "#e6f5d0"
            ],
            [
             0.7,
             "#b8e186"
            ],
            [
             0.8,
             "#7fbc41"
            ],
            [
             0.9,
             "#4d9221"
            ],
            [
             1,
             "#276419"
            ]
           ],
           "sequential": [
            [
             0,
             "#0d0887"
            ],
            [
             0.1111111111111111,
             "#46039f"
            ],
            [
             0.2222222222222222,
             "#7201a8"
            ],
            [
             0.3333333333333333,
             "#9c179e"
            ],
            [
             0.4444444444444444,
             "#bd3786"
            ],
            [
             0.5555555555555556,
             "#d8576b"
            ],
            [
             0.6666666666666666,
             "#ed7953"
            ],
            [
             0.7777777777777778,
             "#fb9f3a"
            ],
            [
             0.8888888888888888,
             "#fdca26"
            ],
            [
             1,
             "#f0f921"
            ]
           ],
           "sequentialminus": [
            [
             0,
             "#0d0887"
            ],
            [
             0.1111111111111111,
             "#46039f"
            ],
            [
             0.2222222222222222,
             "#7201a8"
            ],
            [
             0.3333333333333333,
             "#9c179e"
            ],
            [
             0.4444444444444444,
             "#bd3786"
            ],
            [
             0.5555555555555556,
             "#d8576b"
            ],
            [
             0.6666666666666666,
             "#ed7953"
            ],
            [
             0.7777777777777778,
             "#fb9f3a"
            ],
            [
             0.8888888888888888,
             "#fdca26"
            ],
            [
             1,
             "#f0f921"
            ]
           ]
          },
          "colorway": [
           "#636efa",
           "#EF553B",
           "#00cc96",
           "#ab63fa",
           "#FFA15A",
           "#19d3f3",
           "#FF6692",
           "#B6E880",
           "#FF97FF",
           "#FECB52"
          ],
          "font": {
           "color": "#2a3f5f"
          },
          "geo": {
           "bgcolor": "white",
           "lakecolor": "white",
           "landcolor": "#E5ECF6",
           "showlakes": true,
           "showland": true,
           "subunitcolor": "white"
          },
          "hoverlabel": {
           "align": "left"
          },
          "hovermode": "closest",
          "mapbox": {
           "style": "light"
          },
          "paper_bgcolor": "white",
          "plot_bgcolor": "#E5ECF6",
          "polar": {
           "angularaxis": {
            "gridcolor": "white",
            "linecolor": "white",
            "ticks": ""
           },
           "bgcolor": "#E5ECF6",
           "radialaxis": {
            "gridcolor": "white",
            "linecolor": "white",
            "ticks": ""
           }
          },
          "scene": {
           "xaxis": {
            "backgroundcolor": "#E5ECF6",
            "gridcolor": "white",
            "gridwidth": 2,
            "linecolor": "white",
            "showbackground": true,
            "ticks": "",
            "zerolinecolor": "white"
           },
           "yaxis": {
            "backgroundcolor": "#E5ECF6",
            "gridcolor": "white",
            "gridwidth": 2,
            "linecolor": "white",
            "showbackground": true,
            "ticks": "",
            "zerolinecolor": "white"
           },
           "zaxis": {
            "backgroundcolor": "#E5ECF6",
            "gridcolor": "white",
            "gridwidth": 2,
            "linecolor": "white",
            "showbackground": true,
            "ticks": "",
            "zerolinecolor": "white"
           }
          },
          "shapedefaults": {
           "line": {
            "color": "#2a3f5f"
           }
          },
          "ternary": {
           "aaxis": {
            "gridcolor": "white",
            "linecolor": "white",
            "ticks": ""
           },
           "baxis": {
            "gridcolor": "white",
            "linecolor": "white",
            "ticks": ""
           },
           "bgcolor": "#E5ECF6",
           "caxis": {
            "gridcolor": "white",
            "linecolor": "white",
            "ticks": ""
           }
          },
          "title": {
           "x": 0.05
          },
          "xaxis": {
           "automargin": true,
           "gridcolor": "white",
           "linecolor": "white",
           "ticks": "",
           "title": {
            "standoff": 15
           },
           "zerolinecolor": "white",
           "zerolinewidth": 2
          },
          "yaxis": {
           "automargin": true,
           "gridcolor": "white",
           "linecolor": "white",
           "ticks": "",
           "title": {
            "standoff": 15
           },
           "zerolinecolor": "white",
           "zerolinewidth": 2
          }
         }
        },
        "title": {
         "text": "Funnel-Chart of Flight Condition Distribution"
        }
       }
      }
     },
     "metadata": {}
    }
   ],
   "source": [
    "trace = go.Funnel(\n",
    "    y =flycondition['Flight Conditions'],\n",
    "    x = flycondition.ACN,\n",
    "    textinfo = \"value+percent initial\")\n",
    "\n",
    "layout = go.Layout(title = \"Funnel-Chart of Flight Condition Distribution\",\n",
    "    margin = {\"l\": 20, \"r\": 20})\n",
    "\n",
    "go.Figure([trace],layout)"
   ]
  },
  {
   "cell_type": "markdown",
   "metadata": {},
   "source": [
    "- Mishap time distribution"
   ]
  },
  {
   "cell_type": "code",
   "execution_count": 71,
   "metadata": {},
   "outputs": [
    {
     "output_type": "display_data",
     "data": {
      "text/plain": "<Figure size 640x480 with 1 Axes>",
      "image/svg+xml": "<?xml version=\"1.0\" encoding=\"utf-8\" standalone=\"no\"?>\n<!DOCTYPE svg PUBLIC \"-//W3C//DTD SVG 1.1//EN\"\n  \"http://www.w3.org/Graphics/SVG/1.1/DTD/svg11.dtd\">\n<!-- Created with matplotlib (https://matplotlib.org/) -->\n<svg height=\"429.183115pt\" version=\"1.1\" viewBox=\"0 0 496.68375 429.183115\" width=\"496.68375pt\" xmlns=\"http://www.w3.org/2000/svg\" xmlns:xlink=\"http://www.w3.org/1999/xlink\">\n <defs>\n  <style type=\"text/css\">\n*{stroke-linecap:butt;stroke-linejoin:round;}\n  </style>\n </defs>\n <g id=\"figure_1\">\n  <g id=\"patch_1\">\n   <path d=\"M 0 429.183115 \nL 496.68375 429.183115 \nL 496.68375 0 \nL 0 0 \nz\n\" style=\"fill:#bfbfbf;\"/>\n  </g>\n  <g id=\"axes_1\">\n   <g id=\"patch_2\">\n    <path d=\"M 43.08375 358.606875 \nL 489.48375 358.606875 \nL 489.48375 13.006875 \nL 43.08375 13.006875 \nz\n\" style=\"fill:#ffffff;\"/>\n   </g>\n   <g id=\"patch_3\">\n    <path clip-path=\"url(#p62cabf1de0)\" d=\"M 70.98375 358.606875 \nL 126.78375 358.606875 \nL 126.78375 299.361161 \nL 70.98375 299.361161 \nz\n\" style=\"fill:#ffc222;stroke:#000000;stroke-linejoin:miter;\"/>\n   </g>\n   <g id=\"patch_4\">\n    <path clip-path=\"url(#p62cabf1de0)\" d=\"M 182.58375 358.606875 \nL 238.38375 358.606875 \nL 238.38375 62.378304 \nL 182.58375 62.378304 \nz\n\" style=\"fill:#ffc222;stroke:#000000;stroke-linejoin:miter;\"/>\n   </g>\n   <g id=\"patch_5\">\n    <path clip-path=\"url(#p62cabf1de0)\" d=\"M 294.18375 358.606875 \nL 349.98375 358.606875 \nL 349.98375 57.441161 \nL 294.18375 57.441161 \nz\n\" style=\"fill:#ffc222;stroke:#000000;stroke-linejoin:miter;\"/>\n   </g>\n   <g id=\"patch_6\">\n    <path clip-path=\"url(#p62cabf1de0)\" d=\"M 405.78375 358.606875 \nL 461.58375 358.606875 \nL 461.58375 210.492589 \nL 405.78375 210.492589 \nz\n\" style=\"fill:#ffc222;stroke:#000000;stroke-linejoin:miter;\"/>\n   </g>\n   <g id=\"patch_7\">\n    <path d=\"M 43.08375 358.606875 \nL 43.08375 13.006875 \n\" style=\"fill:none;stroke:#000000;stroke-linecap:square;stroke-linejoin:miter;\"/>\n   </g>\n   <g id=\"patch_8\">\n    <path d=\"M 489.48375 358.606875 \nL 489.48375 13.006875 \n\" style=\"fill:none;stroke:#000000;stroke-linecap:square;stroke-linejoin:miter;\"/>\n   </g>\n   <g id=\"patch_9\">\n    <path d=\"M 43.08375 358.606875 \nL 489.48375 358.606875 \n\" style=\"fill:none;stroke:#000000;stroke-linecap:square;stroke-linejoin:miter;\"/>\n   </g>\n   <g id=\"patch_10\">\n    <path d=\"M 43.08375 13.006875 \nL 489.48375 13.006875 \n\" style=\"fill:none;stroke:#000000;stroke-linecap:square;stroke-linejoin:miter;\"/>\n   </g>\n   <g id=\"matplotlib.axis_1\">\n    <g id=\"xtick_1\">\n     <g id=\"line2d_1\">\n      <defs>\n       <path d=\"M 0 0 \nL 0 -4 \n\" id=\"m4f868a5792\" style=\"stroke:#000000;stroke-width:0.5;\"/>\n      </defs>\n      <g>\n       <use style=\"stroke:#000000;stroke-width:0.5;\" x=\"98.88375\" xlink:href=\"#m4f868a5792\" y=\"358.606875\"/>\n      </g>\n     </g>\n     <g id=\"line2d_2\">\n      <defs>\n       <path d=\"M 0 0 \nL 0 4 \n\" id=\"m1ba59e5546\" style=\"stroke:#000000;stroke-width:0.5;\"/>\n      </defs>\n      <g>\n       <use style=\"stroke:#000000;stroke-width:0.5;\" x=\"98.88375\" xlink:href=\"#m1ba59e5546\" y=\"13.006875\"/>\n      </g>\n     </g>\n     <g id=\"text_1\">\n      <!-- 0001-0600 -->\n      <defs>\n       <path d=\"M 31.78125 66.40625 \nQ 24.171875 66.40625 20.328125 58.90625 \nQ 16.5 51.421875 16.5 36.375 \nQ 16.5 21.390625 20.328125 13.890625 \nQ 24.171875 6.390625 31.78125 6.390625 \nQ 39.453125 6.390625 43.28125 13.890625 \nQ 47.125 21.390625 47.125 36.375 \nQ 47.125 51.421875 43.28125 58.90625 \nQ 39.453125 66.40625 31.78125 66.40625 \nz\nM 31.78125 74.21875 \nQ 44.046875 74.21875 50.515625 64.515625 \nQ 56.984375 54.828125 56.984375 36.375 \nQ 56.984375 17.96875 50.515625 8.265625 \nQ 44.046875 -1.421875 31.78125 -1.421875 \nQ 19.53125 -1.421875 13.0625 8.265625 \nQ 6.59375 17.96875 6.59375 36.375 \nQ 6.59375 54.828125 13.0625 64.515625 \nQ 19.53125 74.21875 31.78125 74.21875 \nz\n\" id=\"DejaVuSans-48\"/>\n       <path d=\"M 12.40625 8.296875 \nL 28.515625 8.296875 \nL 28.515625 63.921875 \nL 10.984375 60.40625 \nL 10.984375 69.390625 \nL 28.421875 72.90625 \nL 38.28125 72.90625 \nL 38.28125 8.296875 \nL 54.390625 8.296875 \nL 54.390625 0 \nL 12.40625 0 \nz\n\" id=\"DejaVuSans-49\"/>\n       <path d=\"M 4.890625 31.390625 \nL 31.203125 31.390625 \nL 31.203125 23.390625 \nL 4.890625 23.390625 \nz\n\" id=\"DejaVuSans-45\"/>\n       <path d=\"M 33.015625 40.375 \nQ 26.375 40.375 22.484375 35.828125 \nQ 18.609375 31.296875 18.609375 23.390625 \nQ 18.609375 15.53125 22.484375 10.953125 \nQ 26.375 6.390625 33.015625 6.390625 \nQ 39.65625 6.390625 43.53125 10.953125 \nQ 47.40625 15.53125 47.40625 23.390625 \nQ 47.40625 31.296875 43.53125 35.828125 \nQ 39.65625 40.375 33.015625 40.375 \nz\nM 52.59375 71.296875 \nL 52.59375 62.3125 \nQ 48.875 64.0625 45.09375 64.984375 \nQ 41.3125 65.921875 37.59375 65.921875 \nQ 27.828125 65.921875 22.671875 59.328125 \nQ 17.53125 52.734375 16.796875 39.40625 \nQ 19.671875 43.65625 24.015625 45.921875 \nQ 28.375 48.1875 33.59375 48.1875 \nQ 44.578125 48.1875 50.953125 41.515625 \nQ 57.328125 34.859375 57.328125 23.390625 \nQ 57.328125 12.15625 50.6875 5.359375 \nQ 44.046875 -1.421875 33.015625 -1.421875 \nQ 20.359375 -1.421875 13.671875 8.265625 \nQ 6.984375 17.96875 6.984375 36.375 \nQ 6.984375 53.65625 15.1875 63.9375 \nQ 23.390625 74.21875 37.203125 74.21875 \nQ 40.921875 74.21875 44.703125 73.484375 \nQ 48.484375 72.75 52.59375 71.296875 \nz\n\" id=\"DejaVuSans-54\"/>\n      </defs>\n      <g transform=\"translate(72.216285 403.20809)rotate(-30)scale(0.12 -0.12)\">\n       <use xlink:href=\"#DejaVuSans-48\"/>\n       <use x=\"63.623047\" xlink:href=\"#DejaVuSans-48\"/>\n       <use x=\"127.246094\" xlink:href=\"#DejaVuSans-48\"/>\n       <use x=\"190.869141\" xlink:href=\"#DejaVuSans-49\"/>\n       <use x=\"254.492188\" xlink:href=\"#DejaVuSans-45\"/>\n       <use x=\"290.576172\" xlink:href=\"#DejaVuSans-48\"/>\n       <use x=\"354.199219\" xlink:href=\"#DejaVuSans-54\"/>\n       <use x=\"417.822266\" xlink:href=\"#DejaVuSans-48\"/>\n       <use x=\"481.445312\" xlink:href=\"#DejaVuSans-48\"/>\n      </g>\n     </g>\n    </g>\n    <g id=\"xtick_2\">\n     <g id=\"line2d_3\">\n      <g>\n       <use style=\"stroke:#000000;stroke-width:0.5;\" x=\"210.48375\" xlink:href=\"#m4f868a5792\" y=\"358.606875\"/>\n      </g>\n     </g>\n     <g id=\"line2d_4\">\n      <g>\n       <use style=\"stroke:#000000;stroke-width:0.5;\" x=\"210.48375\" xlink:href=\"#m1ba59e5546\" y=\"13.006875\"/>\n      </g>\n     </g>\n     <g id=\"text_2\">\n      <!-- 0601-1200 -->\n      <defs>\n       <path d=\"M 19.1875 8.296875 \nL 53.609375 8.296875 \nL 53.609375 0 \nL 7.328125 0 \nL 7.328125 8.296875 \nQ 12.9375 14.109375 22.625 23.890625 \nQ 32.328125 33.6875 34.8125 36.53125 \nQ 39.546875 41.84375 41.421875 45.53125 \nQ 43.3125 49.21875 43.3125 52.78125 \nQ 43.3125 58.59375 39.234375 62.25 \nQ 35.15625 65.921875 28.609375 65.921875 \nQ 23.96875 65.921875 18.8125 64.3125 \nQ 13.671875 62.703125 7.8125 59.421875 \nL 7.8125 69.390625 \nQ 13.765625 71.78125 18.9375 73 \nQ 24.125 74.21875 28.421875 74.21875 \nQ 39.75 74.21875 46.484375 68.546875 \nQ 53.21875 62.890625 53.21875 53.421875 \nQ 53.21875 48.921875 51.53125 44.890625 \nQ 49.859375 40.875 45.40625 35.40625 \nQ 44.1875 33.984375 37.640625 27.21875 \nQ 31.109375 20.453125 19.1875 8.296875 \nz\n\" id=\"DejaVuSans-50\"/>\n      </defs>\n      <g transform=\"translate(183.816285 403.20809)rotate(-30)scale(0.12 -0.12)\">\n       <use xlink:href=\"#DejaVuSans-48\"/>\n       <use x=\"63.623047\" xlink:href=\"#DejaVuSans-54\"/>\n       <use x=\"127.246094\" xlink:href=\"#DejaVuSans-48\"/>\n       <use x=\"190.869141\" xlink:href=\"#DejaVuSans-49\"/>\n       <use x=\"254.492188\" xlink:href=\"#DejaVuSans-45\"/>\n       <use x=\"290.576172\" xlink:href=\"#DejaVuSans-49\"/>\n       <use x=\"354.199219\" xlink:href=\"#DejaVuSans-50\"/>\n       <use x=\"417.822266\" xlink:href=\"#DejaVuSans-48\"/>\n       <use x=\"481.445312\" xlink:href=\"#DejaVuSans-48\"/>\n      </g>\n     </g>\n    </g>\n    <g id=\"xtick_3\">\n     <g id=\"line2d_5\">\n      <g>\n       <use style=\"stroke:#000000;stroke-width:0.5;\" x=\"322.08375\" xlink:href=\"#m4f868a5792\" y=\"358.606875\"/>\n      </g>\n     </g>\n     <g id=\"line2d_6\">\n      <g>\n       <use style=\"stroke:#000000;stroke-width:0.5;\" x=\"322.08375\" xlink:href=\"#m1ba59e5546\" y=\"13.006875\"/>\n      </g>\n     </g>\n     <g id=\"text_3\">\n      <!-- 1201-1800 -->\n      <defs>\n       <path d=\"M 31.78125 34.625 \nQ 24.75 34.625 20.71875 30.859375 \nQ 16.703125 27.09375 16.703125 20.515625 \nQ 16.703125 13.921875 20.71875 10.15625 \nQ 24.75 6.390625 31.78125 6.390625 \nQ 38.8125 6.390625 42.859375 10.171875 \nQ 46.921875 13.96875 46.921875 20.515625 \nQ 46.921875 27.09375 42.890625 30.859375 \nQ 38.875 34.625 31.78125 34.625 \nz\nM 21.921875 38.8125 \nQ 15.578125 40.375 12.03125 44.71875 \nQ 8.5 49.078125 8.5 55.328125 \nQ 8.5 64.0625 14.71875 69.140625 \nQ 20.953125 74.21875 31.78125 74.21875 \nQ 42.671875 74.21875 48.875 69.140625 \nQ 55.078125 64.0625 55.078125 55.328125 \nQ 55.078125 49.078125 51.53125 44.71875 \nQ 48 40.375 41.703125 38.8125 \nQ 48.828125 37.15625 52.796875 32.3125 \nQ 56.78125 27.484375 56.78125 20.515625 \nQ 56.78125 9.90625 50.3125 4.234375 \nQ 43.84375 -1.421875 31.78125 -1.421875 \nQ 19.734375 -1.421875 13.25 4.234375 \nQ 6.78125 9.90625 6.78125 20.515625 \nQ 6.78125 27.484375 10.78125 32.3125 \nQ 14.796875 37.15625 21.921875 38.8125 \nz\nM 18.3125 54.390625 \nQ 18.3125 48.734375 21.84375 45.5625 \nQ 25.390625 42.390625 31.78125 42.390625 \nQ 38.140625 42.390625 41.71875 45.5625 \nQ 45.3125 48.734375 45.3125 54.390625 \nQ 45.3125 60.0625 41.71875 63.234375 \nQ 38.140625 66.40625 31.78125 66.40625 \nQ 25.390625 66.40625 21.84375 63.234375 \nQ 18.3125 60.0625 18.3125 54.390625 \nz\n\" id=\"DejaVuSans-56\"/>\n      </defs>\n      <g transform=\"translate(295.416285 403.20809)rotate(-30)scale(0.12 -0.12)\">\n       <use xlink:href=\"#DejaVuSans-49\"/>\n       <use x=\"63.623047\" xlink:href=\"#DejaVuSans-50\"/>\n       <use x=\"127.246094\" xlink:href=\"#DejaVuSans-48\"/>\n       <use x=\"190.869141\" xlink:href=\"#DejaVuSans-49\"/>\n       <use x=\"254.492188\" xlink:href=\"#DejaVuSans-45\"/>\n       <use x=\"290.576172\" xlink:href=\"#DejaVuSans-49\"/>\n       <use x=\"354.199219\" xlink:href=\"#DejaVuSans-56\"/>\n       <use x=\"417.822266\" xlink:href=\"#DejaVuSans-48\"/>\n       <use x=\"481.445312\" xlink:href=\"#DejaVuSans-48\"/>\n      </g>\n     </g>\n    </g>\n    <g id=\"xtick_4\">\n     <g id=\"line2d_7\">\n      <g>\n       <use style=\"stroke:#000000;stroke-width:0.5;\" x=\"433.68375\" xlink:href=\"#m4f868a5792\" y=\"358.606875\"/>\n      </g>\n     </g>\n     <g id=\"line2d_8\">\n      <g>\n       <use style=\"stroke:#000000;stroke-width:0.5;\" x=\"433.68375\" xlink:href=\"#m1ba59e5546\" y=\"13.006875\"/>\n      </g>\n     </g>\n     <g id=\"text_4\">\n      <!-- 1801-2400 -->\n      <defs>\n       <path d=\"M 37.796875 64.3125 \nL 12.890625 25.390625 \nL 37.796875 25.390625 \nz\nM 35.203125 72.90625 \nL 47.609375 72.90625 \nL 47.609375 25.390625 \nL 58.015625 25.390625 \nL 58.015625 17.1875 \nL 47.609375 17.1875 \nL 47.609375 0 \nL 37.796875 0 \nL 37.796875 17.1875 \nL 4.890625 17.1875 \nL 4.890625 26.703125 \nz\n\" id=\"DejaVuSans-52\"/>\n      </defs>\n      <g transform=\"translate(407.016285 403.20809)rotate(-30)scale(0.12 -0.12)\">\n       <use xlink:href=\"#DejaVuSans-49\"/>\n       <use x=\"63.623047\" xlink:href=\"#DejaVuSans-56\"/>\n       <use x=\"127.246094\" xlink:href=\"#DejaVuSans-48\"/>\n       <use x=\"190.869141\" xlink:href=\"#DejaVuSans-49\"/>\n       <use x=\"254.492188\" xlink:href=\"#DejaVuSans-45\"/>\n       <use x=\"290.576172\" xlink:href=\"#DejaVuSans-50\"/>\n       <use x=\"354.199219\" xlink:href=\"#DejaVuSans-52\"/>\n       <use x=\"417.822266\" xlink:href=\"#DejaVuSans-48\"/>\n       <use x=\"481.445312\" xlink:href=\"#DejaVuSans-48\"/>\n      </g>\n     </g>\n    </g>\n    <g id=\"text_5\">\n     <!-- local time -->\n     <defs>\n      <path d=\"M 9.421875 75.984375 \nL 18.40625 75.984375 \nL 18.40625 0 \nL 9.421875 0 \nz\n\" id=\"DejaVuSans-108\"/>\n      <path d=\"M 30.609375 48.390625 \nQ 23.390625 48.390625 19.1875 42.75 \nQ 14.984375 37.109375 14.984375 27.296875 \nQ 14.984375 17.484375 19.15625 11.84375 \nQ 23.34375 6.203125 30.609375 6.203125 \nQ 37.796875 6.203125 41.984375 11.859375 \nQ 46.1875 17.53125 46.1875 27.296875 \nQ 46.1875 37.015625 41.984375 42.703125 \nQ 37.796875 48.390625 30.609375 48.390625 \nz\nM 30.609375 56 \nQ 42.328125 56 49.015625 48.375 \nQ 55.71875 40.765625 55.71875 27.296875 \nQ 55.71875 13.875 49.015625 6.21875 \nQ 42.328125 -1.421875 30.609375 -1.421875 \nQ 18.84375 -1.421875 12.171875 6.21875 \nQ 5.515625 13.875 5.515625 27.296875 \nQ 5.515625 40.765625 12.171875 48.375 \nQ 18.84375 56 30.609375 56 \nz\n\" id=\"DejaVuSans-111\"/>\n      <path d=\"M 48.78125 52.59375 \nL 48.78125 44.1875 \nQ 44.96875 46.296875 41.140625 47.34375 \nQ 37.3125 48.390625 33.40625 48.390625 \nQ 24.65625 48.390625 19.8125 42.84375 \nQ 14.984375 37.3125 14.984375 27.296875 \nQ 14.984375 17.28125 19.8125 11.734375 \nQ 24.65625 6.203125 33.40625 6.203125 \nQ 37.3125 6.203125 41.140625 7.25 \nQ 44.96875 8.296875 48.78125 10.40625 \nL 48.78125 2.09375 \nQ 45.015625 0.34375 40.984375 -0.53125 \nQ 36.96875 -1.421875 32.421875 -1.421875 \nQ 20.0625 -1.421875 12.78125 6.34375 \nQ 5.515625 14.109375 5.515625 27.296875 \nQ 5.515625 40.671875 12.859375 48.328125 \nQ 20.21875 56 33.015625 56 \nQ 37.15625 56 41.109375 55.140625 \nQ 45.0625 54.296875 48.78125 52.59375 \nz\n\" id=\"DejaVuSans-99\"/>\n      <path d=\"M 34.28125 27.484375 \nQ 23.390625 27.484375 19.1875 25 \nQ 14.984375 22.515625 14.984375 16.5 \nQ 14.984375 11.71875 18.140625 8.90625 \nQ 21.296875 6.109375 26.703125 6.109375 \nQ 34.1875 6.109375 38.703125 11.40625 \nQ 43.21875 16.703125 43.21875 25.484375 \nL 43.21875 27.484375 \nz\nM 52.203125 31.203125 \nL 52.203125 0 \nL 43.21875 0 \nL 43.21875 8.296875 \nQ 40.140625 3.328125 35.546875 0.953125 \nQ 30.953125 -1.421875 24.3125 -1.421875 \nQ 15.921875 -1.421875 10.953125 3.296875 \nQ 6 8.015625 6 15.921875 \nQ 6 25.140625 12.171875 29.828125 \nQ 18.359375 34.515625 30.609375 34.515625 \nL 43.21875 34.515625 \nL 43.21875 35.40625 \nQ 43.21875 41.609375 39.140625 45 \nQ 35.0625 48.390625 27.6875 48.390625 \nQ 23 48.390625 18.546875 47.265625 \nQ 14.109375 46.140625 10.015625 43.890625 \nL 10.015625 52.203125 \nQ 14.9375 54.109375 19.578125 55.046875 \nQ 24.21875 56 28.609375 56 \nQ 40.484375 56 46.34375 49.84375 \nQ 52.203125 43.703125 52.203125 31.203125 \nz\n\" id=\"DejaVuSans-97\"/>\n      <path id=\"DejaVuSans-32\"/>\n      <path d=\"M 18.3125 70.21875 \nL 18.3125 54.6875 \nL 36.8125 54.6875 \nL 36.8125 47.703125 \nL 18.3125 47.703125 \nL 18.3125 18.015625 \nQ 18.3125 11.328125 20.140625 9.421875 \nQ 21.96875 7.515625 27.59375 7.515625 \nL 36.8125 7.515625 \nL 36.8125 0 \nL 27.59375 0 \nQ 17.1875 0 13.234375 3.875 \nQ 9.28125 7.765625 9.28125 18.015625 \nL 9.28125 47.703125 \nL 2.6875 47.703125 \nL 2.6875 54.6875 \nL 9.28125 54.6875 \nL 9.28125 70.21875 \nz\n\" id=\"DejaVuSans-116\"/>\n      <path d=\"M 9.421875 54.6875 \nL 18.40625 54.6875 \nL 18.40625 0 \nL 9.421875 0 \nz\nM 9.421875 75.984375 \nL 18.40625 75.984375 \nL 18.40625 64.59375 \nL 9.421875 64.59375 \nz\n\" id=\"DejaVuSans-105\"/>\n      <path d=\"M 52 44.1875 \nQ 55.375 50.25 60.0625 53.125 \nQ 64.75 56 71.09375 56 \nQ 79.640625 56 84.28125 50.015625 \nQ 88.921875 44.046875 88.921875 33.015625 \nL 88.921875 0 \nL 79.890625 0 \nL 79.890625 32.71875 \nQ 79.890625 40.578125 77.09375 44.375 \nQ 74.3125 48.1875 68.609375 48.1875 \nQ 61.625 48.1875 57.5625 43.546875 \nQ 53.515625 38.921875 53.515625 30.90625 \nL 53.515625 0 \nL 44.484375 0 \nL 44.484375 32.71875 \nQ 44.484375 40.625 41.703125 44.40625 \nQ 38.921875 48.1875 33.109375 48.1875 \nQ 26.21875 48.1875 22.15625 43.53125 \nQ 18.109375 38.875 18.109375 30.90625 \nL 18.109375 0 \nL 9.078125 0 \nL 9.078125 54.6875 \nL 18.109375 54.6875 \nL 18.109375 46.1875 \nQ 21.1875 51.21875 25.484375 53.609375 \nQ 29.78125 56 35.6875 56 \nQ 41.65625 56 45.828125 52.96875 \nQ 50 49.953125 52 44.1875 \nz\n\" id=\"DejaVuSans-109\"/>\n      <path d=\"M 56.203125 29.59375 \nL 56.203125 25.203125 \nL 14.890625 25.203125 \nQ 15.484375 15.921875 20.484375 11.0625 \nQ 25.484375 6.203125 34.421875 6.203125 \nQ 39.59375 6.203125 44.453125 7.46875 \nQ 49.3125 8.734375 54.109375 11.28125 \nL 54.109375 2.78125 \nQ 49.265625 0.734375 44.1875 -0.34375 \nQ 39.109375 -1.421875 33.890625 -1.421875 \nQ 20.796875 -1.421875 13.15625 6.1875 \nQ 5.515625 13.8125 5.515625 26.8125 \nQ 5.515625 40.234375 12.765625 48.109375 \nQ 20.015625 56 32.328125 56 \nQ 43.359375 56 49.78125 48.890625 \nQ 56.203125 41.796875 56.203125 29.59375 \nz\nM 47.21875 32.234375 \nQ 47.125 39.59375 43.09375 43.984375 \nQ 39.0625 48.390625 32.421875 48.390625 \nQ 24.90625 48.390625 20.390625 44.140625 \nQ 15.875 39.890625 15.1875 32.171875 \nz\n\" id=\"DejaVuSans-101\"/>\n     </defs>\n     <g transform=\"translate(236.840625 419.48749)scale(0.12 -0.12)\">\n      <use xlink:href=\"#DejaVuSans-108\"/>\n      <use x=\"27.783203\" xlink:href=\"#DejaVuSans-111\"/>\n      <use x=\"88.964844\" xlink:href=\"#DejaVuSans-99\"/>\n      <use x=\"143.945312\" xlink:href=\"#DejaVuSans-97\"/>\n      <use x=\"205.224609\" xlink:href=\"#DejaVuSans-108\"/>\n      <use x=\"233.007812\" xlink:href=\"#DejaVuSans-32\"/>\n      <use x=\"264.794922\" xlink:href=\"#DejaVuSans-116\"/>\n      <use x=\"304.003906\" xlink:href=\"#DejaVuSans-105\"/>\n      <use x=\"331.787109\" xlink:href=\"#DejaVuSans-109\"/>\n      <use x=\"429.199219\" xlink:href=\"#DejaVuSans-101\"/>\n     </g>\n    </g>\n   </g>\n   <g id=\"matplotlib.axis_2\">\n    <g id=\"ytick_1\">\n     <g id=\"line2d_9\">\n      <defs>\n       <path d=\"M 0 0 \nL 4 0 \n\" id=\"m31edcdbc76\" style=\"stroke:#000000;stroke-width:0.5;\"/>\n      </defs>\n      <g>\n       <use style=\"stroke:#000000;stroke-width:0.5;\" x=\"43.08375\" xlink:href=\"#m31edcdbc76\" y=\"358.606875\"/>\n      </g>\n     </g>\n     <g id=\"line2d_10\">\n      <defs>\n       <path d=\"M 0 0 \nL -4 0 \n\" id=\"m81d5de477b\" style=\"stroke:#000000;stroke-width:0.5;\"/>\n      </defs>\n      <g>\n       <use style=\"stroke:#000000;stroke-width:0.5;\" x=\"489.48375\" xlink:href=\"#m81d5de477b\" y=\"358.606875\"/>\n      </g>\n     </g>\n     <g id=\"text_6\">\n      <!-- 0 -->\n      <g transform=\"translate(31.44875 361.918125)scale(0.12 -0.12)\">\n       <use xlink:href=\"#DejaVuSans-48\"/>\n      </g>\n     </g>\n    </g>\n    <g id=\"ytick_2\">\n     <g id=\"line2d_11\">\n      <g>\n       <use style=\"stroke:#000000;stroke-width:0.5;\" x=\"43.08375\" xlink:href=\"#m31edcdbc76\" y=\"309.235446\"/>\n      </g>\n     </g>\n     <g id=\"line2d_12\">\n      <g>\n       <use style=\"stroke:#000000;stroke-width:0.5;\" x=\"489.48375\" xlink:href=\"#m81d5de477b\" y=\"309.235446\"/>\n      </g>\n     </g>\n     <g id=\"text_7\">\n      <!-- 10 -->\n      <g transform=\"translate(23.81375 312.546696)scale(0.12 -0.12)\">\n       <use xlink:href=\"#DejaVuSans-49\"/>\n       <use x=\"63.623047\" xlink:href=\"#DejaVuSans-48\"/>\n      </g>\n     </g>\n    </g>\n    <g id=\"ytick_3\">\n     <g id=\"line2d_13\">\n      <g>\n       <use style=\"stroke:#000000;stroke-width:0.5;\" x=\"43.08375\" xlink:href=\"#m31edcdbc76\" y=\"259.864018\"/>\n      </g>\n     </g>\n     <g id=\"line2d_14\">\n      <g>\n       <use style=\"stroke:#000000;stroke-width:0.5;\" x=\"489.48375\" xlink:href=\"#m81d5de477b\" y=\"259.864018\"/>\n      </g>\n     </g>\n     <g id=\"text_8\">\n      <!-- 20 -->\n      <g transform=\"translate(23.81375 263.175268)scale(0.12 -0.12)\">\n       <use xlink:href=\"#DejaVuSans-50\"/>\n       <use x=\"63.623047\" xlink:href=\"#DejaVuSans-48\"/>\n      </g>\n     </g>\n    </g>\n    <g id=\"ytick_4\">\n     <g id=\"line2d_15\">\n      <g>\n       <use style=\"stroke:#000000;stroke-width:0.5;\" x=\"43.08375\" xlink:href=\"#m31edcdbc76\" y=\"210.492589\"/>\n      </g>\n     </g>\n     <g id=\"line2d_16\">\n      <g>\n       <use style=\"stroke:#000000;stroke-width:0.5;\" x=\"489.48375\" xlink:href=\"#m81d5de477b\" y=\"210.492589\"/>\n      </g>\n     </g>\n     <g id=\"text_9\">\n      <!-- 30 -->\n      <defs>\n       <path d=\"M 40.578125 39.3125 \nQ 47.65625 37.796875 51.625 33 \nQ 55.609375 28.21875 55.609375 21.1875 \nQ 55.609375 10.40625 48.1875 4.484375 \nQ 40.765625 -1.421875 27.09375 -1.421875 \nQ 22.515625 -1.421875 17.65625 -0.515625 \nQ 12.796875 0.390625 7.625 2.203125 \nL 7.625 11.71875 \nQ 11.71875 9.328125 16.59375 8.109375 \nQ 21.484375 6.890625 26.8125 6.890625 \nQ 36.078125 6.890625 40.9375 10.546875 \nQ 45.796875 14.203125 45.796875 21.1875 \nQ 45.796875 27.640625 41.28125 31.265625 \nQ 36.765625 34.90625 28.71875 34.90625 \nL 20.21875 34.90625 \nL 20.21875 43.015625 \nL 29.109375 43.015625 \nQ 36.375 43.015625 40.234375 45.921875 \nQ 44.09375 48.828125 44.09375 54.296875 \nQ 44.09375 59.90625 40.109375 62.90625 \nQ 36.140625 65.921875 28.71875 65.921875 \nQ 24.65625 65.921875 20.015625 65.03125 \nQ 15.375 64.15625 9.8125 62.3125 \nL 9.8125 71.09375 \nQ 15.4375 72.65625 20.34375 73.4375 \nQ 25.25 74.21875 29.59375 74.21875 \nQ 40.828125 74.21875 47.359375 69.109375 \nQ 53.90625 64.015625 53.90625 55.328125 \nQ 53.90625 49.265625 50.4375 45.09375 \nQ 46.96875 40.921875 40.578125 39.3125 \nz\n\" id=\"DejaVuSans-51\"/>\n      </defs>\n      <g transform=\"translate(23.81375 213.803839)scale(0.12 -0.12)\">\n       <use xlink:href=\"#DejaVuSans-51\"/>\n       <use x=\"63.623047\" xlink:href=\"#DejaVuSans-48\"/>\n      </g>\n     </g>\n    </g>\n    <g id=\"ytick_5\">\n     <g id=\"line2d_17\">\n      <g>\n       <use style=\"stroke:#000000;stroke-width:0.5;\" x=\"43.08375\" xlink:href=\"#m31edcdbc76\" y=\"161.121161\"/>\n      </g>\n     </g>\n     <g id=\"line2d_18\">\n      <g>\n       <use style=\"stroke:#000000;stroke-width:0.5;\" x=\"489.48375\" xlink:href=\"#m81d5de477b\" y=\"161.121161\"/>\n      </g>\n     </g>\n     <g id=\"text_10\">\n      <!-- 40 -->\n      <g transform=\"translate(23.81375 164.432411)scale(0.12 -0.12)\">\n       <use xlink:href=\"#DejaVuSans-52\"/>\n       <use x=\"63.623047\" xlink:href=\"#DejaVuSans-48\"/>\n      </g>\n     </g>\n    </g>\n    <g id=\"ytick_6\">\n     <g id=\"line2d_19\">\n      <g>\n       <use style=\"stroke:#000000;stroke-width:0.5;\" x=\"43.08375\" xlink:href=\"#m31edcdbc76\" y=\"111.749732\"/>\n      </g>\n     </g>\n     <g id=\"line2d_20\">\n      <g>\n       <use style=\"stroke:#000000;stroke-width:0.5;\" x=\"489.48375\" xlink:href=\"#m81d5de477b\" y=\"111.749732\"/>\n      </g>\n     </g>\n     <g id=\"text_11\">\n      <!-- 50 -->\n      <defs>\n       <path d=\"M 10.796875 72.90625 \nL 49.515625 72.90625 \nL 49.515625 64.59375 \nL 19.828125 64.59375 \nL 19.828125 46.734375 \nQ 21.96875 47.46875 24.109375 47.828125 \nQ 26.265625 48.1875 28.421875 48.1875 \nQ 40.625 48.1875 47.75 41.5 \nQ 54.890625 34.8125 54.890625 23.390625 \nQ 54.890625 11.625 47.5625 5.09375 \nQ 40.234375 -1.421875 26.90625 -1.421875 \nQ 22.3125 -1.421875 17.546875 -0.640625 \nQ 12.796875 0.140625 7.71875 1.703125 \nL 7.71875 11.625 \nQ 12.109375 9.234375 16.796875 8.0625 \nQ 21.484375 6.890625 26.703125 6.890625 \nQ 35.15625 6.890625 40.078125 11.328125 \nQ 45.015625 15.765625 45.015625 23.390625 \nQ 45.015625 31 40.078125 35.4375 \nQ 35.15625 39.890625 26.703125 39.890625 \nQ 22.75 39.890625 18.8125 39.015625 \nQ 14.890625 38.140625 10.796875 36.28125 \nz\n\" id=\"DejaVuSans-53\"/>\n      </defs>\n      <g transform=\"translate(23.81375 115.060982)scale(0.12 -0.12)\">\n       <use xlink:href=\"#DejaVuSans-53\"/>\n       <use x=\"63.623047\" xlink:href=\"#DejaVuSans-48\"/>\n      </g>\n     </g>\n    </g>\n    <g id=\"ytick_7\">\n     <g id=\"line2d_21\">\n      <g>\n       <use style=\"stroke:#000000;stroke-width:0.5;\" x=\"43.08375\" xlink:href=\"#m31edcdbc76\" y=\"62.378304\"/>\n      </g>\n     </g>\n     <g id=\"line2d_22\">\n      <g>\n       <use style=\"stroke:#000000;stroke-width:0.5;\" x=\"489.48375\" xlink:href=\"#m81d5de477b\" y=\"62.378304\"/>\n      </g>\n     </g>\n     <g id=\"text_12\">\n      <!-- 60 -->\n      <g transform=\"translate(23.81375 65.689554)scale(0.12 -0.12)\">\n       <use xlink:href=\"#DejaVuSans-54\"/>\n       <use x=\"63.623047\" xlink:href=\"#DejaVuSans-48\"/>\n      </g>\n     </g>\n    </g>\n    <g id=\"ytick_8\">\n     <g id=\"line2d_23\">\n      <g>\n       <use style=\"stroke:#000000;stroke-width:0.5;\" x=\"43.08375\" xlink:href=\"#m31edcdbc76\" y=\"13.006875\"/>\n      </g>\n     </g>\n     <g id=\"line2d_24\">\n      <g>\n       <use style=\"stroke:#000000;stroke-width:0.5;\" x=\"489.48375\" xlink:href=\"#m81d5de477b\" y=\"13.006875\"/>\n      </g>\n     </g>\n     <g id=\"text_13\">\n      <!-- 70 -->\n      <defs>\n       <path d=\"M 8.203125 72.90625 \nL 55.078125 72.90625 \nL 55.078125 68.703125 \nL 28.609375 0 \nL 18.3125 0 \nL 43.21875 64.59375 \nL 8.203125 64.59375 \nz\n\" id=\"DejaVuSans-55\"/>\n      </defs>\n      <g transform=\"translate(23.81375 16.318125)scale(0.12 -0.12)\">\n       <use xlink:href=\"#DejaVuSans-55\"/>\n       <use x=\"63.623047\" xlink:href=\"#DejaVuSans-48\"/>\n      </g>\n     </g>\n    </g>\n    <g id=\"text_14\">\n     <!-- frequency -->\n     <defs>\n      <path d=\"M 37.109375 75.984375 \nL 37.109375 68.5 \nL 28.515625 68.5 \nQ 23.6875 68.5 21.796875 66.546875 \nQ 19.921875 64.59375 19.921875 59.515625 \nL 19.921875 54.6875 \nL 34.71875 54.6875 \nL 34.71875 47.703125 \nL 19.921875 47.703125 \nL 19.921875 0 \nL 10.890625 0 \nL 10.890625 47.703125 \nL 2.296875 47.703125 \nL 2.296875 54.6875 \nL 10.890625 54.6875 \nL 10.890625 58.5 \nQ 10.890625 67.625 15.140625 71.796875 \nQ 19.390625 75.984375 28.609375 75.984375 \nz\n\" id=\"DejaVuSans-102\"/>\n      <path d=\"M 41.109375 46.296875 \nQ 39.59375 47.171875 37.8125 47.578125 \nQ 36.03125 48 33.890625 48 \nQ 26.265625 48 22.1875 43.046875 \nQ 18.109375 38.09375 18.109375 28.8125 \nL 18.109375 0 \nL 9.078125 0 \nL 9.078125 54.6875 \nL 18.109375 54.6875 \nL 18.109375 46.1875 \nQ 20.953125 51.171875 25.484375 53.578125 \nQ 30.03125 56 36.53125 56 \nQ 37.453125 56 38.578125 55.875 \nQ 39.703125 55.765625 41.0625 55.515625 \nz\n\" id=\"DejaVuSans-114\"/>\n      <path d=\"M 14.796875 27.296875 \nQ 14.796875 17.390625 18.875 11.75 \nQ 22.953125 6.109375 30.078125 6.109375 \nQ 37.203125 6.109375 41.296875 11.75 \nQ 45.40625 17.390625 45.40625 27.296875 \nQ 45.40625 37.203125 41.296875 42.84375 \nQ 37.203125 48.484375 30.078125 48.484375 \nQ 22.953125 48.484375 18.875 42.84375 \nQ 14.796875 37.203125 14.796875 27.296875 \nz\nM 45.40625 8.203125 \nQ 42.578125 3.328125 38.25 0.953125 \nQ 33.9375 -1.421875 27.875 -1.421875 \nQ 17.96875 -1.421875 11.734375 6.484375 \nQ 5.515625 14.40625 5.515625 27.296875 \nQ 5.515625 40.1875 11.734375 48.09375 \nQ 17.96875 56 27.875 56 \nQ 33.9375 56 38.25 53.625 \nQ 42.578125 51.265625 45.40625 46.390625 \nL 45.40625 54.6875 \nL 54.390625 54.6875 \nL 54.390625 -20.796875 \nL 45.40625 -20.796875 \nz\n\" id=\"DejaVuSans-113\"/>\n      <path d=\"M 8.5 21.578125 \nL 8.5 54.6875 \nL 17.484375 54.6875 \nL 17.484375 21.921875 \nQ 17.484375 14.15625 20.5 10.265625 \nQ 23.53125 6.390625 29.59375 6.390625 \nQ 36.859375 6.390625 41.078125 11.03125 \nQ 45.3125 15.671875 45.3125 23.6875 \nL 45.3125 54.6875 \nL 54.296875 54.6875 \nL 54.296875 0 \nL 45.3125 0 \nL 45.3125 8.40625 \nQ 42.046875 3.421875 37.71875 1 \nQ 33.40625 -1.421875 27.6875 -1.421875 \nQ 18.265625 -1.421875 13.375 4.4375 \nQ 8.5 10.296875 8.5 21.578125 \nz\nM 31.109375 56 \nz\n\" id=\"DejaVuSans-117\"/>\n      <path d=\"M 54.890625 33.015625 \nL 54.890625 0 \nL 45.90625 0 \nL 45.90625 32.71875 \nQ 45.90625 40.484375 42.875 44.328125 \nQ 39.84375 48.1875 33.796875 48.1875 \nQ 26.515625 48.1875 22.3125 43.546875 \nQ 18.109375 38.921875 18.109375 30.90625 \nL 18.109375 0 \nL 9.078125 0 \nL 9.078125 54.6875 \nL 18.109375 54.6875 \nL 18.109375 46.1875 \nQ 21.34375 51.125 25.703125 53.5625 \nQ 30.078125 56 35.796875 56 \nQ 45.21875 56 50.046875 50.171875 \nQ 54.890625 44.34375 54.890625 33.015625 \nz\n\" id=\"DejaVuSans-110\"/>\n      <path d=\"M 32.171875 -5.078125 \nQ 28.375 -14.84375 24.75 -17.8125 \nQ 21.140625 -20.796875 15.09375 -20.796875 \nL 7.90625 -20.796875 \nL 7.90625 -13.28125 \nL 13.1875 -13.28125 \nQ 16.890625 -13.28125 18.9375 -11.515625 \nQ 21 -9.765625 23.484375 -3.21875 \nL 25.09375 0.875 \nL 2.984375 54.6875 \nL 12.5 54.6875 \nL 29.59375 11.921875 \nL 46.6875 54.6875 \nL 56.203125 54.6875 \nz\n\" id=\"DejaVuSans-121\"/>\n     </defs>\n     <g transform=\"translate(16.318125 215.89875)rotate(-90)scale(0.12 -0.12)\">\n      <use xlink:href=\"#DejaVuSans-102\"/>\n      <use x=\"35.205078\" xlink:href=\"#DejaVuSans-114\"/>\n      <use x=\"74.068359\" xlink:href=\"#DejaVuSans-101\"/>\n      <use x=\"135.591797\" xlink:href=\"#DejaVuSans-113\"/>\n      <use x=\"199.068359\" xlink:href=\"#DejaVuSans-117\"/>\n      <use x=\"262.447266\" xlink:href=\"#DejaVuSans-101\"/>\n      <use x=\"323.970703\" xlink:href=\"#DejaVuSans-110\"/>\n      <use x=\"387.349609\" xlink:href=\"#DejaVuSans-99\"/>\n      <use x=\"442.330078\" xlink:href=\"#DejaVuSans-121\"/>\n     </g>\n    </g>\n   </g>\n  </g>\n </g>\n <defs>\n  <clipPath id=\"p62cabf1de0\">\n   <rect height=\"345.6\" width=\"446.4\" x=\"43.08375\" y=\"13.006875\"/>\n  </clipPath>\n </defs>\n</svg>\n",
      "image/png": "[encoded data removed]"
     },
     "metadata": {}
    }
   ],
   "source": [
    "time_data = train.groupby('Local Time Of Day').count()['ACN'].reset_index().sort_values(by='Local Time Of Day',ascending=False)\n",
    "time_order = ['0001-0600','0601-1200','1201-1800','1801-2400']\n",
    "time_data = time_data.set_index('Local Time Of Day').loc[time_order].plot(color='#FFC222',\n",
    "            kind=\"bar\", legend=False)\n",
    "plt.xticks(rotation=30)\n",
    "plt.xlabel('local time')\n",
    "plt.ylabel('frequency')\n",
    "plt.show()"
   ]
  },
  {
   "cell_type": "code",
   "execution_count": 32,
   "metadata": {},
   "outputs": [
    {
     "output_type": "display_data",
     "data": {
      "text/plain": "<Figure size 640x480 with 1 Axes>",
      "image/svg+xml": "<?xml version=\"1.0\" encoding=\"utf-8\" standalone=\"no\"?>\n<!DOCTYPE svg PUBLIC \"-//W3C//DTD SVG 1.1//EN\"\n  \"http://www.w3.org/Graphics/SVG/1.1/DTD/svg11.dtd\">\n<!-- Created with matplotlib (https://matplotlib.org/) -->\n<svg height=\"423.330053pt\" version=\"1.1\" viewBox=\"0 0 608.049982 423.330053\" width=\"608.049982pt\" xmlns=\"http://www.w3.org/2000/svg\" xmlns:xlink=\"http://www.w3.org/1999/xlink\">\n <defs>\n  <style type=\"text/css\">\n*{stroke-linecap:butt;stroke-linejoin:round;}\n  </style>\n </defs>\n <g id=\"figure_1\">\n  <g id=\"patch_1\">\n   <path d=\"M 0 423.330053 \nL 608.049982 423.330053 \nL 608.049982 0 \nL 0 0 \nz\n\" style=\"fill:#ffffff;\"/>\n  </g>\n  <g id=\"axes_1\">\n   <g id=\"patch_2\">\n    <path d=\"M 318.307439 130.990917 \nC 304.398175 119.319659 288.612936 110.08685 271.621895 103.684475 \nC 254.630854 97.2821 236.677919 93.802067 218.525293 93.392121 \nC 200.372668 92.982175 182.280934 95.648202 165.018189 101.277013 \nC 147.755445 106.905825 131.569497 115.41662 117.147532 126.448066 \nC 102.725567 137.479511 90.274612 150.873251 80.323283 166.060644 \nC 70.371953 181.248038 63.0631 198.011068 58.707027 215.63805 \nC 54.350953 233.265032 53.01019 251.502929 54.741662 269.577439 \nC 56.473133 287.651948 61.251983 305.303608 68.875321 321.783007 \nC 76.49866 338.262406 86.857055 353.332979 99.510732 366.354896 \nC 112.164409 379.376814 126.931725 390.163144 143.185722 398.255946 \nC 159.439719 406.348748 176.947071 411.631849 194.964491 413.880951 \nC 212.981911 416.130053 231.250757 415.312871 248.995413 411.464098 \nC 266.740069 407.615326 283.70581 400.790212 299.172342 391.278521 \nC 314.638874 381.766831 328.384175 369.705106 339.824679 355.605434 \nC 351.265183 341.505762 360.23666 325.570545 366.35822 308.476325 \nC 372.47978 291.382104 375.663548 273.374268 375.774354 255.217352 \nL 214.892921 254.23554 \nL 318.307439 130.990917 \nz\n\" style=\"fill:#4b3634;opacity:0.5;stroke:#4b3634;stroke-linejoin:miter;\"/>\n   </g>\n   <g id=\"patch_3\">\n    <path d=\"M 556.169642 188.058774 \nC 556.263269 172.716918 554.161888 157.440246 549.929422 142.693465 \nC 545.696955 127.946684 539.376759 113.880852 531.161089 100.923843 \nL 395.288208 187.076962 \nL 556.169642 188.058774 \nz\n\" style=\"fill:#363e44;opacity:0.5;stroke:#363e44;stroke-linejoin:miter;\"/>\n   </g>\n   <g id=\"patch_4\">\n    <path d=\"M 515.048848 68.906711 \nC 512.524825 64.92605 509.827088 61.05823 506.963446 57.314447 \nC 504.099805 53.570663 501.073024 49.954532 497.891864 46.476518 \nL 379.175968 155.05983 \nL 515.048848 68.906711 \nz\n\" style=\"fill:#3d463b;opacity:0.5;stroke:#3d463b;stroke-linejoin:miter;\"/>\n   </g>\n   <g id=\"patch_5\">\n    <path d=\"M 488.003499 35.424043 \nC 485.617797 32.815716 483.146781 30.286723 480.594475 27.841181 \nC 478.042168 25.395639 475.409958 23.034877 472.70213 20.762739 \nL 369.287603 144.007355 \nL 488.003499 35.424043 \nz\n\" style=\"fill:#433d44;opacity:0.5;stroke:#433d44;stroke-linejoin:miter;\"/>\n   </g>\n   <g id=\"patch_6\">\n    <path d=\"M 321.525127 127.773228 \nC 307.615864 116.10197 291.830625 106.869161 274.839584 100.466787 \nC 257.848543 94.064412 239.895607 90.584378 221.742982 90.174432 \nC 203.590356 89.764486 185.498622 92.430513 168.235878 98.059325 \nC 150.973133 103.688137 134.787185 112.198931 120.36522 123.230377 \nC 105.943255 134.261823 93.492301 147.655563 83.540971 162.842956 \nC 73.589642 178.030349 66.280789 194.79338 61.924715 212.420362 \nC 57.568642 230.047344 56.227879 248.285241 57.95935 266.35975 \nC 59.690821 284.434259 64.469671 302.08592 72.09301 318.565318 \nC 79.716349 335.044717 90.074743 350.115291 102.72842 363.137208 \nC 115.382098 376.159125 130.149413 386.945455 146.403411 395.038257 \nC 162.657408 403.131059 180.16476 408.41416 198.18218 410.663262 \nC 216.199599 412.912365 234.468445 412.095183 252.213102 408.24641 \nC 269.957758 404.397637 286.923498 397.572523 302.39003 388.060833 \nC 317.856563 378.549143 331.601864 366.487417 343.042368 352.387745 \nC 354.482871 338.288073 363.454348 322.352857 369.575909 305.258636 \nC 375.697469 288.164416 378.881236 270.15658 378.992043 251.999664 \nL 218.110609 251.017851 \nL 321.525127 127.773228 \nz\n\" style=\"fill:#fbb4ae;stroke:#000000;stroke-linejoin:miter;\"/>\n   </g>\n   <g id=\"patch_7\">\n    <path d=\"M 559.38733 184.841086 \nC 559.480957 169.499229 557.379576 154.222558 553.14711 139.475776 \nC 548.914644 124.728995 542.594448 110.663164 534.378778 97.706154 \nL 398.505897 183.859273 \nL 559.38733 184.841086 \nz\n\" style=\"fill:#b3cde3;stroke:#000000;stroke-linejoin:miter;\"/>\n   </g>\n   <g id=\"patch_8\">\n    <path d=\"M 518.266537 65.689022 \nC 515.742513 61.708361 513.044777 57.840542 510.181135 54.096758 \nC 507.317493 50.352975 504.290712 46.736843 501.109552 43.258829 \nL 382.393656 151.842141 \nL 518.266537 65.689022 \nz\n\" style=\"fill:#ccebc5;stroke:#000000;stroke-linejoin:miter;\"/>\n   </g>\n   <g id=\"patch_9\">\n    <path d=\"M 491.221188 32.206355 \nC 488.835486 29.598028 486.36447 27.069034 483.812163 24.623492 \nC 481.259857 22.177951 478.627646 19.817189 475.919818 17.545051 \nL 372.505292 140.789667 \nL 491.221188 32.206355 \nz\n\" style=\"fill:#decbe4;stroke:#000000;stroke-linejoin:miter;\"/>\n   </g>\n   <g id=\"matplotlib.axis_1\"/>\n   <g id=\"matplotlib.axis_2\"/>\n   <g id=\"text_1\">\n    <!-- Daylight -->\n    <defs>\n     <path d=\"M 19.671875 64.796875 \nL 19.671875 8.109375 \nL 31.59375 8.109375 \nQ 46.6875 8.109375 53.6875 14.9375 \nQ 60.6875 21.78125 60.6875 36.53125 \nQ 60.6875 51.171875 53.6875 57.984375 \nQ 46.6875 64.796875 31.59375 64.796875 \nz\nM 9.8125 72.90625 \nL 30.078125 72.90625 \nQ 51.265625 72.90625 61.171875 64.09375 \nQ 71.09375 55.28125 71.09375 36.53125 \nQ 71.09375 17.671875 61.125 8.828125 \nQ 51.171875 0 30.078125 0 \nL 9.8125 0 \nz\n\" id=\"DejaVuSans-68\"/>\n     <path d=\"M 34.28125 27.484375 \nQ 23.390625 27.484375 19.1875 25 \nQ 14.984375 22.515625 14.984375 16.5 \nQ 14.984375 11.71875 18.140625 8.90625 \nQ 21.296875 6.109375 26.703125 6.109375 \nQ 34.1875 6.109375 38.703125 11.40625 \nQ 43.21875 16.703125 43.21875 25.484375 \nL 43.21875 27.484375 \nz\nM 52.203125 31.203125 \nL 52.203125 0 \nL 43.21875 0 \nL 43.21875 8.296875 \nQ 40.140625 3.328125 35.546875 0.953125 \nQ 30.953125 -1.421875 24.3125 -1.421875 \nQ 15.921875 -1.421875 10.953125 3.296875 \nQ 6 8.015625 6 15.921875 \nQ 6 25.140625 12.171875 29.828125 \nQ 18.359375 34.515625 30.609375 34.515625 \nL 43.21875 34.515625 \nL 43.21875 35.40625 \nQ 43.21875 41.609375 39.140625 45 \nQ 35.0625 48.390625 27.6875 48.390625 \nQ 23 48.390625 18.546875 47.265625 \nQ 14.109375 46.140625 10.015625 43.890625 \nL 10.015625 52.203125 \nQ 14.9375 54.109375 19.578125 55.046875 \nQ 24.21875 56 28.609375 56 \nQ 40.484375 56 46.34375 49.84375 \nQ 52.203125 43.703125 52.203125 31.203125 \nz\n\" id=\"DejaVuSans-97\"/>\n     <path d=\"M 32.171875 -5.078125 \nQ 28.375 -14.84375 24.75 -17.8125 \nQ 21.140625 -20.796875 15.09375 -20.796875 \nL 7.90625 -20.796875 \nL 7.90625 -13.28125 \nL 13.1875 -13.28125 \nQ 16.890625 -13.28125 18.9375 -11.515625 \nQ 21 -9.765625 23.484375 -3.21875 \nL 25.09375 0.875 \nL 2.984375 54.6875 \nL 12.5 54.6875 \nL 29.59375 11.921875 \nL 46.6875 54.6875 \nL 56.203125 54.6875 \nz\n\" id=\"DejaVuSans-121\"/>\n     <path d=\"M 9.421875 75.984375 \nL 18.40625 75.984375 \nL 18.40625 0 \nL 9.421875 0 \nz\n\" id=\"DejaVuSans-108\"/>\n     <path d=\"M 9.421875 54.6875 \nL 18.40625 54.6875 \nL 18.40625 0 \nL 9.421875 0 \nz\nM 9.421875 75.984375 \nL 18.40625 75.984375 \nL 18.40625 64.59375 \nL 9.421875 64.59375 \nz\n\" id=\"DejaVuSans-105\"/>\n     <path d=\"M 45.40625 27.984375 \nQ 45.40625 37.75 41.375 43.109375 \nQ 37.359375 48.484375 30.078125 48.484375 \nQ 22.859375 48.484375 18.828125 43.109375 \nQ 14.796875 37.75 14.796875 27.984375 \nQ 14.796875 18.265625 18.828125 12.890625 \nQ 22.859375 7.515625 30.078125 7.515625 \nQ 37.359375 7.515625 41.375 12.890625 \nQ 45.40625 18.265625 45.40625 27.984375 \nz\nM 54.390625 6.78125 \nQ 54.390625 -7.171875 48.1875 -13.984375 \nQ 42 -20.796875 29.203125 -20.796875 \nQ 24.46875 -20.796875 20.265625 -20.09375 \nQ 16.0625 -19.390625 12.109375 -17.921875 \nL 12.109375 -9.1875 \nQ 16.0625 -11.328125 19.921875 -12.34375 \nQ 23.78125 -13.375 27.78125 -13.375 \nQ 36.625 -13.375 41.015625 -8.765625 \nQ 45.40625 -4.15625 45.40625 5.171875 \nL 45.40625 9.625 \nQ 42.625 4.78125 38.28125 2.390625 \nQ 33.9375 0 27.875 0 \nQ 17.828125 0 11.671875 7.65625 \nQ 5.515625 15.328125 5.515625 27.984375 \nQ 5.515625 40.671875 11.671875 48.328125 \nQ 17.828125 56 27.875 56 \nQ 33.9375 56 38.28125 53.609375 \nQ 42.625 51.21875 45.40625 46.390625 \nL 45.40625 54.6875 \nL 54.390625 54.6875 \nz\n\" id=\"DejaVuSans-103\"/>\n     <path d=\"M 54.890625 33.015625 \nL 54.890625 0 \nL 45.90625 0 \nL 45.90625 32.71875 \nQ 45.90625 40.484375 42.875 44.328125 \nQ 39.84375 48.1875 33.796875 48.1875 \nQ 26.515625 48.1875 22.3125 43.546875 \nQ 18.109375 38.921875 18.109375 30.90625 \nL 18.109375 0 \nL 9.078125 0 \nL 9.078125 75.984375 \nL 18.109375 75.984375 \nL 18.109375 46.1875 \nQ 21.34375 51.125 25.703125 53.5625 \nQ 30.078125 56 35.796875 56 \nQ 45.21875 56 50.046875 50.171875 \nQ 54.890625 44.34375 54.890625 33.015625 \nz\n\" id=\"DejaVuSans-104\"/>\n     <path d=\"M 18.3125 70.21875 \nL 18.3125 54.6875 \nL 36.8125 54.6875 \nL 36.8125 47.703125 \nL 18.3125 47.703125 \nL 18.3125 18.015625 \nQ 18.3125 11.328125 20.140625 9.421875 \nQ 21.96875 7.515625 27.59375 7.515625 \nL 36.8125 7.515625 \nL 36.8125 0 \nL 27.59375 0 \nQ 17.1875 0 13.234375 3.875 \nQ 9.28125 7.765625 9.28125 18.015625 \nL 9.28125 47.703125 \nL 2.6875 47.703125 \nL 2.6875 54.6875 \nL 9.28125 54.6875 \nL 9.28125 70.21875 \nz\n\" id=\"DejaVuSans-116\"/>\n    </defs>\n    <g transform=\"translate(7.2 328.631315)scale(0.12 -0.12)\">\n     <use xlink:href=\"#DejaVuSans-68\"/>\n     <use x=\"77.001953\" xlink:href=\"#DejaVuSans-97\"/>\n     <use x=\"138.28125\" xlink:href=\"#DejaVuSans-121\"/>\n     <use x=\"197.460938\" xlink:href=\"#DejaVuSans-108\"/>\n     <use x=\"225.244141\" xlink:href=\"#DejaVuSans-105\"/>\n     <use x=\"253.027344\" xlink:href=\"#DejaVuSans-103\"/>\n     <use x=\"316.503906\" xlink:href=\"#DejaVuSans-104\"/>\n     <use x=\"379.882812\" xlink:href=\"#DejaVuSans-116\"/>\n    </g>\n   </g>\n   <g id=\"text_2\">\n    <!-- 86.0% -->\n    <defs>\n     <path d=\"M 31.78125 34.625 \nQ 24.75 34.625 20.71875 30.859375 \nQ 16.703125 27.09375 16.703125 20.515625 \nQ 16.703125 13.921875 20.71875 10.15625 \nQ 24.75 6.390625 31.78125 6.390625 \nQ 38.8125 6.390625 42.859375 10.171875 \nQ 46.921875 13.96875 46.921875 20.515625 \nQ 46.921875 27.09375 42.890625 30.859375 \nQ 38.875 34.625 31.78125 34.625 \nz\nM 21.921875 38.8125 \nQ 15.578125 40.375 12.03125 44.71875 \nQ 8.5 49.078125 8.5 55.328125 \nQ 8.5 64.0625 14.71875 69.140625 \nQ 20.953125 74.21875 31.78125 74.21875 \nQ 42.671875 74.21875 48.875 69.140625 \nQ 55.078125 64.0625 55.078125 55.328125 \nQ 55.078125 49.078125 51.53125 44.71875 \nQ 48 40.375 41.703125 38.8125 \nQ 48.828125 37.15625 52.796875 32.3125 \nQ 56.78125 27.484375 56.78125 20.515625 \nQ 56.78125 9.90625 50.3125 4.234375 \nQ 43.84375 -1.421875 31.78125 -1.421875 \nQ 19.734375 -1.421875 13.25 4.234375 \nQ 6.78125 9.90625 6.78125 20.515625 \nQ 6.78125 27.484375 10.78125 32.3125 \nQ 14.796875 37.15625 21.921875 38.8125 \nz\nM 18.3125 54.390625 \nQ 18.3125 48.734375 21.84375 45.5625 \nQ 25.390625 42.390625 31.78125 42.390625 \nQ 38.140625 42.390625 41.71875 45.5625 \nQ 45.3125 48.734375 45.3125 54.390625 \nQ 45.3125 60.0625 41.71875 63.234375 \nQ 38.140625 66.40625 31.78125 66.40625 \nQ 25.390625 66.40625 21.84375 63.234375 \nQ 18.3125 60.0625 18.3125 54.390625 \nz\n\" id=\"DejaVuSans-56\"/>\n     <path d=\"M 33.015625 40.375 \nQ 26.375 40.375 22.484375 35.828125 \nQ 18.609375 31.296875 18.609375 23.390625 \nQ 18.609375 15.53125 22.484375 10.953125 \nQ 26.375 6.390625 33.015625 6.390625 \nQ 39.65625 6.390625 43.53125 10.953125 \nQ 47.40625 15.53125 47.40625 23.390625 \nQ 47.40625 31.296875 43.53125 35.828125 \nQ 39.65625 40.375 33.015625 40.375 \nz\nM 52.59375 71.296875 \nL 52.59375 62.3125 \nQ 48.875 64.0625 45.09375 64.984375 \nQ 41.3125 65.921875 37.59375 65.921875 \nQ 27.828125 65.921875 22.671875 59.328125 \nQ 17.53125 52.734375 16.796875 39.40625 \nQ 19.671875 43.65625 24.015625 45.921875 \nQ 28.375 48.1875 33.59375 48.1875 \nQ 44.578125 48.1875 50.953125 41.515625 \nQ 57.328125 34.859375 57.328125 23.390625 \nQ 57.328125 12.15625 50.6875 5.359375 \nQ 44.046875 -1.421875 33.015625 -1.421875 \nQ 20.359375 -1.421875 13.671875 8.265625 \nQ 6.984375 17.96875 6.984375 36.375 \nQ 6.984375 53.65625 15.1875 63.9375 \nQ 23.390625 74.21875 37.203125 74.21875 \nQ 40.921875 74.21875 44.703125 73.484375 \nQ 48.484375 72.75 52.59375 71.296875 \nz\n\" id=\"DejaVuSans-54\"/>\n     <path d=\"M 10.6875 12.40625 \nL 21 12.40625 \nL 21 0 \nL 10.6875 0 \nz\n\" id=\"DejaVuSans-46\"/>\n     <path d=\"M 31.78125 66.40625 \nQ 24.171875 66.40625 20.328125 58.90625 \nQ 16.5 51.421875 16.5 36.375 \nQ 16.5 21.390625 20.328125 13.890625 \nQ 24.171875 6.390625 31.78125 6.390625 \nQ 39.453125 6.390625 43.28125 13.890625 \nQ 47.125 21.390625 47.125 36.375 \nQ 47.125 51.421875 43.28125 58.90625 \nQ 39.453125 66.40625 31.78125 66.40625 \nz\nM 31.78125 74.21875 \nQ 44.046875 74.21875 50.515625 64.515625 \nQ 56.984375 54.828125 56.984375 36.375 \nQ 56.984375 17.96875 50.515625 8.265625 \nQ 44.046875 -1.421875 31.78125 -1.421875 \nQ 19.53125 -1.421875 13.0625 8.265625 \nQ 6.59375 17.96875 6.59375 36.375 \nQ 6.59375 54.828125 13.0625 64.515625 \nQ 19.53125 74.21875 31.78125 74.21875 \nz\n\" id=\"DejaVuSans-48\"/>\n     <path d=\"M 72.703125 32.078125 \nQ 68.453125 32.078125 66.03125 28.46875 \nQ 63.625 24.859375 63.625 18.40625 \nQ 63.625 12.0625 66.03125 8.421875 \nQ 68.453125 4.78125 72.703125 4.78125 \nQ 76.859375 4.78125 79.265625 8.421875 \nQ 81.6875 12.0625 81.6875 18.40625 \nQ 81.6875 24.8125 79.265625 28.4375 \nQ 76.859375 32.078125 72.703125 32.078125 \nz\nM 72.703125 38.28125 \nQ 80.421875 38.28125 84.953125 32.90625 \nQ 89.5 27.546875 89.5 18.40625 \nQ 89.5 9.28125 84.9375 3.921875 \nQ 80.375 -1.421875 72.703125 -1.421875 \nQ 64.890625 -1.421875 60.34375 3.921875 \nQ 55.8125 9.28125 55.8125 18.40625 \nQ 55.8125 27.59375 60.375 32.9375 \nQ 64.9375 38.28125 72.703125 38.28125 \nz\nM 22.3125 68.015625 \nQ 18.109375 68.015625 15.6875 64.375 \nQ 13.28125 60.75 13.28125 54.390625 \nQ 13.28125 47.953125 15.671875 44.328125 \nQ 18.0625 40.71875 22.3125 40.71875 \nQ 26.5625 40.71875 28.96875 44.328125 \nQ 31.390625 47.953125 31.390625 54.390625 \nQ 31.390625 60.6875 28.953125 64.34375 \nQ 26.515625 68.015625 22.3125 68.015625 \nz\nM 66.40625 74.21875 \nL 74.21875 74.21875 \nL 28.609375 -1.421875 \nL 20.796875 -1.421875 \nz\nM 22.3125 74.21875 \nQ 30.03125 74.21875 34.609375 68.875 \nQ 39.203125 63.53125 39.203125 54.390625 \nQ 39.203125 45.171875 34.640625 39.84375 \nQ 30.078125 34.515625 22.3125 34.515625 \nQ 14.546875 34.515625 10.03125 39.859375 \nQ 5.515625 45.21875 5.515625 54.390625 \nQ 5.515625 63.484375 10.046875 68.84375 \nQ 14.59375 74.21875 22.3125 74.21875 \nz\n\" id=\"DejaVuSans-37\"/>\n    </defs>\n    <g transform=\"translate(155.245017 274.593341)scale(0.12 -0.12)\">\n     <use xlink:href=\"#DejaVuSans-56\"/>\n     <use x=\"63.623047\" xlink:href=\"#DejaVuSans-54\"/>\n     <use x=\"127.246094\" xlink:href=\"#DejaVuSans-46\"/>\n     <use x=\"159.033203\" xlink:href=\"#DejaVuSans-48\"/>\n     <use x=\"222.65625\" xlink:href=\"#DejaVuSans-37\"/>\n    </g>\n   </g>\n   <g id=\"text_3\">\n    <!-- Night -->\n    <defs>\n     <path d=\"M 9.8125 72.90625 \nL 23.09375 72.90625 \nL 55.421875 11.921875 \nL 55.421875 72.90625 \nL 64.984375 72.90625 \nL 64.984375 0 \nL 51.703125 0 \nL 19.390625 60.984375 \nL 19.390625 0 \nL 9.8125 0 \nz\n\" id=\"DejaVuSans-78\"/>\n    </defs>\n    <g transform=\"translate(568.611232 138.348677)scale(0.12 -0.12)\">\n     <use xlink:href=\"#DejaVuSans-78\"/>\n     <use x=\"74.804688\" xlink:href=\"#DejaVuSans-105\"/>\n     <use x=\"102.587891\" xlink:href=\"#DejaVuSans-103\"/>\n     <use x=\"166.064453\" xlink:href=\"#DejaVuSans-104\"/>\n     <use x=\"229.443359\" xlink:href=\"#DejaVuSans-116\"/>\n    </g>\n   </g>\n   <g id=\"text_4\">\n    <!-- 9.1% -->\n    <defs>\n     <path d=\"M 10.984375 1.515625 \nL 10.984375 10.5 \nQ 14.703125 8.734375 18.5 7.8125 \nQ 22.3125 6.890625 25.984375 6.890625 \nQ 35.75 6.890625 40.890625 13.453125 \nQ 46.046875 20.015625 46.78125 33.40625 \nQ 43.953125 29.203125 39.59375 26.953125 \nQ 35.25 24.703125 29.984375 24.703125 \nQ 19.046875 24.703125 12.671875 31.3125 \nQ 6.296875 37.9375 6.296875 49.421875 \nQ 6.296875 60.640625 12.9375 67.421875 \nQ 19.578125 74.21875 30.609375 74.21875 \nQ 43.265625 74.21875 49.921875 64.515625 \nQ 56.59375 54.828125 56.59375 36.375 \nQ 56.59375 19.140625 48.40625 8.859375 \nQ 40.234375 -1.421875 26.421875 -1.421875 \nQ 22.703125 -1.421875 18.890625 -0.6875 \nQ 15.09375 0.046875 10.984375 1.515625 \nz\nM 30.609375 32.421875 \nQ 37.25 32.421875 41.125 36.953125 \nQ 45.015625 41.5 45.015625 49.421875 \nQ 45.015625 57.28125 41.125 61.84375 \nQ 37.25 66.40625 30.609375 66.40625 \nQ 23.96875 66.40625 20.09375 61.84375 \nQ 16.21875 57.28125 16.21875 49.421875 \nQ 16.21875 41.5 20.09375 36.953125 \nQ 23.96875 32.421875 30.609375 32.421875 \nz\n\" id=\"DejaVuSans-57\"/>\n     <path d=\"M 12.40625 8.296875 \nL 28.515625 8.296875 \nL 28.515625 63.921875 \nL 10.984375 60.40625 \nL 10.984375 69.390625 \nL 28.421875 72.90625 \nL 38.28125 72.90625 \nL 38.28125 8.296875 \nL 54.390625 8.296875 \nL 54.390625 0 \nL 12.40625 0 \nz\n\" id=\"DejaVuSans-49\"/>\n    </defs>\n    <g transform=\"translate(429.655448 173.855474)scale(0.12 -0.12)\">\n     <use xlink:href=\"#DejaVuSans-57\"/>\n     <use x=\"63.623047\" xlink:href=\"#DejaVuSans-46\"/>\n     <use x=\"95.410156\" xlink:href=\"#DejaVuSans-49\"/>\n     <use x=\"159.033203\" xlink:href=\"#DejaVuSans-37\"/>\n    </g>\n   </g>\n   <g id=\"text_5\">\n    <!-- Dusk -->\n    <defs>\n     <path d=\"M 8.5 21.578125 \nL 8.5 54.6875 \nL 17.484375 54.6875 \nL 17.484375 21.921875 \nQ 17.484375 14.15625 20.5 10.265625 \nQ 23.53125 6.390625 29.59375 6.390625 \nQ 36.859375 6.390625 41.078125 11.03125 \nQ 45.3125 15.671875 45.3125 23.6875 \nL 45.3125 54.6875 \nL 54.296875 54.6875 \nL 54.296875 0 \nL 45.3125 0 \nL 45.3125 8.40625 \nQ 42.046875 3.421875 37.71875 1 \nQ 33.40625 -1.421875 27.6875 -1.421875 \nQ 18.265625 -1.421875 13.375 4.4375 \nQ 8.5 10.296875 8.5 21.578125 \nz\nM 31.109375 56 \nz\n\" id=\"DejaVuSans-117\"/>\n     <path d=\"M 44.28125 53.078125 \nL 44.28125 44.578125 \nQ 40.484375 46.53125 36.375 47.5 \nQ 32.28125 48.484375 27.875 48.484375 \nQ 21.1875 48.484375 17.84375 46.4375 \nQ 14.5 44.390625 14.5 40.28125 \nQ 14.5 37.15625 16.890625 35.375 \nQ 19.28125 33.59375 26.515625 31.984375 \nL 29.59375 31.296875 \nQ 39.15625 29.25 43.1875 25.515625 \nQ 47.21875 21.78125 47.21875 15.09375 \nQ 47.21875 7.46875 41.1875 3.015625 \nQ 35.15625 -1.421875 24.609375 -1.421875 \nQ 20.21875 -1.421875 15.453125 -0.5625 \nQ 10.6875 0.296875 5.421875 2 \nL 5.421875 11.28125 \nQ 10.40625 8.6875 15.234375 7.390625 \nQ 20.0625 6.109375 24.8125 6.109375 \nQ 31.15625 6.109375 34.5625 8.28125 \nQ 37.984375 10.453125 37.984375 14.40625 \nQ 37.984375 18.0625 35.515625 20.015625 \nQ 33.0625 21.96875 24.703125 23.78125 \nL 21.578125 24.515625 \nQ 13.234375 26.265625 9.515625 29.90625 \nQ 5.8125 33.546875 5.8125 39.890625 \nQ 5.8125 47.609375 11.28125 51.796875 \nQ 16.75 56 26.8125 56 \nQ 31.78125 56 36.171875 55.265625 \nQ 40.578125 54.546875 44.28125 53.078125 \nz\n\" id=\"DejaVuSans-115\"/>\n     <path d=\"M 9.078125 75.984375 \nL 18.109375 75.984375 \nL 18.109375 31.109375 \nL 44.921875 54.6875 \nL 56.390625 54.6875 \nL 27.390625 29.109375 \nL 57.625 0 \nL 45.90625 0 \nL 18.109375 26.703125 \nL 18.109375 0 \nL 9.078125 0 \nz\n\" id=\"DejaVuSans-107\"/>\n    </defs>\n    <g transform=\"translate(522.959883 47.63347)scale(0.12 -0.12)\">\n     <use xlink:href=\"#DejaVuSans-68\"/>\n     <use x=\"77.001953\" xlink:href=\"#DejaVuSans-117\"/>\n     <use x=\"140.380859\" xlink:href=\"#DejaVuSans-115\"/>\n     <use x=\"192.480469\" xlink:href=\"#DejaVuSans-107\"/>\n    </g>\n   </g>\n   <g id=\"text_6\">\n    <!-- 2.8% -->\n    <defs>\n     <path d=\"M 19.1875 8.296875 \nL 53.609375 8.296875 \nL 53.609375 0 \nL 7.328125 0 \nL 7.328125 8.296875 \nQ 12.9375 14.109375 22.625 23.890625 \nQ 32.328125 33.6875 34.8125 36.53125 \nQ 39.546875 41.84375 41.421875 45.53125 \nQ 43.3125 49.21875 43.3125 52.78125 \nQ 43.3125 58.59375 39.234375 62.25 \nQ 35.15625 65.921875 28.609375 65.921875 \nQ 23.96875 65.921875 18.8125 64.3125 \nQ 13.671875 62.703125 7.8125 59.421875 \nL 7.8125 69.390625 \nQ 13.765625 71.78125 18.9375 73 \nQ 24.125 74.21875 28.421875 74.21875 \nQ 39.75 74.21875 46.484375 68.546875 \nQ 53.21875 62.890625 53.21875 53.421875 \nQ 53.21875 48.921875 51.53125 44.890625 \nQ 49.859375 40.875 45.40625 35.40625 \nQ 44.1875 33.984375 37.640625 27.21875 \nQ 31.109375 20.453125 19.1875 8.296875 \nz\n\" id=\"DejaVuSans-50\"/>\n    </defs>\n    <g transform=\"translate(405.487087 125.829776)scale(0.12 -0.12)\">\n     <use xlink:href=\"#DejaVuSans-50\"/>\n     <use x=\"63.623047\" xlink:href=\"#DejaVuSans-46\"/>\n     <use x=\"95.410156\" xlink:href=\"#DejaVuSans-56\"/>\n     <use x=\"159.033203\" xlink:href=\"#DejaVuSans-37\"/>\n    </g>\n   </g>\n   <g id=\"text_7\">\n    <!-- Dawn -->\n    <defs>\n     <path d=\"M 4.203125 54.6875 \nL 13.1875 54.6875 \nL 24.421875 12.015625 \nL 35.59375 54.6875 \nL 46.1875 54.6875 \nL 57.421875 12.015625 \nL 68.609375 54.6875 \nL 77.59375 54.6875 \nL 63.28125 0 \nL 52.6875 0 \nL 40.921875 44.828125 \nL 29.109375 0 \nL 18.5 0 \nz\n\" id=\"DejaVuSans-119\"/>\n     <path d=\"M 54.890625 33.015625 \nL 54.890625 0 \nL 45.90625 0 \nL 45.90625 32.71875 \nQ 45.90625 40.484375 42.875 44.328125 \nQ 39.84375 48.1875 33.796875 48.1875 \nQ 26.515625 48.1875 22.3125 43.546875 \nQ 18.109375 38.921875 18.109375 30.90625 \nL 18.109375 0 \nL 9.078125 0 \nL 9.078125 54.6875 \nL 18.109375 54.6875 \nL 18.109375 46.1875 \nQ 21.34375 51.125 25.703125 53.5625 \nQ 30.078125 56 35.796875 56 \nQ 45.21875 56 50.046875 50.171875 \nQ 54.890625 44.34375 54.890625 33.015625 \nz\n\" id=\"DejaVuSans-110\"/>\n    </defs>\n    <g transform=\"translate(494.94285 16.318125)scale(0.12 -0.12)\">\n     <use xlink:href=\"#DejaVuSans-68\"/>\n     <use x=\"77.001953\" xlink:href=\"#DejaVuSans-97\"/>\n     <use x=\"138.28125\" xlink:href=\"#DejaVuSans-119\"/>\n     <use x=\"220.068359\" xlink:href=\"#DejaVuSans-110\"/>\n    </g>\n   </g>\n   <g id=\"text_8\">\n    <!-- 2.1% -->\n    <g transform=\"translate(390.654541 109.251064)scale(0.12 -0.12)\">\n     <use xlink:href=\"#DejaVuSans-50\"/>\n     <use x=\"63.623047\" xlink:href=\"#DejaVuSans-46\"/>\n     <use x=\"95.410156\" xlink:href=\"#DejaVuSans-49\"/>\n     <use x=\"159.033203\" xlink:href=\"#DejaVuSans-37\"/>\n    </g>\n   </g>\n  </g>\n </g>\n</svg>\n",
      "image/png": "[encoded data removed]"
     },
     "metadata": {}
    }
   ],
   "source": [
    "lightcondition = train.groupby('Light').count()['ACN'].reset_index().sort_values(by='ACN',ascending=False)\n",
    "fig = plt.figure()\n",
    "fig.patch.set_facecolor('white')\n",
    "labels = lightcondition['Light']\n",
    "sizes = lightcondition['ACN']\n",
    "colors = Pastel1_7.hex_colors\n",
    "explode = (0.6,0.6,0.6,0.6)\n",
    "plt.pie(sizes, colors = colors, \n",
    "labels=labels, autopct='%1.1f%%', shadow=True,\n",
    "startangle=50, pctdistance=0.3,explode = explode)\n",
    "plt.tight_layout()"
   ]
  },
  {
   "cell_type": "code",
   "execution_count": 180,
   "metadata": {},
   "outputs": [
    {
     "output_type": "execute_result",
     "data": {
      "text/plain": "<pandas.io.formats.style.Styler at 0x120828d30>",
      "text/html": "<style  type=\"text/css\" >\n    #T_f2128b3a_a3f0_11ea_a18e_acde48001122row0_col1 {\n            background-color:  #ffed6f;\n            color:  #000000;\n        }    #T_f2128b3a_a3f0_11ea_a18e_acde48001122row1_col1 {\n            background-color:  #8dd3c7;\n            color:  #000000;\n        }    #T_f2128b3a_a3f0_11ea_a18e_acde48001122row2_col1 {\n            background-color:  #8dd3c7;\n            color:  #000000;\n        }    #T_f2128b3a_a3f0_11ea_a18e_acde48001122row3_col1 {\n            background-color:  #8dd3c7;\n            color:  #000000;\n        }    #T_f2128b3a_a3f0_11ea_a18e_acde48001122row4_col1 {\n            background-color:  #8dd3c7;\n            color:  #000000;\n        }    #T_f2128b3a_a3f0_11ea_a18e_acde48001122row5_col1 {\n            background-color:  #8dd3c7;\n            color:  #000000;\n        }    #T_f2128b3a_a3f0_11ea_a18e_acde48001122row6_col1 {\n            background-color:  #8dd3c7;\n            color:  #000000;\n        }    #T_f2128b3a_a3f0_11ea_a18e_acde48001122row7_col1 {\n            background-color:  #8dd3c7;\n            color:  #000000;\n        }    #T_f2128b3a_a3f0_11ea_a18e_acde48001122row8_col1 {\n            background-color:  #8dd3c7;\n            color:  #000000;\n        }    #T_f2128b3a_a3f0_11ea_a18e_acde48001122row9_col1 {\n            background-color:  #8dd3c7;\n            color:  #000000;\n        }    #T_f2128b3a_a3f0_11ea_a18e_acde48001122row10_col1 {\n            background-color:  #8dd3c7;\n            color:  #000000;\n        }    #T_f2128b3a_a3f0_11ea_a18e_acde48001122row11_col1 {\n            background-color:  #8dd3c7;\n            color:  #000000;\n        }    #T_f2128b3a_a3f0_11ea_a18e_acde48001122row12_col1 {\n            background-color:  #8dd3c7;\n            color:  #000000;\n        }    #T_f2128b3a_a3f0_11ea_a18e_acde48001122row13_col1 {\n            background-color:  #8dd3c7;\n            color:  #000000;\n        }    #T_f2128b3a_a3f0_11ea_a18e_acde48001122row14_col1 {\n            background-color:  #8dd3c7;\n            color:  #000000;\n        }    #T_f2128b3a_a3f0_11ea_a18e_acde48001122row15_col1 {\n            background-color:  #8dd3c7;\n            color:  #000000;\n        }    #T_f2128b3a_a3f0_11ea_a18e_acde48001122row16_col1 {\n            background-color:  #8dd3c7;\n            color:  #000000;\n        }    #T_f2128b3a_a3f0_11ea_a18e_acde48001122row17_col1 {\n            background-color:  #8dd3c7;\n            color:  #000000;\n        }</style><table id=\"T_f2128b3a_a3f0_11ea_a18e_acde48001122\" ><thead>    <tr>        <th class=\"blank level0\" ></th>        <th class=\"col_heading level0 col0\" >Flight Phase</th>        <th class=\"col_heading level0 col1\" >ACN</th>    </tr></thead><tbody>\n                <tr>\n                        <th id=\"T_f2128b3a_a3f0_11ea_a18e_acde48001122level0_row0\" class=\"row_heading level0 row0\" >3</th>\n                        <td id=\"T_f2128b3a_a3f0_11ea_a18e_acde48001122row0_col0\" class=\"data row0 col0\" >Cruise</td>\n                        <td id=\"T_f2128b3a_a3f0_11ea_a18e_acde48001122row0_col1\" class=\"data row0 col1\" >101</td>\n            </tr>\n            <tr>\n                        <th id=\"T_f2128b3a_a3f0_11ea_a18e_acde48001122level0_row1\" class=\"row_heading level0 row1\" >0</th>\n                        <td id=\"T_f2128b3a_a3f0_11ea_a18e_acde48001122row1_col0\" class=\"data row1 col0\" >Climb</td>\n                        <td id=\"T_f2128b3a_a3f0_11ea_a18e_acde48001122row1_col1\" class=\"data row1 col1\" >9</td>\n            </tr>\n            <tr>\n                        <th id=\"T_f2128b3a_a3f0_11ea_a18e_acde48001122level0_row2\" class=\"row_heading level0 row2\" >16</th>\n                        <td id=\"T_f2128b3a_a3f0_11ea_a18e_acde48001122row2_col0\" class=\"data row2 col0\" >Takeoff</td>\n                        <td id=\"T_f2128b3a_a3f0_11ea_a18e_acde48001122row2_col1\" class=\"data row2 col1\" >7</td>\n            </tr>\n            <tr>\n                        <th id=\"T_f2128b3a_a3f0_11ea_a18e_acde48001122level0_row3\" class=\"row_heading level0 row3\" >6</th>\n                        <td id=\"T_f2128b3a_a3f0_11ea_a18e_acde48001122row3_col0\" class=\"data row3 col0\" >Descent</td>\n                        <td id=\"T_f2128b3a_a3f0_11ea_a18e_acde48001122row3_col1\" class=\"data row3 col1\" >6</td>\n            </tr>\n            <tr>\n                        <th id=\"T_f2128b3a_a3f0_11ea_a18e_acde48001122level0_row4\" class=\"row_heading level0 row4\" >10</th>\n                        <td id=\"T_f2128b3a_a3f0_11ea_a18e_acde48001122row4_col0\" class=\"data row4 col0\" >Landing</td>\n                        <td id=\"T_f2128b3a_a3f0_11ea_a18e_acde48001122row4_col1\" class=\"data row4 col1\" >4</td>\n            </tr>\n            <tr>\n                        <th id=\"T_f2128b3a_a3f0_11ea_a18e_acde48001122level0_row5\" class=\"row_heading level0 row5\" >8</th>\n                        <td id=\"T_f2128b3a_a3f0_11ea_a18e_acde48001122row5_col0\" class=\"data row5 col0\" >Initial Approach</td>\n                        <td id=\"T_f2128b3a_a3f0_11ea_a18e_acde48001122row5_col1\" class=\"data row5 col1\" >4</td>\n            </tr>\n            <tr>\n                        <th id=\"T_f2128b3a_a3f0_11ea_a18e_acde48001122level0_row6\" class=\"row_heading level0 row6\" >1</th>\n                        <td id=\"T_f2128b3a_a3f0_11ea_a18e_acde48001122row6_col0\" class=\"data row6 col0\" >Climb; Cruise</td>\n                        <td id=\"T_f2128b3a_a3f0_11ea_a18e_acde48001122row6_col1\" class=\"data row6 col1\" >2</td>\n            </tr>\n            <tr>\n                        <th id=\"T_f2128b3a_a3f0_11ea_a18e_acde48001122level0_row7\" class=\"row_heading level0 row7\" >12</th>\n                        <td id=\"T_f2128b3a_a3f0_11ea_a18e_acde48001122row7_col0\" class=\"data row7 col0\" >Other All Phases</td>\n                        <td id=\"T_f2128b3a_a3f0_11ea_a18e_acde48001122row7_col1\" class=\"data row7 col1\" >2</td>\n            </tr>\n            <tr>\n                        <th id=\"T_f2128b3a_a3f0_11ea_a18e_acde48001122level0_row8\" class=\"row_heading level0 row8\" >11</th>\n                        <td id=\"T_f2128b3a_a3f0_11ea_a18e_acde48001122row8_col0\" class=\"data row8 col0\" >Other All</td>\n                        <td id=\"T_f2128b3a_a3f0_11ea_a18e_acde48001122row8_col1\" class=\"data row8 col1\" >2</td>\n            </tr>\n            <tr>\n                        <th id=\"T_f2128b3a_a3f0_11ea_a18e_acde48001122level0_row9\" class=\"row_heading level0 row9\" >9</th>\n                        <td id=\"T_f2128b3a_a3f0_11ea_a18e_acde48001122row9_col0\" class=\"data row9 col0\" >Initial Climb</td>\n                        <td id=\"T_f2128b3a_a3f0_11ea_a18e_acde48001122row9_col1\" class=\"data row9 col1\" >2</td>\n            </tr>\n            <tr>\n                        <th id=\"T_f2128b3a_a3f0_11ea_a18e_acde48001122level0_row10\" class=\"row_heading level0 row10\" >7</th>\n                        <td id=\"T_f2128b3a_a3f0_11ea_a18e_acde48001122row10_col0\" class=\"data row10 col0\" >Final Approach</td>\n                        <td id=\"T_f2128b3a_a3f0_11ea_a18e_acde48001122row10_col1\" class=\"data row10 col1\" >1</td>\n            </tr>\n            <tr>\n                        <th id=\"T_f2128b3a_a3f0_11ea_a18e_acde48001122level0_row11\" class=\"row_heading level0 row11\" >5</th>\n                        <td id=\"T_f2128b3a_a3f0_11ea_a18e_acde48001122row11_col0\" class=\"data row11 col0\" >Cruise; Descent; Climb</td>\n                        <td id=\"T_f2128b3a_a3f0_11ea_a18e_acde48001122row11_col1\" class=\"data row11 col1\" >1</td>\n            </tr>\n            <tr>\n                        <th id=\"T_f2128b3a_a3f0_11ea_a18e_acde48001122level0_row12\" class=\"row_heading level0 row12\" >4</th>\n                        <td id=\"T_f2128b3a_a3f0_11ea_a18e_acde48001122row12_col0\" class=\"data row12 col0\" >Cruise; Climb; Descent</td>\n                        <td id=\"T_f2128b3a_a3f0_11ea_a18e_acde48001122row12_col1\" class=\"data row12 col1\" >1</td>\n            </tr>\n            <tr>\n                        <th id=\"T_f2128b3a_a3f0_11ea_a18e_acde48001122level0_row13\" class=\"row_heading level0 row13\" >13</th>\n                        <td id=\"T_f2128b3a_a3f0_11ea_a18e_acde48001122row13_col0\" class=\"data row13 col0\" >Other Hovering</td>\n                        <td id=\"T_f2128b3a_a3f0_11ea_a18e_acde48001122row13_col1\" class=\"data row13 col1\" >1</td>\n            </tr>\n            <tr>\n                        <th id=\"T_f2128b3a_a3f0_11ea_a18e_acde48001122level0_row14\" class=\"row_heading level0 row14\" >14</th>\n                        <td id=\"T_f2128b3a_a3f0_11ea_a18e_acde48001122row14_col0\" class=\"data row14 col0\" >Other unknown</td>\n                        <td id=\"T_f2128b3a_a3f0_11ea_a18e_acde48001122row14_col1\" class=\"data row14 col1\" >1</td>\n            </tr>\n            <tr>\n                        <th id=\"T_f2128b3a_a3f0_11ea_a18e_acde48001122level0_row15\" class=\"row_heading level0 row15\" >15</th>\n                        <td id=\"T_f2128b3a_a3f0_11ea_a18e_acde48001122row15_col0\" class=\"data row15 col0\" >Parked</td>\n                        <td id=\"T_f2128b3a_a3f0_11ea_a18e_acde48001122row15_col1\" class=\"data row15 col1\" >1</td>\n            </tr>\n            <tr>\n                        <th id=\"T_f2128b3a_a3f0_11ea_a18e_acde48001122level0_row16\" class=\"row_heading level0 row16\" >2</th>\n                        <td id=\"T_f2128b3a_a3f0_11ea_a18e_acde48001122row16_col0\" class=\"data row16 col0\" >Climb; Descent; Cruise</td>\n                        <td id=\"T_f2128b3a_a3f0_11ea_a18e_acde48001122row16_col1\" class=\"data row16 col1\" >1</td>\n            </tr>\n            <tr>\n                        <th id=\"T_f2128b3a_a3f0_11ea_a18e_acde48001122level0_row17\" class=\"row_heading level0 row17\" >17</th>\n                        <td id=\"T_f2128b3a_a3f0_11ea_a18e_acde48001122row17_col0\" class=\"data row17 col0\" >Taxi</td>\n                        <td id=\"T_f2128b3a_a3f0_11ea_a18e_acde48001122row17_col1\" class=\"data row17 col1\" >1</td>\n            </tr>\n    </tbody></table>"
     },
     "metadata": {},
     "execution_count": 180
    }
   ],
   "source": [
    "phase = train.groupby('Flight Phase').count()['ACN'].reset_index().sort_values(by='ACN',ascending=False)\n",
    "phase.style.background_gradient(cmap='Set3')\n",
    "\n",
    "fig = plt.figure()\n",
    "fig.patch.set_facecolor('white')\n",
    "plt.style.use('classic')\n",
    "colors = ['#E69F00']\n",
    "time_data.time.hist(color = colors)\n",
    "plt.xlabel('local time')\n",
    "plt.ylabel('frequency')"
   ]
  },
  {
   "cell_type": "code",
   "execution_count": 201,
   "metadata": {},
   "outputs": [
    {
     "output_type": "display_data",
     "data": {
      "application/vnd.plotly.v1+json": {
       "config": {
        "plotlyServerURL": "https://plot.ly"
       },
       "data": [
        {
         "alignmentgroup": "True",
         "hovertemplate": "Flight Phase=%{y}<br>ACN=%{x}<extra></extra>",
         "legendgroup": "Cruise",
         "marker": {
          "color": "#636efa"
         },
         "name": "Cruise",
         "offsetgroup": "Cruise",
         "orientation": "h",
         "showlegend": true,
         "textposition": "auto",
         "type": "bar",
         "x": [
          101
         ],
         "xaxis": "x",
         "y": [
          "Cruise"
         ],
         "yaxis": "y"
        },
        {
         "alignmentgroup": "True",
         "hovertemplate": "Flight Phase=%{y}<br>ACN=%{x}<extra></extra>",
         "legendgroup": "Climb",
         "marker": {
          "color": "#EF553B"
         },
         "name": "Climb",
         "offsetgroup": "Climb",
         "orientation": "h",
         "showlegend": true,
         "textposition": "auto",
         "type": "bar",
         "x": [
          9
         ],
         "xaxis": "x",
         "y": [
          "Climb"
         ],
         "yaxis": "y"
        },
        {
         "alignmentgroup": "True",
         "hovertemplate": "Flight Phase=%{y}<br>ACN=%{x}<extra></extra>",
         "legendgroup": "Takeoff",
         "marker": {
          "color": "#00cc96"
         },
         "name": "Takeoff",
         "offsetgroup": "Takeoff",
         "orientation": "h",
         "showlegend": true,
         "textposition": "auto",
         "type": "bar",
         "x": [
          7
         ],
         "xaxis": "x",
         "y": [
          "Takeoff"
         ],
         "yaxis": "y"
        },
        {
         "alignmentgroup": "True",
         "hovertemplate": "Flight Phase=%{y}<br>ACN=%{x}<extra></extra>",
         "legendgroup": "Descent",
         "marker": {
          "color": "#ab63fa"
         },
         "name": "Descent",
         "offsetgroup": "Descent",
         "orientation": "h",
         "showlegend": true,
         "textposition": "auto",
         "type": "bar",
         "x": [
          6
         ],
         "xaxis": "x",
         "y": [
          "Descent"
         ],
         "yaxis": "y"
        },
        {
         "alignmentgroup": "True",
         "hovertemplate": "Flight Phase=%{y}<br>ACN=%{x}<extra></extra>",
         "legendgroup": "Landing",
         "marker": {
          "color": "#FFA15A"
         },
         "name": "Landing",
         "offsetgroup": "Landing",
         "orientation": "h",
         "showlegend": true,
         "textposition": "auto",
         "type": "bar",
         "x": [
          4
         ],
         "xaxis": "x",
         "y": [
          "Landing"
         ],
         "yaxis": "y"
        },
        {
         "alignmentgroup": "True",
         "hovertemplate": "Flight Phase=%{y}<br>ACN=%{x}<extra></extra>",
         "legendgroup": "Initial Approach",
         "marker": {
          "color": "#19d3f3"
         },
         "name": "Initial Approach",
         "offsetgroup": "Initial Approach",
         "orientation": "h",
         "showlegend": true,
         "textposition": "auto",
         "type": "bar",
         "x": [
          4
         ],
         "xaxis": "x",
         "y": [
          "Initial Approach"
         ],
         "yaxis": "y"
        },
        {
         "alignmentgroup": "True",
         "hovertemplate": "Flight Phase=%{y}<br>ACN=%{x}<extra></extra>",
         "legendgroup": "Climb; Cruise",
         "marker": {
          "color": "#FF6692"
         },
         "name": "Climb; Cruise",
         "offsetgroup": "Climb; Cruise",
         "orientation": "h",
         "showlegend": true,
         "textposition": "auto",
         "type": "bar",
         "x": [
          2
         ],
         "xaxis": "x",
         "y": [
          "Climb; Cruise"
         ],
         "yaxis": "y"
        },
        {
         "alignmentgroup": "True",
         "hovertemplate": "Flight Phase=%{y}<br>ACN=%{x}<extra></extra>",
         "legendgroup": "Other All Phases",
         "marker": {
          "color": "#B6E880"
         },
         "name": "Other All Phases",
         "offsetgroup": "Other All Phases",
         "orientation": "h",
         "showlegend": true,
         "textposition": "auto",
         "type": "bar",
         "x": [
          2
         ],
         "xaxis": "x",
         "y": [
          "Other All Phases"
         ],
         "yaxis": "y"
        },
        {
         "alignmentgroup": "True",
         "hovertemplate": "Flight Phase=%{y}<br>ACN=%{x}<extra></extra>",
         "legendgroup": "Other All",
         "marker": {
          "color": "#FF97FF"
         },
         "name": "Other All",
         "offsetgroup": "Other All",
         "orientation": "h",
         "showlegend": true,
         "textposition": "auto",
         "type": "bar",
         "x": [
          2
         ],
         "xaxis": "x",
         "y": [
          "Other All"
         ],
         "yaxis": "y"
        },
        {
         "alignmentgroup": "True",
         "hovertemplate": "Flight Phase=%{y}<br>ACN=%{x}<extra></extra>",
         "legendgroup": "Initial Climb",
         "marker": {
          "color": "#FECB52"
         },
         "name": "Initial Climb",
         "offsetgroup": "Initial Climb",
         "orientation": "h",
         "showlegend": true,
         "textposition": "auto",
         "type": "bar",
         "x": [
          2
         ],
         "xaxis": "x",
         "y": [
          "Initial Climb"
         ],
         "yaxis": "y"
        },
        {
         "alignmentgroup": "True",
         "hovertemplate": "Flight Phase=%{y}<br>ACN=%{x}<extra></extra>",
         "legendgroup": "Final Approach",
         "marker": {
          "color": "#636efa"
         },
         "name": "Final Approach",
         "offsetgroup": "Final Approach",
         "orientation": "h",
         "showlegend": true,
         "textposition": "auto",
         "type": "bar",
         "x": [
          1
         ],
         "xaxis": "x",
         "y": [
          "Final Approach"
         ],
         "yaxis": "y"
        },
        {
         "alignmentgroup": "True",
         "hovertemplate": "Flight Phase=%{y}<br>ACN=%{x}<extra></extra>",
         "legendgroup": "Cruise; Descent; Climb",
         "marker": {
          "color": "#EF553B"
         },
         "name": "Cruise; Descent; Climb",
         "offsetgroup": "Cruise; Descent; Climb",
         "orientation": "h",
         "showlegend": true,
         "textposition": "auto",
         "type": "bar",
         "x": [
          1
         ],
         "xaxis": "x",
         "y": [
          "Cruise; Descent; Climb"
         ],
         "yaxis": "y"
        },
        {
         "alignmentgroup": "True",
         "hovertemplate": "Flight Phase=%{y}<br>ACN=%{x}<extra></extra>",
         "legendgroup": "Cruise; Climb; Descent",
         "marker": {
          "color": "#00cc96"
         },
         "name": "Cruise; Climb; Descent",
         "offsetgroup": "Cruise; Climb; Descent",
         "orientation": "h",
         "showlegend": true,
         "textposition": "auto",
         "type": "bar",
         "x": [
          1
         ],
         "xaxis": "x",
         "y": [
          "Cruise; Climb; Descent"
         ],
         "yaxis": "y"
        },
        {
         "alignmentgroup": "True",
         "hovertemplate": "Flight Phase=%{y}<br>ACN=%{x}<extra></extra>",
         "legendgroup": "Other Hovering",
         "marker": {
          "color": "#ab63fa"
         },
         "name": "Other Hovering",
         "offsetgroup": "Other Hovering",
         "orientation": "h",
         "showlegend": true,
         "textposition": "auto",
         "type": "bar",
         "x": [
          1
         ],
         "xaxis": "x",
         "y": [
          "Other Hovering"
         ],
         "yaxis": "y"
        },
        {
         "alignmentgroup": "True",
         "hovertemplate": "Flight Phase=%{y}<br>ACN=%{x}<extra></extra>",
         "legendgroup": "Other unknown",
         "marker": {
          "color": "#FFA15A"
         },
         "name": "Other unknown",
         "offsetgroup": "Other unknown",
         "orientation": "h",
         "showlegend": true,
         "textposition": "auto",
         "type": "bar",
         "x": [
          1
         ],
         "xaxis": "x",
         "y": [
          "Other unknown"
         ],
         "yaxis": "y"
        },
        {
         "alignmentgroup": "True",
         "hovertemplate": "Flight Phase=%{y}<br>ACN=%{x}<extra></extra>",
         "legendgroup": "Parked",
         "marker": {
          "color": "#19d3f3"
         },
         "name": "Parked",
         "offsetgroup": "Parked",
         "orientation": "h",
         "showlegend": true,
         "textposition": "auto",
         "type": "bar",
         "x": [
          1
         ],
         "xaxis": "x",
         "y": [
          "Parked"
         ],
         "yaxis": "y"
        },
        {
         "alignmentgroup": "True",
         "hovertemplate": "Flight Phase=%{y}<br>ACN=%{x}<extra></extra>",
         "legendgroup": "Climb; Descent; Cruise",
         "marker": {
          "color": "#FF6692"
         },
         "name": "Climb; Descent; Cruise",
         "offsetgroup": "Climb; Descent; Cruise",
         "orientation": "h",
         "showlegend": true,
         "textposition": "auto",
         "type": "bar",
         "x": [
          1
         ],
         "xaxis": "x",
         "y": [
          "Climb; Descent; Cruise"
         ],
         "yaxis": "y"
        },
        {
         "alignmentgroup": "True",
         "hovertemplate": "Flight Phase=%{y}<br>ACN=%{x}<extra></extra>",
         "legendgroup": "Taxi",
         "marker": {
          "color": "#B6E880"
         },
         "name": "Taxi",
         "offsetgroup": "Taxi",
         "orientation": "h",
         "showlegend": true,
         "textposition": "auto",
         "type": "bar",
         "x": [
          1
         ],
         "xaxis": "x",
         "y": [
          "Taxi"
         ],
         "yaxis": "y"
        }
       ],
       "layout": {
        "barmode": "relative",
        "height": 700,
        "legend": {
         "title": {
          "text": "Flight Phase"
         },
         "tracegroupgap": 0
        },
        "template": {
         "data": {
          "bar": [
           {
            "error_x": {
             "color": "#2a3f5f"
            },
            "error_y": {
             "color": "#2a3f5f"
            },
            "marker": {
             "line": {
              "color": "#E5ECF6",
              "width": 0.5
             }
            },
            "type": "bar"
           }
          ],
          "barpolar": [
           {
            "marker": {
             "line": {
              "color": "#E5ECF6",
              "width": 0.5
             }
            },
            "type": "barpolar"
           }
          ],
          "carpet": [
           {
            "aaxis": {
             "endlinecolor": "#2a3f5f",
             "gridcolor": "white",
             "linecolor": "white",
             "minorgridcolor": "white",
             "startlinecolor": "#2a3f5f"
            },
            "baxis": {
             "endlinecolor": "#2a3f5f",
             "gridcolor": "white",
             "linecolor": "white",
             "minorgridcolor": "white",
             "startlinecolor": "#2a3f5f"
            },
            "type": "carpet"
           }
          ],
          "choropleth": [
           {
            "colorbar": {
             "outlinewidth": 0,
             "ticks": ""
            },
            "type": "choropleth"
           }
          ],
          "contour": [
           {
            "colorbar": {
             "outlinewidth": 0,
             "ticks": ""
            },
            "colorscale": [
             [
              0,
              "#0d0887"
             ],
             [
              0.1111111111111111,
              "#46039f"
             ],
             [
              0.2222222222222222,
              "#7201a8"
             ],
             [
              0.3333333333333333,
              "#9c179e"
             ],
             [
              0.4444444444444444,
              "#bd3786"
             ],
             [
              0.5555555555555556,
              "#d8576b"
             ],
             [
              0.6666666666666666,
              "#ed7953"
             ],
             [
              0.7777777777777778,
              "#fb9f3a"
             ],
             [
              0.8888888888888888,
              "#fdca26"
             ],
             [
              1,
              "#f0f921"
             ]
            ],
            "type": "contour"
           }
          ],
          "contourcarpet": [
           {
            "colorbar": {
             "outlinewidth": 0,
             "ticks": ""
            },
            "type": "contourcarpet"
           }
          ],
          "heatmap": [
           {
            "colorbar": {
             "outlinewidth": 0,
             "ticks": ""
            },
            "colorscale": [
             [
              0,
              "#0d0887"
             ],
             [
              0.1111111111111111,
              "#46039f"
             ],
             [
              0.2222222222222222,
              "#7201a8"
             ],
             [
              0.3333333333333333,
              "#9c179e"
             ],
             [
              0.4444444444444444,
              "#bd3786"
             ],
             [
              0.5555555555555556,
              "#d8576b"
             ],
             [
              0.6666666666666666,
              "#ed7953"
             ],
             [
              0.7777777777777778,
              "#fb9f3a"
             ],
             [
              0.8888888888888888,
              "#fdca26"
             ],
             [
              1,
              "#f0f921"
             ]
            ],
            "type": "heatmap"
           }
          ],
          "heatmapgl": [
           {
            "colorbar": {
             "outlinewidth": 0,
             "ticks": ""
            },
            "colorscale": [
             [
              0,
              "#0d0887"
             ],
             [
              0.1111111111111111,
              "#46039f"
             ],
             [
              0.2222222222222222,
              "#7201a8"
             ],
             [
              0.3333333333333333,
              "#9c179e"
             ],
             [
              0.4444444444444444,
              "#bd3786"
             ],
             [
              0.5555555555555556,
              "#d8576b"
             ],
             [
              0.6666666666666666,
              "#ed7953"
             ],
             [
              0.7777777777777778,
              "#fb9f3a"
             ],
             [
              0.8888888888888888,
              "#fdca26"
             ],
             [
              1,
              "#f0f921"
             ]
            ],
            "type": "heatmapgl"
           }
          ],
          "histogram": [
           {
            "marker": {
             "colorbar": {
              "outlinewidth": 0,
              "ticks": ""
             }
            },
            "type": "histogram"
           }
          ],
          "histogram2d": [
           {
            "colorbar": {
             "outlinewidth": 0,
             "ticks": ""
            },
            "colorscale": [
             [
              0,
              "#0d0887"
             ],
             [
              0.1111111111111111,
              "#46039f"
             ],
             [
              0.2222222222222222,
              "#7201a8"
             ],
             [
              0.3333333333333333,
              "#9c179e"
             ],
             [
              0.4444444444444444,
              "#bd3786"
             ],
             [
              0.5555555555555556,
              "#d8576b"
             ],
             [
              0.6666666666666666,
              "#ed7953"
             ],
             [
              0.7777777777777778,
              "#fb9f3a"
             ],
             [
              0.8888888888888888,
              "#fdca26"
             ],
             [
              1,
              "#f0f921"
             ]
            ],
            "type": "histogram2d"
           }
          ],
          "histogram2dcontour": [
           {
            "colorbar": {
             "outlinewidth": 0,
             "ticks": ""
            },
            "colorscale": [
             [
              0,
              "#0d0887"
             ],
             [
              0.1111111111111111,
              "#46039f"
             ],
             [
              0.2222222222222222,
              "#7201a8"
             ],
             [
              0.3333333333333333,
              "#9c179e"
             ],
             [
              0.4444444444444444,
              "#bd3786"
             ],
             [
              0.5555555555555556,
              "#d8576b"
             ],
             [
              0.6666666666666666,
              "#ed7953"
             ],
             [
              0.7777777777777778,
              "#fb9f3a"
             ],
             [
              0.8888888888888888,
              "#fdca26"
             ],
             [
              1,
              "#f0f921"
             ]
            ],
            "type": "histogram2dcontour"
           }
          ],
          "mesh3d": [
           {
            "colorbar": {
             "outlinewidth": 0,
             "ticks": ""
            },
            "type": "mesh3d"
           }
          ],
          "parcoords": [
           {
            "line": {
             "colorbar": {
              "outlinewidth": 0,
              "ticks": ""
             }
            },
            "type": "parcoords"
           }
          ],
          "pie": [
           {
            "automargin": true,
            "type": "pie"
           }
          ],
          "scatter": [
           {
            "marker": {
             "colorbar": {
              "outlinewidth": 0,
              "ticks": ""
             }
            },
            "type": "scatter"
           }
          ],
          "scatter3d": [
           {
            "line": {
             "colorbar": {
              "outlinewidth": 0,
              "ticks": ""
             }
            },
            "marker": {
             "colorbar": {
              "outlinewidth": 0,
              "ticks": ""
             }
            },
            "type": "scatter3d"
           }
          ],
          "scattercarpet": [
           {
            "marker": {
             "colorbar": {
              "outlinewidth": 0,
              "ticks": ""
             }
            },
            "type": "scattercarpet"
           }
          ],
          "scattergeo": [
           {
            "marker": {
             "colorbar": {
              "outlinewidth": 0,
              "ticks": ""
             }
            },
            "type": "scattergeo"
           }
          ],
          "scattergl": [
           {
            "marker": {
             "colorbar": {
              "outlinewidth": 0,
              "ticks": ""
             }
            },
            "type": "scattergl"
           }
          ],
          "scattermapbox": [
           {
            "marker": {
             "colorbar": {
              "outlinewidth": 0,
              "ticks": ""
             }
            },
            "type": "scattermapbox"
           }
          ],
          "scatterpolar": [
           {
            "marker": {
             "colorbar": {
              "outlinewidth": 0,
              "ticks": ""
             }
            },
            "type": "scatterpolar"
           }
          ],
          "scatterpolargl": [
           {
            "marker": {
             "colorbar": {
              "outlinewidth": 0,
              "ticks": ""
             }
            },
            "type": "scatterpolargl"
           }
          ],
          "scatterternary": [
           {
            "marker": {
             "colorbar": {
              "outlinewidth": 0,
              "ticks": ""
             }
            },
            "type": "scatterternary"
           }
          ],
          "surface": [
           {
            "colorbar": {
             "outlinewidth": 0,
             "ticks": ""
            },
            "colorscale": [
             [
              0,
              "#0d0887"
             ],
             [
              0.1111111111111111,
              "#46039f"
             ],
             [
              0.2222222222222222,
              "#7201a8"
             ],
             [
              0.3333333333333333,
              "#9c179e"
             ],
             [
              0.4444444444444444,
              "#bd3786"
             ],
             [
              0.5555555555555556,
              "#d8576b"
             ],
             [
              0.6666666666666666,
              "#ed7953"
             ],
             [
              0.7777777777777778,
              "#fb9f3a"
             ],
             [
              0.8888888888888888,
              "#fdca26"
             ],
             [
              1,
              "#f0f921"
             ]
            ],
            "type": "surface"
           }
          ],
          "table": [
           {
            "cells": {
             "fill": {
              "color": "#EBF0F8"
             },
             "line": {
              "color": "white"
             }
            },
            "header": {
             "fill": {
              "color": "#C8D4E3"
             },
             "line": {
              "color": "white"
             }
            },
            "type": "table"
           }
          ]
         },
         "layout": {
          "annotationdefaults": {
           "arrowcolor": "#2a3f5f",
           "arrowhead": 0,
           "arrowwidth": 1
          },
          "coloraxis": {
           "colorbar": {
            "outlinewidth": 0,
            "ticks": ""
           }
          },
          "colorscale": {
           "diverging": [
            [
             0,
             "#8e0152"
            ],
            [
             0.1,
             "#c51b7d"
            ],
            [
             0.2,
             "#de77ae"
            ],
            [
             0.3,
             "#f1b6da"
            ],
            [
             0.4,
             "#fde0ef"
            ],
            [
             0.5,
             "#f7f7f7"
            ],
            [
             0.6,
             "#e6f5d0"
            ],
            [
             0.7,
             "#b8e186"
            ],
            [
             0.8,
             "#7fbc41"
            ],
            [
             0.9,
             "#4d9221"
            ],
            [
             1,
             "#276419"
            ]
           ],
           "sequential": [
            [
             0,
             "#0d0887"
            ],
            [
             0.1111111111111111,
             "#46039f"
            ],
            [
             0.2222222222222222,
             "#7201a8"
            ],
            [
             0.3333333333333333,
             "#9c179e"
            ],
            [
             0.4444444444444444,
             "#bd3786"
            ],
            [
             0.5555555555555556,
             "#d8576b"
            ],
            [
             0.6666666666666666,
             "#ed7953"
            ],
            [
             0.7777777777777778,
             "#fb9f3a"
            ],
            [
             0.8888888888888888,
             "#fdca26"
            ],
            [
             1,
             "#f0f921"
            ]
           ],
           "sequentialminus": [
            [
             0,
             "#0d0887"
            ],
            [
             0.1111111111111111,
             "#46039f"
            ],
            [
             0.2222222222222222,
             "#7201a8"
            ],
            [
             0.3333333333333333,
             "#9c179e"
            ],
            [
             0.4444444444444444,
             "#bd3786"
            ],
            [
             0.5555555555555556,
             "#d8576b"
            ],
            [
             0.6666666666666666,
             "#ed7953"
            ],
            [
             0.7777777777777778,
             "#fb9f3a"
            ],
            [
             0.8888888888888888,
             "#fdca26"
            ],
            [
             1,
             "#f0f921"
            ]
           ]
          },
          "colorway": [
           "#636efa",
           "#EF553B",
           "#00cc96",
           "#ab63fa",
           "#FFA15A",
           "#19d3f3",
           "#FF6692",
           "#B6E880",
           "#FF97FF",
           "#FECB52"
          ],
          "font": {
           "color": "#2a3f5f"
          },
          "geo": {
           "bgcolor": "white",
           "lakecolor": "white",
           "landcolor": "#E5ECF6",
           "showlakes": true,
           "showland": true,
           "subunitcolor": "white"
          },
          "hoverlabel": {
           "align": "left"
          },
          "hovermode": "closest",
          "mapbox": {
           "style": "light"
          },
          "paper_bgcolor": "white",
          "plot_bgcolor": "#E5ECF6",
          "polar": {
           "angularaxis": {
            "gridcolor": "white",
            "linecolor": "white",
            "ticks": ""
           },
           "bgcolor": "#E5ECF6",
           "radialaxis": {
            "gridcolor": "white",
            "linecolor": "white",
            "ticks": ""
           }
          },
          "scene": {
           "xaxis": {
            "backgroundcolor": "#E5ECF6",
            "gridcolor": "white",
            "gridwidth": 2,
            "linecolor": "white",
            "showbackground": true,
            "ticks": "",
            "zerolinecolor": "white"
           },
           "yaxis": {
            "backgroundcolor": "#E5ECF6",
            "gridcolor": "white",
            "gridwidth": 2,
            "linecolor": "white",
            "showbackground": true,
            "ticks": "",
            "zerolinecolor": "white"
           },
           "zaxis": {
            "backgroundcolor": "#E5ECF6",
            "gridcolor": "white",
            "gridwidth": 2,
            "linecolor": "white",
            "showbackground": true,
            "ticks": "",
            "zerolinecolor": "white"
           }
          },
          "shapedefaults": {
           "line": {
            "color": "#2a3f5f"
           }
          },
          "ternary": {
           "aaxis": {
            "gridcolor": "white",
            "linecolor": "white",
            "ticks": ""
           },
           "baxis": {
            "gridcolor": "white",
            "linecolor": "white",
            "ticks": ""
           },
           "bgcolor": "#E5ECF6",
           "caxis": {
            "gridcolor": "white",
            "linecolor": "white",
            "ticks": ""
           }
          },
          "title": {
           "x": 0.05
          },
          "xaxis": {
           "automargin": true,
           "gridcolor": "white",
           "linecolor": "white",
           "ticks": "",
           "title": {
            "standoff": 15
           },
           "zerolinecolor": "white",
           "zerolinewidth": 2
          },
          "yaxis": {
           "automargin": true,
           "gridcolor": "white",
           "linecolor": "white",
           "ticks": "",
           "title": {
            "standoff": 15
           },
           "zerolinecolor": "white",
           "zerolinewidth": 2
          }
         }
        },
        "title": {
         "text": "Flight Phase Distribution in Mishap"
        },
        "width": 700,
        "xaxis": {
         "anchor": "y",
         "domain": [
          0,
          1
         ],
         "title": {
          "text": "ACN"
         }
        },
        "yaxis": {
         "anchor": "x",
         "categoryarray": [
          "Taxi",
          "Climb; Descent; Cruise",
          "Parked",
          "Other unknown",
          "Other Hovering",
          "Cruise; Climb; Descent",
          "Cruise; Descent; Climb",
          "Final Approach",
          "Initial Climb",
          "Other All",
          "Other All Phases",
          "Climb; Cruise",
          "Initial Approach",
          "Landing",
          "Descent",
          "Takeoff",
          "Climb",
          "Cruise"
         ],
         "categoryorder": "array",
         "domain": [
          0,
          1
         ],
         "title": {
          "text": "Flight Phase"
         }
        }
       }
      }
     },
     "metadata": {}
    }
   ],
   "source": [
    "fig = px.bar(phase, x=\"ACN\", y=\"Flight Phase\", \n",
    "title='Flight Phase Distribution in Mishap', orientation='h', \n",
    "             width=700, height=700,color='Flight Phase')\n",
    "fig.show()"
   ]
  },
  {
   "cell_type": "code",
   "execution_count": 210,
   "metadata": {},
   "outputs": [
    {
     "output_type": "execute_result",
     "data": {
      "text/plain": "<pandas.io.formats.style.Styler at 0x11eaa9d60>",
      "text/html": "<style  type=\"text/css\" >\n    #T_ade136ec_a3f4_11ea_a18e_acde48001122row0_col1 {\n            background-color:  #cccccc;\n            color:  #000000;\n        }    #T_ade136ec_a3f4_11ea_a18e_acde48001122row1_col1 {\n            background-color:  #f4cae4;\n            color:  #000000;\n        }    #T_ade136ec_a3f4_11ea_a18e_acde48001122row2_col1 {\n            background-color:  #fdcdac;\n            color:  #000000;\n        }    #T_ade136ec_a3f4_11ea_a18e_acde48001122row3_col1 {\n            background-color:  #fdcdac;\n            color:  #000000;\n        }    #T_ade136ec_a3f4_11ea_a18e_acde48001122row4_col1 {\n            background-color:  #b3e2cd;\n            color:  #000000;\n        }    #T_ade136ec_a3f4_11ea_a18e_acde48001122row5_col1 {\n            background-color:  #b3e2cd;\n            color:  #000000;\n        }    #T_ade136ec_a3f4_11ea_a18e_acde48001122row6_col1 {\n            background-color:  #b3e2cd;\n            color:  #000000;\n        }    #T_ade136ec_a3f4_11ea_a18e_acde48001122row7_col1 {\n            background-color:  #b3e2cd;\n            color:  #000000;\n        }    #T_ade136ec_a3f4_11ea_a18e_acde48001122row8_col1 {\n            background-color:  #b3e2cd;\n            color:  #000000;\n        }    #T_ade136ec_a3f4_11ea_a18e_acde48001122row9_col1 {\n            background-color:  #b3e2cd;\n            color:  #000000;\n        }    #T_ade136ec_a3f4_11ea_a18e_acde48001122row10_col1 {\n            background-color:  #b3e2cd;\n            color:  #000000;\n        }    #T_ade136ec_a3f4_11ea_a18e_acde48001122row11_col1 {\n            background-color:  #b3e2cd;\n            color:  #000000;\n        }    #T_ade136ec_a3f4_11ea_a18e_acde48001122row12_col1 {\n            background-color:  #b3e2cd;\n            color:  #000000;\n        }    #T_ade136ec_a3f4_11ea_a18e_acde48001122row13_col1 {\n            background-color:  #b3e2cd;\n            color:  #000000;\n        }    #T_ade136ec_a3f4_11ea_a18e_acde48001122row14_col1 {\n            background-color:  #b3e2cd;\n            color:  #000000;\n        }    #T_ade136ec_a3f4_11ea_a18e_acde48001122row15_col1 {\n            background-color:  #b3e2cd;\n            color:  #000000;\n        }    #T_ade136ec_a3f4_11ea_a18e_acde48001122row16_col1 {\n            background-color:  #b3e2cd;\n            color:  #000000;\n        }    #T_ade136ec_a3f4_11ea_a18e_acde48001122row17_col1 {\n            background-color:  #b3e2cd;\n            color:  #000000;\n        }    #T_ade136ec_a3f4_11ea_a18e_acde48001122row18_col1 {\n            background-color:  #b3e2cd;\n            color:  #000000;\n        }    #T_ade136ec_a3f4_11ea_a18e_acde48001122row19_col1 {\n            background-color:  #b3e2cd;\n            color:  #000000;\n        }    #T_ade136ec_a3f4_11ea_a18e_acde48001122row20_col1 {\n            background-color:  #b3e2cd;\n            color:  #000000;\n        }    #T_ade136ec_a3f4_11ea_a18e_acde48001122row21_col1 {\n            background-color:  #b3e2cd;\n            color:  #000000;\n        }    #T_ade136ec_a3f4_11ea_a18e_acde48001122row22_col1 {\n            background-color:  #b3e2cd;\n            color:  #000000;\n        }</style><table id=\"T_ade136ec_a3f4_11ea_a18e_acde48001122\" ><thead>    <tr>        <th class=\"blank level0\" ></th>        <th class=\"col_heading level0 col0\" >Location Of Person</th>        <th class=\"col_heading level0 col1\" >ACN</th>    </tr></thead><tbody>\n                <tr>\n                        <th id=\"T_ade136ec_a3f4_11ea_a18e_acde48001122level0_row0\" class=\"row_heading level0 row0\" >22</th>\n                        <td id=\"T_ade136ec_a3f4_11ea_a18e_acde48001122row0_col0\" class=\"data row0 col0\" >Hangar / Base</td>\n                        <td id=\"T_ade136ec_a3f4_11ea_a18e_acde48001122row0_col1\" class=\"data row0 col1\" >64</td>\n            </tr>\n            <tr>\n                        <th id=\"T_ade136ec_a3f4_11ea_a18e_acde48001122level0_row1\" class=\"row_heading level0 row1\" >21</th>\n                        <td id=\"T_ade136ec_a3f4_11ea_a18e_acde48001122row1_col0\" class=\"data row1 col0\" >Gate / Ramp / Line</td>\n                        <td id=\"T_ade136ec_a3f4_11ea_a18e_acde48001122row1_col1\" class=\"data row1 col1\" >31</td>\n            </tr>\n            <tr>\n                        <th id=\"T_ade136ec_a3f4_11ea_a18e_acde48001122level0_row2\" class=\"row_heading level0 row2\" >0</th>\n                        <td id=\"T_ade136ec_a3f4_11ea_a18e_acde48001122row2_col0\" class=\"data row2 col0\" >Aircraft X</td>\n                        <td id=\"T_ade136ec_a3f4_11ea_a18e_acde48001122row2_col1\" class=\"data row2 col1\" >15</td>\n            </tr>\n            <tr>\n                        <th id=\"T_ade136ec_a3f4_11ea_a18e_acde48001122level0_row3\" class=\"row_heading level0 row3\" >1</th>\n                        <td id=\"T_ade136ec_a3f4_11ea_a18e_acde48001122row3_col0\" class=\"data row3 col0\" >Company</td>\n                        <td id=\"T_ade136ec_a3f4_11ea_a18e_acde48001122row3_col1\" class=\"data row3 col1\" >12</td>\n            </tr>\n            <tr>\n                        <th id=\"T_ade136ec_a3f4_11ea_a18e_acde48001122level0_row4\" class=\"row_heading level0 row4\" >17</th>\n                        <td id=\"T_ade136ec_a3f4_11ea_a18e_acde48001122row4_col0\" class=\"data row4 col0\" >Facility ZMP.ARTCC</td>\n                        <td id=\"T_ade136ec_a3f4_11ea_a18e_acde48001122row4_col1\" class=\"data row4 col1\" >7</td>\n            </tr>\n            <tr>\n                        <th id=\"T_ade136ec_a3f4_11ea_a18e_acde48001122level0_row5\" class=\"row_heading level0 row5\" >15</th>\n                        <td id=\"T_ade136ec_a3f4_11ea_a18e_acde48001122row5_col0\" class=\"data row5 col0\" >Facility ZLA.ARTCC</td>\n                        <td id=\"T_ade136ec_a3f4_11ea_a18e_acde48001122row5_col1\" class=\"data row5 col1\" >5</td>\n            </tr>\n            <tr>\n                        <th id=\"T_ade136ec_a3f4_11ea_a18e_acde48001122level0_row6\" class=\"row_heading level0 row6\" >5</th>\n                        <td id=\"T_ade136ec_a3f4_11ea_a18e_acde48001122row6_col0\" class=\"data row6 col0\" >Facility FAR.Tower</td>\n                        <td id=\"T_ade136ec_a3f4_11ea_a18e_acde48001122row6_col1\" class=\"data row6 col1\" >2</td>\n            </tr>\n            <tr>\n                        <th id=\"T_ade136ec_a3f4_11ea_a18e_acde48001122level0_row7\" class=\"row_heading level0 row7\" >2</th>\n                        <td id=\"T_ade136ec_a3f4_11ea_a18e_acde48001122row7_col0\" class=\"data row7 col0\" >Facility CRP.TRACON</td>\n                        <td id=\"T_ade136ec_a3f4_11ea_a18e_acde48001122row7_col1\" class=\"data row7 col1\" >2</td>\n            </tr>\n            <tr>\n                        <th id=\"T_ade136ec_a3f4_11ea_a18e_acde48001122level0_row8\" class=\"row_heading level0 row8\" >7</th>\n                        <td id=\"T_ade136ec_a3f4_11ea_a18e_acde48001122row8_col0\" class=\"data row8 col0\" >Facility Inspection site</td>\n                        <td id=\"T_ade136ec_a3f4_11ea_a18e_acde48001122row8_col1\" class=\"data row8 col1\" >2</td>\n            </tr>\n            <tr>\n                        <th id=\"T_ade136ec_a3f4_11ea_a18e_acde48001122level0_row9\" class=\"row_heading level0 row9\" >20</th>\n                        <td id=\"T_ade136ec_a3f4_11ea_a18e_acde48001122row9_col0\" class=\"data row9 col0\" >Facility ZZZ.Tower</td>\n                        <td id=\"T_ade136ec_a3f4_11ea_a18e_acde48001122row9_col1\" class=\"data row9 col1\" >2</td>\n            </tr>\n            <tr>\n                        <th id=\"T_ade136ec_a3f4_11ea_a18e_acde48001122level0_row10\" class=\"row_heading level0 row10\" >19</th>\n                        <td id=\"T_ade136ec_a3f4_11ea_a18e_acde48001122row10_col0\" class=\"data row10 col0\" >Facility ZZZ.ARTCC</td>\n                        <td id=\"T_ade136ec_a3f4_11ea_a18e_acde48001122row10_col1\" class=\"data row10 col1\" >2</td>\n            </tr>\n            <tr>\n                        <th id=\"T_ade136ec_a3f4_11ea_a18e_acde48001122level0_row11\" class=\"row_heading level0 row11\" >3</th>\n                        <td id=\"T_ade136ec_a3f4_11ea_a18e_acde48001122row11_col0\" class=\"data row11 col0\" >Facility DAY.Tower</td>\n                        <td id=\"T_ade136ec_a3f4_11ea_a18e_acde48001122row11_col1\" class=\"data row11 col1\" >1</td>\n            </tr>\n            <tr>\n                        <th id=\"T_ade136ec_a3f4_11ea_a18e_acde48001122level0_row12\" class=\"row_heading level0 row12\" >18</th>\n                        <td id=\"T_ade136ec_a3f4_11ea_a18e_acde48001122row12_col0\" class=\"data row12 col0\" >Facility ZOA.ARTCC</td>\n                        <td id=\"T_ade136ec_a3f4_11ea_a18e_acde48001122row12_col1\" class=\"data row12 col1\" >1</td>\n            </tr>\n            <tr>\n                        <th id=\"T_ade136ec_a3f4_11ea_a18e_acde48001122level0_row13\" class=\"row_heading level0 row13\" >16</th>\n                        <td id=\"T_ade136ec_a3f4_11ea_a18e_acde48001122row13_col0\" class=\"data row13 col0\" >Facility ZMA.ARTCC</td>\n                        <td id=\"T_ade136ec_a3f4_11ea_a18e_acde48001122row13_col1\" class=\"data row13 col1\" >1</td>\n            </tr>\n            <tr>\n                        <th id=\"T_ade136ec_a3f4_11ea_a18e_acde48001122level0_row14\" class=\"row_heading level0 row14\" >13</th>\n                        <td id=\"T_ade136ec_a3f4_11ea_a18e_acde48001122row14_col0\" class=\"data row14 col0\" >Facility ZBW.ARTCC</td>\n                        <td id=\"T_ade136ec_a3f4_11ea_a18e_acde48001122row14_col1\" class=\"data row14 col1\" >1</td>\n            </tr>\n            <tr>\n                        <th id=\"T_ade136ec_a3f4_11ea_a18e_acde48001122level0_row15\" class=\"row_heading level0 row15\" >14</th>\n                        <td id=\"T_ade136ec_a3f4_11ea_a18e_acde48001122row15_col0\" class=\"data row15 col0\" >Facility ZDV.ARTCC</td>\n                        <td id=\"T_ade136ec_a3f4_11ea_a18e_acde48001122row15_col1\" class=\"data row15 col1\" >1</td>\n            </tr>\n            <tr>\n                        <th id=\"T_ade136ec_a3f4_11ea_a18e_acde48001122level0_row16\" class=\"row_heading level0 row16\" >4</th>\n                        <td id=\"T_ade136ec_a3f4_11ea_a18e_acde48001122row16_col0\" class=\"data row16 col0\" >Facility EYW.Tower</td>\n                        <td id=\"T_ade136ec_a3f4_11ea_a18e_acde48001122row16_col1\" class=\"data row16 col1\" >1</td>\n            </tr>\n            <tr>\n                        <th id=\"T_ade136ec_a3f4_11ea_a18e_acde48001122level0_row17\" class=\"row_heading level0 row17\" >12</th>\n                        <td id=\"T_ade136ec_a3f4_11ea_a18e_acde48001122row17_col0\" class=\"data row17 col0\" >Facility ZAB.ARTCC</td>\n                        <td id=\"T_ade136ec_a3f4_11ea_a18e_acde48001122row17_col1\" class=\"data row17 col1\" >1</td>\n            </tr>\n            <tr>\n                        <th id=\"T_ade136ec_a3f4_11ea_a18e_acde48001122level0_row18\" class=\"row_heading level0 row18\" >10</th>\n                        <td id=\"T_ade136ec_a3f4_11ea_a18e_acde48001122row18_col0\" class=\"data row18 col0\" >Facility PAO.TOWER</td>\n                        <td id=\"T_ade136ec_a3f4_11ea_a18e_acde48001122row18_col1\" class=\"data row18 col1\" >1</td>\n            </tr>\n            <tr>\n                        <th id=\"T_ade136ec_a3f4_11ea_a18e_acde48001122level0_row19\" class=\"row_heading level0 row19\" >9</th>\n                        <td id=\"T_ade136ec_a3f4_11ea_a18e_acde48001122row19_col0\" class=\"data row19 col0\" >Facility NCT.TRACON</td>\n                        <td id=\"T_ade136ec_a3f4_11ea_a18e_acde48001122row19_col1\" class=\"data row19 col1\" >1</td>\n            </tr>\n            <tr>\n                        <th id=\"T_ade136ec_a3f4_11ea_a18e_acde48001122level0_row20\" class=\"row_heading level0 row20\" >8</th>\n                        <td id=\"T_ade136ec_a3f4_11ea_a18e_acde48001122row20_col0\" class=\"data row20 col0\" >Facility JCF.TRACON</td>\n                        <td id=\"T_ade136ec_a3f4_11ea_a18e_acde48001122row20_col1\" class=\"data row20 col1\" >1</td>\n            </tr>\n            <tr>\n                        <th id=\"T_ade136ec_a3f4_11ea_a18e_acde48001122level0_row21\" class=\"row_heading level0 row21\" >6</th>\n                        <td id=\"T_ade136ec_a3f4_11ea_a18e_acde48001122row21_col0\" class=\"data row21 col0\" >Facility I90.TRACON</td>\n                        <td id=\"T_ade136ec_a3f4_11ea_a18e_acde48001122row21_col1\" class=\"data row21 col1\" >1</td>\n            </tr>\n            <tr>\n                        <th id=\"T_ade136ec_a3f4_11ea_a18e_acde48001122level0_row22\" class=\"row_heading level0 row22\" >11</th>\n                        <td id=\"T_ade136ec_a3f4_11ea_a18e_acde48001122row22_col0\" class=\"data row22 col0\" >Facility SYR.TRACON</td>\n                        <td id=\"T_ade136ec_a3f4_11ea_a18e_acde48001122row22_col1\" class=\"data row22 col1\" >1</td>\n            </tr>\n    </tbody></table>"
     },
     "metadata": {},
     "execution_count": 210
    }
   ],
   "source": [
    "oplocation = train.groupby('Location Of Person').count()['ACN'].reset_index().sort_values(by='ACN',ascending=False)\n",
    "oplocation.style.background_gradient(cmap='Pastel2')"
   ]
  },
  {
   "cell_type": "code",
   "execution_count": 78,
   "metadata": {},
   "outputs": [
    {
     "output_type": "execute_result",
     "data": {
      "text/plain": "<pandas.io.formats.style.Styler at 0x128714b50>",
      "text/html": "<style  type=\"text/css\" >\n    #T_a094d32c_a3fe_11ea_9198_acde48001122row0_col1 {\n            background-color:  #de9ed6;\n            color:  #000000;\n        }    #T_a094d32c_a3fe_11ea_9198_acde48001122row1_col1 {\n            background-color:  #9c9ede;\n            color:  #000000;\n        }    #T_a094d32c_a3fe_11ea_9198_acde48001122row2_col1 {\n            background-color:  #5254a3;\n            color:  #f1f1f1;\n        }    #T_a094d32c_a3fe_11ea_9198_acde48001122row3_col1 {\n            background-color:  #393b79;\n            color:  #f1f1f1;\n        }    #T_a094d32c_a3fe_11ea_9198_acde48001122row4_col1 {\n            background-color:  #393b79;\n            color:  #f1f1f1;\n        }    #T_a094d32c_a3fe_11ea_9198_acde48001122row5_col1 {\n            background-color:  #393b79;\n            color:  #f1f1f1;\n        }    #T_a094d32c_a3fe_11ea_9198_acde48001122row6_col1 {\n            background-color:  #393b79;\n            color:  #f1f1f1;\n        }    #T_a094d32c_a3fe_11ea_9198_acde48001122row7_col1 {\n            background-color:  #393b79;\n            color:  #f1f1f1;\n        }    #T_a094d32c_a3fe_11ea_9198_acde48001122row8_col1 {\n            background-color:  #393b79;\n            color:  #f1f1f1;\n        }    #T_a094d32c_a3fe_11ea_9198_acde48001122row9_col1 {\n            background-color:  #393b79;\n            color:  #f1f1f1;\n        }    #T_a094d32c_a3fe_11ea_9198_acde48001122row10_col1 {\n            background-color:  #393b79;\n            color:  #f1f1f1;\n        }    #T_a094d32c_a3fe_11ea_9198_acde48001122row11_col1 {\n            background-color:  #393b79;\n            color:  #f1f1f1;\n        }    #T_a094d32c_a3fe_11ea_9198_acde48001122row12_col1 {\n            background-color:  #393b79;\n            color:  #f1f1f1;\n        }    #T_a094d32c_a3fe_11ea_9198_acde48001122row13_col1 {\n            background-color:  #393b79;\n            color:  #f1f1f1;\n        }</style><table id=\"T_a094d32c_a3fe_11ea_9198_acde48001122\" ><thead>    <tr>        <th class=\"blank level0\" ></th>        <th class=\"col_heading level0 col0\" >When Detected</th>        <th class=\"col_heading level0 col1\" >ACN</th>    </tr></thead><tbody>\n                <tr>\n                        <th id=\"T_a094d32c_a3fe_11ea_9198_acde48001122level0_row0\" class=\"row_heading level0 row0\" >1</th>\n                        <td id=\"T_a094d32c_a3fe_11ea_9198_acde48001122row0_col0\" class=\"data row0 col0\" >In-flight</td>\n                        <td id=\"T_a094d32c_a3fe_11ea_9198_acde48001122row0_col1\" class=\"data row0 col1\" >109</td>\n            </tr>\n            <tr>\n                        <th id=\"T_a094d32c_a3fe_11ea_9198_acde48001122level0_row1\" class=\"row_heading level0 row1\" >12</th>\n                        <td id=\"T_a094d32c_a3fe_11ea_9198_acde48001122row1_col0\" class=\"data row1 col0\" >Routine Inspection</td>\n                        <td id=\"T_a094d32c_a3fe_11ea_9198_acde48001122row1_col1\" class=\"data row1 col1\" >21</td>\n            </tr>\n            <tr>\n                        <th id=\"T_a094d32c_a3fe_11ea_9198_acde48001122level0_row2\" class=\"row_heading level0 row2\" >4</th>\n                        <td id=\"T_a094d32c_a3fe_11ea_9198_acde48001122row2_col0\" class=\"data row2 col0\" >Other Post Flight</td>\n                        <td id=\"T_a094d32c_a3fe_11ea_9198_acde48001122row2_col1\" class=\"data row2 col1\" >7</td>\n            </tr>\n            <tr>\n                        <th id=\"T_a094d32c_a3fe_11ea_9198_acde48001122level0_row3\" class=\"row_heading level0 row3\" >11</th>\n                        <td id=\"T_a094d32c_a3fe_11ea_9198_acde48001122row3_col0\" class=\"data row3 col0\" >Pre-flight</td>\n                        <td id=\"T_a094d32c_a3fe_11ea_9198_acde48001122row3_col1\" class=\"data row3 col1\" >3</td>\n            </tr>\n            <tr>\n                        <th id=\"T_a094d32c_a3fe_11ea_9198_acde48001122level0_row4\" class=\"row_heading level0 row4\" >13</th>\n                        <td id=\"T_a094d32c_a3fe_11ea_9198_acde48001122row4_col0\" class=\"data row4 col0\" >Taxi</td>\n                        <td id=\"T_a094d32c_a3fe_11ea_9198_acde48001122row4_col1\" class=\"data row4 col1\" >3</td>\n            </tr>\n            <tr>\n                        <th id=\"T_a094d32c_a3fe_11ea_9198_acde48001122level0_row5\" class=\"row_heading level0 row5\" >6</th>\n                        <td id=\"T_a094d32c_a3fe_11ea_9198_acde48001122row5_col0\" class=\"data row5 col0\" >Other UAV Operator</td>\n                        <td id=\"T_a094d32c_a3fe_11ea_9198_acde48001122row5_col1\" class=\"data row5 col1\" >2</td>\n            </tr>\n            <tr>\n                        <th id=\"T_a094d32c_a3fe_11ea_9198_acde48001122level0_row6\" class=\"row_heading level0 row6\" >7</th>\n                        <td id=\"T_a094d32c_a3fe_11ea_9198_acde48001122row6_col0\" class=\"data row6 col0\" >Other after flight</td>\n                        <td id=\"T_a094d32c_a3fe_11ea_9198_acde48001122row6_col1\" class=\"data row6 col1\" >2</td>\n            </tr>\n            <tr>\n                        <th id=\"T_a094d32c_a3fe_11ea_9198_acde48001122level0_row7\" class=\"row_heading level0 row7\" >8</th>\n                        <td id=\"T_a094d32c_a3fe_11ea_9198_acde48001122row7_col0\" class=\"data row7 col0\" >Other after mission</td>\n                        <td id=\"T_a094d32c_a3fe_11ea_9198_acde48001122row7_col1\" class=\"data row7 col1\" >2</td>\n            </tr>\n            <tr>\n                        <th id=\"T_a094d32c_a3fe_11ea_9198_acde48001122level0_row8\" class=\"row_heading level0 row8\" >9</th>\n                        <td id=\"T_a094d32c_a3fe_11ea_9198_acde48001122row8_col0\" class=\"data row8 col0\" >Other drone operator</td>\n                        <td id=\"T_a094d32c_a3fe_11ea_9198_acde48001122row8_col1\" class=\"data row8 col1\" >2</td>\n            </tr>\n            <tr>\n                        <th id=\"T_a094d32c_a3fe_11ea_9198_acde48001122level0_row9\" class=\"row_heading level0 row9\" >0</th>\n                        <td id=\"T_a094d32c_a3fe_11ea_9198_acde48001122row9_col0\" class=\"data row9 col0\" >Aircraft In Service At Gate</td>\n                        <td id=\"T_a094d32c_a3fe_11ea_9198_acde48001122row9_col1\" class=\"data row9 col1\" >1</td>\n            </tr>\n            <tr>\n                        <th id=\"T_a094d32c_a3fe_11ea_9198_acde48001122level0_row10\" class=\"row_heading level0 row10\" >2</th>\n                        <td id=\"T_a094d32c_a3fe_11ea_9198_acde48001122row10_col0\" class=\"data row10 col0\" >Other After the event</td>\n                        <td id=\"T_a094d32c_a3fe_11ea_9198_acde48001122row10_col1\" class=\"data row10 col1\" >1</td>\n            </tr>\n            <tr>\n                        <th id=\"T_a094d32c_a3fe_11ea_9198_acde48001122level0_row11\" class=\"row_heading level0 row11\" >3</th>\n                        <td id=\"T_a094d32c_a3fe_11ea_9198_acde48001122row11_col0\" class=\"data row11 col0\" >Other Parked</td>\n                        <td id=\"T_a094d32c_a3fe_11ea_9198_acde48001122row11_col1\" class=\"data row11 col1\" >1</td>\n            </tr>\n            <tr>\n                        <th id=\"T_a094d32c_a3fe_11ea_9198_acde48001122level0_row12\" class=\"row_heading level0 row12\" >5</th>\n                        <td id=\"T_a094d32c_a3fe_11ea_9198_acde48001122row12_col0\" class=\"data row12 col0\" >Other Post-Flight</td>\n                        <td id=\"T_a094d32c_a3fe_11ea_9198_acde48001122row12_col1\" class=\"data row12 col1\" >1</td>\n            </tr>\n            <tr>\n                        <th id=\"T_a094d32c_a3fe_11ea_9198_acde48001122level0_row13\" class=\"row_heading level0 row13\" >10</th>\n                        <td id=\"T_a094d32c_a3fe_11ea_9198_acde48001122row13_col0\" class=\"data row13 col0\" >Other post flight</td>\n                        <td id=\"T_a094d32c_a3fe_11ea_9198_acde48001122row13_col1\" class=\"data row13 col1\" >1</td>\n            </tr>\n    </tbody></table>"
     },
     "metadata": {},
     "execution_count": 78
    }
   ],
   "source": [
    "detecttime = train.groupby('When Detected').count()['ACN'].reset_index().sort_values(by='ACN',ascending=False)\n",
    "detecttime.style.background_gradient(cmap='tab20b')"
   ]
  },
  {
   "cell_type": "code",
   "execution_count": 79,
   "metadata": {},
   "outputs": [
    {
     "output_type": "display_data",
     "data": {
      "application/vnd.plotly.v1+json": {
       "config": {
        "plotlyServerURL": "https://plot.ly"
       },
       "data": [
        {
         "alignmentgroup": "True",
         "hovertemplate": "When Detected=%{y}<br>ACN=%{x}<extra></extra>",
         "legendgroup": "In-flight",
         "marker": {
          "color": "#636efa"
         },
         "name": "In-flight",
         "offsetgroup": "In-flight",
         "orientation": "h",
         "showlegend": true,
         "textposition": "auto",
         "type": "bar",
         "x": [
          109
         ],
         "xaxis": "x",
         "y": [
          "In-flight"
         ],
         "yaxis": "y"
        },
        {
         "alignmentgroup": "True",
         "hovertemplate": "When Detected=%{y}<br>ACN=%{x}<extra></extra>",
         "legendgroup": "Routine Inspection",
         "marker": {
          "color": "#EF553B"
         },
         "name": "Routine Inspection",
         "offsetgroup": "Routine Inspection",
         "orientation": "h",
         "showlegend": true,
         "textposition": "auto",
         "type": "bar",
         "x": [
          21
         ],
         "xaxis": "x",
         "y": [
          "Routine Inspection"
         ],
         "yaxis": "y"
        },
        {
         "alignmentgroup": "True",
         "hovertemplate": "When Detected=%{y}<br>ACN=%{x}<extra></extra>",
         "legendgroup": "Other Post Flight",
         "marker": {
          "color": "#00cc96"
         },
         "name": "Other Post Flight",
         "offsetgroup": "Other Post Flight",
         "orientation": "h",
         "showlegend": true,
         "textposition": "auto",
         "type": "bar",
         "x": [
          7
         ],
         "xaxis": "x",
         "y": [
          "Other Post Flight"
         ],
         "yaxis": "y"
        },
        {
         "alignmentgroup": "True",
         "hovertemplate": "When Detected=%{y}<br>ACN=%{x}<extra></extra>",
         "legendgroup": "Pre-flight",
         "marker": {
          "color": "#ab63fa"
         },
         "name": "Pre-flight",
         "offsetgroup": "Pre-flight",
         "orientation": "h",
         "showlegend": true,
         "textposition": "auto",
         "type": "bar",
         "x": [
          3
         ],
         "xaxis": "x",
         "y": [
          "Pre-flight"
         ],
         "yaxis": "y"
        },
        {
         "alignmentgroup": "True",
         "hovertemplate": "When Detected=%{y}<br>ACN=%{x}<extra></extra>",
         "legendgroup": "Taxi",
         "marker": {
          "color": "#FFA15A"
         },
         "name": "Taxi",
         "offsetgroup": "Taxi",
         "orientation": "h",
         "showlegend": true,
         "textposition": "auto",
         "type": "bar",
         "x": [
          3
         ],
         "xaxis": "x",
         "y": [
          "Taxi"
         ],
         "yaxis": "y"
        },
        {
         "alignmentgroup": "True",
         "hovertemplate": "When Detected=%{y}<br>ACN=%{x}<extra></extra>",
         "legendgroup": "Other UAV Operator",
         "marker": {
          "color": "#19d3f3"
         },
         "name": "Other UAV Operator",
         "offsetgroup": "Other UAV Operator",
         "orientation": "h",
         "showlegend": true,
         "textposition": "auto",
         "type": "bar",
         "x": [
          2
         ],
         "xaxis": "x",
         "y": [
          "Other UAV Operator"
         ],
         "yaxis": "y"
        },
        {
         "alignmentgroup": "True",
         "hovertemplate": "When Detected=%{y}<br>ACN=%{x}<extra></extra>",
         "legendgroup": "Other after flight",
         "marker": {
          "color": "#FF6692"
         },
         "name": "Other after flight",
         "offsetgroup": "Other after flight",
         "orientation": "h",
         "showlegend": true,
         "textposition": "auto",
         "type": "bar",
         "x": [
          2
         ],
         "xaxis": "x",
         "y": [
          "Other after flight"
         ],
         "yaxis": "y"
        },
        {
         "alignmentgroup": "True",
         "hovertemplate": "When Detected=%{y}<br>ACN=%{x}<extra></extra>",
         "legendgroup": "Other after mission",
         "marker": {
          "color": "#B6E880"
         },
         "name": "Other after mission",
         "offsetgroup": "Other after mission",
         "orientation": "h",
         "showlegend": true,
         "textposition": "auto",
         "type": "bar",
         "x": [
          2
         ],
         "xaxis": "x",
         "y": [
          "Other after mission"
         ],
         "yaxis": "y"
        },
        {
         "alignmentgroup": "True",
         "hovertemplate": "When Detected=%{y}<br>ACN=%{x}<extra></extra>",
         "legendgroup": "Other drone operator",
         "marker": {
          "color": "#FF97FF"
         },
         "name": "Other drone operator",
         "offsetgroup": "Other drone operator",
         "orientation": "h",
         "showlegend": true,
         "textposition": "auto",
         "type": "bar",
         "x": [
          2
         ],
         "xaxis": "x",
         "y": [
          "Other drone operator"
         ],
         "yaxis": "y"
        },
        {
         "alignmentgroup": "True",
         "hovertemplate": "When Detected=%{y}<br>ACN=%{x}<extra></extra>",
         "legendgroup": "Aircraft In Service At Gate",
         "marker": {
          "color": "#FECB52"
         },
         "name": "Aircraft In Service At Gate",
         "offsetgroup": "Aircraft In Service At Gate",
         "orientation": "h",
         "showlegend": true,
         "textposition": "auto",
         "type": "bar",
         "x": [
          1
         ],
         "xaxis": "x",
         "y": [
          "Aircraft In Service At Gate"
         ],
         "yaxis": "y"
        },
        {
         "alignmentgroup": "True",
         "hovertemplate": "When Detected=%{y}<br>ACN=%{x}<extra></extra>",
         "legendgroup": "Other After the event",
         "marker": {
          "color": "#636efa"
         },
         "name": "Other After the event",
         "offsetgroup": "Other After the event",
         "orientation": "h",
         "showlegend": true,
         "textposition": "auto",
         "type": "bar",
         "x": [
          1
         ],
         "xaxis": "x",
         "y": [
          "Other After the event"
         ],
         "yaxis": "y"
        },
        {
         "alignmentgroup": "True",
         "hovertemplate": "When Detected=%{y}<br>ACN=%{x}<extra></extra>",
         "legendgroup": "Other Parked",
         "marker": {
          "color": "#EF553B"
         },
         "name": "Other Parked",
         "offsetgroup": "Other Parked",
         "orientation": "h",
         "showlegend": true,
         "textposition": "auto",
         "type": "bar",
         "x": [
          1
         ],
         "xaxis": "x",
         "y": [
          "Other Parked"
         ],
         "yaxis": "y"
        },
        {
         "alignmentgroup": "True",
         "hovertemplate": "When Detected=%{y}<br>ACN=%{x}<extra></extra>",
         "legendgroup": "Other Post-Flight",
         "marker": {
          "color": "#00cc96"
         },
         "name": "Other Post-Flight",
         "offsetgroup": "Other Post-Flight",
         "orientation": "h",
         "showlegend": true,
         "textposition": "auto",
         "type": "bar",
         "x": [
          1
         ],
         "xaxis": "x",
         "y": [
          "Other Post-Flight"
         ],
         "yaxis": "y"
        },
        {
         "alignmentgroup": "True",
         "hovertemplate": "When Detected=%{y}<br>ACN=%{x}<extra></extra>",
         "legendgroup": "Other post flight",
         "marker": {
          "color": "#ab63fa"
         },
         "name": "Other post flight",
         "offsetgroup": "Other post flight",
         "orientation": "h",
         "showlegend": true,
         "textposition": "auto",
         "type": "bar",
         "x": [
          1
         ],
         "xaxis": "x",
         "y": [
          "Other post flight"
         ],
         "yaxis": "y"
        }
       ],
       "layout": {
        "barmode": "relative",
        "height": 700,
        "legend": {
         "title": {
          "text": "When Detected"
         },
         "tracegroupgap": 0
        },
        "template": {
         "data": {
          "bar": [
           {
            "error_x": {
             "color": "#2a3f5f"
            },
            "error_y": {
             "color": "#2a3f5f"
            },
            "marker": {
             "line": {
              "color": "#E5ECF6",
              "width": 0.5
             }
            },
            "type": "bar"
           }
          ],
          "barpolar": [
           {
            "marker": {
             "line": {
              "color": "#E5ECF6",
              "width": 0.5
             }
            },
            "type": "barpolar"
           }
          ],
          "carpet": [
           {
            "aaxis": {
             "endlinecolor": "#2a3f5f",
             "gridcolor": "white",
             "linecolor": "white",
             "minorgridcolor": "white",
             "startlinecolor": "#2a3f5f"
            },
            "baxis": {
             "endlinecolor": "#2a3f5f",
             "gridcolor": "white",
             "linecolor": "white",
             "minorgridcolor": "white",
             "startlinecolor": "#2a3f5f"
            },
            "type": "carpet"
           }
          ],
          "choropleth": [
           {
            "colorbar": {
             "outlinewidth": 0,
             "ticks": ""
            },
            "type": "choropleth"
           }
          ],
          "contour": [
           {
            "colorbar": {
             "outlinewidth": 0,
             "ticks": ""
            },
            "colorscale": [
             [
              0,
              "#0d0887"
             ],
             [
              0.1111111111111111,
              "#46039f"
             ],
             [
              0.2222222222222222,
              "#7201a8"
             ],
             [
              0.3333333333333333,
              "#9c179e"
             ],
             [
              0.4444444444444444,
              "#bd3786"
             ],
             [
              0.5555555555555556,
              "#d8576b"
             ],
             [
              0.6666666666666666,
              "#ed7953"
             ],
             [
              0.7777777777777778,
              "#fb9f3a"
             ],
             [
              0.8888888888888888,
              "#fdca26"
             ],
             [
              1,
              "#f0f921"
             ]
            ],
            "type": "contour"
           }
          ],
          "contourcarpet": [
           {
            "colorbar": {
             "outlinewidth": 0,
             "ticks": ""
            },
            "type": "contourcarpet"
           }
          ],
          "heatmap": [
           {
            "colorbar": {
             "outlinewidth": 0,
             "ticks": ""
            },
            "colorscale": [
             [
              0,
              "#0d0887"
             ],
             [
              0.1111111111111111,
              "#46039f"
             ],
             [
              0.2222222222222222,
              "#7201a8"
             ],
             [
              0.3333333333333333,
              "#9c179e"
             ],
             [
              0.4444444444444444,
              "#bd3786"
             ],
             [
              0.5555555555555556,
              "#d8576b"
             ],
             [
              0.6666666666666666,
              "#ed7953"
             ],
             [
              0.7777777777777778,
              "#fb9f3a"
             ],
             [
              0.8888888888888888,
              "#fdca26"
             ],
             [
              1,
              "#f0f921"
             ]
            ],
            "type": "heatmap"
           }
          ],
          "heatmapgl": [
           {
            "colorbar": {
             "outlinewidth": 0,
             "ticks": ""
            },
            "colorscale": [
             [
              0,
              "#0d0887"
             ],
             [
              0.1111111111111111,
              "#46039f"
             ],
             [
              0.2222222222222222,
              "#7201a8"
             ],
             [
              0.3333333333333333,
              "#9c179e"
             ],
             [
              0.4444444444444444,
              "#bd3786"
             ],
             [
              0.5555555555555556,
              "#d8576b"
             ],
             [
              0.6666666666666666,
              "#ed7953"
             ],
             [
              0.7777777777777778,
              "#fb9f3a"
             ],
             [
              0.8888888888888888,
              "#fdca26"
             ],
             [
              1,
              "#f0f921"
             ]
            ],
            "type": "heatmapgl"
           }
          ],
          "histogram": [
           {
            "marker": {
             "colorbar": {
              "outlinewidth": 0,
              "ticks": ""
             }
            },
            "type": "histogram"
           }
          ],
          "histogram2d": [
           {
            "colorbar": {
             "outlinewidth": 0,
             "ticks": ""
            },
            "colorscale": [
             [
              0,
              "#0d0887"
             ],
             [
              0.1111111111111111,
              "#46039f"
             ],
             [
              0.2222222222222222,
              "#7201a8"
             ],
             [
              0.3333333333333333,
              "#9c179e"
             ],
             [
              0.4444444444444444,
              "#bd3786"
             ],
             [
              0.5555555555555556,
              "#d8576b"
             ],
             [
              0.6666666666666666,
              "#ed7953"
             ],
             [
              0.7777777777777778,
              "#fb9f3a"
             ],
             [
              0.8888888888888888,
              "#fdca26"
             ],
             [
              1,
              "#f0f921"
             ]
            ],
            "type": "histogram2d"
           }
          ],
          "histogram2dcontour": [
           {
            "colorbar": {
             "outlinewidth": 0,
             "ticks": ""
            },
            "colorscale": [
             [
              0,
              "#0d0887"
             ],
             [
              0.1111111111111111,
              "#46039f"
             ],
             [
              0.2222222222222222,
              "#7201a8"
             ],
             [
              0.3333333333333333,
              "#9c179e"
             ],
             [
              0.4444444444444444,
              "#bd3786"
             ],
             [
              0.5555555555555556,
              "#d8576b"
             ],
             [
              0.6666666666666666,
              "#ed7953"
             ],
             [
              0.7777777777777778,
              "#fb9f3a"
             ],
             [
              0.8888888888888888,
              "#fdca26"
             ],
             [
              1,
              "#f0f921"
             ]
            ],
            "type": "histogram2dcontour"
           }
          ],
          "mesh3d": [
           {
            "colorbar": {
             "outlinewidth": 0,
             "ticks": ""
            },
            "type": "mesh3d"
           }
          ],
          "parcoords": [
           {
            "line": {
             "colorbar": {
              "outlinewidth": 0,
              "ticks": ""
             }
            },
            "type": "parcoords"
           }
          ],
          "pie": [
           {
            "automargin": true,
            "type": "pie"
           }
          ],
          "scatter": [
           {
            "marker": {
             "colorbar": {
              "outlinewidth": 0,
              "ticks": ""
             }
            },
            "type": "scatter"
           }
          ],
          "scatter3d": [
           {
            "line": {
             "colorbar": {
              "outlinewidth": 0,
              "ticks": ""
             }
            },
            "marker": {
             "colorbar": {
              "outlinewidth": 0,
              "ticks": ""
             }
            },
            "type": "scatter3d"
           }
          ],
          "scattercarpet": [
           {
            "marker": {
             "colorbar": {
              "outlinewidth": 0,
              "ticks": ""
             }
            },
            "type": "scattercarpet"
           }
          ],
          "scattergeo": [
           {
            "marker": {
             "colorbar": {
              "outlinewidth": 0,
              "ticks": ""
             }
            },
            "type": "scattergeo"
           }
          ],
          "scattergl": [
           {
            "marker": {
             "colorbar": {
              "outlinewidth": 0,
              "ticks": ""
             }
            },
            "type": "scattergl"
           }
          ],
          "scattermapbox": [
           {
            "marker": {
             "colorbar": {
              "outlinewidth": 0,
              "ticks": ""
             }
            },
            "type": "scattermapbox"
           }
          ],
          "scatterpolar": [
           {
            "marker": {
             "colorbar": {
              "outlinewidth": 0,
              "ticks": ""
             }
            },
            "type": "scatterpolar"
           }
          ],
          "scatterpolargl": [
           {
            "marker": {
             "colorbar": {
              "outlinewidth": 0,
              "ticks": ""
             }
            },
            "type": "scatterpolargl"
           }
          ],
          "scatterternary": [
           {
            "marker": {
             "colorbar": {
              "outlinewidth": 0,
              "ticks": ""
             }
            },
            "type": "scatterternary"
           }
          ],
          "surface": [
           {
            "colorbar": {
             "outlinewidth": 0,
             "ticks": ""
            },
            "colorscale": [
             [
              0,
              "#0d0887"
             ],
             [
              0.1111111111111111,
              "#46039f"
             ],
             [
              0.2222222222222222,
              "#7201a8"
             ],
             [
              0.3333333333333333,
              "#9c179e"
             ],
             [
              0.4444444444444444,
              "#bd3786"
             ],
             [
              0.5555555555555556,
              "#d8576b"
             ],
             [
              0.6666666666666666,
              "#ed7953"
             ],
             [
              0.7777777777777778,
              "#fb9f3a"
             ],
             [
              0.8888888888888888,
              "#fdca26"
             ],
             [
              1,
              "#f0f921"
             ]
            ],
            "type": "surface"
           }
          ],
          "table": [
           {
            "cells": {
             "fill": {
              "color": "#EBF0F8"
             },
             "line": {
              "color": "white"
             }
            },
            "header": {
             "fill": {
              "color": "#C8D4E3"
             },
             "line": {
              "color": "white"
             }
            },
            "type": "table"
           }
          ]
         },
         "layout": {
          "annotationdefaults": {
           "arrowcolor": "#2a3f5f",
           "arrowhead": 0,
           "arrowwidth": 1
          },
          "coloraxis": {
           "colorbar": {
            "outlinewidth": 0,
            "ticks": ""
           }
          },
          "colorscale": {
           "diverging": [
            [
             0,
             "#8e0152"
            ],
            [
             0.1,
             "#c51b7d"
            ],
            [
             0.2,
             "#de77ae"
            ],
            [
             0.3,
             "#f1b6da"
            ],
            [
             0.4,
             "#fde0ef"
            ],
            [
             0.5,
             "#f7f7f7"
            ],
            [
             0.6,
             "#e6f5d0"
            ],
            [
             0.7,
             "#b8e186"
            ],
            [
             0.8,
             "#7fbc41"
            ],
            [
             0.9,
             "#4d9221"
            ],
            [
             1,
             "#276419"
            ]
           ],
           "sequential": [
            [
             0,
             "#0d0887"
            ],
            [
             0.1111111111111111,
             "#46039f"
            ],
            [
             0.2222222222222222,
             "#7201a8"
            ],
            [
             0.3333333333333333,
             "#9c179e"
            ],
            [
             0.4444444444444444,
             "#bd3786"
            ],
            [
             0.5555555555555556,
             "#d8576b"
            ],
            [
             0.6666666666666666,
             "#ed7953"
            ],
            [
             0.7777777777777778,
             "#fb9f3a"
            ],
            [
             0.8888888888888888,
             "#fdca26"
            ],
            [
             1,
             "#f0f921"
            ]
           ],
           "sequentialminus": [
            [
             0,
             "#0d0887"
            ],
            [
             0.1111111111111111,
             "#46039f"
            ],
            [
             0.2222222222222222,
             "#7201a8"
            ],
            [
             0.3333333333333333,
             "#9c179e"
            ],
            [
             0.4444444444444444,
             "#bd3786"
            ],
            [
             0.5555555555555556,
             "#d8576b"
            ],
            [
             0.6666666666666666,
             "#ed7953"
            ],
            [
             0.7777777777777778,
             "#fb9f3a"
            ],
            [
             0.8888888888888888,
             "#fdca26"
            ],
            [
             1,
             "#f0f921"
            ]
           ]
          },
          "colorway": [
           "#636efa",
           "#EF553B",
           "#00cc96",
           "#ab63fa",
           "#FFA15A",
           "#19d3f3",
           "#FF6692",
           "#B6E880",
           "#FF97FF",
           "#FECB52"
          ],
          "font": {
           "color": "#2a3f5f"
          },
          "geo": {
           "bgcolor": "white",
           "lakecolor": "white",
           "landcolor": "#E5ECF6",
           "showlakes": true,
           "showland": true,
           "subunitcolor": "white"
          },
          "hoverlabel": {
           "align": "left"
          },
          "hovermode": "closest",
          "mapbox": {
           "style": "light"
          },
          "paper_bgcolor": "white",
          "plot_bgcolor": "#E5ECF6",
          "polar": {
           "angularaxis": {
            "gridcolor": "white",
            "linecolor": "white",
            "ticks": ""
           },
           "bgcolor": "#E5ECF6",
           "radialaxis": {
            "gridcolor": "white",
            "linecolor": "white",
            "ticks": ""
           }
          },
          "scene": {
           "xaxis": {
            "backgroundcolor": "#E5ECF6",
            "gridcolor": "white",
            "gridwidth": 2,
            "linecolor": "white",
            "showbackground": true,
            "ticks": "",
            "zerolinecolor": "white"
           },
           "yaxis": {
            "backgroundcolor": "#E5ECF6",
            "gridcolor": "white",
            "gridwidth": 2,
            "linecolor": "white",
            "showbackground": true,
            "ticks": "",
            "zerolinecolor": "white"
           },
           "zaxis": {
            "backgroundcolor": "#E5ECF6",
            "gridcolor": "white",
            "gridwidth": 2,
            "linecolor": "white",
            "showbackground": true,
            "ticks": "",
            "zerolinecolor": "white"
           }
          },
          "shapedefaults": {
           "line": {
            "color": "#2a3f5f"
           }
          },
          "ternary": {
           "aaxis": {
            "gridcolor": "white",
            "linecolor": "white",
            "ticks": ""
           },
           "baxis": {
            "gridcolor": "white",
            "linecolor": "white",
            "ticks": ""
           },
           "bgcolor": "#E5ECF6",
           "caxis": {
            "gridcolor": "white",
            "linecolor": "white",
            "ticks": ""
           }
          },
          "title": {
           "x": 0.05
          },
          "xaxis": {
           "automargin": true,
           "gridcolor": "white",
           "linecolor": "white",
           "ticks": "",
           "title": {
            "standoff": 15
           },
           "zerolinecolor": "white",
           "zerolinewidth": 2
          },
          "yaxis": {
           "automargin": true,
           "gridcolor": "white",
           "linecolor": "white",
           "ticks": "",
           "title": {
            "standoff": 15
           },
           "zerolinecolor": "white",
           "zerolinewidth": 2
          }
         }
        },
        "title": {
         "text": "Detect Time Distribution in Mishap"
        },
        "width": 700,
        "xaxis": {
         "anchor": "y",
         "domain": [
          0,
          1
         ],
         "title": {
          "text": "ACN"
         }
        },
        "yaxis": {
         "anchor": "x",
         "categoryarray": [
          "Other post flight",
          "Other Post-Flight",
          "Other Parked",
          "Other After the event",
          "Aircraft In Service At Gate",
          "Other drone operator",
          "Other after mission",
          "Other after flight",
          "Other UAV Operator",
          "Taxi",
          "Pre-flight",
          "Other Post Flight",
          "Routine Inspection",
          "In-flight"
         ],
         "categoryorder": "array",
         "domain": [
          0,
          1
         ],
         "title": {
          "text": "When Detected"
         }
        }
       }
      }
     },
     "metadata": {}
    }
   ],
   "source": [
    "fig = px.bar(detecttime, x=\"ACN\", y=\"When Detected\", \n",
    "title='Detect Time Distribution in Mishap', orientation='h', \n",
    "             width=700, height=700,color='When Detected')\n",
    "fig.show()"
   ]
  }
 ],
 "metadata": {
  "language_info": {
   "codemirror_mode": {
    "name": "ipython",
    "version": 3
   },
   "file_extension": ".py",
   "mimetype": "text/x-python",
   "name": "python",
   "nbconvert_exporter": "python",
   "pygments_lexer": "ipython3",
   "version": "3.8.3-candidate"
  },
  "orig_nbformat": 2,
  "kernelspec": {
   "name": "python38364bit27798ae28abd41748aeed70382b2ec94",
   "display_name": "Python 3.8.3 64-bit"
  }
 },
 "nbformat": 4,
 "nbformat_minor": 2
}