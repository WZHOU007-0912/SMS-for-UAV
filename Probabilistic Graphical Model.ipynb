{
 "cells": [
  {
   "cell_type": "code",
   "execution_count": 17,
   "metadata": {},
   "outputs": [],
   "source": [
    "from pgmpy.models import BayesianModel"
   ]
  },
  {
   "cell_type": "code",
   "execution_count": 18,
   "metadata": {},
   "outputs": [],
   "source": [
    "# Starting with defining the network structure\n",
    "uav_model = BayesianModel([('guidance action','navigation'),\n",
    "                           ('guidance action','training'),\n",
    "                           ('guidance action','telemetry'),\n",
    "                           ('awareness','power plant'),\n",
    "                           ('awareness','workload'),\n",
    "                           ('awareness','telemetry'),\n",
    "                           ('awareness','obstacle sensing'),\n",
    "                           ('awareness','weather'),\n",
    "                           ('knowledge','telemetry'),\n",
    "                           ('knowledge','training'),\n",
    "                           ('knowledge','ADS-B'),\n",
    "                           ('mishap','guidance action'),\n",
    "                           ('mishap','navigation'),\n",
    "                           ('mishap','power plant'),\n",
    "                           ('mishap','awareness'),\n",
    "                           ('mishap','obstacle sensing'),\n",
    "                           ('mishap','knowledge'),\n",
    "                           ('mishap','ADS-B'),\n",
    "                           ('mishap','weather')])"
   ]
  },
  {
   "cell_type": "code",
   "execution_count": 19,
   "metadata": {},
   "outputs": [],
   "source": [
    "from pgmpy.factors.discrete import TabularCPD\n"
   ]
  },
  {
   "cell_type": "code",
   "execution_count": 16,
   "metadata": {},
   "outputs": [],
   "source": [
    "#  Now defining the parameters\n",
    "cpd_tel = TabularCPD(variable='Telemetry failure', variable_card=2,\n",
    "                      values=[[0.999995657], [4.343e-6]])\n",
    "cpd_pow = TabularCPD(variable='Power plant failure', variable_card=2,\n",
    "                      values=[[0.99999353], [6.47e-6]])\n",
    "cpd_los = TabularCPD(variable='Operator loss of situation awareness', variable_card=2,\n",
    "                        values=[[0.99996809, 4.813e-6, 0.976, 0],\n",
    "                                [3.191e-5, 0.999995187, 2.4e-2, 1]],\n",
    "                        evidence=['Telemetry failure', 'Power plant failure'],\n",
    "                        evidence_card=[2, 2])\n",
    "cpd_mis = TabularCPD(variable='UAV mishaps', variable_card=2,\n",
    "                      values=[[0,3.191e-5,1,1],\n",
    "                              [1,0.99996809,0,0]],\n",
    "                      evidence=['Operator loss of situation awareness','Power plant failure'], \n",
    "                      evidence_card=[2,2])"
   ]
  },
  {
   "cell_type": "code",
   "execution_count": 6,
   "metadata": {},
   "outputs": [
    {
     "output_type": "execute_result",
     "data": {
      "text/plain": "True"
     },
     "metadata": {},
     "execution_count": 6
    }
   ],
   "source": [
    "# Associating the parameters with the model structure.\n",
    "uav_model.add_cpds(cpd_tel, cpd_pow, cpd_los, cpd_mis)\n",
    "\n",
    "# Checking if the cpds are valid for the model.\n",
    "uav_model.check_model()"
   ]
  },
  {
   "cell_type": "code",
   "execution_count": 7,
   "metadata": {},
   "outputs": [
    {
     "output_type": "execute_result",
     "data": {
      "text/plain": "(Telemetry failure _|_ Power plant failure)\n(Telemetry failure _|_ UAV mishaps | Operator loss of situation awareness, Power plant failure)\n(Power plant failure _|_ Telemetry failure)\n(UAV mishaps _|_ Telemetry failure | Operator loss of situation awareness, Power plant failure)"
     },
     "metadata": {},
     "execution_count": 7
    }
   ],
   "source": [
    "uav_model.get_independencies()"
   ]
  },
  {
   "cell_type": "code",
   "execution_count": 9,
   "metadata": {},
   "outputs": [
    {
     "output_type": "execute_result",
     "data": {
      "text/plain": "[<TabularCPD representing P(Telemetry failure:2) at 0x125092af0>,\n <TabularCPD representing P(Power plant failure:2) at 0x125092640>,\n <TabularCPD representing P(Operator loss of situation awareness:2 | Telemetry failure:2, Power plant failure:2) at 0x125092670>,\n <TabularCPD representing P(UAV mishaps:2 | Operator loss of situation awareness:2, Power plant failure:2) at 0x125092610>]"
     },
     "metadata": {},
     "execution_count": 9
    }
   ],
   "source": [
    "uav_model.get_cpds()"
   ]
  },
  {
   "cell_type": "code",
   "execution_count": 13,
   "metadata": {},
   "outputs": [],
   "source": [
    "from pgmpy.inference import VariableElimination\n",
    "uav_infer = VariableElimination(uav_model)"
   ]
  },
  {
   "cell_type": "code",
   "execution_count": 14,
   "metadata": {
    "tags": []
   },
   "outputs": [
    {
     "output_type": "stream",
     "name": "stderr",
     "text": "Finding Elimination Order: : 100%|██████████| 3/3 [00:00<00:00, 49.31it/s]\nEliminating: Power plant failure: 100%|██████████| 3/3 [00:00<00:00, 180.02it/s]\n"
    },
    {
     "output_type": "error",
     "ename": "TypeError",
     "evalue": "'DiscreteFactor' object is not subscriptable",
     "traceback": [
      "\u001b[0;31m---------------------------------------------------------------------------\u001b[0m",
      "\u001b[0;31mTypeError\u001b[0m                                 Traceback (most recent call last)",
      "\u001b[0;32m<ipython-input-14-546c2207b916>\u001b[0m in \u001b[0;36m<module>\u001b[0;34m\u001b[0m\n\u001b[1;32m      1\u001b[0m \u001b[0mmishap_infer\u001b[0m \u001b[0;34m=\u001b[0m \u001b[0muav_infer\u001b[0m\u001b[0;34m.\u001b[0m\u001b[0mquery\u001b[0m\u001b[0;34m(\u001b[0m\u001b[0mvariables\u001b[0m \u001b[0;34m=\u001b[0m \u001b[0;34m[\u001b[0m\u001b[0;34m'UAV mishaps'\u001b[0m\u001b[0;34m]\u001b[0m\u001b[0;34m)\u001b[0m\u001b[0;34m\u001b[0m\u001b[0;34m\u001b[0m\u001b[0m\n\u001b[0;32m----> 2\u001b[0;31m \u001b[0mprint\u001b[0m\u001b[0;34m(\u001b[0m\u001b[0mmishap_infer\u001b[0m\u001b[0;34m[\u001b[0m\u001b[0;34m'UAV mishaps'\u001b[0m\u001b[0;34m]\u001b[0m\u001b[0;34m)\u001b[0m\u001b[0;34m\u001b[0m\u001b[0;34m\u001b[0m\u001b[0m\n\u001b[0m",
      "\u001b[0;31mTypeError\u001b[0m: 'DiscreteFactor' object is not subscriptable"
     ]
    }
   ],
   "source": [
    "mishap_infer = uav_infer.query(variables = ['UAV mishaps'])\n",
    "print(mishap_infer['UAV mishaps'])"
   ]
  },
  {
   "cell_type": "code",
   "execution_count": null,
   "metadata": {},
   "outputs": [],
   "source": []
  }
 ],
 "metadata": {
  "language_info": {
   "codemirror_mode": {
    "name": "ipython",
    "version": 3
   },
   "file_extension": ".py",
   "mimetype": "text/x-python",
   "name": "python",
   "nbconvert_exporter": "python",
   "pygments_lexer": "ipython3",
   "version": "3.8.3-candidate"
  },
  "orig_nbformat": 2,
  "kernelspec": {
   "name": "python38364bit27798ae28abd41748aeed70382b2ec94",
   "display_name": "Python 3.8.3 64-bit"
  }
 },
 "nbformat": 4,
 "nbformat_minor": 2
}